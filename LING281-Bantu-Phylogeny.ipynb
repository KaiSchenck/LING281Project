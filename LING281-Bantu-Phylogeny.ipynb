{
 "cells": [
  {
   "cell_type": "code",
   "execution_count": 1,
   "id": "spectacular-kuwait",
   "metadata": {},
   "outputs": [],
   "source": [
    "import pandas as pd\n",
    "import numpy as np\n",
    "\n",
    "from binarytree import Node\n",
    "from collections import deque\n",
    "from typing import List, Set\n",
    "\n",
    "# necessary to allow RAGs to be inserted in nodes\n",
    "#binarytree._NODE_VAL_TYPES = (float, int, str, list)"
   ]
  },
  {
   "cell_type": "code",
   "execution_count": 187,
   "id": "stone-examination",
   "metadata": {},
   "outputs": [
    {
     "data": {
      "text/html": [
       "<div>\n",
       "<style scoped>\n",
       "    .dataframe tbody tr th:only-of-type {\n",
       "        vertical-align: middle;\n",
       "    }\n",
       "\n",
       "    .dataframe tbody tr th {\n",
       "        vertical-align: top;\n",
       "    }\n",
       "\n",
       "    .dataframe thead th {\n",
       "        text-align: right;\n",
       "    }\n",
       "</style>\n",
       "<table border=\"1\" class=\"dataframe\">\n",
       "  <thead>\n",
       "    <tr style=\"text-align: right;\">\n",
       "      <th></th>\n",
       "      <th>animal</th>\n",
       "      <th>arm</th>\n",
       "      <th>ashes</th>\n",
       "      <th>bark</th>\n",
       "      <th>bed</th>\n",
       "      <th>belly</th>\n",
       "      <th>big</th>\n",
       "      <th>bird</th>\n",
       "      <th>bite</th>\n",
       "      <th>blood</th>\n",
       "      <th>...</th>\n",
       "      <th>urine</th>\n",
       "      <th>village</th>\n",
       "      <th>vomit</th>\n",
       "      <th>walk</th>\n",
       "      <th>war</th>\n",
       "      <th>water</th>\n",
       "      <th>wind</th>\n",
       "      <th>woman</th>\n",
       "      <th>dew</th>\n",
       "      <th>iron</th>\n",
       "    </tr>\n",
       "    <tr>\n",
       "      <th>English</th>\n",
       "      <th></th>\n",
       "      <th></th>\n",
       "      <th></th>\n",
       "      <th></th>\n",
       "      <th></th>\n",
       "      <th></th>\n",
       "      <th></th>\n",
       "      <th></th>\n",
       "      <th></th>\n",
       "      <th></th>\n",
       "      <th></th>\n",
       "      <th></th>\n",
       "      <th></th>\n",
       "      <th></th>\n",
       "      <th></th>\n",
       "      <th></th>\n",
       "      <th></th>\n",
       "      <th></th>\n",
       "      <th></th>\n",
       "      <th></th>\n",
       "      <th></th>\n",
       "    </tr>\n",
       "  </thead>\n",
       "  <tbody>\n",
       "    <tr>\n",
       "      <th>Fefe_Grassfields</th>\n",
       "      <td>nə̀ə</td>\n",
       "      <td>pō</td>\n",
       "      <td>vhʉ̄</td>\n",
       "      <td>kɔ̀p</td>\n",
       "      <td>kwɛ̄n</td>\n",
       "      <td>vàm</td>\n",
       "      <td>?</td>\n",
       "      <td>sāk</td>\n",
       "      <td>lōm</td>\n",
       "      <td>n-sì˚</td>\n",
       "      <td>...</td>\n",
       "      <td>nsìnsìi</td>\n",
       "      <td>lāʔ</td>\n",
       "      <td>?</td>\n",
       "      <td>nàk</td>\n",
       "      <td>ǹcò</td>\n",
       "      <td>nʃì˚</td>\n",
       "      <td>fùfùa</td>\n",
       "      <td>mʉ̀-nʒwīɛ</td>\n",
       "      <td>mùʔ˚</td>\n",
       "      <td>tɛ̄nʌ̄</td>\n",
       "    </tr>\n",
       "    <tr>\n",
       "      <th>Mungaka_Grassfields</th>\n",
       "      <td>ɲàm</td>\n",
       "      <td>bó</td>\n",
       "      <td>búˈmúˀ</td>\n",
       "      <td>ŋ-gùptʉ́</td>\n",
       "      <td>kún</td>\n",
       "      <td>bòm</td>\n",
       "      <td>?</td>\n",
       "      <td>mʉ́ˈ-sə́ŋ</td>\n",
       "      <td>núm</td>\n",
       "      <td>ǹ-cíbàŋ</td>\n",
       "      <td>...</td>\n",
       "      <td>cèn</td>\n",
       "      <td>ŋgɔ́ŋ</td>\n",
       "      <td>?</td>\n",
       "      <td>jǐt</td>\n",
       "      <td>bɛ̀t</td>\n",
       "      <td>ncì</td>\n",
       "      <td>fʉ̀fʉ̀ɛt</td>\n",
       "      <td>mʌ̀ŋgwí</td>\n",
       "      <td>mīnī</td>\n",
       "      <td>tʉ́n</td>\n",
       "    </tr>\n",
       "    <tr>\n",
       "      <th>Bamun_Grassfields</th>\n",
       "      <td>ɲàm</td>\n",
       "      <td>pú</td>\n",
       "      <td>vʉ́</td>\n",
       "      <td>ŋ-gùp tɨ́tɨ́</td>\n",
       "      <td>kún</td>\n",
       "      <td>vàm</td>\n",
       "      <td>?</td>\n",
       "      <td>mʌ́-síi</td>\n",
       "      <td>nɨ́mə́</td>\n",
       "      <td>n-ʃì</td>\n",
       "      <td>...</td>\n",
       "      <td>nʃɛ̀ɛ́ ŋkiɛ̄</td>\n",
       "      <td>ŋgùù</td>\n",
       "      <td>?</td>\n",
       "      <td>?</td>\n",
       "      <td>pìt</td>\n",
       "      <td>ŋkìɛ˚</td>\n",
       "      <td>fɨ̀fɨ̀ɛ̀t</td>\n",
       "      <td>mʌ̃̀ngbiə̌</td>\n",
       "      <td>mɨɨ̀ʔ</td>\n",
       "      <td>mbún</td>\n",
       "    </tr>\n",
       "    <tr>\n",
       "      <th>Kom_Grassfields</th>\n",
       "      <td>ə̄-ɲám</td>\n",
       "      <td>ə̄-kwœ́</td>\n",
       "      <td>ā-bvʊ́ˋ</td>\n",
       "      <td>ɛ̀-gvu-ə̀wún</td>\n",
       "      <td>ə̄-kɔínˊ</td>\n",
       "      <td>ə̄-lvʊâ</td>\n",
       "      <td>?</td>\n",
       "      <td>ə̄fə̄-ɲýīn</td>\n",
       "      <td>lōm</td>\n",
       "      <td>ə̄mə̄-lúŋˊ</td>\n",
       "      <td>...</td>\n",
       "      <td>ə̄mə̄ndʒî</td>\n",
       "      <td>ə̄ntə̀ʔ</td>\n",
       "      <td>?</td>\n",
       "      <td>?</td>\n",
       "      <td>éɣɔ̋ˈŋ́</td>\n",
       "      <td>ə̄mú</td>\n",
       "      <td>āfʉɛ́fˋ</td>\n",
       "      <td>ə̄wí</td>\n",
       "      <td>āmʉâʔ</td>\n",
       "      <td>ākás</td>\n",
       "    </tr>\n",
       "    <tr>\n",
       "      <th>Oku_Grassfields</th>\n",
       "      <td>ɲàm</td>\n",
       "      <td>ē-bkɔ̂i</td>\n",
       "      <td>kə̄ɓə̂l</td>\n",
       "      <td>?</td>\n",
       "      <td>ē-bkón</td>\n",
       "      <td>ē-blɛ̂ː</td>\n",
       "      <td>?</td>\n",
       "      <td>fə̄-nʊ́n</td>\n",
       "      <td>lo᷆m</td>\n",
       "      <td>m̄-dóŋ</td>\n",
       "      <td>...</td>\n",
       "      <td>ə̄mə̄ndʒʉ̂ːnə̀</td>\n",
       "      <td>ntɛ̀k</td>\n",
       "      <td>?</td>\n",
       "      <td>?</td>\n",
       "      <td>?</td>\n",
       "      <td>m̄mɔ́ː</td>\n",
       "      <td>ēbfiɛ̂f</td>\n",
       "      <td>ɛ̀wīì</td>\n",
       "      <td>īŋwâk</td>\n",
       "      <td>kēkâs</td>\n",
       "    </tr>\n",
       "    <tr>\n",
       "      <th>...</th>\n",
       "      <td>...</td>\n",
       "      <td>...</td>\n",
       "      <td>...</td>\n",
       "      <td>...</td>\n",
       "      <td>...</td>\n",
       "      <td>...</td>\n",
       "      <td>...</td>\n",
       "      <td>...</td>\n",
       "      <td>...</td>\n",
       "      <td>...</td>\n",
       "      <td>...</td>\n",
       "      <td>...</td>\n",
       "      <td>...</td>\n",
       "      <td>...</td>\n",
       "      <td>...</td>\n",
       "      <td>...</td>\n",
       "      <td>...</td>\n",
       "      <td>...</td>\n",
       "      <td>...</td>\n",
       "      <td>...</td>\n",
       "      <td>...</td>\n",
       "    </tr>\n",
       "    <tr>\n",
       "      <th>S44_Ndebele</th>\n",
       "      <td>in-yama</td>\n",
       "      <td>iŋ-galo</td>\n",
       "      <td>lotʰa</td>\n",
       "      <td>-kʰonkotʰa</td>\n",
       "      <td>um-beda</td>\n",
       "      <td>isi-su</td>\n",
       "      <td>-kʰulu</td>\n",
       "      <td>in-yoni</td>\n",
       "      <td>-luma</td>\n",
       "      <td>i-gazi</td>\n",
       "      <td>...</td>\n",
       "      <td>um-kǀʰamo</td>\n",
       "      <td>umu-zi</td>\n",
       "      <td>ama-ɬanzo</td>\n",
       "      <td>-hamba</td>\n",
       "      <td>im-pi</td>\n",
       "      <td>ama-nzi</td>\n",
       "      <td>u-moya</td>\n",
       "      <td>i-nina</td>\n",
       "      <td>ama-zolo</td>\n",
       "      <td>in-simbi</td>\n",
       "    </tr>\n",
       "    <tr>\n",
       "      <th>S51_Tshwa</th>\n",
       "      <td>ɲama</td>\n",
       "      <td>wókó</td>\n",
       "      <td>kʰuma</td>\n",
       "      <td>hatí</td>\n",
       "      <td>?</td>\n",
       "      <td>rúmbú</td>\n",
       "      <td>hombé</td>\n",
       "      <td>ci-ɲaɲani</td>\n",
       "      <td>-luma</td>\n",
       "      <td>kʰata</td>\n",
       "      <td>...</td>\n",
       "      <td>?</td>\n",
       "      <td>?</td>\n",
       "      <td>?</td>\n",
       "      <td>-fámbá</td>\n",
       "      <td>?</td>\n",
       "      <td>mátí</td>\n",
       "      <td>?</td>\n",
       "      <td>wásátí</td>\n",
       "      <td>?</td>\n",
       "      <td>?</td>\n",
       "    </tr>\n",
       "    <tr>\n",
       "      <th>S53_Tsonga</th>\n",
       "      <td>ɲama</td>\n",
       "      <td>vókó</td>\n",
       "      <td>n-kuma</td>\n",
       "      <td>ri-hantí</td>\n",
       "      <td>mu-bédo</td>\n",
       "      <td>kʰw-írí</td>\n",
       "      <td>-kúlú</td>\n",
       "      <td>ɲaɲana</td>\n",
       "      <td>-lúma</td>\n",
       "      <td>n-gátí</td>\n",
       "      <td>...</td>\n",
       "      <td>mùr̥ùndzù</td>\n",
       "      <td>mut’i</td>\n",
       "      <td>-ɬánt’a</td>\n",
       "      <td>-fámbá</td>\n",
       "      <td>ɲimp’í</td>\n",
       "      <td>mátí</td>\n",
       "      <td>móyá</td>\n",
       "      <td>wánsátí</td>\n",
       "      <td>mbér̥á</td>\n",
       "      <td>nʱùmbù</td>\n",
       "    </tr>\n",
       "    <tr>\n",
       "      <th>S54_Ronga</th>\n",
       "      <td>ʃi-hare</td>\n",
       "      <td>boko</td>\n",
       "      <td>nora</td>\n",
       "      <td>bante</td>\n",
       "      <td>mu-bede</td>\n",
       "      <td>kʰu-re</td>\n",
       "      <td>hulo</td>\n",
       "      <td>ɲaɲana</td>\n",
       "      <td>luma</td>\n",
       "      <td>n-gate</td>\n",
       "      <td>...</td>\n",
       "      <td>mirundyo</td>\n",
       "      <td>mute</td>\n",
       "      <td>ɬanta</td>\n",
       "      <td>famba</td>\n",
       "      <td>yimpe</td>\n",
       "      <td>mate</td>\n",
       "      <td>meho</td>\n",
       "      <td>wansate</td>\n",
       "      <td>mbere</td>\n",
       "      <td>nsimbe</td>\n",
       "    </tr>\n",
       "    <tr>\n",
       "      <th>S61_Chopi</th>\n",
       "      <td>ci-hari</td>\n",
       "      <td>poko</td>\n",
       "      <td>di-kuma</td>\n",
       "      <td>?</td>\n",
       "      <td>vu-ratu</td>\n",
       "      <td>?</td>\n",
       "      <td>hombe</td>\n",
       "      <td>ci-ɲana</td>\n",
       "      <td>ku-luma</td>\n",
       "      <td>noha</td>\n",
       "      <td>...</td>\n",
       "      <td>?</td>\n",
       "      <td>?</td>\n",
       "      <td>kukosa</td>\n",
       "      <td>famba</td>\n",
       "      <td>ɲimbi</td>\n",
       "      <td>mati</td>\n",
       "      <td>bubuta</td>\n",
       "      <td>nsatsi</td>\n",
       "      <td>mwando</td>\n",
       "      <td>cikete</td>\n",
       "    </tr>\n",
       "  </tbody>\n",
       "</table>\n",
       "<p>437 rows × 100 columns</p>\n",
       "</div>"
      ],
      "text/plain": [
       "                      animal       arm     ashes           bark        bed  \\\n",
       "English                                                                      \n",
       "Fefe_Grassfields        nə̀ə       pō      vhʉ̄           kɔ̀p      kwɛ̄n   \n",
       "Mungaka_Grassfields     ɲàm       bó  búˈmúˀ      ŋ-gùptʉ́       kún   \n",
       "Bamun_Grassfields       ɲàm       pú       vʉ́  ŋ-gùp tɨ́tɨ́       kún   \n",
       "Kom_Grassfields      ə̄-ɲám   ə̄-kwœ́  ā-bvʊ́ˋ  ɛ̀-gvu-ə̀wún  ə̄-kɔínˊ   \n",
       "Oku_Grassfields         ɲàm  ē-bkɔ̂i   kə̄ɓə̂l              ?   ē-bkón   \n",
       "...                      ...       ...       ...            ...        ...   \n",
       "S44_Ndebele          in-yama   iŋ-galo     lotʰa     -kʰonkotʰa    um-beda   \n",
       "S51_Tshwa               ɲama    wókó     kʰuma          hatí          ?   \n",
       "S53_Tsonga              ɲama    vókó    n-kuma      ri-hantí   mu-bédo   \n",
       "S54_Ronga            ʃi-hare      boko      nora          bante    mu-bede   \n",
       "S61_Chopi            ci-hari      poko   di-kuma              ?    vu-ratu   \n",
       "\n",
       "                         belly      big          bird     bite        blood  \\\n",
       "English                                                                       \n",
       "Fefe_Grassfields          vàm        ?          sāk     lōm       n-sì˚   \n",
       "Mungaka_Grassfields       bòm        ?     mʉ́ˈ-sə́ŋ     núm   ǹ-cíbàŋ   \n",
       "Bamun_Grassfields         vàm        ?      mʌ́-síi   nɨ́mə́        n-ʃì   \n",
       "Kom_Grassfields       ə̄-lvʊâ        ?  ə̄fə̄-ɲýīn     lōm  ə̄mə̄-lúŋˊ   \n",
       "Oku_Grassfields       ē-blɛ̂ː        ?      fə̄-nʊ́n     lo᷆m      m̄-dóŋ   \n",
       "...                        ...      ...           ...      ...          ...   \n",
       "S44_Ndebele             isi-su   -kʰulu       in-yoni    -luma       i-gazi   \n",
       "S51_Tshwa              rúmbú   hombé     ci-ɲaɲani    -luma        kʰata   \n",
       "S53_Tsonga           kʰw-írí  -kúlú        ɲaɲana   -lúma     n-gátí   \n",
       "S54_Ronga               kʰu-re     hulo        ɲaɲana     luma       n-gate   \n",
       "S61_Chopi                    ?    hombe       ci-ɲana  ku-luma         noha   \n",
       "\n",
       "                     ...           urine  village      vomit      walk  \\\n",
       "English              ...                                                 \n",
       "Fefe_Grassfields     ...       nsìnsìi     lāʔ          ?      nàk   \n",
       "Mungaka_Grassfields  ...            cèn    ŋgɔ́ŋ          ?      jǐt   \n",
       "Bamun_Grassfields    ...    nʃɛ̀ɛ́ ŋkiɛ̄   ŋgùù          ?         ?   \n",
       "Kom_Grassfields      ...      ə̄mə̄ndʒî  ə̄ntə̀ʔ          ?         ?   \n",
       "Oku_Grassfields      ...  ə̄mə̄ndʒʉ̂ːnə̀    ntɛ̀k          ?         ?   \n",
       "...                  ...             ...      ...        ...       ...   \n",
       "S44_Ndebele          ...       um-kǀʰamo   umu-zi  ama-ɬanzo    -hamba   \n",
       "S51_Tshwa            ...               ?        ?          ?  -fámbá   \n",
       "S53_Tsonga           ...    mùr̥ùndzù    mut’i   -ɬánt’a  -fámbá   \n",
       "S54_Ronga            ...        mirundyo     mute      ɬanta     famba   \n",
       "S61_Chopi            ...               ?        ?     kukosa     famba   \n",
       "\n",
       "                          war    water       wind       woman       dew  \\\n",
       "English                                                                   \n",
       "Fefe_Grassfields        ǹcò    nʃì˚    fùfùa  mʉ̀-nʒwīɛ     mùʔ˚   \n",
       "Mungaka_Grassfields      bɛ̀t     ncì   fʉ̀fʉ̀ɛt    mʌ̀ŋgwí    mīnī   \n",
       "Bamun_Grassfields        pìt   ŋkìɛ˚  fɨ̀fɨ̀ɛ̀t  mʌ̃̀ngbiə̌     mɨɨ̀ʔ   \n",
       "Kom_Grassfields      éɣɔ̋ˈŋ́    ə̄mú   āfʉɛ́fˋ       ə̄wí   āmʉâʔ   \n",
       "Oku_Grassfields             ?   m̄mɔ́ː   ēbfiɛ̂f     ɛ̀wīì   īŋwâk   \n",
       "...                       ...      ...        ...         ...       ...   \n",
       "S44_Ndebele             im-pi  ama-nzi     u-moya      i-nina  ama-zolo   \n",
       "S51_Tshwa                   ?   mátí          ?   wásátí         ?   \n",
       "S53_Tsonga            ɲimp’í   mátí     móyá  wánsátí  mbér̥á   \n",
       "S54_Ronga               yimpe     mate       meho     wansate     mbere   \n",
       "S61_Chopi               ɲimbi     mati     bubuta      nsatsi    mwando   \n",
       "\n",
       "                         iron  \n",
       "English                        \n",
       "Fefe_Grassfields       tɛ̄nʌ̄  \n",
       "Mungaka_Grassfields      tʉ́n  \n",
       "Bamun_Grassfields       mbún  \n",
       "Kom_Grassfields        ākás  \n",
       "Oku_Grassfields       kēkâs  \n",
       "...                       ...  \n",
       "S44_Ndebele          in-simbi  \n",
       "S51_Tshwa                   ?  \n",
       "S53_Tsonga           nʱùmbù  \n",
       "S54_Ronga              nsimbe  \n",
       "S61_Chopi              cikete  \n",
       "\n",
       "[437 rows x 100 columns]"
      ]
     },
     "execution_count": 187,
     "metadata": {},
     "output_type": "execute_result"
    }
   ],
   "source": [
    "cognate = pd.read_csv(\"Grollemund_Data_Cognate.csv\", index_col=0)\n",
    "phonetic = pd.read_csv(\"Grollemund_Data_Phoneme.csv\", index_col=0)\n",
    "features = pd.read_csv(\"Chomsky_Halle_Features.csv\", index_col=0)\n",
    "\n",
    "indel = \"indel\"\n",
    "\n",
    "phonetic"
   ]
  },
  {
   "cell_type": "code",
   "execution_count": 4,
   "id": "f6ded8e7",
   "metadata": {},
   "outputs": [
    {
     "data": {
      "text/html": [
       "<div>\n",
       "<style scoped>\n",
       "    .dataframe tbody tr th:only-of-type {\n",
       "        vertical-align: middle;\n",
       "    }\n",
       "\n",
       "    .dataframe tbody tr th {\n",
       "        vertical-align: top;\n",
       "    }\n",
       "\n",
       "    .dataframe thead th {\n",
       "        text-align: right;\n",
       "    }\n",
       "</style>\n",
       "<table border=\"1\" class=\"dataframe\">\n",
       "  <thead>\n",
       "    <tr style=\"text-align: right;\">\n",
       "      <th></th>\n",
       "      <th>m</th>\n",
       "      <th>p</th>\n",
       "      <th>mp</th>\n",
       "      <th>pʰ</th>\n",
       "      <th>mpʰ</th>\n",
       "      <th>b</th>\n",
       "      <th>mb</th>\n",
       "      <th>ɓ</th>\n",
       "      <th>mɓ</th>\n",
       "      <th>ɸ</th>\n",
       "      <th>...</th>\n",
       "      <th>ɛ</th>\n",
       "      <th>ø</th>\n",
       "      <th>œ</th>\n",
       "      <th>o</th>\n",
       "      <th>ɔ</th>\n",
       "      <th>ə</th>\n",
       "      <th>ʌ</th>\n",
       "      <th>æ</th>\n",
       "      <th>a</th>\n",
       "      <th>ɑ</th>\n",
       "    </tr>\n",
       "  </thead>\n",
       "  <tbody>\n",
       "    <tr>\n",
       "      <th>m</th>\n",
       "      <td>0</td>\n",
       "      <td>2</td>\n",
       "      <td>1</td>\n",
       "      <td>2</td>\n",
       "      <td>1</td>\n",
       "      <td>2</td>\n",
       "      <td>1</td>\n",
       "      <td>2</td>\n",
       "      <td>1</td>\n",
       "      <td>2</td>\n",
       "      <td>...</td>\n",
       "      <td>1</td>\n",
       "      <td>1</td>\n",
       "      <td>1</td>\n",
       "      <td>1</td>\n",
       "      <td>1</td>\n",
       "      <td>1</td>\n",
       "      <td>1</td>\n",
       "      <td>1</td>\n",
       "      <td>1</td>\n",
       "      <td>1</td>\n",
       "    </tr>\n",
       "    <tr>\n",
       "      <th>p</th>\n",
       "      <td>2</td>\n",
       "      <td>0</td>\n",
       "      <td>1</td>\n",
       "      <td>1</td>\n",
       "      <td>2</td>\n",
       "      <td>1</td>\n",
       "      <td>2</td>\n",
       "      <td>2</td>\n",
       "      <td>3</td>\n",
       "      <td>1</td>\n",
       "      <td>...</td>\n",
       "      <td>1</td>\n",
       "      <td>1</td>\n",
       "      <td>1</td>\n",
       "      <td>1</td>\n",
       "      <td>1</td>\n",
       "      <td>1</td>\n",
       "      <td>1</td>\n",
       "      <td>1</td>\n",
       "      <td>1</td>\n",
       "      <td>1</td>\n",
       "    </tr>\n",
       "    <tr>\n",
       "      <th>mp</th>\n",
       "      <td>1</td>\n",
       "      <td>1</td>\n",
       "      <td>0</td>\n",
       "      <td>2</td>\n",
       "      <td>1</td>\n",
       "      <td>2</td>\n",
       "      <td>1</td>\n",
       "      <td>3</td>\n",
       "      <td>2</td>\n",
       "      <td>1</td>\n",
       "      <td>...</td>\n",
       "      <td>1</td>\n",
       "      <td>1</td>\n",
       "      <td>1</td>\n",
       "      <td>1</td>\n",
       "      <td>1</td>\n",
       "      <td>1</td>\n",
       "      <td>1</td>\n",
       "      <td>1</td>\n",
       "      <td>1</td>\n",
       "      <td>1</td>\n",
       "    </tr>\n",
       "    <tr>\n",
       "      <th>pʰ</th>\n",
       "      <td>2</td>\n",
       "      <td>1</td>\n",
       "      <td>2</td>\n",
       "      <td>0</td>\n",
       "      <td>1</td>\n",
       "      <td>2</td>\n",
       "      <td>3</td>\n",
       "      <td>3</td>\n",
       "      <td>4</td>\n",
       "      <td>1</td>\n",
       "      <td>...</td>\n",
       "      <td>1</td>\n",
       "      <td>1</td>\n",
       "      <td>1</td>\n",
       "      <td>1</td>\n",
       "      <td>1</td>\n",
       "      <td>1</td>\n",
       "      <td>1</td>\n",
       "      <td>1</td>\n",
       "      <td>1</td>\n",
       "      <td>1</td>\n",
       "    </tr>\n",
       "    <tr>\n",
       "      <th>mpʰ</th>\n",
       "      <td>1</td>\n",
       "      <td>2</td>\n",
       "      <td>1</td>\n",
       "      <td>1</td>\n",
       "      <td>0</td>\n",
       "      <td>3</td>\n",
       "      <td>2</td>\n",
       "      <td>4</td>\n",
       "      <td>3</td>\n",
       "      <td>1</td>\n",
       "      <td>...</td>\n",
       "      <td>1</td>\n",
       "      <td>1</td>\n",
       "      <td>1</td>\n",
       "      <td>1</td>\n",
       "      <td>1</td>\n",
       "      <td>1</td>\n",
       "      <td>1</td>\n",
       "      <td>1</td>\n",
       "      <td>1</td>\n",
       "      <td>1</td>\n",
       "    </tr>\n",
       "    <tr>\n",
       "      <th>...</th>\n",
       "      <td>...</td>\n",
       "      <td>...</td>\n",
       "      <td>...</td>\n",
       "      <td>...</td>\n",
       "      <td>...</td>\n",
       "      <td>...</td>\n",
       "      <td>...</td>\n",
       "      <td>...</td>\n",
       "      <td>...</td>\n",
       "      <td>...</td>\n",
       "      <td>...</td>\n",
       "      <td>...</td>\n",
       "      <td>...</td>\n",
       "      <td>...</td>\n",
       "      <td>...</td>\n",
       "      <td>...</td>\n",
       "      <td>...</td>\n",
       "      <td>...</td>\n",
       "      <td>...</td>\n",
       "      <td>...</td>\n",
       "      <td>...</td>\n",
       "    </tr>\n",
       "    <tr>\n",
       "      <th>ə</th>\n",
       "      <td>1</td>\n",
       "      <td>1</td>\n",
       "      <td>1</td>\n",
       "      <td>1</td>\n",
       "      <td>1</td>\n",
       "      <td>1</td>\n",
       "      <td>1</td>\n",
       "      <td>1</td>\n",
       "      <td>1</td>\n",
       "      <td>1</td>\n",
       "      <td>...</td>\n",
       "      <td>0</td>\n",
       "      <td>1</td>\n",
       "      <td>0</td>\n",
       "      <td>1</td>\n",
       "      <td>0</td>\n",
       "      <td>0</td>\n",
       "      <td>0</td>\n",
       "      <td>0</td>\n",
       "      <td>0</td>\n",
       "      <td>1</td>\n",
       "    </tr>\n",
       "    <tr>\n",
       "      <th>ʌ</th>\n",
       "      <td>1</td>\n",
       "      <td>1</td>\n",
       "      <td>1</td>\n",
       "      <td>1</td>\n",
       "      <td>1</td>\n",
       "      <td>1</td>\n",
       "      <td>1</td>\n",
       "      <td>1</td>\n",
       "      <td>1</td>\n",
       "      <td>1</td>\n",
       "      <td>...</td>\n",
       "      <td>1</td>\n",
       "      <td>3</td>\n",
       "      <td>2</td>\n",
       "      <td>2</td>\n",
       "      <td>1</td>\n",
       "      <td>0</td>\n",
       "      <td>0</td>\n",
       "      <td>2</td>\n",
       "      <td>1</td>\n",
       "      <td>2</td>\n",
       "    </tr>\n",
       "    <tr>\n",
       "      <th>æ</th>\n",
       "      <td>1</td>\n",
       "      <td>1</td>\n",
       "      <td>1</td>\n",
       "      <td>1</td>\n",
       "      <td>1</td>\n",
       "      <td>1</td>\n",
       "      <td>1</td>\n",
       "      <td>1</td>\n",
       "      <td>1</td>\n",
       "      <td>1</td>\n",
       "      <td>...</td>\n",
       "      <td>1</td>\n",
       "      <td>2</td>\n",
       "      <td>1</td>\n",
       "      <td>3</td>\n",
       "      <td>2</td>\n",
       "      <td>0</td>\n",
       "      <td>2</td>\n",
       "      <td>0</td>\n",
       "      <td>1</td>\n",
       "      <td>2</td>\n",
       "    </tr>\n",
       "    <tr>\n",
       "      <th>a</th>\n",
       "      <td>1</td>\n",
       "      <td>1</td>\n",
       "      <td>1</td>\n",
       "      <td>1</td>\n",
       "      <td>1</td>\n",
       "      <td>1</td>\n",
       "      <td>1</td>\n",
       "      <td>1</td>\n",
       "      <td>1</td>\n",
       "      <td>1</td>\n",
       "      <td>...</td>\n",
       "      <td>2</td>\n",
       "      <td>3</td>\n",
       "      <td>2</td>\n",
       "      <td>2</td>\n",
       "      <td>1</td>\n",
       "      <td>0</td>\n",
       "      <td>1</td>\n",
       "      <td>1</td>\n",
       "      <td>0</td>\n",
       "      <td>1</td>\n",
       "    </tr>\n",
       "    <tr>\n",
       "      <th>ɑ</th>\n",
       "      <td>1</td>\n",
       "      <td>1</td>\n",
       "      <td>1</td>\n",
       "      <td>1</td>\n",
       "      <td>1</td>\n",
       "      <td>1</td>\n",
       "      <td>1</td>\n",
       "      <td>1</td>\n",
       "      <td>1</td>\n",
       "      <td>1</td>\n",
       "      <td>...</td>\n",
       "      <td>3</td>\n",
       "      <td>2</td>\n",
       "      <td>3</td>\n",
       "      <td>1</td>\n",
       "      <td>2</td>\n",
       "      <td>1</td>\n",
       "      <td>2</td>\n",
       "      <td>2</td>\n",
       "      <td>1</td>\n",
       "      <td>0</td>\n",
       "    </tr>\n",
       "  </tbody>\n",
       "</table>\n",
       "<p>97 rows × 97 columns</p>\n",
       "</div>"
      ],
      "text/plain": [
       "     m  p  mp  pʰ  mpʰ  b  mb  ɓ  mɓ  ɸ  ...  ɛ  ø  œ  o  ɔ  ə  ʌ  æ  a  ɑ\n",
       "m    0  2   1   2    1  2   1  2   1  2  ...  1  1  1  1  1  1  1  1  1  1\n",
       "p    2  0   1   1    2  1   2  2   3  1  ...  1  1  1  1  1  1  1  1  1  1\n",
       "mp   1  1   0   2    1  2   1  3   2  1  ...  1  1  1  1  1  1  1  1  1  1\n",
       "pʰ   2  1   2   0    1  2   3  3   4  1  ...  1  1  1  1  1  1  1  1  1  1\n",
       "mpʰ  1  2   1   1    0  3   2  4   3  1  ...  1  1  1  1  1  1  1  1  1  1\n",
       "..  .. ..  ..  ..  ... ..  .. ..  .. ..  ... .. .. .. .. .. .. .. .. .. ..\n",
       "ə    1  1   1   1    1  1   1  1   1  1  ...  0  1  0  1  0  0  0  0  0  1\n",
       "ʌ    1  1   1   1    1  1   1  1   1  1  ...  1  3  2  2  1  0  0  2  1  2\n",
       "æ    1  1   1   1    1  1   1  1   1  1  ...  1  2  1  3  2  0  2  0  1  2\n",
       "a    1  1   1   1    1  1   1  1   1  1  ...  2  3  2  2  1  0  1  1  0  1\n",
       "ɑ    1  1   1   1    1  1   1  1   1  1  ...  3  2  3  1  2  1  2  2  1  0\n",
       "\n",
       "[97 rows x 97 columns]"
      ]
     },
     "execution_count": 4,
     "metadata": {},
     "output_type": "execute_result"
    }
   ],
   "source": [
    "all_phonemes = list(features.columns)[0:]\n",
    "\n",
    "feature_matrix = pd.DataFrame(0, index=all_phonemes, columns=all_phonemes)\n",
    "\n",
    "for phoneme1 in all_phonemes:\n",
    "    for phoneme2 in all_phonemes:\n",
    "        for (f, g) in zip(features.loc[:,phoneme1], features.loc[:,phoneme2]):\n",
    "            if(not pd.isnull(f) and not pd.isnull(g) and f != g):\n",
    "                #basically gets the Manhattan distance between two feature vectors\n",
    "                feature_matrix.loc[phoneme1, phoneme2] += 1\n",
    "feature_matrix"
   ]
  },
  {
   "cell_type": "code",
   "execution_count": 193,
   "id": "71053368",
   "metadata": {},
   "outputs": [],
   "source": [
    "from collections import defaultdict\n",
    "from typing import List, Optional\n",
    "from scipy.spatial.distance import pdist, squareform\n",
    "\n",
    "class CognateDistance:\n",
    "    \n",
    "    def __init__(self, difference_cost: float = 1.):\n",
    "        self._difference_cost = difference_cost\n",
    "    \n",
    "    def __call__(self, source: str, target: str) -> float:\n",
    "        return 0. if (source == target) else self._difference_cost\n",
    "    \n",
    "    def distance_matrix(self, word: str) -> pd.core.frame.DataFrame:\n",
    "        strings = np.array(list(cognate.loc[:,word]), dtype=object).reshape(-1,1)\n",
    "        \n",
    "        matrix = pdist(strings, lambda x, y: self(x[0], y[0]))\n",
    "        #square_matrix = pd.DataFrame(squareform(matrix), columns=cognate.index, index=cognate.index).rename_axis(index=None)\n",
    "\n",
    "        return matrix\n",
    "    \n",
    "    def full_distance_matrix(self, phonemes: List[str]) -> np.array:\n",
    "        full_matrix = np.zeros(int(len(cognate.index) ** 2 / 2 - len(cognate.index) / 2))\n",
    "        for word in cognate.columns:\n",
    "            full_matrix = np.add(full_matrix, self.distance_matrix(word))\n",
    "            print(word)\n",
    "        return full_matrix\n",
    "    \n",
    "class StringDistance:\n",
    "    '''Distance between strings\n",
    "\n",
    "\n",
    "    Parameters\n",
    "    ----------\n",
    "    insertion_cost\n",
    "    deletion_cost\n",
    "    substitution_cost\n",
    "    '''\n",
    "    \n",
    "    def __init__(self, insertion_cost: float = 1.,\n",
    "                 deletion_cost: float = 1., cost_matrix: Optional[pd.DataFrame] = None):\n",
    "        self._insertion_cost = insertion_cost\n",
    "        self._deletion_cost = deletion_cost\n",
    "\n",
    "    def __call__(self, source: str, target: str) -> float:\n",
    "        return self._wagner_fisher(source, target)\n",
    "    \n",
    "    def string_to_phonemes(self, string: str, phonemes: List[str]) -> List[str]:\n",
    "        ordered_phonemes = list(sorted(phonemes, key = len))\n",
    "        ordered_phonemes.reverse() # this gets a list where the longest multigraphs appears first\n",
    "        \n",
    "        '''\n",
    "        The data is formatted so that the class prefix is separated by a hyphen. \n",
    "        This should get the main roots whether these is\n",
    "        '''\n",
    "        \n",
    "        stem = string.split('-')\n",
    "        \n",
    "        if(len(stem) > 1):\n",
    "            string = stem[1]\n",
    "        else:\n",
    "            string = stem[0]\n",
    "        \n",
    "        phoneme_list = list()\n",
    "        i = 0\n",
    "        while(i < len(string)):\n",
    "            for p in ordered_phonemes:\n",
    "                if(len(string) - i >= len(p) and string[i:i + len(p)] == p):\n",
    "                    phoneme_list.append(p)\n",
    "                    i += len(p)\n",
    "                    break\n",
    "                #if any character isn't part of the list of phonemes, ignore it\n",
    "                elif(i < len(string) and string[i] not in phonemes):\n",
    "                    i += 1\n",
    "                    break\n",
    "        return phoneme_list\n",
    "        \n",
    "    def _wagner_fisher(self, source: List[str], target: List[str]):\n",
    "        n, m = len(source), len(target)\n",
    "        \n",
    "        source.insert(0, '#')\n",
    "        target.insert(0, '#')\n",
    "\n",
    "        distance = np.zeros([n + 1, m + 1], dtype=float)\n",
    "        \n",
    "        for i in range(1, n + 1):\n",
    "            distance[i, 0] = distance[i - 1, 0] + self._deletion_cost\n",
    "\n",
    "        for j in range(1,m+1):\n",
    "            distance[0, j] = distance[0, j - 1] + self._insertion_cost\n",
    "            \n",
    "        for i in range(1, n + 1):\n",
    "            for j in range(1, m + 1):\n",
    "                if source[i] == target[j]:\n",
    "                    substitution_cost = 0.\n",
    "                else:\n",
    "                    substitution_cost = feature_matrix.loc[source[i], target[j]]\n",
    "                    \n",
    "                costs = np.array([distance[i - 1, j] + self._deletion_cost,\n",
    "                                  distance[i - 1, j - 1] + substitution_cost,\n",
    "                                  distance[i, j - 1] + self._insertion_cost])\n",
    "                    \n",
    "                distance[i, j] = costs.min()\n",
    "        \n",
    "        source.pop(0)\n",
    "        target.pop(0)\n",
    "        \n",
    "        # adjusts the distance by dividing by the length on the longest lexical item\n",
    "        return distance[n, m] / max(len(source), len(target))\n",
    "    \n",
    "    def distance_matrix(self, word: str, phonemes: List[str], square: bool = False) -> pd.core.frame.DataFrame:\n",
    "        strings = [self.string_to_phonemes(i, phonemes) for i in list(phonetic.loc[:,word])]\n",
    "        strings = np.array(strings, dtype=object).reshape(-1,1)\n",
    "        \n",
    "        matrix = pdist(strings, lambda x, y: self(x[0], y[0]))\n",
    "        \n",
    "        if(square):\n",
    "            return self.square_matrix(matrix)\n",
    "        else:\n",
    "            return matrix\n",
    "        \n",
    "    def square_matrix(self, matrix: np.array) -> pd.core.frame.DataFrame:\n",
    "        return pd.DataFrame(squareform(matrix), columns=phonetic.index, index=phonetic.index).rename_axis(index=None)\n",
    "            \n",
    "    def full_distance_matrix(self, phonemes: List[str]) -> np.array:\n",
    "        full_matrix = np.zeros(int(len(phonetic.index) ** 2 / 2 - len(phonetic.index) / 2))\n",
    "        for word in phonetic.columns:\n",
    "            full_matrix = np.add(full_matrix, self.distance_matrix(word, phonemes))\n",
    "            print(word) #this allows\n",
    "        return full_matrix"
   ]
  },
  {
   "cell_type": "code",
   "execution_count": 194,
   "id": "89d2c31c",
   "metadata": {},
   "outputs": [
    {
     "name": "stdout",
     "output_type": "stream",
     "text": [
      "animal\n",
      "arm\n",
      "ashes\n",
      "bark\n",
      "bed\n",
      "belly\n",
      "big\n",
      "bird\n",
      "bite\n",
      "blood\n",
      "bone\n",
      "breast\n",
      "burn\n",
      "child\n",
      "cloud\n",
      "come\n",
      "count\n",
      "die\n",
      "dog\n",
      "drink\n",
      "ear\n",
      "eat\n",
      "egg\n",
      "elephant\n",
      "eye\n",
      "face\n",
      "fall\n",
      "fat, oil\n",
      "feather\n",
      "fingernail\n",
      "fire\n",
      "fire-wood\n",
      "fish\n",
      "five\n",
      "fly\n",
      "four\n",
      "give\n",
      "goat\n",
      "ground, soil\n",
      "hair\n",
      "head\n",
      "hear\n",
      "heart\n",
      "horn\n",
      "house\n",
      "hunger\n",
      "intestine\n",
      "kill\n",
      "knee\n",
      "knife\n",
      "know\n",
      "leaf\n",
      "leg\n",
      "liver\n",
      "louse\n",
      "man\n",
      "moon\n",
      "mouth\n",
      "name\n",
      "navel\n",
      "neck\n",
      "night\n",
      "nose\n",
      "one\n",
      "person\n",
      "rain\n",
      "road/path\n",
      "root\n",
      "salt\n",
      "sand\n",
      "see\n",
      "send\n",
      "shame\n",
      "sing\n",
      "skin\n",
      "sky\n",
      "sleep\n",
      "smoke\n",
      "snake\n",
      "spear\n",
      "steal\n",
      "stone\n",
      "sun\n",
      "tail\n",
      "ten\n",
      "three\n",
      "tongue\n",
      "tooth\n",
      "tree\n",
      "two\n",
      "urine\n",
      "village\n",
      "vomit\n",
      "walk\n",
      "war\n",
      "water\n",
      "wind\n",
      "woman\n",
      "dew\n",
      "iron\n"
     ]
    }
   ],
   "source": [
    "stringdist = StringDistance(1, 1, feature_matrix)\n",
    "cognatedist = CognateDistance()\n",
    "\n",
    "#len(stringdist.distance_matrix('ashes', all_phonemes))\n",
    "\n",
    "#test = stringdist.full_distance_matrix(all_phonemes)\n",
    "test2 = cognatedist.full_distance_matrix(all_phonemes)\n",
    "\n",
    "#test = cognatedist.distance_matrix('ashes')\n",
    "#stringdist.distance_matrix('ashes', all_phonemes)\n",
    "\n",
    "#test.add(test, fill_value=0)\n",
    "#test"
   ]
  },
  {
   "cell_type": "code",
   "execution_count": 195,
   "id": "5d5d6438",
   "metadata": {},
   "outputs": [
    {
     "data": {
      "text/plain": [
       "array([21., 22., 49., ..., 15., 54., 54.])"
      ]
     },
     "execution_count": 195,
     "metadata": {},
     "output_type": "execute_result"
    }
   ],
   "source": [
    "#test = stringdist.square_matrix(test)\n",
    "test2"
   ]
  },
  {
   "cell_type": "code",
   "execution_count": 200,
   "id": "8d1b3438",
   "metadata": {},
   "outputs": [
    {
     "data": {
      "application/vnd.plotly.v1+json": {
       "config": {
        "plotlyServerURL": "https://plot.ly"
       },
       "data": [
        {
         "hoverinfo": "text",
         "marker": {
          "color": "rgb(61,153,112)"
         },
         "mode": "lines",
         "type": "scatter",
         "x": [
          0,
          -11.063754665417534,
          -11.063754665417534,
          0
         ],
         "xaxis": "x",
         "y": [
          15,
          15,
          25,
          25
         ],
         "yaxis": "y"
        },
        {
         "hoverinfo": "text",
         "marker": {
          "color": "rgb(61,153,112)"
         },
         "mode": "lines",
         "type": "scatter",
         "x": [
          0,
          -9.344797457006313,
          -9.344797457006313,
          0
         ],
         "xaxis": "x",
         "y": [
          45,
          45,
          55,
          55
         ],
         "yaxis": "y"
        },
        {
         "hoverinfo": "text",
         "marker": {
          "color": "rgb(61,153,112)"
         },
         "mode": "lines",
         "type": "scatter",
         "x": [
          0,
          -13.8781861767238,
          -13.8781861767238,
          -9.344797457006313
         ],
         "xaxis": "x",
         "y": [
          35,
          35,
          50,
          50
         ],
         "yaxis": "y"
        },
        {
         "hoverinfo": "text",
         "marker": {
          "color": "rgb(61,153,112)"
         },
         "mode": "lines",
         "type": "scatter",
         "x": [
          -11.063754665417534,
          -26.44161612621451,
          -26.44161612621451,
          -13.8781861767238
         ],
         "xaxis": "x",
         "y": [
          20,
          20,
          42.5,
          42.5
         ],
         "yaxis": "y"
        },
        {
         "hoverinfo": "text",
         "marker": {
          "color": "rgb(61,153,112)"
         },
         "mode": "lines",
         "type": "scatter",
         "x": [
          0,
          -62.277644271957655,
          -62.277644271957655,
          -26.44161612621451
         ],
         "xaxis": "x",
         "y": [
          5,
          5,
          31.25,
          31.25
         ],
         "yaxis": "y"
        },
        {
         "hoverinfo": "text",
         "marker": {
          "color": "rgb(61,153,112)"
         },
         "mode": "lines",
         "type": "scatter",
         "x": [
          0,
          -36.71863054088736,
          -36.71863054088736,
          0
         ],
         "xaxis": "x",
         "y": [
          65,
          65,
          75,
          75
         ],
         "yaxis": "y"
        },
        {
         "hoverinfo": "text",
         "marker": {
          "color": "rgb(61,153,112)"
         },
         "mode": "lines",
         "type": "scatter",
         "x": [
          0,
          -6.232899053590146,
          -6.232899053590146,
          0
         ],
         "xaxis": "x",
         "y": [
          95,
          95,
          105,
          105
         ],
         "yaxis": "y"
        },
        {
         "hoverinfo": "text",
         "marker": {
          "color": "rgb(61,153,112)"
         },
         "mode": "lines",
         "type": "scatter",
         "x": [
          0,
          -16.378645574778076,
          -16.378645574778076,
          -6.232899053590146
         ],
         "xaxis": "x",
         "y": [
          85,
          85,
          100,
          100
         ],
         "yaxis": "y"
        },
        {
         "hoverinfo": "text",
         "marker": {
          "color": "rgb(61,153,112)"
         },
         "mode": "lines",
         "type": "scatter",
         "x": [
          0,
          -18.85609680239564,
          -18.85609680239564,
          0
         ],
         "xaxis": "x",
         "y": [
          115,
          115,
          125,
          125
         ],
         "yaxis": "y"
        },
        {
         "hoverinfo": "text",
         "marker": {
          "color": "rgb(61,153,112)"
         },
         "mode": "lines",
         "type": "scatter",
         "x": [
          -16.378645574778076,
          -27.866440589307597,
          -27.866440589307597,
          -18.85609680239564
         ],
         "xaxis": "x",
         "y": [
          92.5,
          92.5,
          120,
          120
         ],
         "yaxis": "y"
        },
        {
         "hoverinfo": "text",
         "marker": {
          "color": "rgb(61,153,112)"
         },
         "mode": "lines",
         "type": "scatter",
         "x": [
          0,
          -4.39644251962707,
          -4.39644251962707,
          0
         ],
         "xaxis": "x",
         "y": [
          135,
          135,
          145,
          145
         ],
         "yaxis": "y"
        },
        {
         "hoverinfo": "text",
         "marker": {
          "color": "rgb(61,153,112)"
         },
         "mode": "lines",
         "type": "scatter",
         "x": [
          0,
          -13.00487355229227,
          -13.00487355229227,
          0
         ],
         "xaxis": "x",
         "y": [
          155,
          155,
          165,
          165
         ],
         "yaxis": "y"
        },
        {
         "hoverinfo": "text",
         "marker": {
          "color": "rgb(61,153,112)"
         },
         "mode": "lines",
         "type": "scatter",
         "x": [
          -4.39644251962707,
          -42.82454057558824,
          -42.82454057558824,
          -13.00487355229227
         ],
         "xaxis": "x",
         "y": [
          140,
          140,
          160,
          160
         ],
         "yaxis": "y"
        },
        {
         "hoverinfo": "text",
         "marker": {
          "color": "rgb(61,153,112)"
         },
         "mode": "lines",
         "type": "scatter",
         "x": [
          -27.866440589307597,
          -66.54573900572893,
          -66.54573900572893,
          -42.82454057558824
         ],
         "xaxis": "x",
         "y": [
          106.25,
          106.25,
          150,
          150
         ],
         "yaxis": "y"
        },
        {
         "hoverinfo": "text",
         "marker": {
          "color": "rgb(61,153,112)"
         },
         "mode": "lines",
         "type": "scatter",
         "x": [
          0,
          -38.02562018603878,
          -38.02562018603878,
          0
         ],
         "xaxis": "x",
         "y": [
          175,
          175,
          185,
          185
         ],
         "yaxis": "y"
        },
        {
         "hoverinfo": "text",
         "marker": {
          "color": "rgb(61,153,112)"
         },
         "mode": "lines",
         "type": "scatter",
         "x": [
          0,
          -19.58303459028177,
          -19.58303459028177,
          0
         ],
         "xaxis": "x",
         "y": [
          195,
          195,
          205,
          205
         ],
         "yaxis": "y"
        },
        {
         "hoverinfo": "text",
         "marker": {
          "color": "rgb(61,153,112)"
         },
         "mode": "lines",
         "type": "scatter",
         "x": [
          0,
          -2.4922203216247314,
          -2.4922203216247314,
          0
         ],
         "xaxis": "x",
         "y": [
          235,
          235,
          245,
          245
         ],
         "yaxis": "y"
        },
        {
         "hoverinfo": "text",
         "marker": {
          "color": "rgb(61,153,112)"
         },
         "mode": "lines",
         "type": "scatter",
         "x": [
          0,
          -16.52517358339849,
          -16.52517358339849,
          -2.4922203216247314
         ],
         "xaxis": "x",
         "y": [
          225,
          225,
          240,
          240
         ],
         "yaxis": "y"
        },
        {
         "hoverinfo": "text",
         "marker": {
          "color": "rgb(61,153,112)"
         },
         "mode": "lines",
         "type": "scatter",
         "x": [
          0,
          -36.45825619039458,
          -36.45825619039458,
          -16.52517358339849
         ],
         "xaxis": "x",
         "y": [
          215,
          215,
          232.5,
          232.5
         ],
         "yaxis": "y"
        },
        {
         "hoverinfo": "text",
         "marker": {
          "color": "rgb(61,153,112)"
         },
         "mode": "lines",
         "type": "scatter",
         "x": [
          -19.58303459028177,
          -42.9584173940335,
          -42.9584173940335,
          -36.45825619039458
         ],
         "xaxis": "x",
         "y": [
          200,
          200,
          223.75,
          223.75
         ],
         "yaxis": "y"
        },
        {
         "hoverinfo": "text",
         "marker": {
          "color": "rgb(61,153,112)"
         },
         "mode": "lines",
         "type": "scatter",
         "x": [
          -38.02562018603878,
          -78.72292447882232,
          -78.72292447882232,
          -42.9584173940335
         ],
         "xaxis": "x",
         "y": [
          180,
          180,
          211.875,
          211.875
         ],
         "yaxis": "y"
        },
        {
         "hoverinfo": "text",
         "marker": {
          "color": "rgb(61,153,112)"
         },
         "mode": "lines",
         "type": "scatter",
         "x": [
          -66.54573900572893,
          -115.56236529911492,
          -115.56236529911492,
          -78.72292447882232
         ],
         "xaxis": "x",
         "y": [
          128.125,
          128.125,
          195.9375,
          195.9375
         ],
         "yaxis": "y"
        },
        {
         "hoverinfo": "text",
         "marker": {
          "color": "rgb(61,153,112)"
         },
         "mode": "lines",
         "type": "scatter",
         "x": [
          -36.71863054088736,
          -179.03303996891245,
          -179.03303996891245,
          -115.56236529911492
         ],
         "xaxis": "x",
         "y": [
          70,
          70,
          162.03125,
          162.03125
         ],
         "yaxis": "y"
        },
        {
         "hoverinfo": "text",
         "marker": {
          "color": "rgb(61,153,112)"
         },
         "mode": "lines",
         "type": "scatter",
         "x": [
          -62.277644271957655,
          -447.2030204719937,
          -447.2030204719937,
          -179.03303996891245
         ],
         "xaxis": "x",
         "y": [
          18.125,
          18.125,
          116.015625,
          116.015625
         ],
         "yaxis": "y"
        },
        {
         "hoverinfo": "text",
         "marker": {
          "color": "rgb(255,65,54)"
         },
         "mode": "lines",
         "type": "scatter",
         "x": [
          0,
          -19.132763900661562,
          -19.132763900661562,
          0
         ],
         "xaxis": "x",
         "y": [
          265,
          265,
          275,
          275
         ],
         "yaxis": "y"
        },
        {
         "hoverinfo": "text",
         "marker": {
          "color": "rgb(255,65,54)"
         },
         "mode": "lines",
         "type": "scatter",
         "x": [
          0,
          -53.85812871450435,
          -53.85812871450435,
          -19.132763900661562
         ],
         "xaxis": "x",
         "y": [
          255,
          255,
          270,
          270
         ],
         "yaxis": "y"
        },
        {
         "hoverinfo": "text",
         "marker": {
          "color": "rgb(255,65,54)"
         },
         "mode": "lines",
         "type": "scatter",
         "x": [
          0,
          -16.243976033275057,
          -16.243976033275057,
          0
         ],
         "xaxis": "x",
         "y": [
          285,
          285,
          295,
          295
         ],
         "yaxis": "y"
        },
        {
         "hoverinfo": "text",
         "marker": {
          "color": "rgb(255,65,54)"
         },
         "mode": "lines",
         "type": "scatter",
         "x": [
          0,
          -14.176271303974836,
          -14.176271303974836,
          0
         ],
         "xaxis": "x",
         "y": [
          305,
          305,
          315,
          315
         ],
         "yaxis": "y"
        },
        {
         "hoverinfo": "text",
         "marker": {
          "color": "rgb(255,65,54)"
         },
         "mode": "lines",
         "type": "scatter",
         "x": [
          0,
          -1.4535143898952807,
          -1.4535143898952807,
          0
         ],
         "xaxis": "x",
         "y": [
          345,
          345,
          355,
          355
         ],
         "yaxis": "y"
        },
        {
         "hoverinfo": "text",
         "marker": {
          "color": "rgb(255,65,54)"
         },
         "mode": "lines",
         "type": "scatter",
         "x": [
          0,
          -11.871202459978731,
          -11.871202459978731,
          -1.4535143898952807
         ],
         "xaxis": "x",
         "y": [
          335,
          335,
          350,
          350
         ],
         "yaxis": "y"
        },
        {
         "hoverinfo": "text",
         "marker": {
          "color": "rgb(255,65,54)"
         },
         "mode": "lines",
         "type": "scatter",
         "x": [
          0,
          -16.417263879464866,
          -16.417263879464866,
          -11.871202459978731
         ],
         "xaxis": "x",
         "y": [
          325,
          325,
          342.5,
          342.5
         ],
         "yaxis": "y"
        },
        {
         "hoverinfo": "text",
         "marker": {
          "color": "rgb(255,65,54)"
         },
         "mode": "lines",
         "type": "scatter",
         "x": [
          -14.176271303974836,
          -36.04364577162255,
          -36.04364577162255,
          -16.417263879464866
         ],
         "xaxis": "x",
         "y": [
          310,
          310,
          333.75,
          333.75
         ],
         "yaxis": "y"
        },
        {
         "hoverinfo": "text",
         "marker": {
          "color": "rgb(255,65,54)"
         },
         "mode": "lines",
         "type": "scatter",
         "x": [
          -16.243976033275057,
          -65.21430957596183,
          -65.21430957596183,
          -36.04364577162255
         ],
         "xaxis": "x",
         "y": [
          290,
          290,
          321.875,
          321.875
         ],
         "yaxis": "y"
        },
        {
         "hoverinfo": "text",
         "marker": {
          "color": "rgb(255,65,54)"
         },
         "mode": "lines",
         "type": "scatter",
         "x": [
          -53.85812871450435,
          -171.3561557531928,
          -171.3561557531928,
          -65.21430957596183
         ],
         "xaxis": "x",
         "y": [
          262.5,
          262.5,
          305.9375,
          305.9375
         ],
         "yaxis": "y"
        },
        {
         "hoverinfo": "text",
         "marker": {
          "color": "rgb(255,65,54)"
         },
         "mode": "lines",
         "type": "scatter",
         "x": [
          0,
          -4.26875214763743,
          -4.26875214763743,
          0
         ],
         "xaxis": "x",
         "y": [
          385,
          385,
          395,
          395
         ],
         "yaxis": "y"
        },
        {
         "hoverinfo": "text",
         "marker": {
          "color": "rgb(255,65,54)"
         },
         "mode": "lines",
         "type": "scatter",
         "x": [
          0,
          -8.412909056172603,
          -8.412909056172603,
          0
         ],
         "xaxis": "x",
         "y": [
          405,
          405,
          415,
          415
         ],
         "yaxis": "y"
        },
        {
         "hoverinfo": "text",
         "marker": {
          "color": "rgb(255,65,54)"
         },
         "mode": "lines",
         "type": "scatter",
         "x": [
          -4.26875214763743,
          -12.836955056533332,
          -12.836955056533332,
          -8.412909056172603
         ],
         "xaxis": "x",
         "y": [
          390,
          390,
          410,
          410
         ],
         "yaxis": "y"
        },
        {
         "hoverinfo": "text",
         "marker": {
          "color": "rgb(255,65,54)"
         },
         "mode": "lines",
         "type": "scatter",
         "x": [
          0,
          -38.87431246905918,
          -38.87431246905918,
          -12.836955056533332
         ],
         "xaxis": "x",
         "y": [
          375,
          375,
          400,
          400
         ],
         "yaxis": "y"
        },
        {
         "hoverinfo": "text",
         "marker": {
          "color": "rgb(255,65,54)"
         },
         "mode": "lines",
         "type": "scatter",
         "x": [
          0,
          -75.62799481939955,
          -75.62799481939955,
          -38.87431246905918
         ],
         "xaxis": "x",
         "y": [
          365,
          365,
          387.5,
          387.5
         ],
         "yaxis": "y"
        },
        {
         "hoverinfo": "text",
         "marker": {
          "color": "rgb(255,65,54)"
         },
         "mode": "lines",
         "type": "scatter",
         "x": [
          0,
          -3.6073620866901885,
          -3.6073620866901885,
          0
         ],
         "xaxis": "x",
         "y": [
          445,
          445,
          455,
          455
         ],
         "yaxis": "y"
        },
        {
         "hoverinfo": "text",
         "marker": {
          "color": "rgb(255,65,54)"
         },
         "mode": "lines",
         "type": "scatter",
         "x": [
          0,
          -9.673866659465833,
          -9.673866659465833,
          -3.6073620866901885
         ],
         "xaxis": "x",
         "y": [
          435,
          435,
          450,
          450
         ],
         "yaxis": "y"
        },
        {
         "hoverinfo": "text",
         "marker": {
          "color": "rgb(255,65,54)"
         },
         "mode": "lines",
         "type": "scatter",
         "x": [
          0,
          -35.36482762807229,
          -35.36482762807229,
          -9.673866659465833
         ],
         "xaxis": "x",
         "y": [
          425,
          425,
          442.5,
          442.5
         ],
         "yaxis": "y"
        },
        {
         "hoverinfo": "text",
         "marker": {
          "color": "rgb(255,65,54)"
         },
         "mode": "lines",
         "type": "scatter",
         "x": [
          0,
          -19.974439590673153,
          -19.974439590673153,
          0
         ],
         "xaxis": "x",
         "y": [
          465,
          465,
          475,
          475
         ],
         "yaxis": "y"
        },
        {
         "hoverinfo": "text",
         "marker": {
          "color": "rgb(255,65,54)"
         },
         "mode": "lines",
         "type": "scatter",
         "x": [
          0,
          -10.45379641890453,
          -10.45379641890453,
          0
         ],
         "xaxis": "x",
         "y": [
          495,
          495,
          505,
          505
         ],
         "yaxis": "y"
        },
        {
         "hoverinfo": "text",
         "marker": {
          "color": "rgb(255,65,54)"
         },
         "mode": "lines",
         "type": "scatter",
         "x": [
          0,
          -41.4327125051315,
          -41.4327125051315,
          -10.45379641890453
         ],
         "xaxis": "x",
         "y": [
          485,
          485,
          500,
          500
         ],
         "yaxis": "y"
        },
        {
         "hoverinfo": "text",
         "marker": {
          "color": "rgb(255,65,54)"
         },
         "mode": "lines",
         "type": "scatter",
         "x": [
          -19.974439590673153,
          -44.71721071623724,
          -44.71721071623724,
          -41.4327125051315
         ],
         "xaxis": "x",
         "y": [
          470,
          470,
          492.5,
          492.5
         ],
         "yaxis": "y"
        },
        {
         "hoverinfo": "text",
         "marker": {
          "color": "rgb(255,65,54)"
         },
         "mode": "lines",
         "type": "scatter",
         "x": [
          -35.36482762807229,
          -152.08842625430182,
          -152.08842625430182,
          -44.71721071623724
         ],
         "xaxis": "x",
         "y": [
          433.75,
          433.75,
          481.25,
          481.25
         ],
         "yaxis": "y"
        },
        {
         "hoverinfo": "text",
         "marker": {
          "color": "rgb(255,65,54)"
         },
         "mode": "lines",
         "type": "scatter",
         "x": [
          -75.62799481939955,
          -265.9029522358036,
          -265.9029522358036,
          -152.08842625430182
         ],
         "xaxis": "x",
         "y": [
          376.25,
          376.25,
          457.5,
          457.5
         ],
         "yaxis": "y"
        },
        {
         "hoverinfo": "text",
         "marker": {
          "color": "rgb(255,65,54)"
         },
         "mode": "lines",
         "type": "scatter",
         "x": [
          -171.3561557531928,
          -608.939658924541,
          -608.939658924541,
          -265.9029522358036
         ],
         "xaxis": "x",
         "y": [
          284.21875,
          284.21875,
          416.875,
          416.875
         ],
         "yaxis": "y"
        },
        {
         "hoverinfo": "text",
         "marker": {
          "color": "rgb(35,205,205)"
         },
         "mode": "lines",
         "type": "scatter",
         "x": [
          0,
          -6.038217406192365,
          -6.038217406192365,
          0
         ],
         "xaxis": "x",
         "y": [
          525,
          525,
          535,
          535
         ],
         "yaxis": "y"
        },
        {
         "hoverinfo": "text",
         "marker": {
          "color": "rgb(35,205,205)"
         },
         "mode": "lines",
         "type": "scatter",
         "x": [
          0,
          -32.538500568931816,
          -32.538500568931816,
          -6.038217406192365
         ],
         "xaxis": "x",
         "y": [
          515,
          515,
          530,
          530
         ],
         "yaxis": "y"
        },
        {
         "hoverinfo": "text",
         "marker": {
          "color": "rgb(35,205,205)"
         },
         "mode": "lines",
         "type": "scatter",
         "x": [
          0,
          -18.02691125729691,
          -18.02691125729691,
          0
         ],
         "xaxis": "x",
         "y": [
          545,
          545,
          555,
          555
         ],
         "yaxis": "y"
        },
        {
         "hoverinfo": "text",
         "marker": {
          "color": "rgb(35,205,205)"
         },
         "mode": "lines",
         "type": "scatter",
         "x": [
          0,
          -20.060751304819874,
          -20.060751304819874,
          0
         ],
         "xaxis": "x",
         "y": [
          575,
          575,
          585,
          585
         ],
         "yaxis": "y"
        },
        {
         "hoverinfo": "text",
         "marker": {
          "color": "rgb(35,205,205)"
         },
         "mode": "lines",
         "type": "scatter",
         "x": [
          0,
          -31.362305704528623,
          -31.362305704528623,
          -20.060751304819874
         ],
         "xaxis": "x",
         "y": [
          565,
          565,
          580,
          580
         ],
         "yaxis": "y"
        },
        {
         "hoverinfo": "text",
         "marker": {
          "color": "rgb(35,205,205)"
         },
         "mode": "lines",
         "type": "scatter",
         "x": [
          -18.02691125729691,
          -49.300722870057434,
          -49.300722870057434,
          -31.362305704528623
         ],
         "xaxis": "x",
         "y": [
          550,
          550,
          572.5,
          572.5
         ],
         "yaxis": "y"
        },
        {
         "hoverinfo": "text",
         "marker": {
          "color": "rgb(35,205,205)"
         },
         "mode": "lines",
         "type": "scatter",
         "x": [
          -32.538500568931816,
          -81.62891645377411,
          -81.62891645377411,
          -49.300722870057434
         ],
         "xaxis": "x",
         "y": [
          522.5,
          522.5,
          561.25,
          561.25
         ],
         "yaxis": "y"
        },
        {
         "hoverinfo": "text",
         "marker": {
          "color": "rgb(35,205,205)"
         },
         "mode": "lines",
         "type": "scatter",
         "x": [
          0,
          -7.371585838730889,
          -7.371585838730889,
          0
         ],
         "xaxis": "x",
         "y": [
          605,
          605,
          615,
          615
         ],
         "yaxis": "y"
        },
        {
         "hoverinfo": "text",
         "marker": {
          "color": "rgb(35,205,205)"
         },
         "mode": "lines",
         "type": "scatter",
         "x": [
          0,
          -4.481567186202219,
          -4.481567186202219,
          0
         ],
         "xaxis": "x",
         "y": [
          635,
          635,
          645,
          645
         ],
         "yaxis": "y"
        },
        {
         "hoverinfo": "text",
         "marker": {
          "color": "rgb(35,205,205)"
         },
         "mode": "lines",
         "type": "scatter",
         "x": [
          0,
          -12.102907204956642,
          -12.102907204956642,
          -4.481567186202219
         ],
         "xaxis": "x",
         "y": [
          625,
          625,
          640,
          640
         ],
         "yaxis": "y"
        },
        {
         "hoverinfo": "text",
         "marker": {
          "color": "rgb(35,205,205)"
         },
         "mode": "lines",
         "type": "scatter",
         "x": [
          -7.371585838730889,
          -20.14398862633162,
          -20.14398862633162,
          -12.102907204956642
         ],
         "xaxis": "x",
         "y": [
          610,
          610,
          632.5,
          632.5
         ],
         "yaxis": "y"
        },
        {
         "hoverinfo": "text",
         "marker": {
          "color": "rgb(35,205,205)"
         },
         "mode": "lines",
         "type": "scatter",
         "x": [
          0,
          -38.052446204304914,
          -38.052446204304914,
          -20.14398862633162
         ],
         "xaxis": "x",
         "y": [
          595,
          595,
          621.25,
          621.25
         ],
         "yaxis": "y"
        },
        {
         "hoverinfo": "text",
         "marker": {
          "color": "rgb(35,205,205)"
         },
         "mode": "lines",
         "type": "scatter",
         "x": [
          0,
          -21.576868992284403,
          -21.576868992284403,
          0
         ],
         "xaxis": "x",
         "y": [
          655,
          655,
          665,
          665
         ],
         "yaxis": "y"
        },
        {
         "hoverinfo": "text",
         "marker": {
          "color": "rgb(35,205,205)"
         },
         "mode": "lines",
         "type": "scatter",
         "x": [
          0,
          -28.468305963728238,
          -28.468305963728238,
          0
         ],
         "xaxis": "x",
         "y": [
          675,
          675,
          685,
          685
         ],
         "yaxis": "y"
        },
        {
         "hoverinfo": "text",
         "marker": {
          "color": "rgb(35,205,205)"
         },
         "mode": "lines",
         "type": "scatter",
         "x": [
          -21.576868992284403,
          -67.95469696056534,
          -67.95469696056534,
          -28.468305963728238
         ],
         "xaxis": "x",
         "y": [
          660,
          660,
          680,
          680
         ],
         "yaxis": "y"
        },
        {
         "hoverinfo": "text",
         "marker": {
          "color": "rgb(35,205,205)"
         },
         "mode": "lines",
         "type": "scatter",
         "x": [
          -38.052446204304914,
          -81.27115109311545,
          -81.27115109311545,
          -67.95469696056534
         ],
         "xaxis": "x",
         "y": [
          608.125,
          608.125,
          670,
          670
         ],
         "yaxis": "y"
        },
        {
         "hoverinfo": "text",
         "marker": {
          "color": "rgb(35,205,205)"
         },
         "mode": "lines",
         "type": "scatter",
         "x": [
          0,
          -14.326764878835133,
          -14.326764878835133,
          0
         ],
         "xaxis": "x",
         "y": [
          715,
          715,
          725,
          725
         ],
         "yaxis": "y"
        },
        {
         "hoverinfo": "text",
         "marker": {
          "color": "rgb(35,205,205)"
         },
         "mode": "lines",
         "type": "scatter",
         "x": [
          0,
          -28.850579782704294,
          -28.850579782704294,
          -14.326764878835133
         ],
         "xaxis": "x",
         "y": [
          705,
          705,
          720,
          720
         ],
         "yaxis": "y"
        },
        {
         "hoverinfo": "text",
         "marker": {
          "color": "rgb(35,205,205)"
         },
         "mode": "lines",
         "type": "scatter",
         "x": [
          0,
          -86.46869080653366,
          -86.46869080653366,
          -28.850579782704294
         ],
         "xaxis": "x",
         "y": [
          695,
          695,
          712.5,
          712.5
         ],
         "yaxis": "y"
        },
        {
         "hoverinfo": "text",
         "marker": {
          "color": "rgb(35,205,205)"
         },
         "mode": "lines",
         "type": "scatter",
         "x": [
          -81.27115109311545,
          -131.15754061121942,
          -131.15754061121942,
          -86.46869080653366
         ],
         "xaxis": "x",
         "y": [
          639.0625,
          639.0625,
          703.75,
          703.75
         ],
         "yaxis": "y"
        },
        {
         "hoverinfo": "text",
         "marker": {
          "color": "rgb(35,205,205)"
         },
         "mode": "lines",
         "type": "scatter",
         "x": [
          -81.62891645377411,
          -202.62647901989513,
          -202.62647901989513,
          -131.15754061121942
         ],
         "xaxis": "x",
         "y": [
          541.875,
          541.875,
          671.40625,
          671.40625
         ],
         "yaxis": "y"
        },
        {
         "hoverinfo": "text",
         "marker": {
          "color": "rgb(35,205,205)"
         },
         "mode": "lines",
         "type": "scatter",
         "x": [
          0,
          -1.7320508075688772,
          -1.7320508075688772,
          0
         ],
         "xaxis": "x",
         "y": [
          745,
          745,
          755,
          755
         ],
         "yaxis": "y"
        },
        {
         "hoverinfo": "text",
         "marker": {
          "color": "rgb(35,205,205)"
         },
         "mode": "lines",
         "type": "scatter",
         "x": [
          0,
          -4.123105625617661,
          -4.123105625617661,
          -1.7320508075688772
         ],
         "xaxis": "x",
         "y": [
          735,
          735,
          750,
          750
         ],
         "yaxis": "y"
        },
        {
         "hoverinfo": "text",
         "marker": {
          "color": "rgb(35,205,205)"
         },
         "mode": "lines",
         "type": "scatter",
         "x": [
          0,
          -1.7320508075688772,
          -1.7320508075688772,
          0
         ],
         "xaxis": "x",
         "y": [
          775,
          775,
          785,
          785
         ],
         "yaxis": "y"
        },
        {
         "hoverinfo": "text",
         "marker": {
          "color": "rgb(35,205,205)"
         },
         "mode": "lines",
         "type": "scatter",
         "x": [
          0,
          -3.4641016151377544,
          -3.4641016151377544,
          -1.7320508075688772
         ],
         "xaxis": "x",
         "y": [
          765,
          765,
          780,
          780
         ],
         "yaxis": "y"
        },
        {
         "hoverinfo": "text",
         "marker": {
          "color": "rgb(35,205,205)"
         },
         "mode": "lines",
         "type": "scatter",
         "x": [
          0,
          -1.7320508075688772,
          -1.7320508075688772,
          0
         ],
         "xaxis": "x",
         "y": [
          795,
          795,
          805,
          805
         ],
         "yaxis": "y"
        },
        {
         "hoverinfo": "text",
         "marker": {
          "color": "rgb(35,205,205)"
         },
         "mode": "lines",
         "type": "scatter",
         "x": [
          0,
          -1.7320508075688772,
          -1.7320508075688772,
          0
         ],
         "xaxis": "x",
         "y": [
          815,
          815,
          825,
          825
         ],
         "yaxis": "y"
        },
        {
         "hoverinfo": "text",
         "marker": {
          "color": "rgb(35,205,205)"
         },
         "mode": "lines",
         "type": "scatter",
         "x": [
          -1.7320508075688772,
          -5.196152422706632,
          -5.196152422706632,
          -1.7320508075688772
         ],
         "xaxis": "x",
         "y": [
          800,
          800,
          820,
          820
         ],
         "yaxis": "y"
        },
        {
         "hoverinfo": "text",
         "marker": {
          "color": "rgb(35,205,205)"
         },
         "mode": "lines",
         "type": "scatter",
         "x": [
          -3.4641016151377544,
          -10.392304845413264,
          -10.392304845413264,
          -5.196152422706632
         ],
         "xaxis": "x",
         "y": [
          772.5,
          772.5,
          810,
          810
         ],
         "yaxis": "y"
        },
        {
         "hoverinfo": "text",
         "marker": {
          "color": "rgb(35,205,205)"
         },
         "mode": "lines",
         "type": "scatter",
         "x": [
          -4.123105625617661,
          -16.186414056238647,
          -16.186414056238647,
          -10.392304845413264
         ],
         "xaxis": "x",
         "y": [
          742.5,
          742.5,
          791.25,
          791.25
         ],
         "yaxis": "y"
        },
        {
         "hoverinfo": "text",
         "marker": {
          "color": "rgb(35,205,205)"
         },
         "mode": "lines",
         "type": "scatter",
         "x": [
          0,
          -2.449489742783178,
          -2.449489742783178,
          0
         ],
         "xaxis": "x",
         "y": [
          835,
          835,
          845,
          845
         ],
         "yaxis": "y"
        },
        {
         "hoverinfo": "text",
         "marker": {
          "color": "rgb(35,205,205)"
         },
         "mode": "lines",
         "type": "scatter",
         "x": [
          0,
          -1.7320508075688772,
          -1.7320508075688772,
          0
         ],
         "xaxis": "x",
         "y": [
          855,
          855,
          865,
          865
         ],
         "yaxis": "y"
        },
        {
         "hoverinfo": "text",
         "marker": {
          "color": "rgb(35,205,205)"
         },
         "mode": "lines",
         "type": "scatter",
         "x": [
          0,
          -1.7320508075688772,
          -1.7320508075688772,
          0
         ],
         "xaxis": "x",
         "y": [
          875,
          875,
          885,
          885
         ],
         "yaxis": "y"
        },
        {
         "hoverinfo": "text",
         "marker": {
          "color": "rgb(35,205,205)"
         },
         "mode": "lines",
         "type": "scatter",
         "x": [
          -1.7320508075688772,
          -5.196152422706632,
          -5.196152422706632,
          -1.7320508075688772
         ],
         "xaxis": "x",
         "y": [
          860,
          860,
          880,
          880
         ],
         "yaxis": "y"
        },
        {
         "hoverinfo": "text",
         "marker": {
          "color": "rgb(35,205,205)"
         },
         "mode": "lines",
         "type": "scatter",
         "x": [
          -2.449489742783178,
          -9.9498743710662,
          -9.9498743710662,
          -5.196152422706632
         ],
         "xaxis": "x",
         "y": [
          840,
          840,
          870,
          870
         ],
         "yaxis": "y"
        },
        {
         "hoverinfo": "text",
         "marker": {
          "color": "rgb(35,205,205)"
         },
         "mode": "lines",
         "type": "scatter",
         "x": [
          0,
          -1.7320508075688772,
          -1.7320508075688772,
          0
         ],
         "xaxis": "x",
         "y": [
          895,
          895,
          905,
          905
         ],
         "yaxis": "y"
        },
        {
         "hoverinfo": "text",
         "marker": {
          "color": "rgb(35,205,205)"
         },
         "mode": "lines",
         "type": "scatter",
         "x": [
          0,
          -1.7320508075688772,
          -1.7320508075688772,
          0
         ],
         "xaxis": "x",
         "y": [
          915,
          915,
          925,
          925
         ],
         "yaxis": "y"
        },
        {
         "hoverinfo": "text",
         "marker": {
          "color": "rgb(35,205,205)"
         },
         "mode": "lines",
         "type": "scatter",
         "x": [
          -1.7320508075688772,
          -5.196152422706632,
          -5.196152422706632,
          -1.7320508075688772
         ],
         "xaxis": "x",
         "y": [
          900,
          900,
          920,
          920
         ],
         "yaxis": "y"
        },
        {
         "hoverinfo": "text",
         "marker": {
          "color": "rgb(35,205,205)"
         },
         "mode": "lines",
         "type": "scatter",
         "x": [
          0,
          -1.7320508075688772,
          -1.7320508075688772,
          0
         ],
         "xaxis": "x",
         "y": [
          935,
          935,
          945,
          945
         ],
         "yaxis": "y"
        },
        {
         "hoverinfo": "text",
         "marker": {
          "color": "rgb(35,205,205)"
         },
         "mode": "lines",
         "type": "scatter",
         "x": [
          0,
          -1.7320508075688772,
          -1.7320508075688772,
          0
         ],
         "xaxis": "x",
         "y": [
          955,
          955,
          965,
          965
         ],
         "yaxis": "y"
        },
        {
         "hoverinfo": "text",
         "marker": {
          "color": "rgb(35,205,205)"
         },
         "mode": "lines",
         "type": "scatter",
         "x": [
          -1.7320508075688772,
          -5.196152422706632,
          -5.196152422706632,
          -1.7320508075688772
         ],
         "xaxis": "x",
         "y": [
          940,
          940,
          960,
          960
         ],
         "yaxis": "y"
        },
        {
         "hoverinfo": "text",
         "marker": {
          "color": "rgb(35,205,205)"
         },
         "mode": "lines",
         "type": "scatter",
         "x": [
          -5.196152422706632,
          -12.12435565298214,
          -12.12435565298214,
          -5.196152422706632
         ],
         "xaxis": "x",
         "y": [
          910,
          910,
          950,
          950
         ],
         "yaxis": "y"
        },
        {
         "hoverinfo": "text",
         "marker": {
          "color": "rgb(35,205,205)"
         },
         "mode": "lines",
         "type": "scatter",
         "x": [
          -9.9498743710662,
          -24.372115213907882,
          -24.372115213907882,
          -12.12435565298214
         ],
         "xaxis": "x",
         "y": [
          855,
          855,
          930,
          930
         ],
         "yaxis": "y"
        },
        {
         "hoverinfo": "text",
         "marker": {
          "color": "rgb(35,205,205)"
         },
         "mode": "lines",
         "type": "scatter",
         "x": [
          -16.186414056238647,
          -42.91852746774987,
          -42.91852746774987,
          -24.372115213907882
         ],
         "xaxis": "x",
         "y": [
          766.875,
          766.875,
          892.5,
          892.5
         ],
         "yaxis": "y"
        },
        {
         "hoverinfo": "text",
         "marker": {
          "color": "rgb(35,205,205)"
         },
         "mode": "lines",
         "type": "scatter",
         "x": [
          0,
          -1.7320508075688772,
          -1.7320508075688772,
          0
         ],
         "xaxis": "x",
         "y": [
          985,
          985,
          995,
          995
         ],
         "yaxis": "y"
        },
        {
         "hoverinfo": "text",
         "marker": {
          "color": "rgb(35,205,205)"
         },
         "mode": "lines",
         "type": "scatter",
         "x": [
          0,
          -3.4641016151377544,
          -3.4641016151377544,
          -1.7320508075688772
         ],
         "xaxis": "x",
         "y": [
          975,
          975,
          990,
          990
         ],
         "yaxis": "y"
        },
        {
         "hoverinfo": "text",
         "marker": {
          "color": "rgb(35,205,205)"
         },
         "mode": "lines",
         "type": "scatter",
         "x": [
          0,
          -1.7320508075688772,
          -1.7320508075688772,
          0
         ],
         "xaxis": "x",
         "y": [
          1005,
          1005,
          1015,
          1015
         ],
         "yaxis": "y"
        },
        {
         "hoverinfo": "text",
         "marker": {
          "color": "rgb(35,205,205)"
         },
         "mode": "lines",
         "type": "scatter",
         "x": [
          0,
          -1.7320508075688772,
          -1.7320508075688772,
          0
         ],
         "xaxis": "x",
         "y": [
          1025,
          1025,
          1035,
          1035
         ],
         "yaxis": "y"
        },
        {
         "hoverinfo": "text",
         "marker": {
          "color": "rgb(35,205,205)"
         },
         "mode": "lines",
         "type": "scatter",
         "x": [
          -1.7320508075688772,
          -5.196152422706632,
          -5.196152422706632,
          -1.7320508075688772
         ],
         "xaxis": "x",
         "y": [
          1010,
          1010,
          1030,
          1030
         ],
         "yaxis": "y"
        },
        {
         "hoverinfo": "text",
         "marker": {
          "color": "rgb(35,205,205)"
         },
         "mode": "lines",
         "type": "scatter",
         "x": [
          -3.4641016151377544,
          -10.392304845413264,
          -10.392304845413264,
          -5.196152422706632
         ],
         "xaxis": "x",
         "y": [
          982.5,
          982.5,
          1020,
          1020
         ],
         "yaxis": "y"
        },
        {
         "hoverinfo": "text",
         "marker": {
          "color": "rgb(35,205,205)"
         },
         "mode": "lines",
         "type": "scatter",
         "x": [
          0,
          -1.7320508075688772,
          -1.7320508075688772,
          0
         ],
         "xaxis": "x",
         "y": [
          1045,
          1045,
          1055,
          1055
         ],
         "yaxis": "y"
        },
        {
         "hoverinfo": "text",
         "marker": {
          "color": "rgb(35,205,205)"
         },
         "mode": "lines",
         "type": "scatter",
         "x": [
          0,
          -1.7320508075688772,
          -1.7320508075688772,
          0
         ],
         "xaxis": "x",
         "y": [
          1065,
          1065,
          1075,
          1075
         ],
         "yaxis": "y"
        },
        {
         "hoverinfo": "text",
         "marker": {
          "color": "rgb(35,205,205)"
         },
         "mode": "lines",
         "type": "scatter",
         "x": [
          -1.7320508075688772,
          -5.196152422706632,
          -5.196152422706632,
          -1.7320508075688772
         ],
         "xaxis": "x",
         "y": [
          1050,
          1050,
          1070,
          1070
         ],
         "yaxis": "y"
        },
        {
         "hoverinfo": "text",
         "marker": {
          "color": "rgb(35,205,205)"
         },
         "mode": "lines",
         "type": "scatter",
         "x": [
          0,
          -1.7320508075688772,
          -1.7320508075688772,
          0
         ],
         "xaxis": "x",
         "y": [
          1085,
          1085,
          1095,
          1095
         ],
         "yaxis": "y"
        },
        {
         "hoverinfo": "text",
         "marker": {
          "color": "rgb(35,205,205)"
         },
         "mode": "lines",
         "type": "scatter",
         "x": [
          0,
          -1.7320508075688772,
          -1.7320508075688772,
          0
         ],
         "xaxis": "x",
         "y": [
          1105,
          1105,
          1115,
          1115
         ],
         "yaxis": "y"
        },
        {
         "hoverinfo": "text",
         "marker": {
          "color": "rgb(35,205,205)"
         },
         "mode": "lines",
         "type": "scatter",
         "x": [
          -1.7320508075688772,
          -5.196152422706632,
          -5.196152422706632,
          -1.7320508075688772
         ],
         "xaxis": "x",
         "y": [
          1090,
          1090,
          1110,
          1110
         ],
         "yaxis": "y"
        },
        {
         "hoverinfo": "text",
         "marker": {
          "color": "rgb(35,205,205)"
         },
         "mode": "lines",
         "type": "scatter",
         "x": [
          -5.196152422706632,
          -12.12435565298214,
          -12.12435565298214,
          -5.196152422706632
         ],
         "xaxis": "x",
         "y": [
          1060,
          1060,
          1100,
          1100
         ],
         "yaxis": "y"
        },
        {
         "hoverinfo": "text",
         "marker": {
          "color": "rgb(35,205,205)"
         },
         "mode": "lines",
         "type": "scatter",
         "x": [
          -10.392304845413264,
          -24.24871130596428,
          -24.24871130596428,
          -12.12435565298214
         ],
         "xaxis": "x",
         "y": [
          1001.25,
          1001.25,
          1080,
          1080
         ],
         "yaxis": "y"
        },
        {
         "hoverinfo": "text",
         "marker": {
          "color": "rgb(35,205,205)"
         },
         "mode": "lines",
         "type": "scatter",
         "x": [
          0,
          -1.7320508075688772,
          -1.7320508075688772,
          0
         ],
         "xaxis": "x",
         "y": [
          1145,
          1145,
          1155,
          1155
         ],
         "yaxis": "y"
        },
        {
         "hoverinfo": "text",
         "marker": {
          "color": "rgb(35,205,205)"
         },
         "mode": "lines",
         "type": "scatter",
         "x": [
          0,
          -4.123105625617661,
          -4.123105625617661,
          -1.7320508075688772
         ],
         "xaxis": "x",
         "y": [
          1135,
          1135,
          1150,
          1150
         ],
         "yaxis": "y"
        },
        {
         "hoverinfo": "text",
         "marker": {
          "color": "rgb(35,205,205)"
         },
         "mode": "lines",
         "type": "scatter",
         "x": [
          0,
          -8.18535277187245,
          -8.18535277187245,
          -4.123105625617661
         ],
         "xaxis": "x",
         "y": [
          1125,
          1125,
          1142.5,
          1142.5
         ],
         "yaxis": "y"
        },
        {
         "hoverinfo": "text",
         "marker": {
          "color": "rgb(35,205,205)"
         },
         "mode": "lines",
         "type": "scatter",
         "x": [
          0,
          -1.7320508075688772,
          -1.7320508075688772,
          0
         ],
         "xaxis": "x",
         "y": [
          1175,
          1175,
          1185,
          1185
         ],
         "yaxis": "y"
        },
        {
         "hoverinfo": "text",
         "marker": {
          "color": "rgb(35,205,205)"
         },
         "mode": "lines",
         "type": "scatter",
         "x": [
          0,
          -4.898979485566356,
          -4.898979485566356,
          -1.7320508075688772
         ],
         "xaxis": "x",
         "y": [
          1165,
          1165,
          1180,
          1180
         ],
         "yaxis": "y"
        },
        {
         "hoverinfo": "text",
         "marker": {
          "color": "rgb(35,205,205)"
         },
         "mode": "lines",
         "type": "scatter",
         "x": [
          0,
          -1.7320508075688772,
          -1.7320508075688772,
          0
         ],
         "xaxis": "x",
         "y": [
          1195,
          1195,
          1205,
          1205
         ],
         "yaxis": "y"
        },
        {
         "hoverinfo": "text",
         "marker": {
          "color": "rgb(35,205,205)"
         },
         "mode": "lines",
         "type": "scatter",
         "x": [
          0,
          -1.7320508075688772,
          -1.7320508075688772,
          0
         ],
         "xaxis": "x",
         "y": [
          1225,
          1225,
          1235,
          1235
         ],
         "yaxis": "y"
        },
        {
         "hoverinfo": "text",
         "marker": {
          "color": "rgb(35,205,205)"
         },
         "mode": "lines",
         "type": "scatter",
         "x": [
          0,
          -3.4641016151377544,
          -3.4641016151377544,
          -1.7320508075688772
         ],
         "xaxis": "x",
         "y": [
          1215,
          1215,
          1230,
          1230
         ],
         "yaxis": "y"
        },
        {
         "hoverinfo": "text",
         "marker": {
          "color": "rgb(35,205,205)"
         },
         "mode": "lines",
         "type": "scatter",
         "x": [
          -1.7320508075688772,
          -6.928203230275509,
          -6.928203230275509,
          -3.4641016151377544
         ],
         "xaxis": "x",
         "y": [
          1200,
          1200,
          1222.5,
          1222.5
         ],
         "yaxis": "y"
        },
        {
         "hoverinfo": "text",
         "marker": {
          "color": "rgb(35,205,205)"
         },
         "mode": "lines",
         "type": "scatter",
         "x": [
          -4.898979485566356,
          -17.146428199482248,
          -17.146428199482248,
          -6.928203230275509
         ],
         "xaxis": "x",
         "y": [
          1172.5,
          1172.5,
          1211.25,
          1211.25
         ],
         "yaxis": "y"
        },
        {
         "hoverinfo": "text",
         "marker": {
          "color": "rgb(35,205,205)"
         },
         "mode": "lines",
         "type": "scatter",
         "x": [
          -8.18535277187245,
          -29.444863728670914,
          -29.444863728670914,
          -17.146428199482248
         ],
         "xaxis": "x",
         "y": [
          1133.75,
          1133.75,
          1191.875,
          1191.875
         ],
         "yaxis": "y"
        },
        {
         "hoverinfo": "text",
         "marker": {
          "color": "rgb(35,205,205)"
         },
         "mode": "lines",
         "type": "scatter",
         "x": [
          -24.24871130596428,
          -55.072679252057455,
          -55.072679252057455,
          -29.444863728670914
         ],
         "xaxis": "x",
         "y": [
          1040.625,
          1040.625,
          1162.8125,
          1162.8125
         ],
         "yaxis": "y"
        },
        {
         "hoverinfo": "text",
         "marker": {
          "color": "rgb(35,205,205)"
         },
         "mode": "lines",
         "type": "scatter",
         "x": [
          -42.91852746774987,
          -99.498743710662,
          -99.498743710662,
          -55.072679252057455
         ],
         "xaxis": "x",
         "y": [
          829.6875,
          829.6875,
          1101.71875,
          1101.71875
         ],
         "yaxis": "y"
        },
        {
         "hoverinfo": "text",
         "marker": {
          "color": "rgb(35,205,205)"
         },
         "mode": "lines",
         "type": "scatter",
         "x": [
          0,
          -1.7320508075688772,
          -1.7320508075688772,
          0
         ],
         "xaxis": "x",
         "y": [
          1245,
          1245,
          1255,
          1255
         ],
         "yaxis": "y"
        },
        {
         "hoverinfo": "text",
         "marker": {
          "color": "rgb(35,205,205)"
         },
         "mode": "lines",
         "type": "scatter",
         "x": [
          0,
          -1.7320508075688772,
          -1.7320508075688772,
          0
         ],
         "xaxis": "x",
         "y": [
          1265,
          1265,
          1275,
          1275
         ],
         "yaxis": "y"
        },
        {
         "hoverinfo": "text",
         "marker": {
          "color": "rgb(35,205,205)"
         },
         "mode": "lines",
         "type": "scatter",
         "x": [
          -1.7320508075688772,
          -5.196152422706632,
          -5.196152422706632,
          -1.7320508075688772
         ],
         "xaxis": "x",
         "y": [
          1250,
          1250,
          1270,
          1270
         ],
         "yaxis": "y"
        },
        {
         "hoverinfo": "text",
         "marker": {
          "color": "rgb(35,205,205)"
         },
         "mode": "lines",
         "type": "scatter",
         "x": [
          0,
          -1.7320508075688772,
          -1.7320508075688772,
          0
         ],
         "xaxis": "x",
         "y": [
          1285,
          1285,
          1295,
          1295
         ],
         "yaxis": "y"
        },
        {
         "hoverinfo": "text",
         "marker": {
          "color": "rgb(35,205,205)"
         },
         "mode": "lines",
         "type": "scatter",
         "x": [
          0,
          -1.7320508075688772,
          -1.7320508075688772,
          0
         ],
         "xaxis": "x",
         "y": [
          1305,
          1305,
          1315,
          1315
         ],
         "yaxis": "y"
        },
        {
         "hoverinfo": "text",
         "marker": {
          "color": "rgb(35,205,205)"
         },
         "mode": "lines",
         "type": "scatter",
         "x": [
          -1.7320508075688772,
          -5.196152422706632,
          -5.196152422706632,
          -1.7320508075688772
         ],
         "xaxis": "x",
         "y": [
          1290,
          1290,
          1310,
          1310
         ],
         "yaxis": "y"
        },
        {
         "hoverinfo": "text",
         "marker": {
          "color": "rgb(35,205,205)"
         },
         "mode": "lines",
         "type": "scatter",
         "x": [
          0,
          -1.7320508075688772,
          -1.7320508075688772,
          0
         ],
         "xaxis": "x",
         "y": [
          1325,
          1325,
          1335,
          1335
         ],
         "yaxis": "y"
        },
        {
         "hoverinfo": "text",
         "marker": {
          "color": "rgb(35,205,205)"
         },
         "mode": "lines",
         "type": "scatter",
         "x": [
          0,
          -1.7320508075688772,
          -1.7320508075688772,
          0
         ],
         "xaxis": "x",
         "y": [
          1345,
          1345,
          1355,
          1355
         ],
         "yaxis": "y"
        },
        {
         "hoverinfo": "text",
         "marker": {
          "color": "rgb(35,205,205)"
         },
         "mode": "lines",
         "type": "scatter",
         "x": [
          -1.7320508075688772,
          -5.196152422706632,
          -5.196152422706632,
          -1.7320508075688772
         ],
         "xaxis": "x",
         "y": [
          1330,
          1330,
          1350,
          1350
         ],
         "yaxis": "y"
        },
        {
         "hoverinfo": "text",
         "marker": {
          "color": "rgb(35,205,205)"
         },
         "mode": "lines",
         "type": "scatter",
         "x": [
          -5.196152422706632,
          -12.12435565298214,
          -12.12435565298214,
          -5.196152422706632
         ],
         "xaxis": "x",
         "y": [
          1300,
          1300,
          1340,
          1340
         ],
         "yaxis": "y"
        },
        {
         "hoverinfo": "text",
         "marker": {
          "color": "rgb(35,205,205)"
         },
         "mode": "lines",
         "type": "scatter",
         "x": [
          -5.196152422706632,
          -19.05255888325765,
          -19.05255888325765,
          -12.12435565298214
         ],
         "xaxis": "x",
         "y": [
          1260,
          1260,
          1320,
          1320
         ],
         "yaxis": "y"
        },
        {
         "hoverinfo": "text",
         "marker": {
          "color": "rgb(35,205,205)"
         },
         "mode": "lines",
         "type": "scatter",
         "x": [
          0,
          -1.7320508075688772,
          -1.7320508075688772,
          0
         ],
         "xaxis": "x",
         "y": [
          1375,
          1375,
          1385,
          1385
         ],
         "yaxis": "y"
        },
        {
         "hoverinfo": "text",
         "marker": {
          "color": "rgb(35,205,205)"
         },
         "mode": "lines",
         "type": "scatter",
         "x": [
          0,
          -4.898979485566356,
          -4.898979485566356,
          -1.7320508075688772
         ],
         "xaxis": "x",
         "y": [
          1365,
          1365,
          1380,
          1380
         ],
         "yaxis": "y"
        },
        {
         "hoverinfo": "text",
         "marker": {
          "color": "rgb(35,205,205)"
         },
         "mode": "lines",
         "type": "scatter",
         "x": [
          0,
          -1.7320508075688772,
          -1.7320508075688772,
          0
         ],
         "xaxis": "x",
         "y": [
          1395,
          1395,
          1405,
          1405
         ],
         "yaxis": "y"
        },
        {
         "hoverinfo": "text",
         "marker": {
          "color": "rgb(35,205,205)"
         },
         "mode": "lines",
         "type": "scatter",
         "x": [
          0,
          -1.7320508075688772,
          -1.7320508075688772,
          0
         ],
         "xaxis": "x",
         "y": [
          1415,
          1415,
          1425,
          1425
         ],
         "yaxis": "y"
        },
        {
         "hoverinfo": "text",
         "marker": {
          "color": "rgb(35,205,205)"
         },
         "mode": "lines",
         "type": "scatter",
         "x": [
          -1.7320508075688772,
          -5.196152422706632,
          -5.196152422706632,
          -1.7320508075688772
         ],
         "xaxis": "x",
         "y": [
          1400,
          1400,
          1420,
          1420
         ],
         "yaxis": "y"
        },
        {
         "hoverinfo": "text",
         "marker": {
          "color": "rgb(35,205,205)"
         },
         "mode": "lines",
         "type": "scatter",
         "x": [
          -4.898979485566356,
          -11.661903789690601,
          -11.661903789690601,
          -5.196152422706632
         ],
         "xaxis": "x",
         "y": [
          1372.5,
          1372.5,
          1410,
          1410
         ],
         "yaxis": "y"
        },
        {
         "hoverinfo": "text",
         "marker": {
          "color": "rgb(35,205,205)"
         },
         "mode": "lines",
         "type": "scatter",
         "x": [
          0,
          -1.7320508075688772,
          -1.7320508075688772,
          0
         ],
         "xaxis": "x",
         "y": [
          1435,
          1435,
          1445,
          1445
         ],
         "yaxis": "y"
        },
        {
         "hoverinfo": "text",
         "marker": {
          "color": "rgb(35,205,205)"
         },
         "mode": "lines",
         "type": "scatter",
         "x": [
          0,
          -1.7320508075688772,
          -1.7320508075688772,
          0
         ],
         "xaxis": "x",
         "y": [
          1455,
          1455,
          1465,
          1465
         ],
         "yaxis": "y"
        },
        {
         "hoverinfo": "text",
         "marker": {
          "color": "rgb(35,205,205)"
         },
         "mode": "lines",
         "type": "scatter",
         "x": [
          -1.7320508075688772,
          -5.196152422706632,
          -5.196152422706632,
          -1.7320508075688772
         ],
         "xaxis": "x",
         "y": [
          1440,
          1440,
          1460,
          1460
         ],
         "yaxis": "y"
        },
        {
         "hoverinfo": "text",
         "marker": {
          "color": "rgb(35,205,205)"
         },
         "mode": "lines",
         "type": "scatter",
         "x": [
          0,
          -1.7320508075688772,
          -1.7320508075688772,
          0
         ],
         "xaxis": "x",
         "y": [
          1475,
          1475,
          1485,
          1485
         ],
         "yaxis": "y"
        },
        {
         "hoverinfo": "text",
         "marker": {
          "color": "rgb(35,205,205)"
         },
         "mode": "lines",
         "type": "scatter",
         "x": [
          0,
          -1.7320508075688772,
          -1.7320508075688772,
          0
         ],
         "xaxis": "x",
         "y": [
          1495,
          1495,
          1505,
          1505
         ],
         "yaxis": "y"
        },
        {
         "hoverinfo": "text",
         "marker": {
          "color": "rgb(35,205,205)"
         },
         "mode": "lines",
         "type": "scatter",
         "x": [
          -1.7320508075688772,
          -5.196152422706632,
          -5.196152422706632,
          -1.7320508075688772
         ],
         "xaxis": "x",
         "y": [
          1480,
          1480,
          1500,
          1500
         ],
         "yaxis": "y"
        },
        {
         "hoverinfo": "text",
         "marker": {
          "color": "rgb(35,205,205)"
         },
         "mode": "lines",
         "type": "scatter",
         "x": [
          -5.196152422706632,
          -12.12435565298214,
          -12.12435565298214,
          -5.196152422706632
         ],
         "xaxis": "x",
         "y": [
          1450,
          1450,
          1490,
          1490
         ],
         "yaxis": "y"
        },
        {
         "hoverinfo": "text",
         "marker": {
          "color": "rgb(35,205,205)"
         },
         "mode": "lines",
         "type": "scatter",
         "x": [
          -11.661903789690601,
          -25.45584412271571,
          -25.45584412271571,
          -12.12435565298214
         ],
         "xaxis": "x",
         "y": [
          1391.25,
          1391.25,
          1470,
          1470
         ],
         "yaxis": "y"
        },
        {
         "hoverinfo": "text",
         "marker": {
          "color": "rgb(35,205,205)"
         },
         "mode": "lines",
         "type": "scatter",
         "x": [
          -19.05255888325765,
          -46.216880033165374,
          -46.216880033165374,
          -25.45584412271571
         ],
         "xaxis": "x",
         "y": [
          1290,
          1290,
          1430.625,
          1430.625
         ],
         "yaxis": "y"
        },
        {
         "hoverinfo": "text",
         "marker": {
          "color": "rgb(35,205,205)"
         },
         "mode": "lines",
         "type": "scatter",
         "x": [
          0,
          -7.669862334736658,
          -7.669862334736658,
          0
         ],
         "xaxis": "x",
         "y": [
          1535,
          1535,
          1545,
          1545
         ],
         "yaxis": "y"
        },
        {
         "hoverinfo": "text",
         "marker": {
          "color": "rgb(35,205,205)"
         },
         "mode": "lines",
         "type": "scatter",
         "x": [
          0,
          -13.302803498530771,
          -13.302803498530771,
          -7.669862334736658
         ],
         "xaxis": "x",
         "y": [
          1525,
          1525,
          1540,
          1540
         ],
         "yaxis": "y"
        },
        {
         "hoverinfo": "text",
         "marker": {
          "color": "rgb(35,205,205)"
         },
         "mode": "lines",
         "type": "scatter",
         "x": [
          0,
          -17.38976638272064,
          -17.38976638272064,
          -13.302803498530771
         ],
         "xaxis": "x",
         "y": [
          1515,
          1515,
          1532.5,
          1532.5
         ],
         "yaxis": "y"
        },
        {
         "hoverinfo": "text",
         "marker": {
          "color": "rgb(35,205,205)"
         },
         "mode": "lines",
         "type": "scatter",
         "x": [
          0,
          -19.214662768472476,
          -19.214662768472476,
          0
         ],
         "xaxis": "x",
         "y": [
          1565,
          1565,
          1575,
          1575
         ],
         "yaxis": "y"
        },
        {
         "hoverinfo": "text",
         "marker": {
          "color": "rgb(35,205,205)"
         },
         "mode": "lines",
         "type": "scatter",
         "x": [
          0,
          -22.86654104134741,
          -22.86654104134741,
          -19.214662768472476
         ],
         "xaxis": "x",
         "y": [
          1555,
          1555,
          1570,
          1570
         ],
         "yaxis": "y"
        },
        {
         "hoverinfo": "text",
         "marker": {
          "color": "rgb(35,205,205)"
         },
         "mode": "lines",
         "type": "scatter",
         "x": [
          -17.38976638272064,
          -48.06589813237244,
          -48.06589813237244,
          -22.86654104134741
         ],
         "xaxis": "x",
         "y": [
          1523.75,
          1523.75,
          1562.5,
          1562.5
         ],
         "yaxis": "y"
        },
        {
         "hoverinfo": "text",
         "marker": {
          "color": "rgb(35,205,205)"
         },
         "mode": "lines",
         "type": "scatter",
         "x": [
          0,
          -1.7320508075688772,
          -1.7320508075688772,
          0
         ],
         "xaxis": "x",
         "y": [
          1585,
          1585,
          1595,
          1595
         ],
         "yaxis": "y"
        },
        {
         "hoverinfo": "text",
         "marker": {
          "color": "rgb(35,205,205)"
         },
         "mode": "lines",
         "type": "scatter",
         "x": [
          0,
          -1.7320508075688772,
          -1.7320508075688772,
          0
         ],
         "xaxis": "x",
         "y": [
          1615,
          1615,
          1625,
          1625
         ],
         "yaxis": "y"
        },
        {
         "hoverinfo": "text",
         "marker": {
          "color": "rgb(35,205,205)"
         },
         "mode": "lines",
         "type": "scatter",
         "x": [
          0,
          -3.4641016151377544,
          -3.4641016151377544,
          -1.7320508075688772
         ],
         "xaxis": "x",
         "y": [
          1605,
          1605,
          1620,
          1620
         ],
         "yaxis": "y"
        },
        {
         "hoverinfo": "text",
         "marker": {
          "color": "rgb(35,205,205)"
         },
         "mode": "lines",
         "type": "scatter",
         "x": [
          -1.7320508075688772,
          -9,
          -9,
          -3.4641016151377544
         ],
         "xaxis": "x",
         "y": [
          1590,
          1590,
          1612.5,
          1612.5
         ],
         "yaxis": "y"
        },
        {
         "hoverinfo": "text",
         "marker": {
          "color": "rgb(35,205,205)"
         },
         "mode": "lines",
         "type": "scatter",
         "x": [
          0,
          -1.7320508075688772,
          -1.7320508075688772,
          0
         ],
         "xaxis": "x",
         "y": [
          1645,
          1645,
          1655,
          1655
         ],
         "yaxis": "y"
        },
        {
         "hoverinfo": "text",
         "marker": {
          "color": "rgb(35,205,205)"
         },
         "mode": "lines",
         "type": "scatter",
         "x": [
          0,
          -4.898979485566356,
          -4.898979485566356,
          -1.7320508075688772
         ],
         "xaxis": "x",
         "y": [
          1635,
          1635,
          1650,
          1650
         ],
         "yaxis": "y"
        },
        {
         "hoverinfo": "text",
         "marker": {
          "color": "rgb(35,205,205)"
         },
         "mode": "lines",
         "type": "scatter",
         "x": [
          0,
          -1.7320508075688772,
          -1.7320508075688772,
          0
         ],
         "xaxis": "x",
         "y": [
          1665,
          1665,
          1675,
          1675
         ],
         "yaxis": "y"
        },
        {
         "hoverinfo": "text",
         "marker": {
          "color": "rgb(35,205,205)"
         },
         "mode": "lines",
         "type": "scatter",
         "x": [
          0,
          -1.7320508075688772,
          -1.7320508075688772,
          0
         ],
         "xaxis": "x",
         "y": [
          1685,
          1685,
          1695,
          1695
         ],
         "yaxis": "y"
        },
        {
         "hoverinfo": "text",
         "marker": {
          "color": "rgb(35,205,205)"
         },
         "mode": "lines",
         "type": "scatter",
         "x": [
          -1.7320508075688772,
          -5.196152422706632,
          -5.196152422706632,
          -1.7320508075688772
         ],
         "xaxis": "x",
         "y": [
          1670,
          1670,
          1690,
          1690
         ],
         "yaxis": "y"
        },
        {
         "hoverinfo": "text",
         "marker": {
          "color": "rgb(35,205,205)"
         },
         "mode": "lines",
         "type": "scatter",
         "x": [
          -4.898979485566356,
          -11.661903789690601,
          -11.661903789690601,
          -5.196152422706632
         ],
         "xaxis": "x",
         "y": [
          1642.5,
          1642.5,
          1680,
          1680
         ],
         "yaxis": "y"
        },
        {
         "hoverinfo": "text",
         "marker": {
          "color": "rgb(35,205,205)"
         },
         "mode": "lines",
         "type": "scatter",
         "x": [
          -9,
          -22.315913604421397,
          -22.315913604421397,
          -11.661903789690601
         ],
         "xaxis": "x",
         "y": [
          1601.25,
          1601.25,
          1661.25,
          1661.25
         ],
         "yaxis": "y"
        },
        {
         "hoverinfo": "text",
         "marker": {
          "color": "rgb(35,205,205)"
         },
         "mode": "lines",
         "type": "scatter",
         "x": [
          0,
          -1.7320508075688772,
          -1.7320508075688772,
          0
         ],
         "xaxis": "x",
         "y": [
          1705,
          1705,
          1715,
          1715
         ],
         "yaxis": "y"
        },
        {
         "hoverinfo": "text",
         "marker": {
          "color": "rgb(35,205,205)"
         },
         "mode": "lines",
         "type": "scatter",
         "x": [
          0,
          -1.7320508075688772,
          -1.7320508075688772,
          0
         ],
         "xaxis": "x",
         "y": [
          1725,
          1725,
          1735,
          1735
         ],
         "yaxis": "y"
        },
        {
         "hoverinfo": "text",
         "marker": {
          "color": "rgb(35,205,205)"
         },
         "mode": "lines",
         "type": "scatter",
         "x": [
          -1.7320508075688772,
          -5.196152422706632,
          -5.196152422706632,
          -1.7320508075688772
         ],
         "xaxis": "x",
         "y": [
          1710,
          1710,
          1730,
          1730
         ],
         "yaxis": "y"
        },
        {
         "hoverinfo": "text",
         "marker": {
          "color": "rgb(35,205,205)"
         },
         "mode": "lines",
         "type": "scatter",
         "x": [
          0,
          -1.7320508075688772,
          -1.7320508075688772,
          0
         ],
         "xaxis": "x",
         "y": [
          1745,
          1745,
          1755,
          1755
         ],
         "yaxis": "y"
        },
        {
         "hoverinfo": "text",
         "marker": {
          "color": "rgb(35,205,205)"
         },
         "mode": "lines",
         "type": "scatter",
         "x": [
          0,
          -1.7320508075688772,
          -1.7320508075688772,
          0
         ],
         "xaxis": "x",
         "y": [
          1775,
          1775,
          1785,
          1785
         ],
         "yaxis": "y"
        },
        {
         "hoverinfo": "text",
         "marker": {
          "color": "rgb(35,205,205)"
         },
         "mode": "lines",
         "type": "scatter",
         "x": [
          0,
          -3.4641016151377544,
          -3.4641016151377544,
          -1.7320508075688772
         ],
         "xaxis": "x",
         "y": [
          1765,
          1765,
          1780,
          1780
         ],
         "yaxis": "y"
        },
        {
         "hoverinfo": "text",
         "marker": {
          "color": "rgb(35,205,205)"
         },
         "mode": "lines",
         "type": "scatter",
         "x": [
          -1.7320508075688772,
          -6.928203230275509,
          -6.928203230275509,
          -3.4641016151377544
         ],
         "xaxis": "x",
         "y": [
          1750,
          1750,
          1772.5,
          1772.5
         ],
         "yaxis": "y"
        },
        {
         "hoverinfo": "text",
         "marker": {
          "color": "rgb(35,205,205)"
         },
         "mode": "lines",
         "type": "scatter",
         "x": [
          -5.196152422706632,
          -15.7797338380595,
          -15.7797338380595,
          -6.928203230275509
         ],
         "xaxis": "x",
         "y": [
          1720,
          1720,
          1761.25,
          1761.25
         ],
         "yaxis": "y"
        },
        {
         "hoverinfo": "text",
         "marker": {
          "color": "rgb(35,205,205)"
         },
         "mode": "lines",
         "type": "scatter",
         "x": [
          0,
          -1.7320508075688772,
          -1.7320508075688772,
          0
         ],
         "xaxis": "x",
         "y": [
          1795,
          1795,
          1805,
          1805
         ],
         "yaxis": "y"
        },
        {
         "hoverinfo": "text",
         "marker": {
          "color": "rgb(35,205,205)"
         },
         "mode": "lines",
         "type": "scatter",
         "x": [
          0,
          -1.7320508075688772,
          -1.7320508075688772,
          0
         ],
         "xaxis": "x",
         "y": [
          1815,
          1815,
          1825,
          1825
         ],
         "yaxis": "y"
        },
        {
         "hoverinfo": "text",
         "marker": {
          "color": "rgb(35,205,205)"
         },
         "mode": "lines",
         "type": "scatter",
         "x": [
          -1.7320508075688772,
          -5.196152422706632,
          -5.196152422706632,
          -1.7320508075688772
         ],
         "xaxis": "x",
         "y": [
          1800,
          1800,
          1820,
          1820
         ],
         "yaxis": "y"
        },
        {
         "hoverinfo": "text",
         "marker": {
          "color": "rgb(35,205,205)"
         },
         "mode": "lines",
         "type": "scatter",
         "x": [
          0,
          -1.7320508075688772,
          -1.7320508075688772,
          0
         ],
         "xaxis": "x",
         "y": [
          1835,
          1835,
          1845,
          1845
         ],
         "yaxis": "y"
        },
        {
         "hoverinfo": "text",
         "marker": {
          "color": "rgb(35,205,205)"
         },
         "mode": "lines",
         "type": "scatter",
         "x": [
          0,
          -1.7320508075688772,
          -1.7320508075688772,
          0
         ],
         "xaxis": "x",
         "y": [
          1865,
          1865,
          1875,
          1875
         ],
         "yaxis": "y"
        },
        {
         "hoverinfo": "text",
         "marker": {
          "color": "rgb(35,205,205)"
         },
         "mode": "lines",
         "type": "scatter",
         "x": [
          0,
          -3.4641016151377544,
          -3.4641016151377544,
          -1.7320508075688772
         ],
         "xaxis": "x",
         "y": [
          1855,
          1855,
          1870,
          1870
         ],
         "yaxis": "y"
        },
        {
         "hoverinfo": "text",
         "marker": {
          "color": "rgb(35,205,205)"
         },
         "mode": "lines",
         "type": "scatter",
         "x": [
          -1.7320508075688772,
          -6.928203230275509,
          -6.928203230275509,
          -3.4641016151377544
         ],
         "xaxis": "x",
         "y": [
          1840,
          1840,
          1862.5,
          1862.5
         ],
         "yaxis": "y"
        },
        {
         "hoverinfo": "text",
         "marker": {
          "color": "rgb(35,205,205)"
         },
         "mode": "lines",
         "type": "scatter",
         "x": [
          -5.196152422706632,
          -13.856406460551018,
          -13.856406460551018,
          -6.928203230275509
         ],
         "xaxis": "x",
         "y": [
          1810,
          1810,
          1851.25,
          1851.25
         ],
         "yaxis": "y"
        },
        {
         "hoverinfo": "text",
         "marker": {
          "color": "rgb(35,205,205)"
         },
         "mode": "lines",
         "type": "scatter",
         "x": [
          0,
          -1.7320508075688772,
          -1.7320508075688772,
          0
         ],
         "xaxis": "x",
         "y": [
          1885,
          1885,
          1895,
          1895
         ],
         "yaxis": "y"
        },
        {
         "hoverinfo": "text",
         "marker": {
          "color": "rgb(35,205,205)"
         },
         "mode": "lines",
         "type": "scatter",
         "x": [
          0,
          -1.7320508075688772,
          -1.7320508075688772,
          0
         ],
         "xaxis": "x",
         "y": [
          1905,
          1905,
          1915,
          1915
         ],
         "yaxis": "y"
        },
        {
         "hoverinfo": "text",
         "marker": {
          "color": "rgb(35,205,205)"
         },
         "mode": "lines",
         "type": "scatter",
         "x": [
          -1.7320508075688772,
          -5.196152422706632,
          -5.196152422706632,
          -1.7320508075688772
         ],
         "xaxis": "x",
         "y": [
          1890,
          1890,
          1910,
          1910
         ],
         "yaxis": "y"
        },
        {
         "hoverinfo": "text",
         "marker": {
          "color": "rgb(35,205,205)"
         },
         "mode": "lines",
         "type": "scatter",
         "x": [
          0,
          -1.7320508075688772,
          -1.7320508075688772,
          0
         ],
         "xaxis": "x",
         "y": [
          1925,
          1925,
          1935,
          1935
         ],
         "yaxis": "y"
        },
        {
         "hoverinfo": "text",
         "marker": {
          "color": "rgb(35,205,205)"
         },
         "mode": "lines",
         "type": "scatter",
         "x": [
          0,
          -1.7320508075688772,
          -1.7320508075688772,
          0
         ],
         "xaxis": "x",
         "y": [
          1955,
          1955,
          1965,
          1965
         ],
         "yaxis": "y"
        },
        {
         "hoverinfo": "text",
         "marker": {
          "color": "rgb(35,205,205)"
         },
         "mode": "lines",
         "type": "scatter",
         "x": [
          0,
          -3.4641016151377544,
          -3.4641016151377544,
          -1.7320508075688772
         ],
         "xaxis": "x",
         "y": [
          1945,
          1945,
          1960,
          1960
         ],
         "yaxis": "y"
        },
        {
         "hoverinfo": "text",
         "marker": {
          "color": "rgb(35,205,205)"
         },
         "mode": "lines",
         "type": "scatter",
         "x": [
          -1.7320508075688772,
          -7.54983443527075,
          -7.54983443527075,
          -3.4641016151377544
         ],
         "xaxis": "x",
         "y": [
          1930,
          1930,
          1952.5,
          1952.5
         ],
         "yaxis": "y"
        },
        {
         "hoverinfo": "text",
         "marker": {
          "color": "rgb(35,205,205)"
         },
         "mode": "lines",
         "type": "scatter",
         "x": [
          -5.196152422706632,
          -14.45683229480096,
          -14.45683229480096,
          -7.54983443527075
         ],
         "xaxis": "x",
         "y": [
          1900,
          1900,
          1941.25,
          1941.25
         ],
         "yaxis": "y"
        },
        {
         "hoverinfo": "text",
         "marker": {
          "color": "rgb(35,205,205)"
         },
         "mode": "lines",
         "type": "scatter",
         "x": [
          -13.856406460551018,
          -30.643106892089126,
          -30.643106892089126,
          -14.45683229480096
         ],
         "xaxis": "x",
         "y": [
          1830.625,
          1830.625,
          1920.625,
          1920.625
         ],
         "yaxis": "y"
        },
        {
         "hoverinfo": "text",
         "marker": {
          "color": "rgb(35,205,205)"
         },
         "mode": "lines",
         "type": "scatter",
         "x": [
          -15.7797338380595,
          -48.744230427815765,
          -48.744230427815765,
          -30.643106892089126
         ],
         "xaxis": "x",
         "y": [
          1740.625,
          1740.625,
          1875.625,
          1875.625
         ],
         "yaxis": "y"
        },
        {
         "hoverinfo": "text",
         "marker": {
          "color": "rgb(35,205,205)"
         },
         "mode": "lines",
         "type": "scatter",
         "x": [
          -22.315913604421397,
          -73.40299721401027,
          -73.40299721401027,
          -48.744230427815765
         ],
         "xaxis": "x",
         "y": [
          1631.25,
          1631.25,
          1808.125,
          1808.125
         ],
         "yaxis": "y"
        },
        {
         "hoverinfo": "text",
         "marker": {
          "color": "rgb(35,205,205)"
         },
         "mode": "lines",
         "type": "scatter",
         "x": [
          -48.06589813237244,
          -122.4675562905922,
          -122.4675562905922,
          -73.40299721401027
         ],
         "xaxis": "x",
         "y": [
          1543.125,
          1543.125,
          1719.6875,
          1719.6875
         ],
         "yaxis": "y"
        },
        {
         "hoverinfo": "text",
         "marker": {
          "color": "rgb(35,205,205)"
         },
         "mode": "lines",
         "type": "scatter",
         "x": [
          -46.216880033165374,
          -148.96074094804095,
          -148.96074094804095,
          -122.4675562905922
         ],
         "xaxis": "x",
         "y": [
          1360.3125,
          1360.3125,
          1631.40625,
          1631.40625
         ],
         "yaxis": "y"
        },
        {
         "hoverinfo": "text",
         "marker": {
          "color": "rgb(35,205,205)"
         },
         "mode": "lines",
         "type": "scatter",
         "x": [
          -99.498743710662,
          -234.09613409879285,
          -234.09613409879285,
          -148.96074094804095
         ],
         "xaxis": "x",
         "y": [
          965.703125,
          965.703125,
          1495.859375,
          1495.859375
         ],
         "yaxis": "y"
        },
        {
         "hoverinfo": "text",
         "marker": {
          "color": "rgb(35,205,205)"
         },
         "mode": "lines",
         "type": "scatter",
         "x": [
          0,
          -13.865946112018031,
          -13.865946112018031,
          0
         ],
         "xaxis": "x",
         "y": [
          1985,
          1985,
          1995,
          1995
         ],
         "yaxis": "y"
        },
        {
         "hoverinfo": "text",
         "marker": {
          "color": "rgb(35,205,205)"
         },
         "mode": "lines",
         "type": "scatter",
         "x": [
          0,
          -25.846390818977934,
          -25.846390818977934,
          -13.865946112018031
         ],
         "xaxis": "x",
         "y": [
          1975,
          1975,
          1990,
          1990
         ],
         "yaxis": "y"
        },
        {
         "hoverinfo": "text",
         "marker": {
          "color": "rgb(35,205,205)"
         },
         "mode": "lines",
         "type": "scatter",
         "x": [
          0,
          -12.08797705748996,
          -12.08797705748996,
          0
         ],
         "xaxis": "x",
         "y": [
          2015,
          2015,
          2025,
          2025
         ],
         "yaxis": "y"
        },
        {
         "hoverinfo": "text",
         "marker": {
          "color": "rgb(35,205,205)"
         },
         "mode": "lines",
         "type": "scatter",
         "x": [
          0,
          -27.11615321733749,
          -27.11615321733749,
          -12.08797705748996
         ],
         "xaxis": "x",
         "y": [
          2005,
          2005,
          2020,
          2020
         ],
         "yaxis": "y"
        },
        {
         "hoverinfo": "text",
         "marker": {
          "color": "rgb(35,205,205)"
         },
         "mode": "lines",
         "type": "scatter",
         "x": [
          -25.846390818977934,
          -51.06664762836895,
          -51.06664762836895,
          -27.11615321733749
         ],
         "xaxis": "x",
         "y": [
          1982.5,
          1982.5,
          2012.5,
          2012.5
         ],
         "yaxis": "y"
        },
        {
         "hoverinfo": "text",
         "marker": {
          "color": "rgb(35,205,205)"
         },
         "mode": "lines",
         "type": "scatter",
         "x": [
          0,
          -3.923011939280439,
          -3.923011939280439,
          0
         ],
         "xaxis": "x",
         "y": [
          2035,
          2035,
          2045,
          2045
         ],
         "yaxis": "y"
        },
        {
         "hoverinfo": "text",
         "marker": {
          "color": "rgb(35,205,205)"
         },
         "mode": "lines",
         "type": "scatter",
         "x": [
          0,
          -17.56097314438405,
          -17.56097314438405,
          0
         ],
         "xaxis": "x",
         "y": [
          2055,
          2055,
          2065,
          2065
         ],
         "yaxis": "y"
        },
        {
         "hoverinfo": "text",
         "marker": {
          "color": "rgb(35,205,205)"
         },
         "mode": "lines",
         "type": "scatter",
         "x": [
          -3.923011939280439,
          -53.06694859480113,
          -53.06694859480113,
          -17.56097314438405
         ],
         "xaxis": "x",
         "y": [
          2040,
          2040,
          2060,
          2060
         ],
         "yaxis": "y"
        },
        {
         "hoverinfo": "text",
         "marker": {
          "color": "rgb(35,205,205)"
         },
         "mode": "lines",
         "type": "scatter",
         "x": [
          0,
          -22.84500670219272,
          -22.84500670219272,
          0
         ],
         "xaxis": "x",
         "y": [
          2075,
          2075,
          2085,
          2085
         ],
         "yaxis": "y"
        },
        {
         "hoverinfo": "text",
         "marker": {
          "color": "rgb(35,205,205)"
         },
         "mode": "lines",
         "type": "scatter",
         "x": [
          0,
          -17.212549039893634,
          -17.212549039893634,
          0
         ],
         "xaxis": "x",
         "y": [
          2105,
          2105,
          2115,
          2115
         ],
         "yaxis": "y"
        },
        {
         "hoverinfo": "text",
         "marker": {
          "color": "rgb(35,205,205)"
         },
         "mode": "lines",
         "type": "scatter",
         "x": [
          0,
          -30.10272537003844,
          -30.10272537003844,
          -17.212549039893634
         ],
         "xaxis": "x",
         "y": [
          2095,
          2095,
          2110,
          2110
         ],
         "yaxis": "y"
        },
        {
         "hoverinfo": "text",
         "marker": {
          "color": "rgb(35,205,205)"
         },
         "mode": "lines",
         "type": "scatter",
         "x": [
          -22.84500670219272,
          -64.44616326193263,
          -64.44616326193263,
          -30.10272537003844
         ],
         "xaxis": "x",
         "y": [
          2080,
          2080,
          2102.5,
          2102.5
         ],
         "yaxis": "y"
        },
        {
         "hoverinfo": "text",
         "marker": {
          "color": "rgb(35,205,205)"
         },
         "mode": "lines",
         "type": "scatter",
         "x": [
          -53.06694859480113,
          -97.35168995405812,
          -97.35168995405812,
          -64.44616326193263
         ],
         "xaxis": "x",
         "y": [
          2050,
          2050,
          2091.25,
          2091.25
         ],
         "yaxis": "y"
        },
        {
         "hoverinfo": "text",
         "marker": {
          "color": "rgb(35,205,205)"
         },
         "mode": "lines",
         "type": "scatter",
         "x": [
          -51.06664762836895,
          -144.7833569827129,
          -144.7833569827129,
          -97.35168995405812
         ],
         "xaxis": "x",
         "y": [
          1997.5,
          1997.5,
          2070.625,
          2070.625
         ],
         "yaxis": "y"
        },
        {
         "hoverinfo": "text",
         "marker": {
          "color": "rgb(35,205,205)"
         },
         "mode": "lines",
         "type": "scatter",
         "x": [
          0,
          -5.923761887557492,
          -5.923761887557492,
          0
         ],
         "xaxis": "x",
         "y": [
          2145,
          2145,
          2155,
          2155
         ],
         "yaxis": "y"
        },
        {
         "hoverinfo": "text",
         "marker": {
          "color": "rgb(35,205,205)"
         },
         "mode": "lines",
         "type": "scatter",
         "x": [
          0,
          -21.98962607072732,
          -21.98962607072732,
          -5.923761887557492
         ],
         "xaxis": "x",
         "y": [
          2135,
          2135,
          2150,
          2150
         ],
         "yaxis": "y"
        },
        {
         "hoverinfo": "text",
         "marker": {
          "color": "rgb(35,205,205)"
         },
         "mode": "lines",
         "type": "scatter",
         "x": [
          0,
          -36.70896526284736,
          -36.70896526284736,
          -21.98962607072732
         ],
         "xaxis": "x",
         "y": [
          2125,
          2125,
          2142.5,
          2142.5
         ],
         "yaxis": "y"
        },
        {
         "hoverinfo": "text",
         "marker": {
          "color": "rgb(35,205,205)"
         },
         "mode": "lines",
         "type": "scatter",
         "x": [
          0,
          -10.943752359357727,
          -10.943752359357727,
          0
         ],
         "xaxis": "x",
         "y": [
          2165,
          2165,
          2175,
          2175
         ],
         "yaxis": "y"
        },
        {
         "hoverinfo": "text",
         "marker": {
          "color": "rgb(35,205,205)"
         },
         "mode": "lines",
         "type": "scatter",
         "x": [
          0,
          -21.732105145473547,
          -21.732105145473547,
          0
         ],
         "xaxis": "x",
         "y": [
          2185,
          2185,
          2195,
          2195
         ],
         "yaxis": "y"
        },
        {
         "hoverinfo": "text",
         "marker": {
          "color": "rgb(35,205,205)"
         },
         "mode": "lines",
         "type": "scatter",
         "x": [
          -10.943752359357727,
          -68.69352227480788,
          -68.69352227480788,
          -21.732105145473547
         ],
         "xaxis": "x",
         "y": [
          2170,
          2170,
          2190,
          2190
         ],
         "yaxis": "y"
        },
        {
         "hoverinfo": "text",
         "marker": {
          "color": "rgb(35,205,205)"
         },
         "mode": "lines",
         "type": "scatter",
         "x": [
          -36.70896526284736,
          -80.76145117235606,
          -80.76145117235606,
          -68.69352227480788
         ],
         "xaxis": "x",
         "y": [
          2133.75,
          2133.75,
          2180,
          2180
         ],
         "yaxis": "y"
        },
        {
         "hoverinfo": "text",
         "marker": {
          "color": "rgb(35,205,205)"
         },
         "mode": "lines",
         "type": "scatter",
         "x": [
          0,
          -7.260305357740068,
          -7.260305357740068,
          0
         ],
         "xaxis": "x",
         "y": [
          2225,
          2225,
          2235,
          2235
         ],
         "yaxis": "y"
        },
        {
         "hoverinfo": "text",
         "marker": {
          "color": "rgb(35,205,205)"
         },
         "mode": "lines",
         "type": "scatter",
         "x": [
          0,
          -13.076703387523201,
          -13.076703387523201,
          -7.260305357740068
         ],
         "xaxis": "x",
         "y": [
          2215,
          2215,
          2230,
          2230
         ],
         "yaxis": "y"
        },
        {
         "hoverinfo": "text",
         "marker": {
          "color": "rgb(35,205,205)"
         },
         "mode": "lines",
         "type": "scatter",
         "x": [
          0,
          -24.933578458588066,
          -24.933578458588066,
          -13.076703387523201
         ],
         "xaxis": "x",
         "y": [
          2205,
          2205,
          2222.5,
          2222.5
         ],
         "yaxis": "y"
        },
        {
         "hoverinfo": "text",
         "marker": {
          "color": "rgb(35,205,205)"
         },
         "mode": "lines",
         "type": "scatter",
         "x": [
          0,
          -26.168392854367248,
          -26.168392854367248,
          0
         ],
         "xaxis": "x",
         "y": [
          2245,
          2245,
          2255,
          2255
         ],
         "yaxis": "y"
        },
        {
         "hoverinfo": "text",
         "marker": {
          "color": "rgb(35,205,205)"
         },
         "mode": "lines",
         "type": "scatter",
         "x": [
          -24.933578458588066,
          -83.5274316421539,
          -83.5274316421539,
          -26.168392854367248
         ],
         "xaxis": "x",
         "y": [
          2213.75,
          2213.75,
          2250,
          2250
         ],
         "yaxis": "y"
        },
        {
         "hoverinfo": "text",
         "marker": {
          "color": "rgb(35,205,205)"
         },
         "mode": "lines",
         "type": "scatter",
         "x": [
          -80.76145117235606,
          -168.49231195915854,
          -168.49231195915854,
          -83.5274316421539
         ],
         "xaxis": "x",
         "y": [
          2156.875,
          2156.875,
          2231.875,
          2231.875
         ],
         "yaxis": "y"
        },
        {
         "hoverinfo": "text",
         "marker": {
          "color": "rgb(35,205,205)"
         },
         "mode": "lines",
         "type": "scatter",
         "x": [
          -144.7833569827129,
          -257.1427623015698,
          -257.1427623015698,
          -168.49231195915854
         ],
         "xaxis": "x",
         "y": [
          2034.0625,
          2034.0625,
          2194.375,
          2194.375
         ],
         "yaxis": "y"
        },
        {
         "hoverinfo": "text",
         "marker": {
          "color": "rgb(35,205,205)"
         },
         "mode": "lines",
         "type": "scatter",
         "x": [
          -234.09613409879285,
          -345.6252574597295,
          -345.6252574597295,
          -257.1427623015698
         ],
         "xaxis": "x",
         "y": [
          1230.78125,
          1230.78125,
          2114.21875,
          2114.21875
         ],
         "yaxis": "y"
        },
        {
         "hoverinfo": "text",
         "marker": {
          "color": "rgb(35,205,205)"
         },
         "mode": "lines",
         "type": "scatter",
         "x": [
          -202.62647901989513,
          -455.6336494377912,
          -455.6336494377912,
          -345.6252574597295
         ],
         "xaxis": "x",
         "y": [
          606.640625,
          606.640625,
          1672.5,
          1672.5
         ],
         "yaxis": "y"
        },
        {
         "hoverinfo": "text",
         "marker": {
          "color": "rgb(35,205,205)"
         },
         "mode": "lines",
         "type": "scatter",
         "x": [
          0,
          -9.492329478659562,
          -9.492329478659562,
          0
         ],
         "xaxis": "x",
         "y": [
          2275,
          2275,
          2285,
          2285
         ],
         "yaxis": "y"
        },
        {
         "hoverinfo": "text",
         "marker": {
          "color": "rgb(35,205,205)"
         },
         "mode": "lines",
         "type": "scatter",
         "x": [
          0,
          -63.00548519120089,
          -63.00548519120089,
          -9.492329478659562
         ],
         "xaxis": "x",
         "y": [
          2265,
          2265,
          2280,
          2280
         ],
         "yaxis": "y"
        },
        {
         "hoverinfo": "text",
         "marker": {
          "color": "rgb(35,205,205)"
         },
         "mode": "lines",
         "type": "scatter",
         "x": [
          0,
          -32.471045710372664,
          -32.471045710372664,
          0
         ],
         "xaxis": "x",
         "y": [
          2295,
          2295,
          2305,
          2305
         ],
         "yaxis": "y"
        },
        {
         "hoverinfo": "text",
         "marker": {
          "color": "rgb(35,205,205)"
         },
         "mode": "lines",
         "type": "scatter",
         "x": [
          0,
          -26.868818410525197,
          -26.868818410525197,
          0
         ],
         "xaxis": "x",
         "y": [
          2325,
          2325,
          2335,
          2335
         ],
         "yaxis": "y"
        },
        {
         "hoverinfo": "text",
         "marker": {
          "color": "rgb(35,205,205)"
         },
         "mode": "lines",
         "type": "scatter",
         "x": [
          0,
          -37.07340108354283,
          -37.07340108354283,
          -26.868818410525197
         ],
         "xaxis": "x",
         "y": [
          2315,
          2315,
          2330,
          2330
         ],
         "yaxis": "y"
        },
        {
         "hoverinfo": "text",
         "marker": {
          "color": "rgb(35,205,205)"
         },
         "mode": "lines",
         "type": "scatter",
         "x": [
          -32.471045710372664,
          -109.43645716060163,
          -109.43645716060163,
          -37.07340108354283
         ],
         "xaxis": "x",
         "y": [
          2300,
          2300,
          2322.5,
          2322.5
         ],
         "yaxis": "y"
        },
        {
         "hoverinfo": "text",
         "marker": {
          "color": "rgb(35,205,205)"
         },
         "mode": "lines",
         "type": "scatter",
         "x": [
          -63.00548519120089,
          -191.57140701917885,
          -191.57140701917885,
          -109.43645716060163
         ],
         "xaxis": "x",
         "y": [
          2272.5,
          2272.5,
          2311.25,
          2311.25
         ],
         "yaxis": "y"
        },
        {
         "hoverinfo": "text",
         "marker": {
          "color": "rgb(35,205,205)"
         },
         "mode": "lines",
         "type": "scatter",
         "x": [
          0,
          -1.7320508075688772,
          -1.7320508075688772,
          0
         ],
         "xaxis": "x",
         "y": [
          2345,
          2345,
          2355,
          2355
         ],
         "yaxis": "y"
        },
        {
         "hoverinfo": "text",
         "marker": {
          "color": "rgb(35,205,205)"
         },
         "mode": "lines",
         "type": "scatter",
         "x": [
          0,
          -1.7320508075688772,
          -1.7320508075688772,
          0
         ],
         "xaxis": "x",
         "y": [
          2365,
          2365,
          2375,
          2375
         ],
         "yaxis": "y"
        },
        {
         "hoverinfo": "text",
         "marker": {
          "color": "rgb(35,205,205)"
         },
         "mode": "lines",
         "type": "scatter",
         "x": [
          -1.7320508075688772,
          -5.196152422706632,
          -5.196152422706632,
          -1.7320508075688772
         ],
         "xaxis": "x",
         "y": [
          2350,
          2350,
          2370,
          2370
         ],
         "yaxis": "y"
        },
        {
         "hoverinfo": "text",
         "marker": {
          "color": "rgb(35,205,205)"
         },
         "mode": "lines",
         "type": "scatter",
         "x": [
          0,
          -1.7320508075688772,
          -1.7320508075688772,
          0
         ],
         "xaxis": "x",
         "y": [
          2385,
          2385,
          2395,
          2395
         ],
         "yaxis": "y"
        },
        {
         "hoverinfo": "text",
         "marker": {
          "color": "rgb(35,205,205)"
         },
         "mode": "lines",
         "type": "scatter",
         "x": [
          0,
          -1.7320508075688772,
          -1.7320508075688772,
          0
         ],
         "xaxis": "x",
         "y": [
          2405,
          2405,
          2415,
          2415
         ],
         "yaxis": "y"
        },
        {
         "hoverinfo": "text",
         "marker": {
          "color": "rgb(35,205,205)"
         },
         "mode": "lines",
         "type": "scatter",
         "x": [
          -1.7320508075688772,
          -5.196152422706632,
          -5.196152422706632,
          -1.7320508075688772
         ],
         "xaxis": "x",
         "y": [
          2390,
          2390,
          2410,
          2410
         ],
         "yaxis": "y"
        },
        {
         "hoverinfo": "text",
         "marker": {
          "color": "rgb(35,205,205)"
         },
         "mode": "lines",
         "type": "scatter",
         "x": [
          -5.196152422706632,
          -12.12435565298214,
          -12.12435565298214,
          -5.196152422706632
         ],
         "xaxis": "x",
         "y": [
          2360,
          2360,
          2400,
          2400
         ],
         "yaxis": "y"
        },
        {
         "hoverinfo": "text",
         "marker": {
          "color": "rgb(35,205,205)"
         },
         "mode": "lines",
         "type": "scatter",
         "x": [
          0,
          -1.7320508075688772,
          -1.7320508075688772,
          0
         ],
         "xaxis": "x",
         "y": [
          2425,
          2425,
          2435,
          2435
         ],
         "yaxis": "y"
        },
        {
         "hoverinfo": "text",
         "marker": {
          "color": "rgb(35,205,205)"
         },
         "mode": "lines",
         "type": "scatter",
         "x": [
          0,
          -1.7320508075688772,
          -1.7320508075688772,
          0
         ],
         "xaxis": "x",
         "y": [
          2445,
          2445,
          2455,
          2455
         ],
         "yaxis": "y"
        },
        {
         "hoverinfo": "text",
         "marker": {
          "color": "rgb(35,205,205)"
         },
         "mode": "lines",
         "type": "scatter",
         "x": [
          -1.7320508075688772,
          -5.196152422706632,
          -5.196152422706632,
          -1.7320508075688772
         ],
         "xaxis": "x",
         "y": [
          2430,
          2430,
          2450,
          2450
         ],
         "yaxis": "y"
        },
        {
         "hoverinfo": "text",
         "marker": {
          "color": "rgb(35,205,205)"
         },
         "mode": "lines",
         "type": "scatter",
         "x": [
          0,
          -1.7320508075688772,
          -1.7320508075688772,
          0
         ],
         "xaxis": "x",
         "y": [
          2465,
          2465,
          2475,
          2475
         ],
         "yaxis": "y"
        },
        {
         "hoverinfo": "text",
         "marker": {
          "color": "rgb(35,205,205)"
         },
         "mode": "lines",
         "type": "scatter",
         "x": [
          0,
          -1.7320508075688772,
          -1.7320508075688772,
          0
         ],
         "xaxis": "x",
         "y": [
          2485,
          2485,
          2495,
          2495
         ],
         "yaxis": "y"
        },
        {
         "hoverinfo": "text",
         "marker": {
          "color": "rgb(35,205,205)"
         },
         "mode": "lines",
         "type": "scatter",
         "x": [
          -1.7320508075688772,
          -5.196152422706632,
          -5.196152422706632,
          -1.7320508075688772
         ],
         "xaxis": "x",
         "y": [
          2470,
          2470,
          2490,
          2490
         ],
         "yaxis": "y"
        },
        {
         "hoverinfo": "text",
         "marker": {
          "color": "rgb(35,205,205)"
         },
         "mode": "lines",
         "type": "scatter",
         "x": [
          -5.196152422706632,
          -12.727922061357855,
          -12.727922061357855,
          -5.196152422706632
         ],
         "xaxis": "x",
         "y": [
          2440,
          2440,
          2480,
          2480
         ],
         "yaxis": "y"
        },
        {
         "hoverinfo": "text",
         "marker": {
          "color": "rgb(35,205,205)"
         },
         "mode": "lines",
         "type": "scatter",
         "x": [
          -12.12435565298214,
          -26.570660511172846,
          -26.570660511172846,
          -12.727922061357855
         ],
         "xaxis": "x",
         "y": [
          2380,
          2380,
          2460,
          2460
         ],
         "yaxis": "y"
        },
        {
         "hoverinfo": "text",
         "marker": {
          "color": "rgb(35,205,205)"
         },
         "mode": "lines",
         "type": "scatter",
         "x": [
          0,
          -1.7320508075688772,
          -1.7320508075688772,
          0
         ],
         "xaxis": "x",
         "y": [
          2515,
          2515,
          2525,
          2525
         ],
         "yaxis": "y"
        },
        {
         "hoverinfo": "text",
         "marker": {
          "color": "rgb(35,205,205)"
         },
         "mode": "lines",
         "type": "scatter",
         "x": [
          0,
          -3.4641016151377544,
          -3.4641016151377544,
          -1.7320508075688772
         ],
         "xaxis": "x",
         "y": [
          2505,
          2505,
          2520,
          2520
         ],
         "yaxis": "y"
        },
        {
         "hoverinfo": "text",
         "marker": {
          "color": "rgb(35,205,205)"
         },
         "mode": "lines",
         "type": "scatter",
         "x": [
          0,
          -1.7320508075688772,
          -1.7320508075688772,
          0
         ],
         "xaxis": "x",
         "y": [
          2535,
          2535,
          2545,
          2545
         ],
         "yaxis": "y"
        },
        {
         "hoverinfo": "text",
         "marker": {
          "color": "rgb(35,205,205)"
         },
         "mode": "lines",
         "type": "scatter",
         "x": [
          0,
          -1.7320508075688772,
          -1.7320508075688772,
          0
         ],
         "xaxis": "x",
         "y": [
          2555,
          2555,
          2565,
          2565
         ],
         "yaxis": "y"
        },
        {
         "hoverinfo": "text",
         "marker": {
          "color": "rgb(35,205,205)"
         },
         "mode": "lines",
         "type": "scatter",
         "x": [
          -1.7320508075688772,
          -5.196152422706632,
          -5.196152422706632,
          -1.7320508075688772
         ],
         "xaxis": "x",
         "y": [
          2540,
          2540,
          2560,
          2560
         ],
         "yaxis": "y"
        },
        {
         "hoverinfo": "text",
         "marker": {
          "color": "rgb(35,205,205)"
         },
         "mode": "lines",
         "type": "scatter",
         "x": [
          -3.4641016151377544,
          -10.392304845413264,
          -10.392304845413264,
          -5.196152422706632
         ],
         "xaxis": "x",
         "y": [
          2512.5,
          2512.5,
          2550,
          2550
         ],
         "yaxis": "y"
        },
        {
         "hoverinfo": "text",
         "marker": {
          "color": "rgb(35,205,205)"
         },
         "mode": "lines",
         "type": "scatter",
         "x": [
          0,
          -1.7320508075688772,
          -1.7320508075688772,
          0
         ],
         "xaxis": "x",
         "y": [
          2575,
          2575,
          2585,
          2585
         ],
         "yaxis": "y"
        },
        {
         "hoverinfo": "text",
         "marker": {
          "color": "rgb(35,205,205)"
         },
         "mode": "lines",
         "type": "scatter",
         "x": [
          0,
          -1.7320508075688772,
          -1.7320508075688772,
          0
         ],
         "xaxis": "x",
         "y": [
          2595,
          2595,
          2605,
          2605
         ],
         "yaxis": "y"
        },
        {
         "hoverinfo": "text",
         "marker": {
          "color": "rgb(35,205,205)"
         },
         "mode": "lines",
         "type": "scatter",
         "x": [
          0,
          -1.7320508075688772,
          -1.7320508075688772,
          0
         ],
         "xaxis": "x",
         "y": [
          2615,
          2615,
          2625,
          2625
         ],
         "yaxis": "y"
        },
        {
         "hoverinfo": "text",
         "marker": {
          "color": "rgb(35,205,205)"
         },
         "mode": "lines",
         "type": "scatter",
         "x": [
          -1.7320508075688772,
          -5.196152422706632,
          -5.196152422706632,
          -1.7320508075688772
         ],
         "xaxis": "x",
         "y": [
          2600,
          2600,
          2620,
          2620
         ],
         "yaxis": "y"
        },
        {
         "hoverinfo": "text",
         "marker": {
          "color": "rgb(35,205,205)"
         },
         "mode": "lines",
         "type": "scatter",
         "x": [
          -1.7320508075688772,
          -8.660254037844387,
          -8.660254037844387,
          -5.196152422706632
         ],
         "xaxis": "x",
         "y": [
          2580,
          2580,
          2610,
          2610
         ],
         "yaxis": "y"
        },
        {
         "hoverinfo": "text",
         "marker": {
          "color": "rgb(35,205,205)"
         },
         "mode": "lines",
         "type": "scatter",
         "x": [
          0,
          -4.242640687119285,
          -4.242640687119285,
          0
         ],
         "xaxis": "x",
         "y": [
          2635,
          2635,
          2645,
          2645
         ],
         "yaxis": "y"
        },
        {
         "hoverinfo": "text",
         "marker": {
          "color": "rgb(35,205,205)"
         },
         "mode": "lines",
         "type": "scatter",
         "x": [
          0,
          -1.7320508075688772,
          -1.7320508075688772,
          0
         ],
         "xaxis": "x",
         "y": [
          2655,
          2655,
          2665,
          2665
         ],
         "yaxis": "y"
        },
        {
         "hoverinfo": "text",
         "marker": {
          "color": "rgb(35,205,205)"
         },
         "mode": "lines",
         "type": "scatter",
         "x": [
          0,
          -1.7320508075688772,
          -1.7320508075688772,
          0
         ],
         "xaxis": "x",
         "y": [
          2675,
          2675,
          2685,
          2685
         ],
         "yaxis": "y"
        },
        {
         "hoverinfo": "text",
         "marker": {
          "color": "rgb(35,205,205)"
         },
         "mode": "lines",
         "type": "scatter",
         "x": [
          -1.7320508075688772,
          -5.196152422706632,
          -5.196152422706632,
          -1.7320508075688772
         ],
         "xaxis": "x",
         "y": [
          2660,
          2660,
          2680,
          2680
         ],
         "yaxis": "y"
        },
        {
         "hoverinfo": "text",
         "marker": {
          "color": "rgb(35,205,205)"
         },
         "mode": "lines",
         "type": "scatter",
         "x": [
          -4.242640687119285,
          -12.24744871391589,
          -12.24744871391589,
          -5.196152422706632
         ],
         "xaxis": "x",
         "y": [
          2640,
          2640,
          2670,
          2670
         ],
         "yaxis": "y"
        },
        {
         "hoverinfo": "text",
         "marker": {
          "color": "rgb(35,205,205)"
         },
         "mode": "lines",
         "type": "scatter",
         "x": [
          -8.660254037844387,
          -22.315913604421397,
          -22.315913604421397,
          -12.24744871391589
         ],
         "xaxis": "x",
         "y": [
          2595,
          2595,
          2655,
          2655
         ],
         "yaxis": "y"
        },
        {
         "hoverinfo": "text",
         "marker": {
          "color": "rgb(35,205,205)"
         },
         "mode": "lines",
         "type": "scatter",
         "x": [
          -10.392304845413264,
          -37.107950630558946,
          -37.107950630558946,
          -22.315913604421397
         ],
         "xaxis": "x",
         "y": [
          2531.25,
          2531.25,
          2625,
          2625
         ],
         "yaxis": "y"
        },
        {
         "hoverinfo": "text",
         "marker": {
          "color": "rgb(35,205,205)"
         },
         "mode": "lines",
         "type": "scatter",
         "x": [
          -26.570660511172846,
          -65.85590330410783,
          -65.85590330410783,
          -37.107950630558946
         ],
         "xaxis": "x",
         "y": [
          2420,
          2420,
          2578.125,
          2578.125
         ],
         "yaxis": "y"
        },
        {
         "hoverinfo": "text",
         "marker": {
          "color": "rgb(35,205,205)"
         },
         "mode": "lines",
         "type": "scatter",
         "x": [
          0,
          -1.7320508075688772,
          -1.7320508075688772,
          0
         ],
         "xaxis": "x",
         "y": [
          2695,
          2695,
          2705,
          2705
         ],
         "yaxis": "y"
        },
        {
         "hoverinfo": "text",
         "marker": {
          "color": "rgb(35,205,205)"
         },
         "mode": "lines",
         "type": "scatter",
         "x": [
          0,
          -1.7320508075688772,
          -1.7320508075688772,
          0
         ],
         "xaxis": "x",
         "y": [
          2725,
          2725,
          2735,
          2735
         ],
         "yaxis": "y"
        },
        {
         "hoverinfo": "text",
         "marker": {
          "color": "rgb(35,205,205)"
         },
         "mode": "lines",
         "type": "scatter",
         "x": [
          0,
          -3.4641016151377544,
          -3.4641016151377544,
          -1.7320508075688772
         ],
         "xaxis": "x",
         "y": [
          2715,
          2715,
          2730,
          2730
         ],
         "yaxis": "y"
        },
        {
         "hoverinfo": "text",
         "marker": {
          "color": "rgb(35,205,205)"
         },
         "mode": "lines",
         "type": "scatter",
         "x": [
          -1.7320508075688772,
          -6.928203230275509,
          -6.928203230275509,
          -3.4641016151377544
         ],
         "xaxis": "x",
         "y": [
          2700,
          2700,
          2722.5,
          2722.5
         ],
         "yaxis": "y"
        },
        {
         "hoverinfo": "text",
         "marker": {
          "color": "rgb(35,205,205)"
         },
         "mode": "lines",
         "type": "scatter",
         "x": [
          0,
          -1.7320508075688772,
          -1.7320508075688772,
          0
         ],
         "xaxis": "x",
         "y": [
          2755,
          2755,
          2765,
          2765
         ],
         "yaxis": "y"
        },
        {
         "hoverinfo": "text",
         "marker": {
          "color": "rgb(35,205,205)"
         },
         "mode": "lines",
         "type": "scatter",
         "x": [
          0,
          -4.898979485566356,
          -4.898979485566356,
          -1.7320508075688772
         ],
         "xaxis": "x",
         "y": [
          2745,
          2745,
          2760,
          2760
         ],
         "yaxis": "y"
        },
        {
         "hoverinfo": "text",
         "marker": {
          "color": "rgb(35,205,205)"
         },
         "mode": "lines",
         "type": "scatter",
         "x": [
          0,
          -1.7320508075688772,
          -1.7320508075688772,
          0
         ],
         "xaxis": "x",
         "y": [
          2775,
          2775,
          2785,
          2785
         ],
         "yaxis": "y"
        },
        {
         "hoverinfo": "text",
         "marker": {
          "color": "rgb(35,205,205)"
         },
         "mode": "lines",
         "type": "scatter",
         "x": [
          0,
          -1.7320508075688772,
          -1.7320508075688772,
          0
         ],
         "xaxis": "x",
         "y": [
          2795,
          2795,
          2805,
          2805
         ],
         "yaxis": "y"
        },
        {
         "hoverinfo": "text",
         "marker": {
          "color": "rgb(35,205,205)"
         },
         "mode": "lines",
         "type": "scatter",
         "x": [
          -1.7320508075688772,
          -5.196152422706632,
          -5.196152422706632,
          -1.7320508075688772
         ],
         "xaxis": "x",
         "y": [
          2780,
          2780,
          2800,
          2800
         ],
         "yaxis": "y"
        },
        {
         "hoverinfo": "text",
         "marker": {
          "color": "rgb(35,205,205)"
         },
         "mode": "lines",
         "type": "scatter",
         "x": [
          -4.898979485566356,
          -11.661903789690601,
          -11.661903789690601,
          -5.196152422706632
         ],
         "xaxis": "x",
         "y": [
          2752.5,
          2752.5,
          2790,
          2790
         ],
         "yaxis": "y"
        },
        {
         "hoverinfo": "text",
         "marker": {
          "color": "rgb(35,205,205)"
         },
         "mode": "lines",
         "type": "scatter",
         "x": [
          -6.928203230275509,
          -20.273134932713294,
          -20.273134932713294,
          -11.661903789690601
         ],
         "xaxis": "x",
         "y": [
          2711.25,
          2711.25,
          2771.25,
          2771.25
         ],
         "yaxis": "y"
        },
        {
         "hoverinfo": "text",
         "marker": {
          "color": "rgb(35,205,205)"
         },
         "mode": "lines",
         "type": "scatter",
         "x": [
          0,
          -1.7320508075688772,
          -1.7320508075688772,
          0
         ],
         "xaxis": "x",
         "y": [
          2825,
          2825,
          2835,
          2835
         ],
         "yaxis": "y"
        },
        {
         "hoverinfo": "text",
         "marker": {
          "color": "rgb(35,205,205)"
         },
         "mode": "lines",
         "type": "scatter",
         "x": [
          0,
          -1.7320508075688772,
          -1.7320508075688772,
          0
         ],
         "xaxis": "x",
         "y": [
          2845,
          2845,
          2855,
          2855
         ],
         "yaxis": "y"
        },
        {
         "hoverinfo": "text",
         "marker": {
          "color": "rgb(35,205,205)"
         },
         "mode": "lines",
         "type": "scatter",
         "x": [
          -1.7320508075688772,
          -5.196152422706632,
          -5.196152422706632,
          -1.7320508075688772
         ],
         "xaxis": "x",
         "y": [
          2830,
          2830,
          2850,
          2850
         ],
         "yaxis": "y"
        },
        {
         "hoverinfo": "text",
         "marker": {
          "color": "rgb(35,205,205)"
         },
         "mode": "lines",
         "type": "scatter",
         "x": [
          0,
          -10.63014581273465,
          -10.63014581273465,
          -5.196152422706632
         ],
         "xaxis": "x",
         "y": [
          2815,
          2815,
          2840,
          2840
         ],
         "yaxis": "y"
        },
        {
         "hoverinfo": "text",
         "marker": {
          "color": "rgb(35,205,205)"
         },
         "mode": "lines",
         "type": "scatter",
         "x": [
          0,
          -1.7320508075688772,
          -1.7320508075688772,
          0
         ],
         "xaxis": "x",
         "y": [
          2865,
          2865,
          2875,
          2875
         ],
         "yaxis": "y"
        },
        {
         "hoverinfo": "text",
         "marker": {
          "color": "rgb(35,205,205)"
         },
         "mode": "lines",
         "type": "scatter",
         "x": [
          0,
          -1.7320508075688772,
          -1.7320508075688772,
          0
         ],
         "xaxis": "x",
         "y": [
          2885,
          2885,
          2895,
          2895
         ],
         "yaxis": "y"
        },
        {
         "hoverinfo": "text",
         "marker": {
          "color": "rgb(35,205,205)"
         },
         "mode": "lines",
         "type": "scatter",
         "x": [
          -1.7320508075688772,
          -5.196152422706632,
          -5.196152422706632,
          -1.7320508075688772
         ],
         "xaxis": "x",
         "y": [
          2870,
          2870,
          2890,
          2890
         ],
         "yaxis": "y"
        },
        {
         "hoverinfo": "text",
         "marker": {
          "color": "rgb(35,205,205)"
         },
         "mode": "lines",
         "type": "scatter",
         "x": [
          0,
          -1.7320508075688772,
          -1.7320508075688772,
          0
         ],
         "xaxis": "x",
         "y": [
          2905,
          2905,
          2915,
          2915
         ],
         "yaxis": "y"
        },
        {
         "hoverinfo": "text",
         "marker": {
          "color": "rgb(35,205,205)"
         },
         "mode": "lines",
         "type": "scatter",
         "x": [
          0,
          -2.449489742783178,
          -2.449489742783178,
          0
         ],
         "xaxis": "x",
         "y": [
          2925,
          2925,
          2935,
          2935
         ],
         "yaxis": "y"
        },
        {
         "hoverinfo": "text",
         "marker": {
          "color": "rgb(35,205,205)"
         },
         "mode": "lines",
         "type": "scatter",
         "x": [
          -1.7320508075688772,
          -6.557438524302,
          -6.557438524302,
          -2.449489742783178
         ],
         "xaxis": "x",
         "y": [
          2910,
          2910,
          2930,
          2930
         ],
         "yaxis": "y"
        },
        {
         "hoverinfo": "text",
         "marker": {
          "color": "rgb(35,205,205)"
         },
         "mode": "lines",
         "type": "scatter",
         "x": [
          -5.196152422706632,
          -15.0996688705415,
          -15.0996688705415,
          -6.557438524302
         ],
         "xaxis": "x",
         "y": [
          2880,
          2880,
          2920,
          2920
         ],
         "yaxis": "y"
        },
        {
         "hoverinfo": "text",
         "marker": {
          "color": "rgb(35,205,205)"
         },
         "mode": "lines",
         "type": "scatter",
         "x": [
          -10.63014581273465,
          -27.16615541441225,
          -27.16615541441225,
          -15.0996688705415
         ],
         "xaxis": "x",
         "y": [
          2827.5,
          2827.5,
          2900,
          2900
         ],
         "yaxis": "y"
        },
        {
         "hoverinfo": "text",
         "marker": {
          "color": "rgb(35,205,205)"
         },
         "mode": "lines",
         "type": "scatter",
         "x": [
          -20.273134932713294,
          -51.176166327695945,
          -51.176166327695945,
          -27.16615541441225
         ],
         "xaxis": "x",
         "y": [
          2741.25,
          2741.25,
          2863.75,
          2863.75
         ],
         "yaxis": "y"
        },
        {
         "hoverinfo": "text",
         "marker": {
          "color": "rgb(35,205,205)"
         },
         "mode": "lines",
         "type": "scatter",
         "x": [
          0,
          -1.7320508075688772,
          -1.7320508075688772,
          0
         ],
         "xaxis": "x",
         "y": [
          2955,
          2955,
          2965,
          2965
         ],
         "yaxis": "y"
        },
        {
         "hoverinfo": "text",
         "marker": {
          "color": "rgb(35,205,205)"
         },
         "mode": "lines",
         "type": "scatter",
         "x": [
          0,
          -1.7320508075688772,
          -1.7320508075688772,
          0
         ],
         "xaxis": "x",
         "y": [
          2975,
          2975,
          2985,
          2985
         ],
         "yaxis": "y"
        },
        {
         "hoverinfo": "text",
         "marker": {
          "color": "rgb(35,205,205)"
         },
         "mode": "lines",
         "type": "scatter",
         "x": [
          -1.7320508075688772,
          -5.196152422706632,
          -5.196152422706632,
          -1.7320508075688772
         ],
         "xaxis": "x",
         "y": [
          2960,
          2960,
          2980,
          2980
         ],
         "yaxis": "y"
        },
        {
         "hoverinfo": "text",
         "marker": {
          "color": "rgb(35,205,205)"
         },
         "mode": "lines",
         "type": "scatter",
         "x": [
          0,
          -1.7320508075688772,
          -1.7320508075688772,
          0
         ],
         "xaxis": "x",
         "y": [
          2995,
          2995,
          3005,
          3005
         ],
         "yaxis": "y"
        },
        {
         "hoverinfo": "text",
         "marker": {
          "color": "rgb(35,205,205)"
         },
         "mode": "lines",
         "type": "scatter",
         "x": [
          0,
          -1.7320508075688772,
          -1.7320508075688772,
          0
         ],
         "xaxis": "x",
         "y": [
          3025,
          3025,
          3035,
          3035
         ],
         "yaxis": "y"
        },
        {
         "hoverinfo": "text",
         "marker": {
          "color": "rgb(35,205,205)"
         },
         "mode": "lines",
         "type": "scatter",
         "x": [
          0,
          -3.4641016151377544,
          -3.4641016151377544,
          -1.7320508075688772
         ],
         "xaxis": "x",
         "y": [
          3015,
          3015,
          3030,
          3030
         ],
         "yaxis": "y"
        },
        {
         "hoverinfo": "text",
         "marker": {
          "color": "rgb(35,205,205)"
         },
         "mode": "lines",
         "type": "scatter",
         "x": [
          -1.7320508075688772,
          -6.928203230275509,
          -6.928203230275509,
          -3.4641016151377544
         ],
         "xaxis": "x",
         "y": [
          3000,
          3000,
          3022.5,
          3022.5
         ],
         "yaxis": "y"
        },
        {
         "hoverinfo": "text",
         "marker": {
          "color": "rgb(35,205,205)"
         },
         "mode": "lines",
         "type": "scatter",
         "x": [
          -5.196152422706632,
          -13.856406460551018,
          -13.856406460551018,
          -6.928203230275509
         ],
         "xaxis": "x",
         "y": [
          2970,
          2970,
          3011.25,
          3011.25
         ],
         "yaxis": "y"
        },
        {
         "hoverinfo": "text",
         "marker": {
          "color": "rgb(35,205,205)"
         },
         "mode": "lines",
         "type": "scatter",
         "x": [
          0,
          -1.7320508075688772,
          -1.7320508075688772,
          0
         ],
         "xaxis": "x",
         "y": [
          3045,
          3045,
          3055,
          3055
         ],
         "yaxis": "y"
        },
        {
         "hoverinfo": "text",
         "marker": {
          "color": "rgb(35,205,205)"
         },
         "mode": "lines",
         "type": "scatter",
         "x": [
          0,
          -1.7320508075688772,
          -1.7320508075688772,
          0
         ],
         "xaxis": "x",
         "y": [
          3065,
          3065,
          3075,
          3075
         ],
         "yaxis": "y"
        },
        {
         "hoverinfo": "text",
         "marker": {
          "color": "rgb(35,205,205)"
         },
         "mode": "lines",
         "type": "scatter",
         "x": [
          0,
          -1.7320508075688772,
          -1.7320508075688772,
          0
         ],
         "xaxis": "x",
         "y": [
          3085,
          3085,
          3095,
          3095
         ],
         "yaxis": "y"
        },
        {
         "hoverinfo": "text",
         "marker": {
          "color": "rgb(35,205,205)"
         },
         "mode": "lines",
         "type": "scatter",
         "x": [
          -1.7320508075688772,
          -5.196152422706632,
          -5.196152422706632,
          -1.7320508075688772
         ],
         "xaxis": "x",
         "y": [
          3070,
          3070,
          3090,
          3090
         ],
         "yaxis": "y"
        },
        {
         "hoverinfo": "text",
         "marker": {
          "color": "rgb(35,205,205)"
         },
         "mode": "lines",
         "type": "scatter",
         "x": [
          -1.7320508075688772,
          -9.9498743710662,
          -9.9498743710662,
          -5.196152422706632
         ],
         "xaxis": "x",
         "y": [
          3050,
          3050,
          3080,
          3080
         ],
         "yaxis": "y"
        },
        {
         "hoverinfo": "text",
         "marker": {
          "color": "rgb(35,205,205)"
         },
         "mode": "lines",
         "type": "scatter",
         "x": [
          0,
          -1.7320508075688772,
          -1.7320508075688772,
          0
         ],
         "xaxis": "x",
         "y": [
          3115,
          3115,
          3125,
          3125
         ],
         "yaxis": "y"
        },
        {
         "hoverinfo": "text",
         "marker": {
          "color": "rgb(35,205,205)"
         },
         "mode": "lines",
         "type": "scatter",
         "x": [
          0,
          -3.4641016151377544,
          -3.4641016151377544,
          -1.7320508075688772
         ],
         "xaxis": "x",
         "y": [
          3105,
          3105,
          3120,
          3120
         ],
         "yaxis": "y"
        },
        {
         "hoverinfo": "text",
         "marker": {
          "color": "rgb(35,205,205)"
         },
         "mode": "lines",
         "type": "scatter",
         "x": [
          0,
          -1.7320508075688772,
          -1.7320508075688772,
          0
         ],
         "xaxis": "x",
         "y": [
          3135,
          3135,
          3145,
          3145
         ],
         "yaxis": "y"
        },
        {
         "hoverinfo": "text",
         "marker": {
          "color": "rgb(35,205,205)"
         },
         "mode": "lines",
         "type": "scatter",
         "x": [
          0,
          -1.7320508075688772,
          -1.7320508075688772,
          0
         ],
         "xaxis": "x",
         "y": [
          3155,
          3155,
          3165,
          3165
         ],
         "yaxis": "y"
        },
        {
         "hoverinfo": "text",
         "marker": {
          "color": "rgb(35,205,205)"
         },
         "mode": "lines",
         "type": "scatter",
         "x": [
          -1.7320508075688772,
          -5.196152422706632,
          -5.196152422706632,
          -1.7320508075688772
         ],
         "xaxis": "x",
         "y": [
          3140,
          3140,
          3160,
          3160
         ],
         "yaxis": "y"
        },
        {
         "hoverinfo": "text",
         "marker": {
          "color": "rgb(35,205,205)"
         },
         "mode": "lines",
         "type": "scatter",
         "x": [
          -3.4641016151377544,
          -10.392304845413264,
          -10.392304845413264,
          -5.196152422706632
         ],
         "xaxis": "x",
         "y": [
          3112.5,
          3112.5,
          3150,
          3150
         ],
         "yaxis": "y"
        },
        {
         "hoverinfo": "text",
         "marker": {
          "color": "rgb(35,205,205)"
         },
         "mode": "lines",
         "type": "scatter",
         "x": [
          -9.9498743710662,
          -22,
          -22,
          -10.392304845413264
         ],
         "xaxis": "x",
         "y": [
          3065,
          3065,
          3131.25,
          3131.25
         ],
         "yaxis": "y"
        },
        {
         "hoverinfo": "text",
         "marker": {
          "color": "rgb(35,205,205)"
         },
         "mode": "lines",
         "type": "scatter",
         "x": [
          -13.856406460551018,
          -38.18376618407357,
          -38.18376618407357,
          -22
         ],
         "xaxis": "x",
         "y": [
          2990.625,
          2990.625,
          3098.125,
          3098.125
         ],
         "yaxis": "y"
        },
        {
         "hoverinfo": "text",
         "marker": {
          "color": "rgb(35,205,205)"
         },
         "mode": "lines",
         "type": "scatter",
         "x": [
          0,
          -67.80855403265875,
          -67.80855403265875,
          -38.18376618407357
         ],
         "xaxis": "x",
         "y": [
          2945,
          2945,
          3044.375,
          3044.375
         ],
         "yaxis": "y"
        },
        {
         "hoverinfo": "text",
         "marker": {
          "color": "rgb(35,205,205)"
         },
         "mode": "lines",
         "type": "scatter",
         "x": [
          -51.176166327695945,
          -95.16827202382105,
          -95.16827202382105,
          -67.80855403265875
         ],
         "xaxis": "x",
         "y": [
          2802.5,
          2802.5,
          2994.6875,
          2994.6875
         ],
         "yaxis": "y"
        },
        {
         "hoverinfo": "text",
         "marker": {
          "color": "rgb(35,205,205)"
         },
         "mode": "lines",
         "type": "scatter",
         "x": [
          -65.85590330410783,
          -161.22034611053283,
          -161.22034611053283,
          -95.16827202382105
         ],
         "xaxis": "x",
         "y": [
          2499.0625,
          2499.0625,
          2898.59375,
          2898.59375
         ],
         "yaxis": "y"
        },
        {
         "hoverinfo": "text",
         "marker": {
          "color": "rgb(35,205,205)"
         },
         "mode": "lines",
         "type": "scatter",
         "x": [
          0,
          -90.89041058390654,
          -90.89041058390654,
          0
         ],
         "xaxis": "x",
         "y": [
          3175,
          3175,
          3185,
          3185
         ],
         "yaxis": "y"
        },
        {
         "hoverinfo": "text",
         "marker": {
          "color": "rgb(35,205,205)"
         },
         "mode": "lines",
         "type": "scatter",
         "x": [
          0,
          -1.7320508075688772,
          -1.7320508075688772,
          0
         ],
         "xaxis": "x",
         "y": [
          3195,
          3195,
          3205,
          3205
         ],
         "yaxis": "y"
        },
        {
         "hoverinfo": "text",
         "marker": {
          "color": "rgb(35,205,205)"
         },
         "mode": "lines",
         "type": "scatter",
         "x": [
          0,
          -1.7320508075688772,
          -1.7320508075688772,
          0
         ],
         "xaxis": "x",
         "y": [
          3215,
          3215,
          3225,
          3225
         ],
         "yaxis": "y"
        },
        {
         "hoverinfo": "text",
         "marker": {
          "color": "rgb(35,205,205)"
         },
         "mode": "lines",
         "type": "scatter",
         "x": [
          -1.7320508075688772,
          -5.196152422706632,
          -5.196152422706632,
          -1.7320508075688772
         ],
         "xaxis": "x",
         "y": [
          3200,
          3200,
          3220,
          3220
         ],
         "yaxis": "y"
        },
        {
         "hoverinfo": "text",
         "marker": {
          "color": "rgb(35,205,205)"
         },
         "mode": "lines",
         "type": "scatter",
         "x": [
          0,
          -1.7320508075688772,
          -1.7320508075688772,
          0
         ],
         "xaxis": "x",
         "y": [
          3235,
          3235,
          3245,
          3245
         ],
         "yaxis": "y"
        },
        {
         "hoverinfo": "text",
         "marker": {
          "color": "rgb(35,205,205)"
         },
         "mode": "lines",
         "type": "scatter",
         "x": [
          0,
          -1.7320508075688772,
          -1.7320508075688772,
          0
         ],
         "xaxis": "x",
         "y": [
          3265,
          3265,
          3275,
          3275
         ],
         "yaxis": "y"
        },
        {
         "hoverinfo": "text",
         "marker": {
          "color": "rgb(35,205,205)"
         },
         "mode": "lines",
         "type": "scatter",
         "x": [
          0,
          -3.4641016151377544,
          -3.4641016151377544,
          -1.7320508075688772
         ],
         "xaxis": "x",
         "y": [
          3255,
          3255,
          3270,
          3270
         ],
         "yaxis": "y"
        },
        {
         "hoverinfo": "text",
         "marker": {
          "color": "rgb(35,205,205)"
         },
         "mode": "lines",
         "type": "scatter",
         "x": [
          -1.7320508075688772,
          -6.928203230275509,
          -6.928203230275509,
          -3.4641016151377544
         ],
         "xaxis": "x",
         "y": [
          3240,
          3240,
          3262.5,
          3262.5
         ],
         "yaxis": "y"
        },
        {
         "hoverinfo": "text",
         "marker": {
          "color": "rgb(35,205,205)"
         },
         "mode": "lines",
         "type": "scatter",
         "x": [
          -5.196152422706632,
          -13.856406460551018,
          -13.856406460551018,
          -6.928203230275509
         ],
         "xaxis": "x",
         "y": [
          3210,
          3210,
          3251.25,
          3251.25
         ],
         "yaxis": "y"
        },
        {
         "hoverinfo": "text",
         "marker": {
          "color": "rgb(35,205,205)"
         },
         "mode": "lines",
         "type": "scatter",
         "x": [
          0,
          -3.3166247903554,
          -3.3166247903554,
          0
         ],
         "xaxis": "x",
         "y": [
          3285,
          3285,
          3295,
          3295
         ],
         "yaxis": "y"
        },
        {
         "hoverinfo": "text",
         "marker": {
          "color": "rgb(35,205,205)"
         },
         "mode": "lines",
         "type": "scatter",
         "x": [
          0,
          -1.7320508075688772,
          -1.7320508075688772,
          0
         ],
         "xaxis": "x",
         "y": [
          3305,
          3305,
          3315,
          3315
         ],
         "yaxis": "y"
        },
        {
         "hoverinfo": "text",
         "marker": {
          "color": "rgb(35,205,205)"
         },
         "mode": "lines",
         "type": "scatter",
         "x": [
          0,
          -1.7320508075688772,
          -1.7320508075688772,
          0
         ],
         "xaxis": "x",
         "y": [
          3325,
          3325,
          3335,
          3335
         ],
         "yaxis": "y"
        },
        {
         "hoverinfo": "text",
         "marker": {
          "color": "rgb(35,205,205)"
         },
         "mode": "lines",
         "type": "scatter",
         "x": [
          -1.7320508075688772,
          -5.196152422706632,
          -5.196152422706632,
          -1.7320508075688772
         ],
         "xaxis": "x",
         "y": [
          3310,
          3310,
          3330,
          3330
         ],
         "yaxis": "y"
        },
        {
         "hoverinfo": "text",
         "marker": {
          "color": "rgb(35,205,205)"
         },
         "mode": "lines",
         "type": "scatter",
         "x": [
          -3.3166247903554,
          -10.677078252031311,
          -10.677078252031311,
          -5.196152422706632
         ],
         "xaxis": "x",
         "y": [
          3290,
          3290,
          3320,
          3320
         ],
         "yaxis": "y"
        },
        {
         "hoverinfo": "text",
         "marker": {
          "color": "rgb(35,205,205)"
         },
         "mode": "lines",
         "type": "scatter",
         "x": [
          0,
          -1.7320508075688772,
          -1.7320508075688772,
          0
         ],
         "xaxis": "x",
         "y": [
          3345,
          3345,
          3355,
          3355
         ],
         "yaxis": "y"
        },
        {
         "hoverinfo": "text",
         "marker": {
          "color": "rgb(35,205,205)"
         },
         "mode": "lines",
         "type": "scatter",
         "x": [
          0,
          -1.7320508075688772,
          -1.7320508075688772,
          0
         ],
         "xaxis": "x",
         "y": [
          3365,
          3365,
          3375,
          3375
         ],
         "yaxis": "y"
        },
        {
         "hoverinfo": "text",
         "marker": {
          "color": "rgb(35,205,205)"
         },
         "mode": "lines",
         "type": "scatter",
         "x": [
          -1.7320508075688772,
          -5.196152422706632,
          -5.196152422706632,
          -1.7320508075688772
         ],
         "xaxis": "x",
         "y": [
          3350,
          3350,
          3370,
          3370
         ],
         "yaxis": "y"
        },
        {
         "hoverinfo": "text",
         "marker": {
          "color": "rgb(35,205,205)"
         },
         "mode": "lines",
         "type": "scatter",
         "x": [
          0,
          -1.7320508075688772,
          -1.7320508075688772,
          0
         ],
         "xaxis": "x",
         "y": [
          3385,
          3385,
          3395,
          3395
         ],
         "yaxis": "y"
        },
        {
         "hoverinfo": "text",
         "marker": {
          "color": "rgb(35,205,205)"
         },
         "mode": "lines",
         "type": "scatter",
         "x": [
          0,
          -1.7320508075688772,
          -1.7320508075688772,
          0
         ],
         "xaxis": "x",
         "y": [
          3405,
          3405,
          3415,
          3415
         ],
         "yaxis": "y"
        },
        {
         "hoverinfo": "text",
         "marker": {
          "color": "rgb(35,205,205)"
         },
         "mode": "lines",
         "type": "scatter",
         "x": [
          -1.7320508075688772,
          -5.196152422706632,
          -5.196152422706632,
          -1.7320508075688772
         ],
         "xaxis": "x",
         "y": [
          3390,
          3390,
          3410,
          3410
         ],
         "yaxis": "y"
        },
        {
         "hoverinfo": "text",
         "marker": {
          "color": "rgb(35,205,205)"
         },
         "mode": "lines",
         "type": "scatter",
         "x": [
          -5.196152422706632,
          -12.12435565298214,
          -12.12435565298214,
          -5.196152422706632
         ],
         "xaxis": "x",
         "y": [
          3360,
          3360,
          3400,
          3400
         ],
         "yaxis": "y"
        },
        {
         "hoverinfo": "text",
         "marker": {
          "color": "rgb(35,205,205)"
         },
         "mode": "lines",
         "type": "scatter",
         "x": [
          -10.677078252031311,
          -24.372115213907882,
          -24.372115213907882,
          -12.12435565298214
         ],
         "xaxis": "x",
         "y": [
          3305,
          3305,
          3380,
          3380
         ],
         "yaxis": "y"
        },
        {
         "hoverinfo": "text",
         "marker": {
          "color": "rgb(35,205,205)"
         },
         "mode": "lines",
         "type": "scatter",
         "x": [
          -13.856406460551018,
          -39.91240408695021,
          -39.91240408695021,
          -24.372115213907882
         ],
         "xaxis": "x",
         "y": [
          3230.625,
          3230.625,
          3342.5,
          3342.5
         ],
         "yaxis": "y"
        },
        {
         "hoverinfo": "text",
         "marker": {
          "color": "rgb(35,205,205)"
         },
         "mode": "lines",
         "type": "scatter",
         "x": [
          0,
          -1.7320508075688772,
          -1.7320508075688772,
          0
         ],
         "xaxis": "x",
         "y": [
          3425,
          3425,
          3435,
          3435
         ],
         "yaxis": "y"
        },
        {
         "hoverinfo": "text",
         "marker": {
          "color": "rgb(35,205,205)"
         },
         "mode": "lines",
         "type": "scatter",
         "x": [
          0,
          -1.7320508075688772,
          -1.7320508075688772,
          0
         ],
         "xaxis": "x",
         "y": [
          3445,
          3445,
          3455,
          3455
         ],
         "yaxis": "y"
        },
        {
         "hoverinfo": "text",
         "marker": {
          "color": "rgb(35,205,205)"
         },
         "mode": "lines",
         "type": "scatter",
         "x": [
          -1.7320508075688772,
          -5.196152422706632,
          -5.196152422706632,
          -1.7320508075688772
         ],
         "xaxis": "x",
         "y": [
          3430,
          3430,
          3450,
          3450
         ],
         "yaxis": "y"
        },
        {
         "hoverinfo": "text",
         "marker": {
          "color": "rgb(35,205,205)"
         },
         "mode": "lines",
         "type": "scatter",
         "x": [
          0,
          -1.7320508075688772,
          -1.7320508075688772,
          0
         ],
         "xaxis": "x",
         "y": [
          3465,
          3465,
          3475,
          3475
         ],
         "yaxis": "y"
        },
        {
         "hoverinfo": "text",
         "marker": {
          "color": "rgb(35,205,205)"
         },
         "mode": "lines",
         "type": "scatter",
         "x": [
          0,
          -1.7320508075688772,
          -1.7320508075688772,
          0
         ],
         "xaxis": "x",
         "y": [
          3485,
          3485,
          3495,
          3495
         ],
         "yaxis": "y"
        },
        {
         "hoverinfo": "text",
         "marker": {
          "color": "rgb(35,205,205)"
         },
         "mode": "lines",
         "type": "scatter",
         "x": [
          -1.7320508075688772,
          -5.830951894845301,
          -5.830951894845301,
          -1.7320508075688772
         ],
         "xaxis": "x",
         "y": [
          3470,
          3470,
          3490,
          3490
         ],
         "yaxis": "y"
        },
        {
         "hoverinfo": "text",
         "marker": {
          "color": "rgb(35,205,205)"
         },
         "mode": "lines",
         "type": "scatter",
         "x": [
          -5.196152422706632,
          -12.727922061357855,
          -12.727922061357855,
          -5.830951894845301
         ],
         "xaxis": "x",
         "y": [
          3440,
          3440,
          3480,
          3480
         ],
         "yaxis": "y"
        },
        {
         "hoverinfo": "text",
         "marker": {
          "color": "rgb(35,205,205)"
         },
         "mode": "lines",
         "type": "scatter",
         "x": [
          0,
          -1.7320508075688772,
          -1.7320508075688772,
          0
         ],
         "xaxis": "x",
         "y": [
          3505,
          3505,
          3515,
          3515
         ],
         "yaxis": "y"
        },
        {
         "hoverinfo": "text",
         "marker": {
          "color": "rgb(35,205,205)"
         },
         "mode": "lines",
         "type": "scatter",
         "x": [
          0,
          -1.7320508075688772,
          -1.7320508075688772,
          0
         ],
         "xaxis": "x",
         "y": [
          3525,
          3525,
          3535,
          3535
         ],
         "yaxis": "y"
        },
        {
         "hoverinfo": "text",
         "marker": {
          "color": "rgb(35,205,205)"
         },
         "mode": "lines",
         "type": "scatter",
         "x": [
          -1.7320508075688772,
          -5.196152422706632,
          -5.196152422706632,
          -1.7320508075688772
         ],
         "xaxis": "x",
         "y": [
          3510,
          3510,
          3530,
          3530
         ],
         "yaxis": "y"
        },
        {
         "hoverinfo": "text",
         "marker": {
          "color": "rgb(35,205,205)"
         },
         "mode": "lines",
         "type": "scatter",
         "x": [
          0,
          -1.7320508075688772,
          -1.7320508075688772,
          0
         ],
         "xaxis": "x",
         "y": [
          3545,
          3545,
          3555,
          3555
         ],
         "yaxis": "y"
        },
        {
         "hoverinfo": "text",
         "marker": {
          "color": "rgb(35,205,205)"
         },
         "mode": "lines",
         "type": "scatter",
         "x": [
          0,
          -1.7320508075688772,
          -1.7320508075688772,
          0
         ],
         "xaxis": "x",
         "y": [
          3565,
          3565,
          3575,
          3575
         ],
         "yaxis": "y"
        },
        {
         "hoverinfo": "text",
         "marker": {
          "color": "rgb(35,205,205)"
         },
         "mode": "lines",
         "type": "scatter",
         "x": [
          -1.7320508075688772,
          -5.196152422706632,
          -5.196152422706632,
          -1.7320508075688772
         ],
         "xaxis": "x",
         "y": [
          3550,
          3550,
          3570,
          3570
         ],
         "yaxis": "y"
        },
        {
         "hoverinfo": "text",
         "marker": {
          "color": "rgb(35,205,205)"
         },
         "mode": "lines",
         "type": "scatter",
         "x": [
          -5.196152422706632,
          -12.12435565298214,
          -12.12435565298214,
          -5.196152422706632
         ],
         "xaxis": "x",
         "y": [
          3520,
          3520,
          3560,
          3560
         ],
         "yaxis": "y"
        },
        {
         "hoverinfo": "text",
         "marker": {
          "color": "rgb(35,205,205)"
         },
         "mode": "lines",
         "type": "scatter",
         "x": [
          0,
          -1.7320508075688772,
          -1.7320508075688772,
          0
         ],
         "xaxis": "x",
         "y": [
          3585,
          3585,
          3595,
          3595
         ],
         "yaxis": "y"
        },
        {
         "hoverinfo": "text",
         "marker": {
          "color": "rgb(35,205,205)"
         },
         "mode": "lines",
         "type": "scatter",
         "x": [
          0,
          -1.7320508075688772,
          -1.7320508075688772,
          0
         ],
         "xaxis": "x",
         "y": [
          3605,
          3605,
          3615,
          3615
         ],
         "yaxis": "y"
        },
        {
         "hoverinfo": "text",
         "marker": {
          "color": "rgb(35,205,205)"
         },
         "mode": "lines",
         "type": "scatter",
         "x": [
          -1.7320508075688772,
          -5.196152422706632,
          -5.196152422706632,
          -1.7320508075688772
         ],
         "xaxis": "x",
         "y": [
          3590,
          3590,
          3610,
          3610
         ],
         "yaxis": "y"
        },
        {
         "hoverinfo": "text",
         "marker": {
          "color": "rgb(35,205,205)"
         },
         "mode": "lines",
         "type": "scatter",
         "x": [
          0,
          -1.7320508075688772,
          -1.7320508075688772,
          0
         ],
         "xaxis": "x",
         "y": [
          3625,
          3625,
          3635,
          3635
         ],
         "yaxis": "y"
        },
        {
         "hoverinfo": "text",
         "marker": {
          "color": "rgb(35,205,205)"
         },
         "mode": "lines",
         "type": "scatter",
         "x": [
          0,
          -1.7320508075688772,
          -1.7320508075688772,
          0
         ],
         "xaxis": "x",
         "y": [
          3645,
          3645,
          3655,
          3655
         ],
         "yaxis": "y"
        },
        {
         "hoverinfo": "text",
         "marker": {
          "color": "rgb(35,205,205)"
         },
         "mode": "lines",
         "type": "scatter",
         "x": [
          -1.7320508075688772,
          -5.196152422706632,
          -5.196152422706632,
          -1.7320508075688772
         ],
         "xaxis": "x",
         "y": [
          3630,
          3630,
          3650,
          3650
         ],
         "yaxis": "y"
        },
        {
         "hoverinfo": "text",
         "marker": {
          "color": "rgb(35,205,205)"
         },
         "mode": "lines",
         "type": "scatter",
         "x": [
          -5.196152422706632,
          -12.12435565298214,
          -12.12435565298214,
          -5.196152422706632
         ],
         "xaxis": "x",
         "y": [
          3600,
          3600,
          3640,
          3640
         ],
         "yaxis": "y"
        },
        {
         "hoverinfo": "text",
         "marker": {
          "color": "rgb(35,205,205)"
         },
         "mode": "lines",
         "type": "scatter",
         "x": [
          -12.12435565298214,
          -25.98076211353316,
          -25.98076211353316,
          -12.12435565298214
         ],
         "xaxis": "x",
         "y": [
          3540,
          3540,
          3620,
          3620
         ],
         "yaxis": "y"
        },
        {
         "hoverinfo": "text",
         "marker": {
          "color": "rgb(35,205,205)"
         },
         "mode": "lines",
         "type": "scatter",
         "x": [
          -12.727922061357855,
          -40.422765862815474,
          -40.422765862815474,
          -25.98076211353316
         ],
         "xaxis": "x",
         "y": [
          3460,
          3460,
          3580,
          3580
         ],
         "yaxis": "y"
        },
        {
         "hoverinfo": "text",
         "marker": {
          "color": "rgb(35,205,205)"
         },
         "mode": "lines",
         "type": "scatter",
         "x": [
          -39.91240408695021,
          -83.91066678319271,
          -83.91066678319271,
          -40.422765862815474
         ],
         "xaxis": "x",
         "y": [
          3286.5625,
          3286.5625,
          3520,
          3520
         ],
         "yaxis": "y"
        },
        {
         "hoverinfo": "text",
         "marker": {
          "color": "rgb(35,205,205)"
         },
         "mode": "lines",
         "type": "scatter",
         "x": [
          0,
          -1.7320508075688772,
          -1.7320508075688772,
          0
         ],
         "xaxis": "x",
         "y": [
          3665,
          3665,
          3675,
          3675
         ],
         "yaxis": "y"
        },
        {
         "hoverinfo": "text",
         "marker": {
          "color": "rgb(35,205,205)"
         },
         "mode": "lines",
         "type": "scatter",
         "x": [
          0,
          -1.7320508075688772,
          -1.7320508075688772,
          0
         ],
         "xaxis": "x",
         "y": [
          3685,
          3685,
          3695,
          3695
         ],
         "yaxis": "y"
        },
        {
         "hoverinfo": "text",
         "marker": {
          "color": "rgb(35,205,205)"
         },
         "mode": "lines",
         "type": "scatter",
         "x": [
          0,
          -1.7320508075688772,
          -1.7320508075688772,
          0
         ],
         "xaxis": "x",
         "y": [
          3705,
          3705,
          3715,
          3715
         ],
         "yaxis": "y"
        },
        {
         "hoverinfo": "text",
         "marker": {
          "color": "rgb(35,205,205)"
         },
         "mode": "lines",
         "type": "scatter",
         "x": [
          -1.7320508075688772,
          -5.196152422706632,
          -5.196152422706632,
          -1.7320508075688772
         ],
         "xaxis": "x",
         "y": [
          3690,
          3690,
          3710,
          3710
         ],
         "yaxis": "y"
        },
        {
         "hoverinfo": "text",
         "marker": {
          "color": "rgb(35,205,205)"
         },
         "mode": "lines",
         "type": "scatter",
         "x": [
          -1.7320508075688772,
          -8.660254037844387,
          -8.660254037844387,
          -5.196152422706632
         ],
         "xaxis": "x",
         "y": [
          3670,
          3670,
          3700,
          3700
         ],
         "yaxis": "y"
        },
        {
         "hoverinfo": "text",
         "marker": {
          "color": "rgb(35,205,205)"
         },
         "mode": "lines",
         "type": "scatter",
         "x": [
          0,
          -1.7320508075688772,
          -1.7320508075688772,
          0
         ],
         "xaxis": "x",
         "y": [
          3725,
          3725,
          3735,
          3735
         ],
         "yaxis": "y"
        },
        {
         "hoverinfo": "text",
         "marker": {
          "color": "rgb(35,205,205)"
         },
         "mode": "lines",
         "type": "scatter",
         "x": [
          0,
          -1.7320508075688772,
          -1.7320508075688772,
          0
         ],
         "xaxis": "x",
         "y": [
          3745,
          3745,
          3755,
          3755
         ],
         "yaxis": "y"
        },
        {
         "hoverinfo": "text",
         "marker": {
          "color": "rgb(35,205,205)"
         },
         "mode": "lines",
         "type": "scatter",
         "x": [
          -1.7320508075688772,
          -5.196152422706632,
          -5.196152422706632,
          -1.7320508075688772
         ],
         "xaxis": "x",
         "y": [
          3730,
          3730,
          3750,
          3750
         ],
         "yaxis": "y"
        },
        {
         "hoverinfo": "text",
         "marker": {
          "color": "rgb(35,205,205)"
         },
         "mode": "lines",
         "type": "scatter",
         "x": [
          0,
          -1.7320508075688772,
          -1.7320508075688772,
          0
         ],
         "xaxis": "x",
         "y": [
          3765,
          3765,
          3775,
          3775
         ],
         "yaxis": "y"
        },
        {
         "hoverinfo": "text",
         "marker": {
          "color": "rgb(35,205,205)"
         },
         "mode": "lines",
         "type": "scatter",
         "x": [
          0,
          -1.7320508075688772,
          -1.7320508075688772,
          0
         ],
         "xaxis": "x",
         "y": [
          3795,
          3795,
          3805,
          3805
         ],
         "yaxis": "y"
        },
        {
         "hoverinfo": "text",
         "marker": {
          "color": "rgb(35,205,205)"
         },
         "mode": "lines",
         "type": "scatter",
         "x": [
          0,
          -3.4641016151377544,
          -3.4641016151377544,
          -1.7320508075688772
         ],
         "xaxis": "x",
         "y": [
          3785,
          3785,
          3800,
          3800
         ],
         "yaxis": "y"
        },
        {
         "hoverinfo": "text",
         "marker": {
          "color": "rgb(35,205,205)"
         },
         "mode": "lines",
         "type": "scatter",
         "x": [
          -1.7320508075688772,
          -7.54983443527075,
          -7.54983443527075,
          -3.4641016151377544
         ],
         "xaxis": "x",
         "y": [
          3770,
          3770,
          3792.5,
          3792.5
         ],
         "yaxis": "y"
        },
        {
         "hoverinfo": "text",
         "marker": {
          "color": "rgb(35,205,205)"
         },
         "mode": "lines",
         "type": "scatter",
         "x": [
          -5.196152422706632,
          -14.45683229480096,
          -14.45683229480096,
          -7.54983443527075
         ],
         "xaxis": "x",
         "y": [
          3740,
          3740,
          3781.25,
          3781.25
         ],
         "yaxis": "y"
        },
        {
         "hoverinfo": "text",
         "marker": {
          "color": "rgb(35,205,205)"
         },
         "mode": "lines",
         "type": "scatter",
         "x": [
          -8.660254037844387,
          -25.45584412271571,
          -25.45584412271571,
          -14.45683229480096
         ],
         "xaxis": "x",
         "y": [
          3685,
          3685,
          3760.625,
          3760.625
         ],
         "yaxis": "y"
        },
        {
         "hoverinfo": "text",
         "marker": {
          "color": "rgb(35,205,205)"
         },
         "mode": "lines",
         "type": "scatter",
         "x": [
          0,
          -1.7320508075688772,
          -1.7320508075688772,
          0
         ],
         "xaxis": "x",
         "y": [
          3825,
          3825,
          3835,
          3835
         ],
         "yaxis": "y"
        },
        {
         "hoverinfo": "text",
         "marker": {
          "color": "rgb(35,205,205)"
         },
         "mode": "lines",
         "type": "scatter",
         "x": [
          0,
          -3.4641016151377544,
          -3.4641016151377544,
          -1.7320508075688772
         ],
         "xaxis": "x",
         "y": [
          3815,
          3815,
          3830,
          3830
         ],
         "yaxis": "y"
        },
        {
         "hoverinfo": "text",
         "marker": {
          "color": "rgb(35,205,205)"
         },
         "mode": "lines",
         "type": "scatter",
         "x": [
          0,
          -1.7320508075688772,
          -1.7320508075688772,
          0
         ],
         "xaxis": "x",
         "y": [
          3845,
          3845,
          3855,
          3855
         ],
         "yaxis": "y"
        },
        {
         "hoverinfo": "text",
         "marker": {
          "color": "rgb(35,205,205)"
         },
         "mode": "lines",
         "type": "scatter",
         "x": [
          0,
          -2.449489742783178,
          -2.449489742783178,
          0
         ],
         "xaxis": "x",
         "y": [
          3865,
          3865,
          3875,
          3875
         ],
         "yaxis": "y"
        },
        {
         "hoverinfo": "text",
         "marker": {
          "color": "rgb(35,205,205)"
         },
         "mode": "lines",
         "type": "scatter",
         "x": [
          -1.7320508075688772,
          -5.830951894845301,
          -5.830951894845301,
          -2.449489742783178
         ],
         "xaxis": "x",
         "y": [
          3850,
          3850,
          3870,
          3870
         ],
         "yaxis": "y"
        },
        {
         "hoverinfo": "text",
         "marker": {
          "color": "rgb(35,205,205)"
         },
         "mode": "lines",
         "type": "scatter",
         "x": [
          -3.4641016151377544,
          -11.661903789690601,
          -11.661903789690601,
          -5.830951894845301
         ],
         "xaxis": "x",
         "y": [
          3822.5,
          3822.5,
          3860,
          3860
         ],
         "yaxis": "y"
        },
        {
         "hoverinfo": "text",
         "marker": {
          "color": "rgb(35,205,205)"
         },
         "mode": "lines",
         "type": "scatter",
         "x": [
          0,
          -1.7320508075688772,
          -1.7320508075688772,
          0
         ],
         "xaxis": "x",
         "y": [
          3885,
          3885,
          3895,
          3895
         ],
         "yaxis": "y"
        },
        {
         "hoverinfo": "text",
         "marker": {
          "color": "rgb(35,205,205)"
         },
         "mode": "lines",
         "type": "scatter",
         "x": [
          0,
          -1.7320508075688772,
          -1.7320508075688772,
          0
         ],
         "xaxis": "x",
         "y": [
          3905,
          3905,
          3915,
          3915
         ],
         "yaxis": "y"
        },
        {
         "hoverinfo": "text",
         "marker": {
          "color": "rgb(35,205,205)"
         },
         "mode": "lines",
         "type": "scatter",
         "x": [
          -1.7320508075688772,
          -5.196152422706632,
          -5.196152422706632,
          -1.7320508075688772
         ],
         "xaxis": "x",
         "y": [
          3890,
          3890,
          3910,
          3910
         ],
         "yaxis": "y"
        },
        {
         "hoverinfo": "text",
         "marker": {
          "color": "rgb(35,205,205)"
         },
         "mode": "lines",
         "type": "scatter",
         "x": [
          0,
          -1.7320508075688772,
          -1.7320508075688772,
          0
         ],
         "xaxis": "x",
         "y": [
          3925,
          3925,
          3935,
          3935
         ],
         "yaxis": "y"
        },
        {
         "hoverinfo": "text",
         "marker": {
          "color": "rgb(35,205,205)"
         },
         "mode": "lines",
         "type": "scatter",
         "x": [
          0,
          -1.7320508075688772,
          -1.7320508075688772,
          0
         ],
         "xaxis": "x",
         "y": [
          3955,
          3955,
          3965,
          3965
         ],
         "yaxis": "y"
        },
        {
         "hoverinfo": "text",
         "marker": {
          "color": "rgb(35,205,205)"
         },
         "mode": "lines",
         "type": "scatter",
         "x": [
          0,
          -3.4641016151377544,
          -3.4641016151377544,
          -1.7320508075688772
         ],
         "xaxis": "x",
         "y": [
          3945,
          3945,
          3960,
          3960
         ],
         "yaxis": "y"
        },
        {
         "hoverinfo": "text",
         "marker": {
          "color": "rgb(35,205,205)"
         },
         "mode": "lines",
         "type": "scatter",
         "x": [
          -1.7320508075688772,
          -6.928203230275509,
          -6.928203230275509,
          -3.4641016151377544
         ],
         "xaxis": "x",
         "y": [
          3930,
          3930,
          3952.5,
          3952.5
         ],
         "yaxis": "y"
        },
        {
         "hoverinfo": "text",
         "marker": {
          "color": "rgb(35,205,205)"
         },
         "mode": "lines",
         "type": "scatter",
         "x": [
          -5.196152422706632,
          -14.45683229480096,
          -14.45683229480096,
          -6.928203230275509
         ],
         "xaxis": "x",
         "y": [
          3900,
          3900,
          3941.25,
          3941.25
         ],
         "yaxis": "y"
        },
        {
         "hoverinfo": "text",
         "marker": {
          "color": "rgb(35,205,205)"
         },
         "mode": "lines",
         "type": "scatter",
         "x": [
          -11.661903789690601,
          -29.154759474226502,
          -29.154759474226502,
          -14.45683229480096
         ],
         "xaxis": "x",
         "y": [
          3841.25,
          3841.25,
          3920.625,
          3920.625
         ],
         "yaxis": "y"
        },
        {
         "hoverinfo": "text",
         "marker": {
          "color": "rgb(35,205,205)"
         },
         "mode": "lines",
         "type": "scatter",
         "x": [
          -25.45584412271571,
          -59,
          -59,
          -29.154759474226502
         ],
         "xaxis": "x",
         "y": [
          3722.8125,
          3722.8125,
          3880.9375,
          3880.9375
         ],
         "yaxis": "y"
        },
        {
         "hoverinfo": "text",
         "marker": {
          "color": "rgb(35,205,205)"
         },
         "mode": "lines",
         "type": "scatter",
         "x": [
          0,
          -1.7320508075688772,
          -1.7320508075688772,
          0
         ],
         "xaxis": "x",
         "y": [
          3975,
          3975,
          3985,
          3985
         ],
         "yaxis": "y"
        },
        {
         "hoverinfo": "text",
         "marker": {
          "color": "rgb(35,205,205)"
         },
         "mode": "lines",
         "type": "scatter",
         "x": [
          0,
          -1.7320508075688772,
          -1.7320508075688772,
          0
         ],
         "xaxis": "x",
         "y": [
          3995,
          3995,
          4005,
          4005
         ],
         "yaxis": "y"
        },
        {
         "hoverinfo": "text",
         "marker": {
          "color": "rgb(35,205,205)"
         },
         "mode": "lines",
         "type": "scatter",
         "x": [
          -1.7320508075688772,
          -5.196152422706632,
          -5.196152422706632,
          -1.7320508075688772
         ],
         "xaxis": "x",
         "y": [
          3980,
          3980,
          4000,
          4000
         ],
         "yaxis": "y"
        },
        {
         "hoverinfo": "text",
         "marker": {
          "color": "rgb(35,205,205)"
         },
         "mode": "lines",
         "type": "scatter",
         "x": [
          0,
          -1.7320508075688772,
          -1.7320508075688772,
          0
         ],
         "xaxis": "x",
         "y": [
          4015,
          4015,
          4025,
          4025
         ],
         "yaxis": "y"
        },
        {
         "hoverinfo": "text",
         "marker": {
          "color": "rgb(35,205,205)"
         },
         "mode": "lines",
         "type": "scatter",
         "x": [
          0,
          -1.7320508075688772,
          -1.7320508075688772,
          0
         ],
         "xaxis": "x",
         "y": [
          4035,
          4035,
          4045,
          4045
         ],
         "yaxis": "y"
        },
        {
         "hoverinfo": "text",
         "marker": {
          "color": "rgb(35,205,205)"
         },
         "mode": "lines",
         "type": "scatter",
         "x": [
          -1.7320508075688772,
          -5.196152422706632,
          -5.196152422706632,
          -1.7320508075688772
         ],
         "xaxis": "x",
         "y": [
          4020,
          4020,
          4040,
          4040
         ],
         "yaxis": "y"
        },
        {
         "hoverinfo": "text",
         "marker": {
          "color": "rgb(35,205,205)"
         },
         "mode": "lines",
         "type": "scatter",
         "x": [
          -5.196152422706632,
          -12.12435565298214,
          -12.12435565298214,
          -5.196152422706632
         ],
         "xaxis": "x",
         "y": [
          3990,
          3990,
          4030,
          4030
         ],
         "yaxis": "y"
        },
        {
         "hoverinfo": "text",
         "marker": {
          "color": "rgb(35,205,205)"
         },
         "mode": "lines",
         "type": "scatter",
         "x": [
          0,
          -1.7320508075688772,
          -1.7320508075688772,
          0
         ],
         "xaxis": "x",
         "y": [
          4055,
          4055,
          4065,
          4065
         ],
         "yaxis": "y"
        },
        {
         "hoverinfo": "text",
         "marker": {
          "color": "rgb(35,205,205)"
         },
         "mode": "lines",
         "type": "scatter",
         "x": [
          0,
          -1.7320508075688772,
          -1.7320508075688772,
          0
         ],
         "xaxis": "x",
         "y": [
          4075,
          4075,
          4085,
          4085
         ],
         "yaxis": "y"
        },
        {
         "hoverinfo": "text",
         "marker": {
          "color": "rgb(35,205,205)"
         },
         "mode": "lines",
         "type": "scatter",
         "x": [
          -1.7320508075688772,
          -5.196152422706632,
          -5.196152422706632,
          -1.7320508075688772
         ],
         "xaxis": "x",
         "y": [
          4060,
          4060,
          4080,
          4080
         ],
         "yaxis": "y"
        },
        {
         "hoverinfo": "text",
         "marker": {
          "color": "rgb(35,205,205)"
         },
         "mode": "lines",
         "type": "scatter",
         "x": [
          0,
          -1.7320508075688772,
          -1.7320508075688772,
          0
         ],
         "xaxis": "x",
         "y": [
          4095,
          4095,
          4105,
          4105
         ],
         "yaxis": "y"
        },
        {
         "hoverinfo": "text",
         "marker": {
          "color": "rgb(35,205,205)"
         },
         "mode": "lines",
         "type": "scatter",
         "x": [
          0,
          -1.7320508075688772,
          -1.7320508075688772,
          0
         ],
         "xaxis": "x",
         "y": [
          4115,
          4115,
          4125,
          4125
         ],
         "yaxis": "y"
        },
        {
         "hoverinfo": "text",
         "marker": {
          "color": "rgb(35,205,205)"
         },
         "mode": "lines",
         "type": "scatter",
         "x": [
          -1.7320508075688772,
          -5.196152422706632,
          -5.196152422706632,
          -1.7320508075688772
         ],
         "xaxis": "x",
         "y": [
          4100,
          4100,
          4120,
          4120
         ],
         "yaxis": "y"
        },
        {
         "hoverinfo": "text",
         "marker": {
          "color": "rgb(35,205,205)"
         },
         "mode": "lines",
         "type": "scatter",
         "x": [
          -5.196152422706632,
          -12.12435565298214,
          -12.12435565298214,
          -5.196152422706632
         ],
         "xaxis": "x",
         "y": [
          4070,
          4070,
          4110,
          4110
         ],
         "yaxis": "y"
        },
        {
         "hoverinfo": "text",
         "marker": {
          "color": "rgb(35,205,205)"
         },
         "mode": "lines",
         "type": "scatter",
         "x": [
          -12.12435565298214,
          -25.98076211353316,
          -25.98076211353316,
          -12.12435565298214
         ],
         "xaxis": "x",
         "y": [
          4010,
          4010,
          4090,
          4090
         ],
         "yaxis": "y"
        },
        {
         "hoverinfo": "text",
         "marker": {
          "color": "rgb(35,205,205)"
         },
         "mode": "lines",
         "type": "scatter",
         "x": [
          0,
          -1.7320508075688772,
          -1.7320508075688772,
          0
         ],
         "xaxis": "x",
         "y": [
          4135,
          4135,
          4145,
          4145
         ],
         "yaxis": "y"
        },
        {
         "hoverinfo": "text",
         "marker": {
          "color": "rgb(35,205,205)"
         },
         "mode": "lines",
         "type": "scatter",
         "x": [
          0,
          -1.7320508075688772,
          -1.7320508075688772,
          0
         ],
         "xaxis": "x",
         "y": [
          4155,
          4155,
          4165,
          4165
         ],
         "yaxis": "y"
        },
        {
         "hoverinfo": "text",
         "marker": {
          "color": "rgb(35,205,205)"
         },
         "mode": "lines",
         "type": "scatter",
         "x": [
          -1.7320508075688772,
          -5.196152422706632,
          -5.196152422706632,
          -1.7320508075688772
         ],
         "xaxis": "x",
         "y": [
          4140,
          4140,
          4160,
          4160
         ],
         "yaxis": "y"
        },
        {
         "hoverinfo": "text",
         "marker": {
          "color": "rgb(35,205,205)"
         },
         "mode": "lines",
         "type": "scatter",
         "x": [
          0,
          -1.7320508075688772,
          -1.7320508075688772,
          0
         ],
         "xaxis": "x",
         "y": [
          4175,
          4175,
          4185,
          4185
         ],
         "yaxis": "y"
        },
        {
         "hoverinfo": "text",
         "marker": {
          "color": "rgb(35,205,205)"
         },
         "mode": "lines",
         "type": "scatter",
         "x": [
          0,
          -1.7320508075688772,
          -1.7320508075688772,
          0
         ],
         "xaxis": "x",
         "y": [
          4205,
          4205,
          4215,
          4215
         ],
         "yaxis": "y"
        },
        {
         "hoverinfo": "text",
         "marker": {
          "color": "rgb(35,205,205)"
         },
         "mode": "lines",
         "type": "scatter",
         "x": [
          0,
          -3.4641016151377544,
          -3.4641016151377544,
          -1.7320508075688772
         ],
         "xaxis": "x",
         "y": [
          4195,
          4195,
          4210,
          4210
         ],
         "yaxis": "y"
        },
        {
         "hoverinfo": "text",
         "marker": {
          "color": "rgb(35,205,205)"
         },
         "mode": "lines",
         "type": "scatter",
         "x": [
          -1.7320508075688772,
          -6.928203230275509,
          -6.928203230275509,
          -3.4641016151377544
         ],
         "xaxis": "x",
         "y": [
          4180,
          4180,
          4202.5,
          4202.5
         ],
         "yaxis": "y"
        },
        {
         "hoverinfo": "text",
         "marker": {
          "color": "rgb(35,205,205)"
         },
         "mode": "lines",
         "type": "scatter",
         "x": [
          -5.196152422706632,
          -13.856406460551018,
          -13.856406460551018,
          -6.928203230275509
         ],
         "xaxis": "x",
         "y": [
          4150,
          4150,
          4191.25,
          4191.25
         ],
         "yaxis": "y"
        },
        {
         "hoverinfo": "text",
         "marker": {
          "color": "rgb(35,205,205)"
         },
         "mode": "lines",
         "type": "scatter",
         "x": [
          0,
          -1.7320508075688772,
          -1.7320508075688772,
          0
         ],
         "xaxis": "x",
         "y": [
          4235,
          4235,
          4245,
          4245
         ],
         "yaxis": "y"
        },
        {
         "hoverinfo": "text",
         "marker": {
          "color": "rgb(35,205,205)"
         },
         "mode": "lines",
         "type": "scatter",
         "x": [
          0,
          -3.4641016151377544,
          -3.4641016151377544,
          -1.7320508075688772
         ],
         "xaxis": "x",
         "y": [
          4225,
          4225,
          4240,
          4240
         ],
         "yaxis": "y"
        },
        {
         "hoverinfo": "text",
         "marker": {
          "color": "rgb(35,205,205)"
         },
         "mode": "lines",
         "type": "scatter",
         "x": [
          0,
          -1.7320508075688772,
          -1.7320508075688772,
          0
         ],
         "xaxis": "x",
         "y": [
          4255,
          4255,
          4265,
          4265
         ],
         "yaxis": "y"
        },
        {
         "hoverinfo": "text",
         "marker": {
          "color": "rgb(35,205,205)"
         },
         "mode": "lines",
         "type": "scatter",
         "x": [
          0,
          -1.7320508075688772,
          -1.7320508075688772,
          0
         ],
         "xaxis": "x",
         "y": [
          4275,
          4275,
          4285,
          4285
         ],
         "yaxis": "y"
        },
        {
         "hoverinfo": "text",
         "marker": {
          "color": "rgb(35,205,205)"
         },
         "mode": "lines",
         "type": "scatter",
         "x": [
          -1.7320508075688772,
          -5.196152422706632,
          -5.196152422706632,
          -1.7320508075688772
         ],
         "xaxis": "x",
         "y": [
          4260,
          4260,
          4280,
          4280
         ],
         "yaxis": "y"
        },
        {
         "hoverinfo": "text",
         "marker": {
          "color": "rgb(35,205,205)"
         },
         "mode": "lines",
         "type": "scatter",
         "x": [
          -3.4641016151377544,
          -10.392304845413264,
          -10.392304845413264,
          -5.196152422706632
         ],
         "xaxis": "x",
         "y": [
          4232.5,
          4232.5,
          4270,
          4270
         ],
         "yaxis": "y"
        },
        {
         "hoverinfo": "text",
         "marker": {
          "color": "rgb(35,205,205)"
         },
         "mode": "lines",
         "type": "scatter",
         "x": [
          0,
          -1.7320508075688772,
          -1.7320508075688772,
          0
         ],
         "xaxis": "x",
         "y": [
          4305,
          4305,
          4315,
          4315
         ],
         "yaxis": "y"
        },
        {
         "hoverinfo": "text",
         "marker": {
          "color": "rgb(35,205,205)"
         },
         "mode": "lines",
         "type": "scatter",
         "x": [
          0,
          -3.4641016151377544,
          -3.4641016151377544,
          -1.7320508075688772
         ],
         "xaxis": "x",
         "y": [
          4295,
          4295,
          4310,
          4310
         ],
         "yaxis": "y"
        },
        {
         "hoverinfo": "text",
         "marker": {
          "color": "rgb(35,205,205)"
         },
         "mode": "lines",
         "type": "scatter",
         "x": [
          0,
          -1.7320508075688772,
          -1.7320508075688772,
          0
         ],
         "xaxis": "x",
         "y": [
          4325,
          4325,
          4335,
          4335
         ],
         "yaxis": "y"
        },
        {
         "hoverinfo": "text",
         "marker": {
          "color": "rgb(35,205,205)"
         },
         "mode": "lines",
         "type": "scatter",
         "x": [
          0,
          -1.7320508075688772,
          -1.7320508075688772,
          0
         ],
         "xaxis": "x",
         "y": [
          4345,
          4345,
          4355,
          4355
         ],
         "yaxis": "y"
        },
        {
         "hoverinfo": "text",
         "marker": {
          "color": "rgb(35,205,205)"
         },
         "mode": "lines",
         "type": "scatter",
         "x": [
          -1.7320508075688772,
          -5.196152422706632,
          -5.196152422706632,
          -1.7320508075688772
         ],
         "xaxis": "x",
         "y": [
          4330,
          4330,
          4350,
          4350
         ],
         "yaxis": "y"
        },
        {
         "hoverinfo": "text",
         "marker": {
          "color": "rgb(35,205,205)"
         },
         "mode": "lines",
         "type": "scatter",
         "x": [
          -3.4641016151377544,
          -10.392304845413264,
          -10.392304845413264,
          -5.196152422706632
         ],
         "xaxis": "x",
         "y": [
          4302.5,
          4302.5,
          4340,
          4340
         ],
         "yaxis": "y"
        },
        {
         "hoverinfo": "text",
         "marker": {
          "color": "rgb(35,205,205)"
         },
         "mode": "lines",
         "type": "scatter",
         "x": [
          -10.392304845413264,
          -23.727621035409346,
          -23.727621035409346,
          -10.392304845413264
         ],
         "xaxis": "x",
         "y": [
          4251.25,
          4251.25,
          4321.25,
          4321.25
         ],
         "yaxis": "y"
        },
        {
         "hoverinfo": "text",
         "marker": {
          "color": "rgb(35,205,205)"
         },
         "mode": "lines",
         "type": "scatter",
         "x": [
          -13.856406460551018,
          -39.91240408695021,
          -39.91240408695021,
          -23.727621035409346
         ],
         "xaxis": "x",
         "y": [
          4170.625,
          4170.625,
          4286.25,
          4286.25
         ],
         "yaxis": "y"
        },
        {
         "hoverinfo": "text",
         "marker": {
          "color": "rgb(35,205,205)"
         },
         "mode": "lines",
         "type": "scatter",
         "x": [
          -25.98076211353316,
          -67.59437846448475,
          -67.59437846448475,
          -39.91240408695021
         ],
         "xaxis": "x",
         "y": [
          4050,
          4050,
          4228.4375,
          4228.4375
         ],
         "yaxis": "y"
        },
        {
         "hoverinfo": "text",
         "marker": {
          "color": "rgb(35,205,205)"
         },
         "mode": "lines",
         "type": "scatter",
         "x": [
          -59,
          -128.7555824032496,
          -128.7555824032496,
          -67.59437846448475
         ],
         "xaxis": "x",
         "y": [
          3801.875,
          3801.875,
          4139.21875,
          4139.21875
         ],
         "yaxis": "y"
        },
        {
         "hoverinfo": "text",
         "marker": {
          "color": "rgb(35,205,205)"
         },
         "mode": "lines",
         "type": "scatter",
         "x": [
          -83.91066678319271,
          -215.01860384627187,
          -215.01860384627187,
          -128.7555824032496
         ],
         "xaxis": "x",
         "y": [
          3403.28125,
          3403.28125,
          3970.546875,
          3970.546875
         ],
         "yaxis": "y"
        },
        {
         "hoverinfo": "text",
         "marker": {
          "color": "rgb(35,205,205)"
         },
         "mode": "lines",
         "type": "scatter",
         "x": [
          -90.89041058390654,
          -365.3573140699998,
          -365.3573140699998,
          -215.01860384627187
         ],
         "xaxis": "x",
         "y": [
          3180,
          3180,
          3686.9140625,
          3686.9140625
         ],
         "yaxis": "y"
        },
        {
         "hoverinfo": "text",
         "marker": {
          "color": "rgb(35,205,205)"
         },
         "mode": "lines",
         "type": "scatter",
         "x": [
          -161.22034611053283,
          -400.9869595586758,
          -400.9869595586758,
          -365.3573140699998
         ],
         "xaxis": "x",
         "y": [
          2698.828125,
          2698.828125,
          3433.45703125,
          3433.45703125
         ],
         "yaxis": "y"
        },
        {
         "hoverinfo": "text",
         "marker": {
          "color": "rgb(35,205,205)"
         },
         "mode": "lines",
         "type": "scatter",
         "x": [
          -191.57140701917885,
          -567.078728274546,
          -567.078728274546,
          -400.9869595586758
         ],
         "xaxis": "x",
         "y": [
          2291.875,
          2291.875,
          3066.142578125,
          3066.142578125
         ],
         "yaxis": "y"
        },
        {
         "hoverinfo": "text",
         "marker": {
          "color": "rgb(35,205,205)"
         },
         "mode": "lines",
         "type": "scatter",
         "x": [
          -455.6336494377912,
          -699.6629047461197,
          -699.6629047461197,
          -567.078728274546
         ],
         "xaxis": "x",
         "y": [
          1139.5703125,
          1139.5703125,
          2679.0087890625,
          2679.0087890625
         ],
         "yaxis": "y"
        },
        {
         "hoverinfo": "text",
         "marker": {
          "color": "rgb(0,116,217)"
         },
         "mode": "lines",
         "type": "scatter",
         "x": [
          -608.939658924541,
          -1019.1561118286922,
          -1019.1561118286922,
          -699.6629047461197
         ],
         "xaxis": "x",
         "y": [
          350.546875,
          350.546875,
          1909.28955078125,
          1909.28955078125
         ],
         "yaxis": "y"
        },
        {
         "hoverinfo": "text",
         "marker": {
          "color": "rgb(0,116,217)"
         },
         "mode": "lines",
         "type": "scatter",
         "x": [
          -447.2030204719937,
          -1282.9135311878226,
          -1282.9135311878226,
          -1019.1561118286922
         ],
         "xaxis": "x",
         "y": [
          67.0703125,
          67.0703125,
          1129.918212890625,
          1129.918212890625
         ],
         "yaxis": "y"
        }
       ],
       "layout": {
        "autosize": false,
        "height": 4500,
        "hovermode": "closest",
        "showlegend": false,
        "template": {
         "data": {
          "bar": [
           {
            "error_x": {
             "color": "#2a3f5f"
            },
            "error_y": {
             "color": "#2a3f5f"
            },
            "marker": {
             "line": {
              "color": "#E5ECF6",
              "width": 0.5
             },
             "pattern": {
              "fillmode": "overlay",
              "size": 10,
              "solidity": 0.2
             }
            },
            "type": "bar"
           }
          ],
          "barpolar": [
           {
            "marker": {
             "line": {
              "color": "#E5ECF6",
              "width": 0.5
             },
             "pattern": {
              "fillmode": "overlay",
              "size": 10,
              "solidity": 0.2
             }
            },
            "type": "barpolar"
           }
          ],
          "carpet": [
           {
            "aaxis": {
             "endlinecolor": "#2a3f5f",
             "gridcolor": "white",
             "linecolor": "white",
             "minorgridcolor": "white",
             "startlinecolor": "#2a3f5f"
            },
            "baxis": {
             "endlinecolor": "#2a3f5f",
             "gridcolor": "white",
             "linecolor": "white",
             "minorgridcolor": "white",
             "startlinecolor": "#2a3f5f"
            },
            "type": "carpet"
           }
          ],
          "choropleth": [
           {
            "colorbar": {
             "outlinewidth": 0,
             "ticks": ""
            },
            "type": "choropleth"
           }
          ],
          "contour": [
           {
            "colorbar": {
             "outlinewidth": 0,
             "ticks": ""
            },
            "colorscale": [
             [
              0,
              "#0d0887"
             ],
             [
              0.1111111111111111,
              "#46039f"
             ],
             [
              0.2222222222222222,
              "#7201a8"
             ],
             [
              0.3333333333333333,
              "#9c179e"
             ],
             [
              0.4444444444444444,
              "#bd3786"
             ],
             [
              0.5555555555555556,
              "#d8576b"
             ],
             [
              0.6666666666666666,
              "#ed7953"
             ],
             [
              0.7777777777777778,
              "#fb9f3a"
             ],
             [
              0.8888888888888888,
              "#fdca26"
             ],
             [
              1,
              "#f0f921"
             ]
            ],
            "type": "contour"
           }
          ],
          "contourcarpet": [
           {
            "colorbar": {
             "outlinewidth": 0,
             "ticks": ""
            },
            "type": "contourcarpet"
           }
          ],
          "heatmap": [
           {
            "colorbar": {
             "outlinewidth": 0,
             "ticks": ""
            },
            "colorscale": [
             [
              0,
              "#0d0887"
             ],
             [
              0.1111111111111111,
              "#46039f"
             ],
             [
              0.2222222222222222,
              "#7201a8"
             ],
             [
              0.3333333333333333,
              "#9c179e"
             ],
             [
              0.4444444444444444,
              "#bd3786"
             ],
             [
              0.5555555555555556,
              "#d8576b"
             ],
             [
              0.6666666666666666,
              "#ed7953"
             ],
             [
              0.7777777777777778,
              "#fb9f3a"
             ],
             [
              0.8888888888888888,
              "#fdca26"
             ],
             [
              1,
              "#f0f921"
             ]
            ],
            "type": "heatmap"
           }
          ],
          "heatmapgl": [
           {
            "colorbar": {
             "outlinewidth": 0,
             "ticks": ""
            },
            "colorscale": [
             [
              0,
              "#0d0887"
             ],
             [
              0.1111111111111111,
              "#46039f"
             ],
             [
              0.2222222222222222,
              "#7201a8"
             ],
             [
              0.3333333333333333,
              "#9c179e"
             ],
             [
              0.4444444444444444,
              "#bd3786"
             ],
             [
              0.5555555555555556,
              "#d8576b"
             ],
             [
              0.6666666666666666,
              "#ed7953"
             ],
             [
              0.7777777777777778,
              "#fb9f3a"
             ],
             [
              0.8888888888888888,
              "#fdca26"
             ],
             [
              1,
              "#f0f921"
             ]
            ],
            "type": "heatmapgl"
           }
          ],
          "histogram": [
           {
            "marker": {
             "pattern": {
              "fillmode": "overlay",
              "size": 10,
              "solidity": 0.2
             }
            },
            "type": "histogram"
           }
          ],
          "histogram2d": [
           {
            "colorbar": {
             "outlinewidth": 0,
             "ticks": ""
            },
            "colorscale": [
             [
              0,
              "#0d0887"
             ],
             [
              0.1111111111111111,
              "#46039f"
             ],
             [
              0.2222222222222222,
              "#7201a8"
             ],
             [
              0.3333333333333333,
              "#9c179e"
             ],
             [
              0.4444444444444444,
              "#bd3786"
             ],
             [
              0.5555555555555556,
              "#d8576b"
             ],
             [
              0.6666666666666666,
              "#ed7953"
             ],
             [
              0.7777777777777778,
              "#fb9f3a"
             ],
             [
              0.8888888888888888,
              "#fdca26"
             ],
             [
              1,
              "#f0f921"
             ]
            ],
            "type": "histogram2d"
           }
          ],
          "histogram2dcontour": [
           {
            "colorbar": {
             "outlinewidth": 0,
             "ticks": ""
            },
            "colorscale": [
             [
              0,
              "#0d0887"
             ],
             [
              0.1111111111111111,
              "#46039f"
             ],
             [
              0.2222222222222222,
              "#7201a8"
             ],
             [
              0.3333333333333333,
              "#9c179e"
             ],
             [
              0.4444444444444444,
              "#bd3786"
             ],
             [
              0.5555555555555556,
              "#d8576b"
             ],
             [
              0.6666666666666666,
              "#ed7953"
             ],
             [
              0.7777777777777778,
              "#fb9f3a"
             ],
             [
              0.8888888888888888,
              "#fdca26"
             ],
             [
              1,
              "#f0f921"
             ]
            ],
            "type": "histogram2dcontour"
           }
          ],
          "mesh3d": [
           {
            "colorbar": {
             "outlinewidth": 0,
             "ticks": ""
            },
            "type": "mesh3d"
           }
          ],
          "parcoords": [
           {
            "line": {
             "colorbar": {
              "outlinewidth": 0,
              "ticks": ""
             }
            },
            "type": "parcoords"
           }
          ],
          "pie": [
           {
            "automargin": true,
            "type": "pie"
           }
          ],
          "scatter": [
           {
            "fillpattern": {
             "fillmode": "overlay",
             "size": 10,
             "solidity": 0.2
            },
            "type": "scatter"
           }
          ],
          "scatter3d": [
           {
            "line": {
             "colorbar": {
              "outlinewidth": 0,
              "ticks": ""
             }
            },
            "marker": {
             "colorbar": {
              "outlinewidth": 0,
              "ticks": ""
             }
            },
            "type": "scatter3d"
           }
          ],
          "scattercarpet": [
           {
            "marker": {
             "colorbar": {
              "outlinewidth": 0,
              "ticks": ""
             }
            },
            "type": "scattercarpet"
           }
          ],
          "scattergeo": [
           {
            "marker": {
             "colorbar": {
              "outlinewidth": 0,
              "ticks": ""
             }
            },
            "type": "scattergeo"
           }
          ],
          "scattergl": [
           {
            "marker": {
             "colorbar": {
              "outlinewidth": 0,
              "ticks": ""
             }
            },
            "type": "scattergl"
           }
          ],
          "scattermapbox": [
           {
            "marker": {
             "colorbar": {
              "outlinewidth": 0,
              "ticks": ""
             }
            },
            "type": "scattermapbox"
           }
          ],
          "scatterpolar": [
           {
            "marker": {
             "colorbar": {
              "outlinewidth": 0,
              "ticks": ""
             }
            },
            "type": "scatterpolar"
           }
          ],
          "scatterpolargl": [
           {
            "marker": {
             "colorbar": {
              "outlinewidth": 0,
              "ticks": ""
             }
            },
            "type": "scatterpolargl"
           }
          ],
          "scatterternary": [
           {
            "marker": {
             "colorbar": {
              "outlinewidth": 0,
              "ticks": ""
             }
            },
            "type": "scatterternary"
           }
          ],
          "surface": [
           {
            "colorbar": {
             "outlinewidth": 0,
             "ticks": ""
            },
            "colorscale": [
             [
              0,
              "#0d0887"
             ],
             [
              0.1111111111111111,
              "#46039f"
             ],
             [
              0.2222222222222222,
              "#7201a8"
             ],
             [
              0.3333333333333333,
              "#9c179e"
             ],
             [
              0.4444444444444444,
              "#bd3786"
             ],
             [
              0.5555555555555556,
              "#d8576b"
             ],
             [
              0.6666666666666666,
              "#ed7953"
             ],
             [
              0.7777777777777778,
              "#fb9f3a"
             ],
             [
              0.8888888888888888,
              "#fdca26"
             ],
             [
              1,
              "#f0f921"
             ]
            ],
            "type": "surface"
           }
          ],
          "table": [
           {
            "cells": {
             "fill": {
              "color": "#EBF0F8"
             },
             "line": {
              "color": "white"
             }
            },
            "header": {
             "fill": {
              "color": "#C8D4E3"
             },
             "line": {
              "color": "white"
             }
            },
            "type": "table"
           }
          ]
         },
         "layout": {
          "annotationdefaults": {
           "arrowcolor": "#2a3f5f",
           "arrowhead": 0,
           "arrowwidth": 1
          },
          "autotypenumbers": "strict",
          "coloraxis": {
           "colorbar": {
            "outlinewidth": 0,
            "ticks": ""
           }
          },
          "colorscale": {
           "diverging": [
            [
             0,
             "#8e0152"
            ],
            [
             0.1,
             "#c51b7d"
            ],
            [
             0.2,
             "#de77ae"
            ],
            [
             0.3,
             "#f1b6da"
            ],
            [
             0.4,
             "#fde0ef"
            ],
            [
             0.5,
             "#f7f7f7"
            ],
            [
             0.6,
             "#e6f5d0"
            ],
            [
             0.7,
             "#b8e186"
            ],
            [
             0.8,
             "#7fbc41"
            ],
            [
             0.9,
             "#4d9221"
            ],
            [
             1,
             "#276419"
            ]
           ],
           "sequential": [
            [
             0,
             "#0d0887"
            ],
            [
             0.1111111111111111,
             "#46039f"
            ],
            [
             0.2222222222222222,
             "#7201a8"
            ],
            [
             0.3333333333333333,
             "#9c179e"
            ],
            [
             0.4444444444444444,
             "#bd3786"
            ],
            [
             0.5555555555555556,
             "#d8576b"
            ],
            [
             0.6666666666666666,
             "#ed7953"
            ],
            [
             0.7777777777777778,
             "#fb9f3a"
            ],
            [
             0.8888888888888888,
             "#fdca26"
            ],
            [
             1,
             "#f0f921"
            ]
           ],
           "sequentialminus": [
            [
             0,
             "#0d0887"
            ],
            [
             0.1111111111111111,
             "#46039f"
            ],
            [
             0.2222222222222222,
             "#7201a8"
            ],
            [
             0.3333333333333333,
             "#9c179e"
            ],
            [
             0.4444444444444444,
             "#bd3786"
            ],
            [
             0.5555555555555556,
             "#d8576b"
            ],
            [
             0.6666666666666666,
             "#ed7953"
            ],
            [
             0.7777777777777778,
             "#fb9f3a"
            ],
            [
             0.8888888888888888,
             "#fdca26"
            ],
            [
             1,
             "#f0f921"
            ]
           ]
          },
          "colorway": [
           "#636efa",
           "#EF553B",
           "#00cc96",
           "#ab63fa",
           "#FFA15A",
           "#19d3f3",
           "#FF6692",
           "#B6E880",
           "#FF97FF",
           "#FECB52"
          ],
          "font": {
           "color": "#2a3f5f"
          },
          "geo": {
           "bgcolor": "white",
           "lakecolor": "white",
           "landcolor": "#E5ECF6",
           "showlakes": true,
           "showland": true,
           "subunitcolor": "white"
          },
          "hoverlabel": {
           "align": "left"
          },
          "hovermode": "closest",
          "mapbox": {
           "style": "light"
          },
          "paper_bgcolor": "white",
          "plot_bgcolor": "#E5ECF6",
          "polar": {
           "angularaxis": {
            "gridcolor": "white",
            "linecolor": "white",
            "ticks": ""
           },
           "bgcolor": "#E5ECF6",
           "radialaxis": {
            "gridcolor": "white",
            "linecolor": "white",
            "ticks": ""
           }
          },
          "scene": {
           "xaxis": {
            "backgroundcolor": "#E5ECF6",
            "gridcolor": "white",
            "gridwidth": 2,
            "linecolor": "white",
            "showbackground": true,
            "ticks": "",
            "zerolinecolor": "white"
           },
           "yaxis": {
            "backgroundcolor": "#E5ECF6",
            "gridcolor": "white",
            "gridwidth": 2,
            "linecolor": "white",
            "showbackground": true,
            "ticks": "",
            "zerolinecolor": "white"
           },
           "zaxis": {
            "backgroundcolor": "#E5ECF6",
            "gridcolor": "white",
            "gridwidth": 2,
            "linecolor": "white",
            "showbackground": true,
            "ticks": "",
            "zerolinecolor": "white"
           }
          },
          "shapedefaults": {
           "line": {
            "color": "#2a3f5f"
           }
          },
          "ternary": {
           "aaxis": {
            "gridcolor": "white",
            "linecolor": "white",
            "ticks": ""
           },
           "baxis": {
            "gridcolor": "white",
            "linecolor": "white",
            "ticks": ""
           },
           "bgcolor": "#E5ECF6",
           "caxis": {
            "gridcolor": "white",
            "linecolor": "white",
            "ticks": ""
           }
          },
          "title": {
           "x": 0.05
          },
          "xaxis": {
           "automargin": true,
           "gridcolor": "white",
           "linecolor": "white",
           "ticks": "",
           "title": {
            "standoff": 15
           },
           "zerolinecolor": "white",
           "zerolinewidth": 2
          },
          "yaxis": {
           "automargin": true,
           "gridcolor": "white",
           "linecolor": "white",
           "ticks": "",
           "title": {
            "standoff": 15
           },
           "zerolinecolor": "white",
           "zerolinewidth": 2
          }
         }
        },
        "width": 800,
        "xaxis": {
         "mirror": "allticks",
         "rangemode": "tozero",
         "showgrid": false,
         "showline": true,
         "showticklabels": true,
         "ticks": "outside",
         "type": "linear",
         "zeroline": false
        },
        "yaxis": {
         "mirror": "allticks",
         "rangemode": "tozero",
         "showgrid": false,
         "showline": true,
         "showticklabels": true,
         "tickmode": "array",
         "ticks": "outside",
         "ticktext": [
          "G66_Wanji",
          "G11_Gogo",
          "G32_Doe",
          "G65_Kinga",
          "G37_Kutu",
          "G41_Bajuni",
          "E622A_Kimochi",
          "G22_Asu",
          "P13_Matumbi",
          "N21_Tumbuka_Malawi",
          "N42_Kunda",
          "M64_Tonga",
          "N14_Mpoto",
          "S11_Shona",
          "S16_Kalanga",
          "S42_Zulu",
          "S61_Chopi",
          "P12_Rufiji",
          "P21_Yao",
          "M13_Fipa",
          "M402_Aushi",
          "M23_Nyiha",
          "G64_Pangwa",
          "G44a_Ngazija",
          "G44b_Ndzwani",
          "Mungaka_Grassfields",
          "G42d_Unguja",
          "P22_Mwera",
          "E621B_Machame",
          "E623D_Keni",
          "F12_Bende",
          "M21_Ndali",
          "G34_Nguungulu",
          "F21_Sukuma",
          "G52_Ndamba",
          "G61_Sangu",
          "G42a_Amu",
          "M41_Taabwa",
          "E72a_Giryama",
          "E74a_Dawida",
          "E56_Daiso",
          "E65_Gweno",
          "G24_Bondei",
          "E623A_Kiseri",
          "F31_Nyiramba",
          "F32_Nyaturuwil",
          "N12_Ngoni",
          "P15_Mbunga",
          "E622C_Lema",
          "E623_Mkuu",
          "G32_Kwere",
          "S21_Venda",
          "S311_Shekgalagari",
          "S44_Ndebele",
          "N31_Chewa",
          "P23_Simakonde",
          "S41_Xhosa",
          "S31_Tswana",
          "S54_Ronga",
          "F25_Bungu",
          "F32_Nyaturucha",
          "G12_Kagulu",
          "F21_Ntuzu",
          "E701_Elwana",
          "E73_Digo",
          "G401_Mwani",
          "G43_Kae",
          "G51_Pogoro",
          "M28_Lambya",
          "M15_Mambwe",
          "E621C_Siha",
          "E622C_Mamba",
          "E74a_Tuveta",
          "B86_Dinga",
          "B84_Mbunda",
          "B85_Yanzi",
          "H12_Civili_Congo",
          "H11_Beembe",
          "H111_Hangala",
          "B85e_Mput",
          "B862_Lwel",
          "B864_Ngong",
          "B863_Pindi",
          "H31_Yaka",
          "H321_Soonde",
          "H16_Kikongo",
          "H16c_Yombe",
          "H16f_Laadi",
          "H16g_Ntandu",
          "H32_Suku",
          "H41_Mbala",
          "H42_Hunganna",
          "H16a_Kisikongo_2013",
          "H16a_Kisolongo_DRC_2012",
          "H16b_Kindibu_2013",
          "H16g_Kimpangu_2012",
          "H16h_Kinkanu_2012",
          "L32_Kanyok",
          "L23_Songe",
          "L31a_Luba-Kasai",
          "H16_Cimbala",
          "H16_Cilinji",
          "L11_Pende",
          "L13_Kwese",
          "H16d_Ciwoyo_DRC_2012",
          "H16c_Kiyombe_DRC_1982",
          "H13_Kikunyi_1989",
          "H131_Kisundi_Congo_Kimongo_1988",
          "H21a_Kimbundu",
          "H16_Cizobe",
          "H16_Kimbata_Ngidinga",
          "H16_Kimbeko",
          "K33_Kwangali",
          "K18_Ganguela",
          "K21_Lozi",
          "K31_Luyana",
          "K11_Ciokwe",
          "K14_Lwena",
          "K15_Mbunda",
          "L34_Hemba",
          "L35_Sanga",
          "L52_Lunda",
          "L41_Kaonde",
          "L51_Salampasu",
          "JE15_Luganda",
          "JE16_Lusoga",
          "JE17_Gwere",
          "JE21_Runyambo",
          "JD64_Shubi",
          "JD65_Hangaza",
          "JD66_Kiha",
          "JD67_Kivinza",
          "JE11_Runyoro",
          "JE12_Rutooro",
          "JE13_Runyankore",
          "JE14_Rukiga",
          "K332_Rumanyo",
          "K402_Fwe",
          "R11_Umbundu",
          "R13_Nyaneka",
          "R21_Kwanyama",
          "R22_Ndonga",
          "R31_Herero",
          "R41_Yeyi",
          "L12b_Holu",
          "L53_Runda",
          "L221_Lwalwa",
          "L33_Luba-Shaba",
          "L62_Nkoya",
          "JD53_Shi",
          "JD62_Rundi",
          "G42_Swahili",
          "G22A_North_Pare",
          "G23_Sambaa",
          "G36_Kami",
          "E71A_Upper_Pokomo",
          "E622C_Vunjo",
          "F23_Sumbwa",
          "JE401_Ngoreme",
          "JE403_Suba",
          "JE34_Samialugwe",
          "JE31c_Bukusu",
          "JE32_Luyia",
          "JE22_Haya",
          "JE23_Zinza",
          "JE24_Kerebe",
          "JE25_Jita",
          "JE25_Kilegi",
          "JE25_Mkwaya",
          "JE31_Lumasaaba",
          "E541_Chuka",
          "E55_Kamba",
          "E55_Kamba_Mach",
          "E55_Kamba_Kitu",
          "E53_Meruimenti",
          "E53_Merutig",
          "E54_Tharaka",
          "E531_Muthambi",
          "E531_Mwimbi",
          "E46_Sonjo",
          "E51_Kikuyu",
          "E52_Embu",
          "E52_Mbeere",
          "E53_Meru",
          "E53_Igoji",
          "E53_Tigania",
          "E53_Miutini",
          "E53_Imenti",
          "JE41_Maragoli",
          "JE42_Gusii",
          "JE43_Kuria",
          "JE43_Kuria_Mago",
          "JE402_Ikizu",
          "JE45_Nata",
          "JE404_Shasi",
          "JE43_Kuria_Tari",
          "JE44_Zanaki",
          "M12_Lungwa",
          "M31_Nyakyusa",
          "M52_Lala",
          "N44_Sena",
          "M54_Lamba",
          "M61_Lenje",
          "P25_Mabia",
          "P31_Emakhua",
          "M24_Malila",
          "M62_Soli",
          "G44D_Maore",
          "M21_Wanda",
          "N11_Manda",
          "N13_Matengo",
          "P11_Ndengeleko",
          "M14_Rungu",
          "G39_Saghala",
          "G62_Hehe",
          "G63_Bena",
          "E621D_Kibosho",
          "E64_Kahe",
          "F22_Nyamwezi",
          "G33_Zaramo",
          "P14_Ngindo",
          "P34_Cuwabo",
          "P31G_Ikorovere",
          "S15_Ndau",
          "S51_Tshwa",
          "S53_Tsonga",
          "M11_Pimbwe",
          "F33_Langi",
          "G22B_South_Pare",
          "G412_Mwiini",
          "M25_Safwa",
          "G35_Luguru",
          "F24_Kimbu",
          "G31_Zigua",
          "A24_Duala",
          "A26_Pongo",
          "A27_Malimba",
          "A31_Bubi",
          "A32C_Batanga",
          "A33a_Yasa",
          "A34_Benga",
          "A41_Barombi-Kang",
          "A42_Abo",
          "A43a_Basaa",
          "A44_Tunen",
          "A45_Nyokon",
          "A46_Nomaande",
          "A462_Yambeta",
          "A51_Bafia_maja",
          "A53_Bafia_rikpa",
          "Tiv_Tivoid",
          "Njen_Grassfields",
          "Moghamo_Grassfields",
          "Bamun_Grassfields",
          "Kom_Grassfields",
          "Oku_Grassfields",
          "Aghem_Grassfields",
          "A151_Nkongho",
          "A22_Bakweri",
          "A15B_Mienge_NW_Manenguba",
          "A15C_Elung_Central_Manenguba",
          "A15C_Akossi",
          "A15C_Mkaa",
          "A11_Londo",
          "A121_Mbonge",
          "A122_Bakundu",
          "A141_Lefo",
          "A15_Manenguba",
          "A15A_Mbuu",
          "A84_Njem",
          "A841_Badwe",
          "A86c_Mpiemo",
          "A85b_Bekwil_Makokou",
          "A85b_Bekwil_Mv",
          "A75a_Fang_Minvoul",
          "A75a_Fang_Medouneu",
          "A801_Gyeli",
          "A803_Shiwa",
          "A81_Kwasio",
          "A83_Mekaa",
          "A832_Bekol",
          "A87_Bomwali",
          "A91_Kwakum",
          "A93_Kako",
          "B11a_Mpongwe",
          "B11b_Orungu",
          "B11c_Galwa",
          "B11d_Dyumba",
          "B11F_Enenga",
          "B31_Tsogo",
          "B301_Viya",
          "B302_Himba",
          "B304_Pinzi",
          "B305_Vove",
          "B32_Kande",
          "A54_Tibea",
          "A601_Tuki",
          "A61_Ngoro-Asom",
          "A61_Ngoro-Bisoo",
          "A61_Ngoro-lunda",
          "A62A_Nuasue",
          "A62C_Libie",
          "A62A_Nukalonge",
          "A62B_Mmala",
          "A621_Nubaca",
          "A622_Nugunu",
          "A63_Mangisa",
          "Zaambo_Jarawan",
          "Bwazza_Jarawan",
          "Mbula_Jarawan",
          "A75a_Fang_Bitam",
          "A72a_Ewondo",
          "A74a_Bulu",
          "Bile_Jarawan",
          "Kulung_Jarawan",
          "Duguri_Jarawan",
          "A71_Eton",
          "M22_Namwanga",
          "M42_Bemba",
          "C44_Bwa",
          "C51_Mbesa",
          "C52_Soko",
          "C55_Lokele",
          "C54_Turumba_1919",
          "C52_Soko_1919",
          "C71_Tetela",
          "C61_Mongo",
          "C61E_Konda",
          "C22_Akwa",
          "C24_Koyo",
          "C25_Mboshi",
          "C25A_Bunji",
          "C25B_Olee",
          "C25C_Ondinga",
          "C25E_Eboyi",
          "C322_Zamba",
          "C323_Mpama",
          "C32_Bobangi",
          "C34_Sakata",
          "C36d_Lingala",
          "C41_Ngombe",
          "C43A_Baati",
          "C101_Babole_Ep",
          "C101_Babole_Ma",
          "C101_Babole_Dz",
          "C104_Aka",
          "C105_Mbenga",
          "C141_Bonyala",
          "C15_Bongili",
          "C21_Ngare",
          "B21_Seki",
          "B22a_Kele",
          "B22b_Ngom",
          "B22b_Koya",
          "B22E_Mwesa",
          "B23_Mbangwe",
          "B24_Wumbvu",
          "B25_Kota",
          "B251_Shake",
          "B252_Mahongwe",
          "B201_Ndasa",
          "B202_Sigu",
          "B203_Samaye",
          "B204_Ndambomo_Li",
          "B204_Ndambomo_Mbadi",
          "B204_Ndambomo_Massoukou",
          "B861_Ngul",
          "B82_Buma",
          "B81_Tiene",
          "B85d_Nsongo",
          "B86_Dzing",
          "B865_Nzadi",
          "B602_Kaningi_Nord",
          "B602_Kaningi_Sud",
          "B71a_Teke_Os",
          "B71a_Teke_Dj",
          "B77b_Fumu",
          "B78_Wuumu",
          "B701_Atsitsege",
          "B71aIb_Teke_Ibali_Congo",
          "B71aLe_Teke_Leconi",
          "B501_Wanzi_Mo",
          "B53_Tsaangi_Poungi",
          "B501_Wanzi_E",
          "B503_Vili",
          "B62_Mbaama",
          "B63_Ndumu",
          "B601_Lempini",
          "B41_Shira",
          "B42_Sangu_Mi",
          "B42_Sangu_Mb",
          "B43_Punu",
          "B44_Lumbu",
          "B404_Ngubi",
          "B52_Nzebi",
          "B51_Duma",
          "B51_Duma_La",
          "C76_Ombo",
          "C81_Dengese",
          "C85_Wongo",
          "C83_Bushong",
          "C302_Bolondo",
          "C37_Ebudza",
          "C42_Ebwela",
          "C412_Libobi",
          "C142_Mondongo",
          "C36g_Monyongo",
          "C36g_Mosange",
          "C401_Pakabete",
          "C401_Babati_1919",
          "D11_Mbole",
          "D12_Lengola",
          "D13_Metoko",
          "D14_Enya",
          "*D20B_Vamba_1919",
          "D201_Liko",
          "D21_Baali",
          "D211_Kango",
          "D23_Kibira-Kumu_1919",
          "D28_Holoholo",
          "D24_Songola",
          "D25_Lega",
          "*D308_Bodo2",
          "D313_Mbuttu_1919",
          "*D308_Ebodo",
          "*D304_Homa_1919",
          "*D305_Nyanga-li",
          "D311_Bila",
          "D331_Bvanuma",
          "D55_Buyu",
          "D334_Mbo",
          "D43_Nyanga",
          "D32_Bira",
          "D32_Bira_Bunia",
          "D33_Nyali",
          "D333_Ndaaka"
         ],
         "tickvals": [
          5,
          15,
          25,
          35,
          45,
          55,
          65,
          75,
          85,
          95,
          105,
          115,
          125,
          135,
          145,
          155,
          165,
          175,
          185,
          195,
          205,
          215,
          225,
          235,
          245,
          255,
          265,
          275,
          285,
          295,
          305,
          315,
          325,
          335,
          345,
          355,
          365,
          375,
          385,
          395,
          405,
          415,
          425,
          435,
          445,
          455,
          465,
          475,
          485,
          495,
          505,
          515,
          525,
          535,
          545,
          555,
          565,
          575,
          585,
          595,
          605,
          615,
          625,
          635,
          645,
          655,
          665,
          675,
          685,
          695,
          705,
          715,
          725,
          735,
          745,
          755,
          765,
          775,
          785,
          795,
          805,
          815,
          825,
          835,
          845,
          855,
          865,
          875,
          885,
          895,
          905,
          915,
          925,
          935,
          945,
          955,
          965,
          975,
          985,
          995,
          1005,
          1015,
          1025,
          1035,
          1045,
          1055,
          1065,
          1075,
          1085,
          1095,
          1105,
          1115,
          1125,
          1135,
          1145,
          1155,
          1165,
          1175,
          1185,
          1195,
          1205,
          1215,
          1225,
          1235,
          1245,
          1255,
          1265,
          1275,
          1285,
          1295,
          1305,
          1315,
          1325,
          1335,
          1345,
          1355,
          1365,
          1375,
          1385,
          1395,
          1405,
          1415,
          1425,
          1435,
          1445,
          1455,
          1465,
          1475,
          1485,
          1495,
          1505,
          1515,
          1525,
          1535,
          1545,
          1555,
          1565,
          1575,
          1585,
          1595,
          1605,
          1615,
          1625,
          1635,
          1645,
          1655,
          1665,
          1675,
          1685,
          1695,
          1705,
          1715,
          1725,
          1735,
          1745,
          1755,
          1765,
          1775,
          1785,
          1795,
          1805,
          1815,
          1825,
          1835,
          1845,
          1855,
          1865,
          1875,
          1885,
          1895,
          1905,
          1915,
          1925,
          1935,
          1945,
          1955,
          1965,
          1975,
          1985,
          1995,
          2005,
          2015,
          2025,
          2035,
          2045,
          2055,
          2065,
          2075,
          2085,
          2095,
          2105,
          2115,
          2125,
          2135,
          2145,
          2155,
          2165,
          2175,
          2185,
          2195,
          2205,
          2215,
          2225,
          2235,
          2245,
          2255,
          2265,
          2275,
          2285,
          2295,
          2305,
          2315,
          2325,
          2335,
          2345,
          2355,
          2365,
          2375,
          2385,
          2395,
          2405,
          2415,
          2425,
          2435,
          2445,
          2455,
          2465,
          2475,
          2485,
          2495,
          2505,
          2515,
          2525,
          2535,
          2545,
          2555,
          2565,
          2575,
          2585,
          2595,
          2605,
          2615,
          2625,
          2635,
          2645,
          2655,
          2665,
          2675,
          2685,
          2695,
          2705,
          2715,
          2725,
          2735,
          2745,
          2755,
          2765,
          2775,
          2785,
          2795,
          2805,
          2815,
          2825,
          2835,
          2845,
          2855,
          2865,
          2875,
          2885,
          2895,
          2905,
          2915,
          2925,
          2935,
          2945,
          2955,
          2965,
          2975,
          2985,
          2995,
          3005,
          3015,
          3025,
          3035,
          3045,
          3055,
          3065,
          3075,
          3085,
          3095,
          3105,
          3115,
          3125,
          3135,
          3145,
          3155,
          3165,
          3175,
          3185,
          3195,
          3205,
          3215,
          3225,
          3235,
          3245,
          3255,
          3265,
          3275,
          3285,
          3295,
          3305,
          3315,
          3325,
          3335,
          3345,
          3355,
          3365,
          3375,
          3385,
          3395,
          3405,
          3415,
          3425,
          3435,
          3445,
          3455,
          3465,
          3475,
          3485,
          3495,
          3505,
          3515,
          3525,
          3535,
          3545,
          3555,
          3565,
          3575,
          3585,
          3595,
          3605,
          3615,
          3625,
          3635,
          3645,
          3655,
          3665,
          3675,
          3685,
          3695,
          3705,
          3715,
          3725,
          3735,
          3745,
          3755,
          3765,
          3775,
          3785,
          3795,
          3805,
          3815,
          3825,
          3835,
          3845,
          3855,
          3865,
          3875,
          3885,
          3895,
          3905,
          3915,
          3925,
          3935,
          3945,
          3955,
          3965,
          3975,
          3985,
          3995,
          4005,
          4015,
          4025,
          4035,
          4045,
          4055,
          4065,
          4075,
          4085,
          4095,
          4105,
          4115,
          4125,
          4135,
          4145,
          4155,
          4165,
          4175,
          4185,
          4195,
          4205,
          4215,
          4225,
          4235,
          4245,
          4255,
          4265,
          4275,
          4285,
          4295,
          4305,
          4315,
          4325,
          4335,
          4345,
          4355
         ],
         "type": "linear",
         "zeroline": false
        }
       }
      },
      "text/html": [
       "<div>                            <div id=\"6629a9ab-b1fe-436c-9800-5699ecbd4129\" class=\"plotly-graph-div\" style=\"height:4500px; width:800px;\"></div>            <script type=\"text/javascript\">                require([\"plotly\"], function(Plotly) {                    window.PLOTLYENV=window.PLOTLYENV || {};                                    if (document.getElementById(\"6629a9ab-b1fe-436c-9800-5699ecbd4129\")) {                    Plotly.newPlot(                        \"6629a9ab-b1fe-436c-9800-5699ecbd4129\",                        [{\"hoverinfo\":\"text\",\"marker\":{\"color\":\"rgb(61,153,112)\"},\"mode\":\"lines\",\"x\":[-0.0,-11.063754665417534,-11.063754665417534,-0.0],\"xaxis\":\"x\",\"y\":[15.0,15.0,25.0,25.0],\"yaxis\":\"y\",\"type\":\"scatter\"},{\"hoverinfo\":\"text\",\"marker\":{\"color\":\"rgb(61,153,112)\"},\"mode\":\"lines\",\"x\":[-0.0,-9.344797457006313,-9.344797457006313,-0.0],\"xaxis\":\"x\",\"y\":[45.0,45.0,55.0,55.0],\"yaxis\":\"y\",\"type\":\"scatter\"},{\"hoverinfo\":\"text\",\"marker\":{\"color\":\"rgb(61,153,112)\"},\"mode\":\"lines\",\"x\":[-0.0,-13.8781861767238,-13.8781861767238,-9.344797457006313],\"xaxis\":\"x\",\"y\":[35.0,35.0,50.0,50.0],\"yaxis\":\"y\",\"type\":\"scatter\"},{\"hoverinfo\":\"text\",\"marker\":{\"color\":\"rgb(61,153,112)\"},\"mode\":\"lines\",\"x\":[-11.063754665417534,-26.44161612621451,-26.44161612621451,-13.8781861767238],\"xaxis\":\"x\",\"y\":[20.0,20.0,42.5,42.5],\"yaxis\":\"y\",\"type\":\"scatter\"},{\"hoverinfo\":\"text\",\"marker\":{\"color\":\"rgb(61,153,112)\"},\"mode\":\"lines\",\"x\":[-0.0,-62.277644271957655,-62.277644271957655,-26.44161612621451],\"xaxis\":\"x\",\"y\":[5.0,5.0,31.25,31.25],\"yaxis\":\"y\",\"type\":\"scatter\"},{\"hoverinfo\":\"text\",\"marker\":{\"color\":\"rgb(61,153,112)\"},\"mode\":\"lines\",\"x\":[-0.0,-36.71863054088736,-36.71863054088736,-0.0],\"xaxis\":\"x\",\"y\":[65.0,65.0,75.0,75.0],\"yaxis\":\"y\",\"type\":\"scatter\"},{\"hoverinfo\":\"text\",\"marker\":{\"color\":\"rgb(61,153,112)\"},\"mode\":\"lines\",\"x\":[-0.0,-6.232899053590146,-6.232899053590146,-0.0],\"xaxis\":\"x\",\"y\":[95.0,95.0,105.0,105.0],\"yaxis\":\"y\",\"type\":\"scatter\"},{\"hoverinfo\":\"text\",\"marker\":{\"color\":\"rgb(61,153,112)\"},\"mode\":\"lines\",\"x\":[-0.0,-16.378645574778076,-16.378645574778076,-6.232899053590146],\"xaxis\":\"x\",\"y\":[85.0,85.0,100.0,100.0],\"yaxis\":\"y\",\"type\":\"scatter\"},{\"hoverinfo\":\"text\",\"marker\":{\"color\":\"rgb(61,153,112)\"},\"mode\":\"lines\",\"x\":[-0.0,-18.85609680239564,-18.85609680239564,-0.0],\"xaxis\":\"x\",\"y\":[115.0,115.0,125.0,125.0],\"yaxis\":\"y\",\"type\":\"scatter\"},{\"hoverinfo\":\"text\",\"marker\":{\"color\":\"rgb(61,153,112)\"},\"mode\":\"lines\",\"x\":[-16.378645574778076,-27.866440589307597,-27.866440589307597,-18.85609680239564],\"xaxis\":\"x\",\"y\":[92.5,92.5,120.0,120.0],\"yaxis\":\"y\",\"type\":\"scatter\"},{\"hoverinfo\":\"text\",\"marker\":{\"color\":\"rgb(61,153,112)\"},\"mode\":\"lines\",\"x\":[-0.0,-4.39644251962707,-4.39644251962707,-0.0],\"xaxis\":\"x\",\"y\":[135.0,135.0,145.0,145.0],\"yaxis\":\"y\",\"type\":\"scatter\"},{\"hoverinfo\":\"text\",\"marker\":{\"color\":\"rgb(61,153,112)\"},\"mode\":\"lines\",\"x\":[-0.0,-13.00487355229227,-13.00487355229227,-0.0],\"xaxis\":\"x\",\"y\":[155.0,155.0,165.0,165.0],\"yaxis\":\"y\",\"type\":\"scatter\"},{\"hoverinfo\":\"text\",\"marker\":{\"color\":\"rgb(61,153,112)\"},\"mode\":\"lines\",\"x\":[-4.39644251962707,-42.82454057558824,-42.82454057558824,-13.00487355229227],\"xaxis\":\"x\",\"y\":[140.0,140.0,160.0,160.0],\"yaxis\":\"y\",\"type\":\"scatter\"},{\"hoverinfo\":\"text\",\"marker\":{\"color\":\"rgb(61,153,112)\"},\"mode\":\"lines\",\"x\":[-27.866440589307597,-66.54573900572893,-66.54573900572893,-42.82454057558824],\"xaxis\":\"x\",\"y\":[106.25,106.25,150.0,150.0],\"yaxis\":\"y\",\"type\":\"scatter\"},{\"hoverinfo\":\"text\",\"marker\":{\"color\":\"rgb(61,153,112)\"},\"mode\":\"lines\",\"x\":[-0.0,-38.02562018603878,-38.02562018603878,-0.0],\"xaxis\":\"x\",\"y\":[175.0,175.0,185.0,185.0],\"yaxis\":\"y\",\"type\":\"scatter\"},{\"hoverinfo\":\"text\",\"marker\":{\"color\":\"rgb(61,153,112)\"},\"mode\":\"lines\",\"x\":[-0.0,-19.58303459028177,-19.58303459028177,-0.0],\"xaxis\":\"x\",\"y\":[195.0,195.0,205.0,205.0],\"yaxis\":\"y\",\"type\":\"scatter\"},{\"hoverinfo\":\"text\",\"marker\":{\"color\":\"rgb(61,153,112)\"},\"mode\":\"lines\",\"x\":[-0.0,-2.4922203216247314,-2.4922203216247314,-0.0],\"xaxis\":\"x\",\"y\":[235.0,235.0,245.0,245.0],\"yaxis\":\"y\",\"type\":\"scatter\"},{\"hoverinfo\":\"text\",\"marker\":{\"color\":\"rgb(61,153,112)\"},\"mode\":\"lines\",\"x\":[-0.0,-16.52517358339849,-16.52517358339849,-2.4922203216247314],\"xaxis\":\"x\",\"y\":[225.0,225.0,240.0,240.0],\"yaxis\":\"y\",\"type\":\"scatter\"},{\"hoverinfo\":\"text\",\"marker\":{\"color\":\"rgb(61,153,112)\"},\"mode\":\"lines\",\"x\":[-0.0,-36.45825619039458,-36.45825619039458,-16.52517358339849],\"xaxis\":\"x\",\"y\":[215.0,215.0,232.5,232.5],\"yaxis\":\"y\",\"type\":\"scatter\"},{\"hoverinfo\":\"text\",\"marker\":{\"color\":\"rgb(61,153,112)\"},\"mode\":\"lines\",\"x\":[-19.58303459028177,-42.9584173940335,-42.9584173940335,-36.45825619039458],\"xaxis\":\"x\",\"y\":[200.0,200.0,223.75,223.75],\"yaxis\":\"y\",\"type\":\"scatter\"},{\"hoverinfo\":\"text\",\"marker\":{\"color\":\"rgb(61,153,112)\"},\"mode\":\"lines\",\"x\":[-38.02562018603878,-78.72292447882232,-78.72292447882232,-42.9584173940335],\"xaxis\":\"x\",\"y\":[180.0,180.0,211.875,211.875],\"yaxis\":\"y\",\"type\":\"scatter\"},{\"hoverinfo\":\"text\",\"marker\":{\"color\":\"rgb(61,153,112)\"},\"mode\":\"lines\",\"x\":[-66.54573900572893,-115.56236529911492,-115.56236529911492,-78.72292447882232],\"xaxis\":\"x\",\"y\":[128.125,128.125,195.9375,195.9375],\"yaxis\":\"y\",\"type\":\"scatter\"},{\"hoverinfo\":\"text\",\"marker\":{\"color\":\"rgb(61,153,112)\"},\"mode\":\"lines\",\"x\":[-36.71863054088736,-179.03303996891245,-179.03303996891245,-115.56236529911492],\"xaxis\":\"x\",\"y\":[70.0,70.0,162.03125,162.03125],\"yaxis\":\"y\",\"type\":\"scatter\"},{\"hoverinfo\":\"text\",\"marker\":{\"color\":\"rgb(61,153,112)\"},\"mode\":\"lines\",\"x\":[-62.277644271957655,-447.2030204719937,-447.2030204719937,-179.03303996891245],\"xaxis\":\"x\",\"y\":[18.125,18.125,116.015625,116.015625],\"yaxis\":\"y\",\"type\":\"scatter\"},{\"hoverinfo\":\"text\",\"marker\":{\"color\":\"rgb(255,65,54)\"},\"mode\":\"lines\",\"x\":[-0.0,-19.132763900661562,-19.132763900661562,-0.0],\"xaxis\":\"x\",\"y\":[265.0,265.0,275.0,275.0],\"yaxis\":\"y\",\"type\":\"scatter\"},{\"hoverinfo\":\"text\",\"marker\":{\"color\":\"rgb(255,65,54)\"},\"mode\":\"lines\",\"x\":[-0.0,-53.85812871450435,-53.85812871450435,-19.132763900661562],\"xaxis\":\"x\",\"y\":[255.0,255.0,270.0,270.0],\"yaxis\":\"y\",\"type\":\"scatter\"},{\"hoverinfo\":\"text\",\"marker\":{\"color\":\"rgb(255,65,54)\"},\"mode\":\"lines\",\"x\":[-0.0,-16.243976033275057,-16.243976033275057,-0.0],\"xaxis\":\"x\",\"y\":[285.0,285.0,295.0,295.0],\"yaxis\":\"y\",\"type\":\"scatter\"},{\"hoverinfo\":\"text\",\"marker\":{\"color\":\"rgb(255,65,54)\"},\"mode\":\"lines\",\"x\":[-0.0,-14.176271303974836,-14.176271303974836,-0.0],\"xaxis\":\"x\",\"y\":[305.0,305.0,315.0,315.0],\"yaxis\":\"y\",\"type\":\"scatter\"},{\"hoverinfo\":\"text\",\"marker\":{\"color\":\"rgb(255,65,54)\"},\"mode\":\"lines\",\"x\":[-0.0,-1.4535143898952807,-1.4535143898952807,-0.0],\"xaxis\":\"x\",\"y\":[345.0,345.0,355.0,355.0],\"yaxis\":\"y\",\"type\":\"scatter\"},{\"hoverinfo\":\"text\",\"marker\":{\"color\":\"rgb(255,65,54)\"},\"mode\":\"lines\",\"x\":[-0.0,-11.871202459978731,-11.871202459978731,-1.4535143898952807],\"xaxis\":\"x\",\"y\":[335.0,335.0,350.0,350.0],\"yaxis\":\"y\",\"type\":\"scatter\"},{\"hoverinfo\":\"text\",\"marker\":{\"color\":\"rgb(255,65,54)\"},\"mode\":\"lines\",\"x\":[-0.0,-16.417263879464866,-16.417263879464866,-11.871202459978731],\"xaxis\":\"x\",\"y\":[325.0,325.0,342.5,342.5],\"yaxis\":\"y\",\"type\":\"scatter\"},{\"hoverinfo\":\"text\",\"marker\":{\"color\":\"rgb(255,65,54)\"},\"mode\":\"lines\",\"x\":[-14.176271303974836,-36.04364577162255,-36.04364577162255,-16.417263879464866],\"xaxis\":\"x\",\"y\":[310.0,310.0,333.75,333.75],\"yaxis\":\"y\",\"type\":\"scatter\"},{\"hoverinfo\":\"text\",\"marker\":{\"color\":\"rgb(255,65,54)\"},\"mode\":\"lines\",\"x\":[-16.243976033275057,-65.21430957596183,-65.21430957596183,-36.04364577162255],\"xaxis\":\"x\",\"y\":[290.0,290.0,321.875,321.875],\"yaxis\":\"y\",\"type\":\"scatter\"},{\"hoverinfo\":\"text\",\"marker\":{\"color\":\"rgb(255,65,54)\"},\"mode\":\"lines\",\"x\":[-53.85812871450435,-171.3561557531928,-171.3561557531928,-65.21430957596183],\"xaxis\":\"x\",\"y\":[262.5,262.5,305.9375,305.9375],\"yaxis\":\"y\",\"type\":\"scatter\"},{\"hoverinfo\":\"text\",\"marker\":{\"color\":\"rgb(255,65,54)\"},\"mode\":\"lines\",\"x\":[-0.0,-4.26875214763743,-4.26875214763743,-0.0],\"xaxis\":\"x\",\"y\":[385.0,385.0,395.0,395.0],\"yaxis\":\"y\",\"type\":\"scatter\"},{\"hoverinfo\":\"text\",\"marker\":{\"color\":\"rgb(255,65,54)\"},\"mode\":\"lines\",\"x\":[-0.0,-8.412909056172603,-8.412909056172603,-0.0],\"xaxis\":\"x\",\"y\":[405.0,405.0,415.0,415.0],\"yaxis\":\"y\",\"type\":\"scatter\"},{\"hoverinfo\":\"text\",\"marker\":{\"color\":\"rgb(255,65,54)\"},\"mode\":\"lines\",\"x\":[-4.26875214763743,-12.836955056533332,-12.836955056533332,-8.412909056172603],\"xaxis\":\"x\",\"y\":[390.0,390.0,410.0,410.0],\"yaxis\":\"y\",\"type\":\"scatter\"},{\"hoverinfo\":\"text\",\"marker\":{\"color\":\"rgb(255,65,54)\"},\"mode\":\"lines\",\"x\":[-0.0,-38.87431246905918,-38.87431246905918,-12.836955056533332],\"xaxis\":\"x\",\"y\":[375.0,375.0,400.0,400.0],\"yaxis\":\"y\",\"type\":\"scatter\"},{\"hoverinfo\":\"text\",\"marker\":{\"color\":\"rgb(255,65,54)\"},\"mode\":\"lines\",\"x\":[-0.0,-75.62799481939955,-75.62799481939955,-38.87431246905918],\"xaxis\":\"x\",\"y\":[365.0,365.0,387.5,387.5],\"yaxis\":\"y\",\"type\":\"scatter\"},{\"hoverinfo\":\"text\",\"marker\":{\"color\":\"rgb(255,65,54)\"},\"mode\":\"lines\",\"x\":[-0.0,-3.6073620866901885,-3.6073620866901885,-0.0],\"xaxis\":\"x\",\"y\":[445.0,445.0,455.0,455.0],\"yaxis\":\"y\",\"type\":\"scatter\"},{\"hoverinfo\":\"text\",\"marker\":{\"color\":\"rgb(255,65,54)\"},\"mode\":\"lines\",\"x\":[-0.0,-9.673866659465833,-9.673866659465833,-3.6073620866901885],\"xaxis\":\"x\",\"y\":[435.0,435.0,450.0,450.0],\"yaxis\":\"y\",\"type\":\"scatter\"},{\"hoverinfo\":\"text\",\"marker\":{\"color\":\"rgb(255,65,54)\"},\"mode\":\"lines\",\"x\":[-0.0,-35.36482762807229,-35.36482762807229,-9.673866659465833],\"xaxis\":\"x\",\"y\":[425.0,425.0,442.5,442.5],\"yaxis\":\"y\",\"type\":\"scatter\"},{\"hoverinfo\":\"text\",\"marker\":{\"color\":\"rgb(255,65,54)\"},\"mode\":\"lines\",\"x\":[-0.0,-19.974439590673153,-19.974439590673153,-0.0],\"xaxis\":\"x\",\"y\":[465.0,465.0,475.0,475.0],\"yaxis\":\"y\",\"type\":\"scatter\"},{\"hoverinfo\":\"text\",\"marker\":{\"color\":\"rgb(255,65,54)\"},\"mode\":\"lines\",\"x\":[-0.0,-10.45379641890453,-10.45379641890453,-0.0],\"xaxis\":\"x\",\"y\":[495.0,495.0,505.0,505.0],\"yaxis\":\"y\",\"type\":\"scatter\"},{\"hoverinfo\":\"text\",\"marker\":{\"color\":\"rgb(255,65,54)\"},\"mode\":\"lines\",\"x\":[-0.0,-41.4327125051315,-41.4327125051315,-10.45379641890453],\"xaxis\":\"x\",\"y\":[485.0,485.0,500.0,500.0],\"yaxis\":\"y\",\"type\":\"scatter\"},{\"hoverinfo\":\"text\",\"marker\":{\"color\":\"rgb(255,65,54)\"},\"mode\":\"lines\",\"x\":[-19.974439590673153,-44.71721071623724,-44.71721071623724,-41.4327125051315],\"xaxis\":\"x\",\"y\":[470.0,470.0,492.5,492.5],\"yaxis\":\"y\",\"type\":\"scatter\"},{\"hoverinfo\":\"text\",\"marker\":{\"color\":\"rgb(255,65,54)\"},\"mode\":\"lines\",\"x\":[-35.36482762807229,-152.08842625430182,-152.08842625430182,-44.71721071623724],\"xaxis\":\"x\",\"y\":[433.75,433.75,481.25,481.25],\"yaxis\":\"y\",\"type\":\"scatter\"},{\"hoverinfo\":\"text\",\"marker\":{\"color\":\"rgb(255,65,54)\"},\"mode\":\"lines\",\"x\":[-75.62799481939955,-265.9029522358036,-265.9029522358036,-152.08842625430182],\"xaxis\":\"x\",\"y\":[376.25,376.25,457.5,457.5],\"yaxis\":\"y\",\"type\":\"scatter\"},{\"hoverinfo\":\"text\",\"marker\":{\"color\":\"rgb(255,65,54)\"},\"mode\":\"lines\",\"x\":[-171.3561557531928,-608.939658924541,-608.939658924541,-265.9029522358036],\"xaxis\":\"x\",\"y\":[284.21875,284.21875,416.875,416.875],\"yaxis\":\"y\",\"type\":\"scatter\"},{\"hoverinfo\":\"text\",\"marker\":{\"color\":\"rgb(35,205,205)\"},\"mode\":\"lines\",\"x\":[-0.0,-6.038217406192365,-6.038217406192365,-0.0],\"xaxis\":\"x\",\"y\":[525.0,525.0,535.0,535.0],\"yaxis\":\"y\",\"type\":\"scatter\"},{\"hoverinfo\":\"text\",\"marker\":{\"color\":\"rgb(35,205,205)\"},\"mode\":\"lines\",\"x\":[-0.0,-32.538500568931816,-32.538500568931816,-6.038217406192365],\"xaxis\":\"x\",\"y\":[515.0,515.0,530.0,530.0],\"yaxis\":\"y\",\"type\":\"scatter\"},{\"hoverinfo\":\"text\",\"marker\":{\"color\":\"rgb(35,205,205)\"},\"mode\":\"lines\",\"x\":[-0.0,-18.02691125729691,-18.02691125729691,-0.0],\"xaxis\":\"x\",\"y\":[545.0,545.0,555.0,555.0],\"yaxis\":\"y\",\"type\":\"scatter\"},{\"hoverinfo\":\"text\",\"marker\":{\"color\":\"rgb(35,205,205)\"},\"mode\":\"lines\",\"x\":[-0.0,-20.060751304819874,-20.060751304819874,-0.0],\"xaxis\":\"x\",\"y\":[575.0,575.0,585.0,585.0],\"yaxis\":\"y\",\"type\":\"scatter\"},{\"hoverinfo\":\"text\",\"marker\":{\"color\":\"rgb(35,205,205)\"},\"mode\":\"lines\",\"x\":[-0.0,-31.362305704528623,-31.362305704528623,-20.060751304819874],\"xaxis\":\"x\",\"y\":[565.0,565.0,580.0,580.0],\"yaxis\":\"y\",\"type\":\"scatter\"},{\"hoverinfo\":\"text\",\"marker\":{\"color\":\"rgb(35,205,205)\"},\"mode\":\"lines\",\"x\":[-18.02691125729691,-49.300722870057434,-49.300722870057434,-31.362305704528623],\"xaxis\":\"x\",\"y\":[550.0,550.0,572.5,572.5],\"yaxis\":\"y\",\"type\":\"scatter\"},{\"hoverinfo\":\"text\",\"marker\":{\"color\":\"rgb(35,205,205)\"},\"mode\":\"lines\",\"x\":[-32.538500568931816,-81.62891645377411,-81.62891645377411,-49.300722870057434],\"xaxis\":\"x\",\"y\":[522.5,522.5,561.25,561.25],\"yaxis\":\"y\",\"type\":\"scatter\"},{\"hoverinfo\":\"text\",\"marker\":{\"color\":\"rgb(35,205,205)\"},\"mode\":\"lines\",\"x\":[-0.0,-7.371585838730889,-7.371585838730889,-0.0],\"xaxis\":\"x\",\"y\":[605.0,605.0,615.0,615.0],\"yaxis\":\"y\",\"type\":\"scatter\"},{\"hoverinfo\":\"text\",\"marker\":{\"color\":\"rgb(35,205,205)\"},\"mode\":\"lines\",\"x\":[-0.0,-4.481567186202219,-4.481567186202219,-0.0],\"xaxis\":\"x\",\"y\":[635.0,635.0,645.0,645.0],\"yaxis\":\"y\",\"type\":\"scatter\"},{\"hoverinfo\":\"text\",\"marker\":{\"color\":\"rgb(35,205,205)\"},\"mode\":\"lines\",\"x\":[-0.0,-12.102907204956642,-12.102907204956642,-4.481567186202219],\"xaxis\":\"x\",\"y\":[625.0,625.0,640.0,640.0],\"yaxis\":\"y\",\"type\":\"scatter\"},{\"hoverinfo\":\"text\",\"marker\":{\"color\":\"rgb(35,205,205)\"},\"mode\":\"lines\",\"x\":[-7.371585838730889,-20.14398862633162,-20.14398862633162,-12.102907204956642],\"xaxis\":\"x\",\"y\":[610.0,610.0,632.5,632.5],\"yaxis\":\"y\",\"type\":\"scatter\"},{\"hoverinfo\":\"text\",\"marker\":{\"color\":\"rgb(35,205,205)\"},\"mode\":\"lines\",\"x\":[-0.0,-38.052446204304914,-38.052446204304914,-20.14398862633162],\"xaxis\":\"x\",\"y\":[595.0,595.0,621.25,621.25],\"yaxis\":\"y\",\"type\":\"scatter\"},{\"hoverinfo\":\"text\",\"marker\":{\"color\":\"rgb(35,205,205)\"},\"mode\":\"lines\",\"x\":[-0.0,-21.576868992284403,-21.576868992284403,-0.0],\"xaxis\":\"x\",\"y\":[655.0,655.0,665.0,665.0],\"yaxis\":\"y\",\"type\":\"scatter\"},{\"hoverinfo\":\"text\",\"marker\":{\"color\":\"rgb(35,205,205)\"},\"mode\":\"lines\",\"x\":[-0.0,-28.468305963728238,-28.468305963728238,-0.0],\"xaxis\":\"x\",\"y\":[675.0,675.0,685.0,685.0],\"yaxis\":\"y\",\"type\":\"scatter\"},{\"hoverinfo\":\"text\",\"marker\":{\"color\":\"rgb(35,205,205)\"},\"mode\":\"lines\",\"x\":[-21.576868992284403,-67.95469696056534,-67.95469696056534,-28.468305963728238],\"xaxis\":\"x\",\"y\":[660.0,660.0,680.0,680.0],\"yaxis\":\"y\",\"type\":\"scatter\"},{\"hoverinfo\":\"text\",\"marker\":{\"color\":\"rgb(35,205,205)\"},\"mode\":\"lines\",\"x\":[-38.052446204304914,-81.27115109311545,-81.27115109311545,-67.95469696056534],\"xaxis\":\"x\",\"y\":[608.125,608.125,670.0,670.0],\"yaxis\":\"y\",\"type\":\"scatter\"},{\"hoverinfo\":\"text\",\"marker\":{\"color\":\"rgb(35,205,205)\"},\"mode\":\"lines\",\"x\":[-0.0,-14.326764878835133,-14.326764878835133,-0.0],\"xaxis\":\"x\",\"y\":[715.0,715.0,725.0,725.0],\"yaxis\":\"y\",\"type\":\"scatter\"},{\"hoverinfo\":\"text\",\"marker\":{\"color\":\"rgb(35,205,205)\"},\"mode\":\"lines\",\"x\":[-0.0,-28.850579782704294,-28.850579782704294,-14.326764878835133],\"xaxis\":\"x\",\"y\":[705.0,705.0,720.0,720.0],\"yaxis\":\"y\",\"type\":\"scatter\"},{\"hoverinfo\":\"text\",\"marker\":{\"color\":\"rgb(35,205,205)\"},\"mode\":\"lines\",\"x\":[-0.0,-86.46869080653366,-86.46869080653366,-28.850579782704294],\"xaxis\":\"x\",\"y\":[695.0,695.0,712.5,712.5],\"yaxis\":\"y\",\"type\":\"scatter\"},{\"hoverinfo\":\"text\",\"marker\":{\"color\":\"rgb(35,205,205)\"},\"mode\":\"lines\",\"x\":[-81.27115109311545,-131.15754061121942,-131.15754061121942,-86.46869080653366],\"xaxis\":\"x\",\"y\":[639.0625,639.0625,703.75,703.75],\"yaxis\":\"y\",\"type\":\"scatter\"},{\"hoverinfo\":\"text\",\"marker\":{\"color\":\"rgb(35,205,205)\"},\"mode\":\"lines\",\"x\":[-81.62891645377411,-202.62647901989513,-202.62647901989513,-131.15754061121942],\"xaxis\":\"x\",\"y\":[541.875,541.875,671.40625,671.40625],\"yaxis\":\"y\",\"type\":\"scatter\"},{\"hoverinfo\":\"text\",\"marker\":{\"color\":\"rgb(35,205,205)\"},\"mode\":\"lines\",\"x\":[-0.0,-1.7320508075688772,-1.7320508075688772,-0.0],\"xaxis\":\"x\",\"y\":[745.0,745.0,755.0,755.0],\"yaxis\":\"y\",\"type\":\"scatter\"},{\"hoverinfo\":\"text\",\"marker\":{\"color\":\"rgb(35,205,205)\"},\"mode\":\"lines\",\"x\":[-0.0,-4.123105625617661,-4.123105625617661,-1.7320508075688772],\"xaxis\":\"x\",\"y\":[735.0,735.0,750.0,750.0],\"yaxis\":\"y\",\"type\":\"scatter\"},{\"hoverinfo\":\"text\",\"marker\":{\"color\":\"rgb(35,205,205)\"},\"mode\":\"lines\",\"x\":[-0.0,-1.7320508075688772,-1.7320508075688772,-0.0],\"xaxis\":\"x\",\"y\":[775.0,775.0,785.0,785.0],\"yaxis\":\"y\",\"type\":\"scatter\"},{\"hoverinfo\":\"text\",\"marker\":{\"color\":\"rgb(35,205,205)\"},\"mode\":\"lines\",\"x\":[-0.0,-3.4641016151377544,-3.4641016151377544,-1.7320508075688772],\"xaxis\":\"x\",\"y\":[765.0,765.0,780.0,780.0],\"yaxis\":\"y\",\"type\":\"scatter\"},{\"hoverinfo\":\"text\",\"marker\":{\"color\":\"rgb(35,205,205)\"},\"mode\":\"lines\",\"x\":[-0.0,-1.7320508075688772,-1.7320508075688772,-0.0],\"xaxis\":\"x\",\"y\":[795.0,795.0,805.0,805.0],\"yaxis\":\"y\",\"type\":\"scatter\"},{\"hoverinfo\":\"text\",\"marker\":{\"color\":\"rgb(35,205,205)\"},\"mode\":\"lines\",\"x\":[-0.0,-1.7320508075688772,-1.7320508075688772,-0.0],\"xaxis\":\"x\",\"y\":[815.0,815.0,825.0,825.0],\"yaxis\":\"y\",\"type\":\"scatter\"},{\"hoverinfo\":\"text\",\"marker\":{\"color\":\"rgb(35,205,205)\"},\"mode\":\"lines\",\"x\":[-1.7320508075688772,-5.196152422706632,-5.196152422706632,-1.7320508075688772],\"xaxis\":\"x\",\"y\":[800.0,800.0,820.0,820.0],\"yaxis\":\"y\",\"type\":\"scatter\"},{\"hoverinfo\":\"text\",\"marker\":{\"color\":\"rgb(35,205,205)\"},\"mode\":\"lines\",\"x\":[-3.4641016151377544,-10.392304845413264,-10.392304845413264,-5.196152422706632],\"xaxis\":\"x\",\"y\":[772.5,772.5,810.0,810.0],\"yaxis\":\"y\",\"type\":\"scatter\"},{\"hoverinfo\":\"text\",\"marker\":{\"color\":\"rgb(35,205,205)\"},\"mode\":\"lines\",\"x\":[-4.123105625617661,-16.186414056238647,-16.186414056238647,-10.392304845413264],\"xaxis\":\"x\",\"y\":[742.5,742.5,791.25,791.25],\"yaxis\":\"y\",\"type\":\"scatter\"},{\"hoverinfo\":\"text\",\"marker\":{\"color\":\"rgb(35,205,205)\"},\"mode\":\"lines\",\"x\":[-0.0,-2.449489742783178,-2.449489742783178,-0.0],\"xaxis\":\"x\",\"y\":[835.0,835.0,845.0,845.0],\"yaxis\":\"y\",\"type\":\"scatter\"},{\"hoverinfo\":\"text\",\"marker\":{\"color\":\"rgb(35,205,205)\"},\"mode\":\"lines\",\"x\":[-0.0,-1.7320508075688772,-1.7320508075688772,-0.0],\"xaxis\":\"x\",\"y\":[855.0,855.0,865.0,865.0],\"yaxis\":\"y\",\"type\":\"scatter\"},{\"hoverinfo\":\"text\",\"marker\":{\"color\":\"rgb(35,205,205)\"},\"mode\":\"lines\",\"x\":[-0.0,-1.7320508075688772,-1.7320508075688772,-0.0],\"xaxis\":\"x\",\"y\":[875.0,875.0,885.0,885.0],\"yaxis\":\"y\",\"type\":\"scatter\"},{\"hoverinfo\":\"text\",\"marker\":{\"color\":\"rgb(35,205,205)\"},\"mode\":\"lines\",\"x\":[-1.7320508075688772,-5.196152422706632,-5.196152422706632,-1.7320508075688772],\"xaxis\":\"x\",\"y\":[860.0,860.0,880.0,880.0],\"yaxis\":\"y\",\"type\":\"scatter\"},{\"hoverinfo\":\"text\",\"marker\":{\"color\":\"rgb(35,205,205)\"},\"mode\":\"lines\",\"x\":[-2.449489742783178,-9.9498743710662,-9.9498743710662,-5.196152422706632],\"xaxis\":\"x\",\"y\":[840.0,840.0,870.0,870.0],\"yaxis\":\"y\",\"type\":\"scatter\"},{\"hoverinfo\":\"text\",\"marker\":{\"color\":\"rgb(35,205,205)\"},\"mode\":\"lines\",\"x\":[-0.0,-1.7320508075688772,-1.7320508075688772,-0.0],\"xaxis\":\"x\",\"y\":[895.0,895.0,905.0,905.0],\"yaxis\":\"y\",\"type\":\"scatter\"},{\"hoverinfo\":\"text\",\"marker\":{\"color\":\"rgb(35,205,205)\"},\"mode\":\"lines\",\"x\":[-0.0,-1.7320508075688772,-1.7320508075688772,-0.0],\"xaxis\":\"x\",\"y\":[915.0,915.0,925.0,925.0],\"yaxis\":\"y\",\"type\":\"scatter\"},{\"hoverinfo\":\"text\",\"marker\":{\"color\":\"rgb(35,205,205)\"},\"mode\":\"lines\",\"x\":[-1.7320508075688772,-5.196152422706632,-5.196152422706632,-1.7320508075688772],\"xaxis\":\"x\",\"y\":[900.0,900.0,920.0,920.0],\"yaxis\":\"y\",\"type\":\"scatter\"},{\"hoverinfo\":\"text\",\"marker\":{\"color\":\"rgb(35,205,205)\"},\"mode\":\"lines\",\"x\":[-0.0,-1.7320508075688772,-1.7320508075688772,-0.0],\"xaxis\":\"x\",\"y\":[935.0,935.0,945.0,945.0],\"yaxis\":\"y\",\"type\":\"scatter\"},{\"hoverinfo\":\"text\",\"marker\":{\"color\":\"rgb(35,205,205)\"},\"mode\":\"lines\",\"x\":[-0.0,-1.7320508075688772,-1.7320508075688772,-0.0],\"xaxis\":\"x\",\"y\":[955.0,955.0,965.0,965.0],\"yaxis\":\"y\",\"type\":\"scatter\"},{\"hoverinfo\":\"text\",\"marker\":{\"color\":\"rgb(35,205,205)\"},\"mode\":\"lines\",\"x\":[-1.7320508075688772,-5.196152422706632,-5.196152422706632,-1.7320508075688772],\"xaxis\":\"x\",\"y\":[940.0,940.0,960.0,960.0],\"yaxis\":\"y\",\"type\":\"scatter\"},{\"hoverinfo\":\"text\",\"marker\":{\"color\":\"rgb(35,205,205)\"},\"mode\":\"lines\",\"x\":[-5.196152422706632,-12.12435565298214,-12.12435565298214,-5.196152422706632],\"xaxis\":\"x\",\"y\":[910.0,910.0,950.0,950.0],\"yaxis\":\"y\",\"type\":\"scatter\"},{\"hoverinfo\":\"text\",\"marker\":{\"color\":\"rgb(35,205,205)\"},\"mode\":\"lines\",\"x\":[-9.9498743710662,-24.372115213907882,-24.372115213907882,-12.12435565298214],\"xaxis\":\"x\",\"y\":[855.0,855.0,930.0,930.0],\"yaxis\":\"y\",\"type\":\"scatter\"},{\"hoverinfo\":\"text\",\"marker\":{\"color\":\"rgb(35,205,205)\"},\"mode\":\"lines\",\"x\":[-16.186414056238647,-42.91852746774987,-42.91852746774987,-24.372115213907882],\"xaxis\":\"x\",\"y\":[766.875,766.875,892.5,892.5],\"yaxis\":\"y\",\"type\":\"scatter\"},{\"hoverinfo\":\"text\",\"marker\":{\"color\":\"rgb(35,205,205)\"},\"mode\":\"lines\",\"x\":[-0.0,-1.7320508075688772,-1.7320508075688772,-0.0],\"xaxis\":\"x\",\"y\":[985.0,985.0,995.0,995.0],\"yaxis\":\"y\",\"type\":\"scatter\"},{\"hoverinfo\":\"text\",\"marker\":{\"color\":\"rgb(35,205,205)\"},\"mode\":\"lines\",\"x\":[-0.0,-3.4641016151377544,-3.4641016151377544,-1.7320508075688772],\"xaxis\":\"x\",\"y\":[975.0,975.0,990.0,990.0],\"yaxis\":\"y\",\"type\":\"scatter\"},{\"hoverinfo\":\"text\",\"marker\":{\"color\":\"rgb(35,205,205)\"},\"mode\":\"lines\",\"x\":[-0.0,-1.7320508075688772,-1.7320508075688772,-0.0],\"xaxis\":\"x\",\"y\":[1005.0,1005.0,1015.0,1015.0],\"yaxis\":\"y\",\"type\":\"scatter\"},{\"hoverinfo\":\"text\",\"marker\":{\"color\":\"rgb(35,205,205)\"},\"mode\":\"lines\",\"x\":[-0.0,-1.7320508075688772,-1.7320508075688772,-0.0],\"xaxis\":\"x\",\"y\":[1025.0,1025.0,1035.0,1035.0],\"yaxis\":\"y\",\"type\":\"scatter\"},{\"hoverinfo\":\"text\",\"marker\":{\"color\":\"rgb(35,205,205)\"},\"mode\":\"lines\",\"x\":[-1.7320508075688772,-5.196152422706632,-5.196152422706632,-1.7320508075688772],\"xaxis\":\"x\",\"y\":[1010.0,1010.0,1030.0,1030.0],\"yaxis\":\"y\",\"type\":\"scatter\"},{\"hoverinfo\":\"text\",\"marker\":{\"color\":\"rgb(35,205,205)\"},\"mode\":\"lines\",\"x\":[-3.4641016151377544,-10.392304845413264,-10.392304845413264,-5.196152422706632],\"xaxis\":\"x\",\"y\":[982.5,982.5,1020.0,1020.0],\"yaxis\":\"y\",\"type\":\"scatter\"},{\"hoverinfo\":\"text\",\"marker\":{\"color\":\"rgb(35,205,205)\"},\"mode\":\"lines\",\"x\":[-0.0,-1.7320508075688772,-1.7320508075688772,-0.0],\"xaxis\":\"x\",\"y\":[1045.0,1045.0,1055.0,1055.0],\"yaxis\":\"y\",\"type\":\"scatter\"},{\"hoverinfo\":\"text\",\"marker\":{\"color\":\"rgb(35,205,205)\"},\"mode\":\"lines\",\"x\":[-0.0,-1.7320508075688772,-1.7320508075688772,-0.0],\"xaxis\":\"x\",\"y\":[1065.0,1065.0,1075.0,1075.0],\"yaxis\":\"y\",\"type\":\"scatter\"},{\"hoverinfo\":\"text\",\"marker\":{\"color\":\"rgb(35,205,205)\"},\"mode\":\"lines\",\"x\":[-1.7320508075688772,-5.196152422706632,-5.196152422706632,-1.7320508075688772],\"xaxis\":\"x\",\"y\":[1050.0,1050.0,1070.0,1070.0],\"yaxis\":\"y\",\"type\":\"scatter\"},{\"hoverinfo\":\"text\",\"marker\":{\"color\":\"rgb(35,205,205)\"},\"mode\":\"lines\",\"x\":[-0.0,-1.7320508075688772,-1.7320508075688772,-0.0],\"xaxis\":\"x\",\"y\":[1085.0,1085.0,1095.0,1095.0],\"yaxis\":\"y\",\"type\":\"scatter\"},{\"hoverinfo\":\"text\",\"marker\":{\"color\":\"rgb(35,205,205)\"},\"mode\":\"lines\",\"x\":[-0.0,-1.7320508075688772,-1.7320508075688772,-0.0],\"xaxis\":\"x\",\"y\":[1105.0,1105.0,1115.0,1115.0],\"yaxis\":\"y\",\"type\":\"scatter\"},{\"hoverinfo\":\"text\",\"marker\":{\"color\":\"rgb(35,205,205)\"},\"mode\":\"lines\",\"x\":[-1.7320508075688772,-5.196152422706632,-5.196152422706632,-1.7320508075688772],\"xaxis\":\"x\",\"y\":[1090.0,1090.0,1110.0,1110.0],\"yaxis\":\"y\",\"type\":\"scatter\"},{\"hoverinfo\":\"text\",\"marker\":{\"color\":\"rgb(35,205,205)\"},\"mode\":\"lines\",\"x\":[-5.196152422706632,-12.12435565298214,-12.12435565298214,-5.196152422706632],\"xaxis\":\"x\",\"y\":[1060.0,1060.0,1100.0,1100.0],\"yaxis\":\"y\",\"type\":\"scatter\"},{\"hoverinfo\":\"text\",\"marker\":{\"color\":\"rgb(35,205,205)\"},\"mode\":\"lines\",\"x\":[-10.392304845413264,-24.24871130596428,-24.24871130596428,-12.12435565298214],\"xaxis\":\"x\",\"y\":[1001.25,1001.25,1080.0,1080.0],\"yaxis\":\"y\",\"type\":\"scatter\"},{\"hoverinfo\":\"text\",\"marker\":{\"color\":\"rgb(35,205,205)\"},\"mode\":\"lines\",\"x\":[-0.0,-1.7320508075688772,-1.7320508075688772,-0.0],\"xaxis\":\"x\",\"y\":[1145.0,1145.0,1155.0,1155.0],\"yaxis\":\"y\",\"type\":\"scatter\"},{\"hoverinfo\":\"text\",\"marker\":{\"color\":\"rgb(35,205,205)\"},\"mode\":\"lines\",\"x\":[-0.0,-4.123105625617661,-4.123105625617661,-1.7320508075688772],\"xaxis\":\"x\",\"y\":[1135.0,1135.0,1150.0,1150.0],\"yaxis\":\"y\",\"type\":\"scatter\"},{\"hoverinfo\":\"text\",\"marker\":{\"color\":\"rgb(35,205,205)\"},\"mode\":\"lines\",\"x\":[-0.0,-8.18535277187245,-8.18535277187245,-4.123105625617661],\"xaxis\":\"x\",\"y\":[1125.0,1125.0,1142.5,1142.5],\"yaxis\":\"y\",\"type\":\"scatter\"},{\"hoverinfo\":\"text\",\"marker\":{\"color\":\"rgb(35,205,205)\"},\"mode\":\"lines\",\"x\":[-0.0,-1.7320508075688772,-1.7320508075688772,-0.0],\"xaxis\":\"x\",\"y\":[1175.0,1175.0,1185.0,1185.0],\"yaxis\":\"y\",\"type\":\"scatter\"},{\"hoverinfo\":\"text\",\"marker\":{\"color\":\"rgb(35,205,205)\"},\"mode\":\"lines\",\"x\":[-0.0,-4.898979485566356,-4.898979485566356,-1.7320508075688772],\"xaxis\":\"x\",\"y\":[1165.0,1165.0,1180.0,1180.0],\"yaxis\":\"y\",\"type\":\"scatter\"},{\"hoverinfo\":\"text\",\"marker\":{\"color\":\"rgb(35,205,205)\"},\"mode\":\"lines\",\"x\":[-0.0,-1.7320508075688772,-1.7320508075688772,-0.0],\"xaxis\":\"x\",\"y\":[1195.0,1195.0,1205.0,1205.0],\"yaxis\":\"y\",\"type\":\"scatter\"},{\"hoverinfo\":\"text\",\"marker\":{\"color\":\"rgb(35,205,205)\"},\"mode\":\"lines\",\"x\":[-0.0,-1.7320508075688772,-1.7320508075688772,-0.0],\"xaxis\":\"x\",\"y\":[1225.0,1225.0,1235.0,1235.0],\"yaxis\":\"y\",\"type\":\"scatter\"},{\"hoverinfo\":\"text\",\"marker\":{\"color\":\"rgb(35,205,205)\"},\"mode\":\"lines\",\"x\":[-0.0,-3.4641016151377544,-3.4641016151377544,-1.7320508075688772],\"xaxis\":\"x\",\"y\":[1215.0,1215.0,1230.0,1230.0],\"yaxis\":\"y\",\"type\":\"scatter\"},{\"hoverinfo\":\"text\",\"marker\":{\"color\":\"rgb(35,205,205)\"},\"mode\":\"lines\",\"x\":[-1.7320508075688772,-6.928203230275509,-6.928203230275509,-3.4641016151377544],\"xaxis\":\"x\",\"y\":[1200.0,1200.0,1222.5,1222.5],\"yaxis\":\"y\",\"type\":\"scatter\"},{\"hoverinfo\":\"text\",\"marker\":{\"color\":\"rgb(35,205,205)\"},\"mode\":\"lines\",\"x\":[-4.898979485566356,-17.146428199482248,-17.146428199482248,-6.928203230275509],\"xaxis\":\"x\",\"y\":[1172.5,1172.5,1211.25,1211.25],\"yaxis\":\"y\",\"type\":\"scatter\"},{\"hoverinfo\":\"text\",\"marker\":{\"color\":\"rgb(35,205,205)\"},\"mode\":\"lines\",\"x\":[-8.18535277187245,-29.444863728670914,-29.444863728670914,-17.146428199482248],\"xaxis\":\"x\",\"y\":[1133.75,1133.75,1191.875,1191.875],\"yaxis\":\"y\",\"type\":\"scatter\"},{\"hoverinfo\":\"text\",\"marker\":{\"color\":\"rgb(35,205,205)\"},\"mode\":\"lines\",\"x\":[-24.24871130596428,-55.072679252057455,-55.072679252057455,-29.444863728670914],\"xaxis\":\"x\",\"y\":[1040.625,1040.625,1162.8125,1162.8125],\"yaxis\":\"y\",\"type\":\"scatter\"},{\"hoverinfo\":\"text\",\"marker\":{\"color\":\"rgb(35,205,205)\"},\"mode\":\"lines\",\"x\":[-42.91852746774987,-99.498743710662,-99.498743710662,-55.072679252057455],\"xaxis\":\"x\",\"y\":[829.6875,829.6875,1101.71875,1101.71875],\"yaxis\":\"y\",\"type\":\"scatter\"},{\"hoverinfo\":\"text\",\"marker\":{\"color\":\"rgb(35,205,205)\"},\"mode\":\"lines\",\"x\":[-0.0,-1.7320508075688772,-1.7320508075688772,-0.0],\"xaxis\":\"x\",\"y\":[1245.0,1245.0,1255.0,1255.0],\"yaxis\":\"y\",\"type\":\"scatter\"},{\"hoverinfo\":\"text\",\"marker\":{\"color\":\"rgb(35,205,205)\"},\"mode\":\"lines\",\"x\":[-0.0,-1.7320508075688772,-1.7320508075688772,-0.0],\"xaxis\":\"x\",\"y\":[1265.0,1265.0,1275.0,1275.0],\"yaxis\":\"y\",\"type\":\"scatter\"},{\"hoverinfo\":\"text\",\"marker\":{\"color\":\"rgb(35,205,205)\"},\"mode\":\"lines\",\"x\":[-1.7320508075688772,-5.196152422706632,-5.196152422706632,-1.7320508075688772],\"xaxis\":\"x\",\"y\":[1250.0,1250.0,1270.0,1270.0],\"yaxis\":\"y\",\"type\":\"scatter\"},{\"hoverinfo\":\"text\",\"marker\":{\"color\":\"rgb(35,205,205)\"},\"mode\":\"lines\",\"x\":[-0.0,-1.7320508075688772,-1.7320508075688772,-0.0],\"xaxis\":\"x\",\"y\":[1285.0,1285.0,1295.0,1295.0],\"yaxis\":\"y\",\"type\":\"scatter\"},{\"hoverinfo\":\"text\",\"marker\":{\"color\":\"rgb(35,205,205)\"},\"mode\":\"lines\",\"x\":[-0.0,-1.7320508075688772,-1.7320508075688772,-0.0],\"xaxis\":\"x\",\"y\":[1305.0,1305.0,1315.0,1315.0],\"yaxis\":\"y\",\"type\":\"scatter\"},{\"hoverinfo\":\"text\",\"marker\":{\"color\":\"rgb(35,205,205)\"},\"mode\":\"lines\",\"x\":[-1.7320508075688772,-5.196152422706632,-5.196152422706632,-1.7320508075688772],\"xaxis\":\"x\",\"y\":[1290.0,1290.0,1310.0,1310.0],\"yaxis\":\"y\",\"type\":\"scatter\"},{\"hoverinfo\":\"text\",\"marker\":{\"color\":\"rgb(35,205,205)\"},\"mode\":\"lines\",\"x\":[-0.0,-1.7320508075688772,-1.7320508075688772,-0.0],\"xaxis\":\"x\",\"y\":[1325.0,1325.0,1335.0,1335.0],\"yaxis\":\"y\",\"type\":\"scatter\"},{\"hoverinfo\":\"text\",\"marker\":{\"color\":\"rgb(35,205,205)\"},\"mode\":\"lines\",\"x\":[-0.0,-1.7320508075688772,-1.7320508075688772,-0.0],\"xaxis\":\"x\",\"y\":[1345.0,1345.0,1355.0,1355.0],\"yaxis\":\"y\",\"type\":\"scatter\"},{\"hoverinfo\":\"text\",\"marker\":{\"color\":\"rgb(35,205,205)\"},\"mode\":\"lines\",\"x\":[-1.7320508075688772,-5.196152422706632,-5.196152422706632,-1.7320508075688772],\"xaxis\":\"x\",\"y\":[1330.0,1330.0,1350.0,1350.0],\"yaxis\":\"y\",\"type\":\"scatter\"},{\"hoverinfo\":\"text\",\"marker\":{\"color\":\"rgb(35,205,205)\"},\"mode\":\"lines\",\"x\":[-5.196152422706632,-12.12435565298214,-12.12435565298214,-5.196152422706632],\"xaxis\":\"x\",\"y\":[1300.0,1300.0,1340.0,1340.0],\"yaxis\":\"y\",\"type\":\"scatter\"},{\"hoverinfo\":\"text\",\"marker\":{\"color\":\"rgb(35,205,205)\"},\"mode\":\"lines\",\"x\":[-5.196152422706632,-19.05255888325765,-19.05255888325765,-12.12435565298214],\"xaxis\":\"x\",\"y\":[1260.0,1260.0,1320.0,1320.0],\"yaxis\":\"y\",\"type\":\"scatter\"},{\"hoverinfo\":\"text\",\"marker\":{\"color\":\"rgb(35,205,205)\"},\"mode\":\"lines\",\"x\":[-0.0,-1.7320508075688772,-1.7320508075688772,-0.0],\"xaxis\":\"x\",\"y\":[1375.0,1375.0,1385.0,1385.0],\"yaxis\":\"y\",\"type\":\"scatter\"},{\"hoverinfo\":\"text\",\"marker\":{\"color\":\"rgb(35,205,205)\"},\"mode\":\"lines\",\"x\":[-0.0,-4.898979485566356,-4.898979485566356,-1.7320508075688772],\"xaxis\":\"x\",\"y\":[1365.0,1365.0,1380.0,1380.0],\"yaxis\":\"y\",\"type\":\"scatter\"},{\"hoverinfo\":\"text\",\"marker\":{\"color\":\"rgb(35,205,205)\"},\"mode\":\"lines\",\"x\":[-0.0,-1.7320508075688772,-1.7320508075688772,-0.0],\"xaxis\":\"x\",\"y\":[1395.0,1395.0,1405.0,1405.0],\"yaxis\":\"y\",\"type\":\"scatter\"},{\"hoverinfo\":\"text\",\"marker\":{\"color\":\"rgb(35,205,205)\"},\"mode\":\"lines\",\"x\":[-0.0,-1.7320508075688772,-1.7320508075688772,-0.0],\"xaxis\":\"x\",\"y\":[1415.0,1415.0,1425.0,1425.0],\"yaxis\":\"y\",\"type\":\"scatter\"},{\"hoverinfo\":\"text\",\"marker\":{\"color\":\"rgb(35,205,205)\"},\"mode\":\"lines\",\"x\":[-1.7320508075688772,-5.196152422706632,-5.196152422706632,-1.7320508075688772],\"xaxis\":\"x\",\"y\":[1400.0,1400.0,1420.0,1420.0],\"yaxis\":\"y\",\"type\":\"scatter\"},{\"hoverinfo\":\"text\",\"marker\":{\"color\":\"rgb(35,205,205)\"},\"mode\":\"lines\",\"x\":[-4.898979485566356,-11.661903789690601,-11.661903789690601,-5.196152422706632],\"xaxis\":\"x\",\"y\":[1372.5,1372.5,1410.0,1410.0],\"yaxis\":\"y\",\"type\":\"scatter\"},{\"hoverinfo\":\"text\",\"marker\":{\"color\":\"rgb(35,205,205)\"},\"mode\":\"lines\",\"x\":[-0.0,-1.7320508075688772,-1.7320508075688772,-0.0],\"xaxis\":\"x\",\"y\":[1435.0,1435.0,1445.0,1445.0],\"yaxis\":\"y\",\"type\":\"scatter\"},{\"hoverinfo\":\"text\",\"marker\":{\"color\":\"rgb(35,205,205)\"},\"mode\":\"lines\",\"x\":[-0.0,-1.7320508075688772,-1.7320508075688772,-0.0],\"xaxis\":\"x\",\"y\":[1455.0,1455.0,1465.0,1465.0],\"yaxis\":\"y\",\"type\":\"scatter\"},{\"hoverinfo\":\"text\",\"marker\":{\"color\":\"rgb(35,205,205)\"},\"mode\":\"lines\",\"x\":[-1.7320508075688772,-5.196152422706632,-5.196152422706632,-1.7320508075688772],\"xaxis\":\"x\",\"y\":[1440.0,1440.0,1460.0,1460.0],\"yaxis\":\"y\",\"type\":\"scatter\"},{\"hoverinfo\":\"text\",\"marker\":{\"color\":\"rgb(35,205,205)\"},\"mode\":\"lines\",\"x\":[-0.0,-1.7320508075688772,-1.7320508075688772,-0.0],\"xaxis\":\"x\",\"y\":[1475.0,1475.0,1485.0,1485.0],\"yaxis\":\"y\",\"type\":\"scatter\"},{\"hoverinfo\":\"text\",\"marker\":{\"color\":\"rgb(35,205,205)\"},\"mode\":\"lines\",\"x\":[-0.0,-1.7320508075688772,-1.7320508075688772,-0.0],\"xaxis\":\"x\",\"y\":[1495.0,1495.0,1505.0,1505.0],\"yaxis\":\"y\",\"type\":\"scatter\"},{\"hoverinfo\":\"text\",\"marker\":{\"color\":\"rgb(35,205,205)\"},\"mode\":\"lines\",\"x\":[-1.7320508075688772,-5.196152422706632,-5.196152422706632,-1.7320508075688772],\"xaxis\":\"x\",\"y\":[1480.0,1480.0,1500.0,1500.0],\"yaxis\":\"y\",\"type\":\"scatter\"},{\"hoverinfo\":\"text\",\"marker\":{\"color\":\"rgb(35,205,205)\"},\"mode\":\"lines\",\"x\":[-5.196152422706632,-12.12435565298214,-12.12435565298214,-5.196152422706632],\"xaxis\":\"x\",\"y\":[1450.0,1450.0,1490.0,1490.0],\"yaxis\":\"y\",\"type\":\"scatter\"},{\"hoverinfo\":\"text\",\"marker\":{\"color\":\"rgb(35,205,205)\"},\"mode\":\"lines\",\"x\":[-11.661903789690601,-25.45584412271571,-25.45584412271571,-12.12435565298214],\"xaxis\":\"x\",\"y\":[1391.25,1391.25,1470.0,1470.0],\"yaxis\":\"y\",\"type\":\"scatter\"},{\"hoverinfo\":\"text\",\"marker\":{\"color\":\"rgb(35,205,205)\"},\"mode\":\"lines\",\"x\":[-19.05255888325765,-46.216880033165374,-46.216880033165374,-25.45584412271571],\"xaxis\":\"x\",\"y\":[1290.0,1290.0,1430.625,1430.625],\"yaxis\":\"y\",\"type\":\"scatter\"},{\"hoverinfo\":\"text\",\"marker\":{\"color\":\"rgb(35,205,205)\"},\"mode\":\"lines\",\"x\":[-0.0,-7.669862334736658,-7.669862334736658,-0.0],\"xaxis\":\"x\",\"y\":[1535.0,1535.0,1545.0,1545.0],\"yaxis\":\"y\",\"type\":\"scatter\"},{\"hoverinfo\":\"text\",\"marker\":{\"color\":\"rgb(35,205,205)\"},\"mode\":\"lines\",\"x\":[-0.0,-13.302803498530771,-13.302803498530771,-7.669862334736658],\"xaxis\":\"x\",\"y\":[1525.0,1525.0,1540.0,1540.0],\"yaxis\":\"y\",\"type\":\"scatter\"},{\"hoverinfo\":\"text\",\"marker\":{\"color\":\"rgb(35,205,205)\"},\"mode\":\"lines\",\"x\":[-0.0,-17.38976638272064,-17.38976638272064,-13.302803498530771],\"xaxis\":\"x\",\"y\":[1515.0,1515.0,1532.5,1532.5],\"yaxis\":\"y\",\"type\":\"scatter\"},{\"hoverinfo\":\"text\",\"marker\":{\"color\":\"rgb(35,205,205)\"},\"mode\":\"lines\",\"x\":[-0.0,-19.214662768472476,-19.214662768472476,-0.0],\"xaxis\":\"x\",\"y\":[1565.0,1565.0,1575.0,1575.0],\"yaxis\":\"y\",\"type\":\"scatter\"},{\"hoverinfo\":\"text\",\"marker\":{\"color\":\"rgb(35,205,205)\"},\"mode\":\"lines\",\"x\":[-0.0,-22.86654104134741,-22.86654104134741,-19.214662768472476],\"xaxis\":\"x\",\"y\":[1555.0,1555.0,1570.0,1570.0],\"yaxis\":\"y\",\"type\":\"scatter\"},{\"hoverinfo\":\"text\",\"marker\":{\"color\":\"rgb(35,205,205)\"},\"mode\":\"lines\",\"x\":[-17.38976638272064,-48.06589813237244,-48.06589813237244,-22.86654104134741],\"xaxis\":\"x\",\"y\":[1523.75,1523.75,1562.5,1562.5],\"yaxis\":\"y\",\"type\":\"scatter\"},{\"hoverinfo\":\"text\",\"marker\":{\"color\":\"rgb(35,205,205)\"},\"mode\":\"lines\",\"x\":[-0.0,-1.7320508075688772,-1.7320508075688772,-0.0],\"xaxis\":\"x\",\"y\":[1585.0,1585.0,1595.0,1595.0],\"yaxis\":\"y\",\"type\":\"scatter\"},{\"hoverinfo\":\"text\",\"marker\":{\"color\":\"rgb(35,205,205)\"},\"mode\":\"lines\",\"x\":[-0.0,-1.7320508075688772,-1.7320508075688772,-0.0],\"xaxis\":\"x\",\"y\":[1615.0,1615.0,1625.0,1625.0],\"yaxis\":\"y\",\"type\":\"scatter\"},{\"hoverinfo\":\"text\",\"marker\":{\"color\":\"rgb(35,205,205)\"},\"mode\":\"lines\",\"x\":[-0.0,-3.4641016151377544,-3.4641016151377544,-1.7320508075688772],\"xaxis\":\"x\",\"y\":[1605.0,1605.0,1620.0,1620.0],\"yaxis\":\"y\",\"type\":\"scatter\"},{\"hoverinfo\":\"text\",\"marker\":{\"color\":\"rgb(35,205,205)\"},\"mode\":\"lines\",\"x\":[-1.7320508075688772,-9.0,-9.0,-3.4641016151377544],\"xaxis\":\"x\",\"y\":[1590.0,1590.0,1612.5,1612.5],\"yaxis\":\"y\",\"type\":\"scatter\"},{\"hoverinfo\":\"text\",\"marker\":{\"color\":\"rgb(35,205,205)\"},\"mode\":\"lines\",\"x\":[-0.0,-1.7320508075688772,-1.7320508075688772,-0.0],\"xaxis\":\"x\",\"y\":[1645.0,1645.0,1655.0,1655.0],\"yaxis\":\"y\",\"type\":\"scatter\"},{\"hoverinfo\":\"text\",\"marker\":{\"color\":\"rgb(35,205,205)\"},\"mode\":\"lines\",\"x\":[-0.0,-4.898979485566356,-4.898979485566356,-1.7320508075688772],\"xaxis\":\"x\",\"y\":[1635.0,1635.0,1650.0,1650.0],\"yaxis\":\"y\",\"type\":\"scatter\"},{\"hoverinfo\":\"text\",\"marker\":{\"color\":\"rgb(35,205,205)\"},\"mode\":\"lines\",\"x\":[-0.0,-1.7320508075688772,-1.7320508075688772,-0.0],\"xaxis\":\"x\",\"y\":[1665.0,1665.0,1675.0,1675.0],\"yaxis\":\"y\",\"type\":\"scatter\"},{\"hoverinfo\":\"text\",\"marker\":{\"color\":\"rgb(35,205,205)\"},\"mode\":\"lines\",\"x\":[-0.0,-1.7320508075688772,-1.7320508075688772,-0.0],\"xaxis\":\"x\",\"y\":[1685.0,1685.0,1695.0,1695.0],\"yaxis\":\"y\",\"type\":\"scatter\"},{\"hoverinfo\":\"text\",\"marker\":{\"color\":\"rgb(35,205,205)\"},\"mode\":\"lines\",\"x\":[-1.7320508075688772,-5.196152422706632,-5.196152422706632,-1.7320508075688772],\"xaxis\":\"x\",\"y\":[1670.0,1670.0,1690.0,1690.0],\"yaxis\":\"y\",\"type\":\"scatter\"},{\"hoverinfo\":\"text\",\"marker\":{\"color\":\"rgb(35,205,205)\"},\"mode\":\"lines\",\"x\":[-4.898979485566356,-11.661903789690601,-11.661903789690601,-5.196152422706632],\"xaxis\":\"x\",\"y\":[1642.5,1642.5,1680.0,1680.0],\"yaxis\":\"y\",\"type\":\"scatter\"},{\"hoverinfo\":\"text\",\"marker\":{\"color\":\"rgb(35,205,205)\"},\"mode\":\"lines\",\"x\":[-9.0,-22.315913604421397,-22.315913604421397,-11.661903789690601],\"xaxis\":\"x\",\"y\":[1601.25,1601.25,1661.25,1661.25],\"yaxis\":\"y\",\"type\":\"scatter\"},{\"hoverinfo\":\"text\",\"marker\":{\"color\":\"rgb(35,205,205)\"},\"mode\":\"lines\",\"x\":[-0.0,-1.7320508075688772,-1.7320508075688772,-0.0],\"xaxis\":\"x\",\"y\":[1705.0,1705.0,1715.0,1715.0],\"yaxis\":\"y\",\"type\":\"scatter\"},{\"hoverinfo\":\"text\",\"marker\":{\"color\":\"rgb(35,205,205)\"},\"mode\":\"lines\",\"x\":[-0.0,-1.7320508075688772,-1.7320508075688772,-0.0],\"xaxis\":\"x\",\"y\":[1725.0,1725.0,1735.0,1735.0],\"yaxis\":\"y\",\"type\":\"scatter\"},{\"hoverinfo\":\"text\",\"marker\":{\"color\":\"rgb(35,205,205)\"},\"mode\":\"lines\",\"x\":[-1.7320508075688772,-5.196152422706632,-5.196152422706632,-1.7320508075688772],\"xaxis\":\"x\",\"y\":[1710.0,1710.0,1730.0,1730.0],\"yaxis\":\"y\",\"type\":\"scatter\"},{\"hoverinfo\":\"text\",\"marker\":{\"color\":\"rgb(35,205,205)\"},\"mode\":\"lines\",\"x\":[-0.0,-1.7320508075688772,-1.7320508075688772,-0.0],\"xaxis\":\"x\",\"y\":[1745.0,1745.0,1755.0,1755.0],\"yaxis\":\"y\",\"type\":\"scatter\"},{\"hoverinfo\":\"text\",\"marker\":{\"color\":\"rgb(35,205,205)\"},\"mode\":\"lines\",\"x\":[-0.0,-1.7320508075688772,-1.7320508075688772,-0.0],\"xaxis\":\"x\",\"y\":[1775.0,1775.0,1785.0,1785.0],\"yaxis\":\"y\",\"type\":\"scatter\"},{\"hoverinfo\":\"text\",\"marker\":{\"color\":\"rgb(35,205,205)\"},\"mode\":\"lines\",\"x\":[-0.0,-3.4641016151377544,-3.4641016151377544,-1.7320508075688772],\"xaxis\":\"x\",\"y\":[1765.0,1765.0,1780.0,1780.0],\"yaxis\":\"y\",\"type\":\"scatter\"},{\"hoverinfo\":\"text\",\"marker\":{\"color\":\"rgb(35,205,205)\"},\"mode\":\"lines\",\"x\":[-1.7320508075688772,-6.928203230275509,-6.928203230275509,-3.4641016151377544],\"xaxis\":\"x\",\"y\":[1750.0,1750.0,1772.5,1772.5],\"yaxis\":\"y\",\"type\":\"scatter\"},{\"hoverinfo\":\"text\",\"marker\":{\"color\":\"rgb(35,205,205)\"},\"mode\":\"lines\",\"x\":[-5.196152422706632,-15.7797338380595,-15.7797338380595,-6.928203230275509],\"xaxis\":\"x\",\"y\":[1720.0,1720.0,1761.25,1761.25],\"yaxis\":\"y\",\"type\":\"scatter\"},{\"hoverinfo\":\"text\",\"marker\":{\"color\":\"rgb(35,205,205)\"},\"mode\":\"lines\",\"x\":[-0.0,-1.7320508075688772,-1.7320508075688772,-0.0],\"xaxis\":\"x\",\"y\":[1795.0,1795.0,1805.0,1805.0],\"yaxis\":\"y\",\"type\":\"scatter\"},{\"hoverinfo\":\"text\",\"marker\":{\"color\":\"rgb(35,205,205)\"},\"mode\":\"lines\",\"x\":[-0.0,-1.7320508075688772,-1.7320508075688772,-0.0],\"xaxis\":\"x\",\"y\":[1815.0,1815.0,1825.0,1825.0],\"yaxis\":\"y\",\"type\":\"scatter\"},{\"hoverinfo\":\"text\",\"marker\":{\"color\":\"rgb(35,205,205)\"},\"mode\":\"lines\",\"x\":[-1.7320508075688772,-5.196152422706632,-5.196152422706632,-1.7320508075688772],\"xaxis\":\"x\",\"y\":[1800.0,1800.0,1820.0,1820.0],\"yaxis\":\"y\",\"type\":\"scatter\"},{\"hoverinfo\":\"text\",\"marker\":{\"color\":\"rgb(35,205,205)\"},\"mode\":\"lines\",\"x\":[-0.0,-1.7320508075688772,-1.7320508075688772,-0.0],\"xaxis\":\"x\",\"y\":[1835.0,1835.0,1845.0,1845.0],\"yaxis\":\"y\",\"type\":\"scatter\"},{\"hoverinfo\":\"text\",\"marker\":{\"color\":\"rgb(35,205,205)\"},\"mode\":\"lines\",\"x\":[-0.0,-1.7320508075688772,-1.7320508075688772,-0.0],\"xaxis\":\"x\",\"y\":[1865.0,1865.0,1875.0,1875.0],\"yaxis\":\"y\",\"type\":\"scatter\"},{\"hoverinfo\":\"text\",\"marker\":{\"color\":\"rgb(35,205,205)\"},\"mode\":\"lines\",\"x\":[-0.0,-3.4641016151377544,-3.4641016151377544,-1.7320508075688772],\"xaxis\":\"x\",\"y\":[1855.0,1855.0,1870.0,1870.0],\"yaxis\":\"y\",\"type\":\"scatter\"},{\"hoverinfo\":\"text\",\"marker\":{\"color\":\"rgb(35,205,205)\"},\"mode\":\"lines\",\"x\":[-1.7320508075688772,-6.928203230275509,-6.928203230275509,-3.4641016151377544],\"xaxis\":\"x\",\"y\":[1840.0,1840.0,1862.5,1862.5],\"yaxis\":\"y\",\"type\":\"scatter\"},{\"hoverinfo\":\"text\",\"marker\":{\"color\":\"rgb(35,205,205)\"},\"mode\":\"lines\",\"x\":[-5.196152422706632,-13.856406460551018,-13.856406460551018,-6.928203230275509],\"xaxis\":\"x\",\"y\":[1810.0,1810.0,1851.25,1851.25],\"yaxis\":\"y\",\"type\":\"scatter\"},{\"hoverinfo\":\"text\",\"marker\":{\"color\":\"rgb(35,205,205)\"},\"mode\":\"lines\",\"x\":[-0.0,-1.7320508075688772,-1.7320508075688772,-0.0],\"xaxis\":\"x\",\"y\":[1885.0,1885.0,1895.0,1895.0],\"yaxis\":\"y\",\"type\":\"scatter\"},{\"hoverinfo\":\"text\",\"marker\":{\"color\":\"rgb(35,205,205)\"},\"mode\":\"lines\",\"x\":[-0.0,-1.7320508075688772,-1.7320508075688772,-0.0],\"xaxis\":\"x\",\"y\":[1905.0,1905.0,1915.0,1915.0],\"yaxis\":\"y\",\"type\":\"scatter\"},{\"hoverinfo\":\"text\",\"marker\":{\"color\":\"rgb(35,205,205)\"},\"mode\":\"lines\",\"x\":[-1.7320508075688772,-5.196152422706632,-5.196152422706632,-1.7320508075688772],\"xaxis\":\"x\",\"y\":[1890.0,1890.0,1910.0,1910.0],\"yaxis\":\"y\",\"type\":\"scatter\"},{\"hoverinfo\":\"text\",\"marker\":{\"color\":\"rgb(35,205,205)\"},\"mode\":\"lines\",\"x\":[-0.0,-1.7320508075688772,-1.7320508075688772,-0.0],\"xaxis\":\"x\",\"y\":[1925.0,1925.0,1935.0,1935.0],\"yaxis\":\"y\",\"type\":\"scatter\"},{\"hoverinfo\":\"text\",\"marker\":{\"color\":\"rgb(35,205,205)\"},\"mode\":\"lines\",\"x\":[-0.0,-1.7320508075688772,-1.7320508075688772,-0.0],\"xaxis\":\"x\",\"y\":[1955.0,1955.0,1965.0,1965.0],\"yaxis\":\"y\",\"type\":\"scatter\"},{\"hoverinfo\":\"text\",\"marker\":{\"color\":\"rgb(35,205,205)\"},\"mode\":\"lines\",\"x\":[-0.0,-3.4641016151377544,-3.4641016151377544,-1.7320508075688772],\"xaxis\":\"x\",\"y\":[1945.0,1945.0,1960.0,1960.0],\"yaxis\":\"y\",\"type\":\"scatter\"},{\"hoverinfo\":\"text\",\"marker\":{\"color\":\"rgb(35,205,205)\"},\"mode\":\"lines\",\"x\":[-1.7320508075688772,-7.54983443527075,-7.54983443527075,-3.4641016151377544],\"xaxis\":\"x\",\"y\":[1930.0,1930.0,1952.5,1952.5],\"yaxis\":\"y\",\"type\":\"scatter\"},{\"hoverinfo\":\"text\",\"marker\":{\"color\":\"rgb(35,205,205)\"},\"mode\":\"lines\",\"x\":[-5.196152422706632,-14.45683229480096,-14.45683229480096,-7.54983443527075],\"xaxis\":\"x\",\"y\":[1900.0,1900.0,1941.25,1941.25],\"yaxis\":\"y\",\"type\":\"scatter\"},{\"hoverinfo\":\"text\",\"marker\":{\"color\":\"rgb(35,205,205)\"},\"mode\":\"lines\",\"x\":[-13.856406460551018,-30.643106892089126,-30.643106892089126,-14.45683229480096],\"xaxis\":\"x\",\"y\":[1830.625,1830.625,1920.625,1920.625],\"yaxis\":\"y\",\"type\":\"scatter\"},{\"hoverinfo\":\"text\",\"marker\":{\"color\":\"rgb(35,205,205)\"},\"mode\":\"lines\",\"x\":[-15.7797338380595,-48.744230427815765,-48.744230427815765,-30.643106892089126],\"xaxis\":\"x\",\"y\":[1740.625,1740.625,1875.625,1875.625],\"yaxis\":\"y\",\"type\":\"scatter\"},{\"hoverinfo\":\"text\",\"marker\":{\"color\":\"rgb(35,205,205)\"},\"mode\":\"lines\",\"x\":[-22.315913604421397,-73.40299721401027,-73.40299721401027,-48.744230427815765],\"xaxis\":\"x\",\"y\":[1631.25,1631.25,1808.125,1808.125],\"yaxis\":\"y\",\"type\":\"scatter\"},{\"hoverinfo\":\"text\",\"marker\":{\"color\":\"rgb(35,205,205)\"},\"mode\":\"lines\",\"x\":[-48.06589813237244,-122.4675562905922,-122.4675562905922,-73.40299721401027],\"xaxis\":\"x\",\"y\":[1543.125,1543.125,1719.6875,1719.6875],\"yaxis\":\"y\",\"type\":\"scatter\"},{\"hoverinfo\":\"text\",\"marker\":{\"color\":\"rgb(35,205,205)\"},\"mode\":\"lines\",\"x\":[-46.216880033165374,-148.96074094804095,-148.96074094804095,-122.4675562905922],\"xaxis\":\"x\",\"y\":[1360.3125,1360.3125,1631.40625,1631.40625],\"yaxis\":\"y\",\"type\":\"scatter\"},{\"hoverinfo\":\"text\",\"marker\":{\"color\":\"rgb(35,205,205)\"},\"mode\":\"lines\",\"x\":[-99.498743710662,-234.09613409879285,-234.09613409879285,-148.96074094804095],\"xaxis\":\"x\",\"y\":[965.703125,965.703125,1495.859375,1495.859375],\"yaxis\":\"y\",\"type\":\"scatter\"},{\"hoverinfo\":\"text\",\"marker\":{\"color\":\"rgb(35,205,205)\"},\"mode\":\"lines\",\"x\":[-0.0,-13.865946112018031,-13.865946112018031,-0.0],\"xaxis\":\"x\",\"y\":[1985.0,1985.0,1995.0,1995.0],\"yaxis\":\"y\",\"type\":\"scatter\"},{\"hoverinfo\":\"text\",\"marker\":{\"color\":\"rgb(35,205,205)\"},\"mode\":\"lines\",\"x\":[-0.0,-25.846390818977934,-25.846390818977934,-13.865946112018031],\"xaxis\":\"x\",\"y\":[1975.0,1975.0,1990.0,1990.0],\"yaxis\":\"y\",\"type\":\"scatter\"},{\"hoverinfo\":\"text\",\"marker\":{\"color\":\"rgb(35,205,205)\"},\"mode\":\"lines\",\"x\":[-0.0,-12.08797705748996,-12.08797705748996,-0.0],\"xaxis\":\"x\",\"y\":[2015.0,2015.0,2025.0,2025.0],\"yaxis\":\"y\",\"type\":\"scatter\"},{\"hoverinfo\":\"text\",\"marker\":{\"color\":\"rgb(35,205,205)\"},\"mode\":\"lines\",\"x\":[-0.0,-27.11615321733749,-27.11615321733749,-12.08797705748996],\"xaxis\":\"x\",\"y\":[2005.0,2005.0,2020.0,2020.0],\"yaxis\":\"y\",\"type\":\"scatter\"},{\"hoverinfo\":\"text\",\"marker\":{\"color\":\"rgb(35,205,205)\"},\"mode\":\"lines\",\"x\":[-25.846390818977934,-51.06664762836895,-51.06664762836895,-27.11615321733749],\"xaxis\":\"x\",\"y\":[1982.5,1982.5,2012.5,2012.5],\"yaxis\":\"y\",\"type\":\"scatter\"},{\"hoverinfo\":\"text\",\"marker\":{\"color\":\"rgb(35,205,205)\"},\"mode\":\"lines\",\"x\":[-0.0,-3.923011939280439,-3.923011939280439,-0.0],\"xaxis\":\"x\",\"y\":[2035.0,2035.0,2045.0,2045.0],\"yaxis\":\"y\",\"type\":\"scatter\"},{\"hoverinfo\":\"text\",\"marker\":{\"color\":\"rgb(35,205,205)\"},\"mode\":\"lines\",\"x\":[-0.0,-17.56097314438405,-17.56097314438405,-0.0],\"xaxis\":\"x\",\"y\":[2055.0,2055.0,2065.0,2065.0],\"yaxis\":\"y\",\"type\":\"scatter\"},{\"hoverinfo\":\"text\",\"marker\":{\"color\":\"rgb(35,205,205)\"},\"mode\":\"lines\",\"x\":[-3.923011939280439,-53.06694859480113,-53.06694859480113,-17.56097314438405],\"xaxis\":\"x\",\"y\":[2040.0,2040.0,2060.0,2060.0],\"yaxis\":\"y\",\"type\":\"scatter\"},{\"hoverinfo\":\"text\",\"marker\":{\"color\":\"rgb(35,205,205)\"},\"mode\":\"lines\",\"x\":[-0.0,-22.84500670219272,-22.84500670219272,-0.0],\"xaxis\":\"x\",\"y\":[2075.0,2075.0,2085.0,2085.0],\"yaxis\":\"y\",\"type\":\"scatter\"},{\"hoverinfo\":\"text\",\"marker\":{\"color\":\"rgb(35,205,205)\"},\"mode\":\"lines\",\"x\":[-0.0,-17.212549039893634,-17.212549039893634,-0.0],\"xaxis\":\"x\",\"y\":[2105.0,2105.0,2115.0,2115.0],\"yaxis\":\"y\",\"type\":\"scatter\"},{\"hoverinfo\":\"text\",\"marker\":{\"color\":\"rgb(35,205,205)\"},\"mode\":\"lines\",\"x\":[-0.0,-30.10272537003844,-30.10272537003844,-17.212549039893634],\"xaxis\":\"x\",\"y\":[2095.0,2095.0,2110.0,2110.0],\"yaxis\":\"y\",\"type\":\"scatter\"},{\"hoverinfo\":\"text\",\"marker\":{\"color\":\"rgb(35,205,205)\"},\"mode\":\"lines\",\"x\":[-22.84500670219272,-64.44616326193263,-64.44616326193263,-30.10272537003844],\"xaxis\":\"x\",\"y\":[2080.0,2080.0,2102.5,2102.5],\"yaxis\":\"y\",\"type\":\"scatter\"},{\"hoverinfo\":\"text\",\"marker\":{\"color\":\"rgb(35,205,205)\"},\"mode\":\"lines\",\"x\":[-53.06694859480113,-97.35168995405812,-97.35168995405812,-64.44616326193263],\"xaxis\":\"x\",\"y\":[2050.0,2050.0,2091.25,2091.25],\"yaxis\":\"y\",\"type\":\"scatter\"},{\"hoverinfo\":\"text\",\"marker\":{\"color\":\"rgb(35,205,205)\"},\"mode\":\"lines\",\"x\":[-51.06664762836895,-144.7833569827129,-144.7833569827129,-97.35168995405812],\"xaxis\":\"x\",\"y\":[1997.5,1997.5,2070.625,2070.625],\"yaxis\":\"y\",\"type\":\"scatter\"},{\"hoverinfo\":\"text\",\"marker\":{\"color\":\"rgb(35,205,205)\"},\"mode\":\"lines\",\"x\":[-0.0,-5.923761887557492,-5.923761887557492,-0.0],\"xaxis\":\"x\",\"y\":[2145.0,2145.0,2155.0,2155.0],\"yaxis\":\"y\",\"type\":\"scatter\"},{\"hoverinfo\":\"text\",\"marker\":{\"color\":\"rgb(35,205,205)\"},\"mode\":\"lines\",\"x\":[-0.0,-21.98962607072732,-21.98962607072732,-5.923761887557492],\"xaxis\":\"x\",\"y\":[2135.0,2135.0,2150.0,2150.0],\"yaxis\":\"y\",\"type\":\"scatter\"},{\"hoverinfo\":\"text\",\"marker\":{\"color\":\"rgb(35,205,205)\"},\"mode\":\"lines\",\"x\":[-0.0,-36.70896526284736,-36.70896526284736,-21.98962607072732],\"xaxis\":\"x\",\"y\":[2125.0,2125.0,2142.5,2142.5],\"yaxis\":\"y\",\"type\":\"scatter\"},{\"hoverinfo\":\"text\",\"marker\":{\"color\":\"rgb(35,205,205)\"},\"mode\":\"lines\",\"x\":[-0.0,-10.943752359357727,-10.943752359357727,-0.0],\"xaxis\":\"x\",\"y\":[2165.0,2165.0,2175.0,2175.0],\"yaxis\":\"y\",\"type\":\"scatter\"},{\"hoverinfo\":\"text\",\"marker\":{\"color\":\"rgb(35,205,205)\"},\"mode\":\"lines\",\"x\":[-0.0,-21.732105145473547,-21.732105145473547,-0.0],\"xaxis\":\"x\",\"y\":[2185.0,2185.0,2195.0,2195.0],\"yaxis\":\"y\",\"type\":\"scatter\"},{\"hoverinfo\":\"text\",\"marker\":{\"color\":\"rgb(35,205,205)\"},\"mode\":\"lines\",\"x\":[-10.943752359357727,-68.69352227480788,-68.69352227480788,-21.732105145473547],\"xaxis\":\"x\",\"y\":[2170.0,2170.0,2190.0,2190.0],\"yaxis\":\"y\",\"type\":\"scatter\"},{\"hoverinfo\":\"text\",\"marker\":{\"color\":\"rgb(35,205,205)\"},\"mode\":\"lines\",\"x\":[-36.70896526284736,-80.76145117235606,-80.76145117235606,-68.69352227480788],\"xaxis\":\"x\",\"y\":[2133.75,2133.75,2180.0,2180.0],\"yaxis\":\"y\",\"type\":\"scatter\"},{\"hoverinfo\":\"text\",\"marker\":{\"color\":\"rgb(35,205,205)\"},\"mode\":\"lines\",\"x\":[-0.0,-7.260305357740068,-7.260305357740068,-0.0],\"xaxis\":\"x\",\"y\":[2225.0,2225.0,2235.0,2235.0],\"yaxis\":\"y\",\"type\":\"scatter\"},{\"hoverinfo\":\"text\",\"marker\":{\"color\":\"rgb(35,205,205)\"},\"mode\":\"lines\",\"x\":[-0.0,-13.076703387523201,-13.076703387523201,-7.260305357740068],\"xaxis\":\"x\",\"y\":[2215.0,2215.0,2230.0,2230.0],\"yaxis\":\"y\",\"type\":\"scatter\"},{\"hoverinfo\":\"text\",\"marker\":{\"color\":\"rgb(35,205,205)\"},\"mode\":\"lines\",\"x\":[-0.0,-24.933578458588066,-24.933578458588066,-13.076703387523201],\"xaxis\":\"x\",\"y\":[2205.0,2205.0,2222.5,2222.5],\"yaxis\":\"y\",\"type\":\"scatter\"},{\"hoverinfo\":\"text\",\"marker\":{\"color\":\"rgb(35,205,205)\"},\"mode\":\"lines\",\"x\":[-0.0,-26.168392854367248,-26.168392854367248,-0.0],\"xaxis\":\"x\",\"y\":[2245.0,2245.0,2255.0,2255.0],\"yaxis\":\"y\",\"type\":\"scatter\"},{\"hoverinfo\":\"text\",\"marker\":{\"color\":\"rgb(35,205,205)\"},\"mode\":\"lines\",\"x\":[-24.933578458588066,-83.5274316421539,-83.5274316421539,-26.168392854367248],\"xaxis\":\"x\",\"y\":[2213.75,2213.75,2250.0,2250.0],\"yaxis\":\"y\",\"type\":\"scatter\"},{\"hoverinfo\":\"text\",\"marker\":{\"color\":\"rgb(35,205,205)\"},\"mode\":\"lines\",\"x\":[-80.76145117235606,-168.49231195915854,-168.49231195915854,-83.5274316421539],\"xaxis\":\"x\",\"y\":[2156.875,2156.875,2231.875,2231.875],\"yaxis\":\"y\",\"type\":\"scatter\"},{\"hoverinfo\":\"text\",\"marker\":{\"color\":\"rgb(35,205,205)\"},\"mode\":\"lines\",\"x\":[-144.7833569827129,-257.1427623015698,-257.1427623015698,-168.49231195915854],\"xaxis\":\"x\",\"y\":[2034.0625,2034.0625,2194.375,2194.375],\"yaxis\":\"y\",\"type\":\"scatter\"},{\"hoverinfo\":\"text\",\"marker\":{\"color\":\"rgb(35,205,205)\"},\"mode\":\"lines\",\"x\":[-234.09613409879285,-345.6252574597295,-345.6252574597295,-257.1427623015698],\"xaxis\":\"x\",\"y\":[1230.78125,1230.78125,2114.21875,2114.21875],\"yaxis\":\"y\",\"type\":\"scatter\"},{\"hoverinfo\":\"text\",\"marker\":{\"color\":\"rgb(35,205,205)\"},\"mode\":\"lines\",\"x\":[-202.62647901989513,-455.6336494377912,-455.6336494377912,-345.6252574597295],\"xaxis\":\"x\",\"y\":[606.640625,606.640625,1672.5,1672.5],\"yaxis\":\"y\",\"type\":\"scatter\"},{\"hoverinfo\":\"text\",\"marker\":{\"color\":\"rgb(35,205,205)\"},\"mode\":\"lines\",\"x\":[-0.0,-9.492329478659562,-9.492329478659562,-0.0],\"xaxis\":\"x\",\"y\":[2275.0,2275.0,2285.0,2285.0],\"yaxis\":\"y\",\"type\":\"scatter\"},{\"hoverinfo\":\"text\",\"marker\":{\"color\":\"rgb(35,205,205)\"},\"mode\":\"lines\",\"x\":[-0.0,-63.00548519120089,-63.00548519120089,-9.492329478659562],\"xaxis\":\"x\",\"y\":[2265.0,2265.0,2280.0,2280.0],\"yaxis\":\"y\",\"type\":\"scatter\"},{\"hoverinfo\":\"text\",\"marker\":{\"color\":\"rgb(35,205,205)\"},\"mode\":\"lines\",\"x\":[-0.0,-32.471045710372664,-32.471045710372664,-0.0],\"xaxis\":\"x\",\"y\":[2295.0,2295.0,2305.0,2305.0],\"yaxis\":\"y\",\"type\":\"scatter\"},{\"hoverinfo\":\"text\",\"marker\":{\"color\":\"rgb(35,205,205)\"},\"mode\":\"lines\",\"x\":[-0.0,-26.868818410525197,-26.868818410525197,-0.0],\"xaxis\":\"x\",\"y\":[2325.0,2325.0,2335.0,2335.0],\"yaxis\":\"y\",\"type\":\"scatter\"},{\"hoverinfo\":\"text\",\"marker\":{\"color\":\"rgb(35,205,205)\"},\"mode\":\"lines\",\"x\":[-0.0,-37.07340108354283,-37.07340108354283,-26.868818410525197],\"xaxis\":\"x\",\"y\":[2315.0,2315.0,2330.0,2330.0],\"yaxis\":\"y\",\"type\":\"scatter\"},{\"hoverinfo\":\"text\",\"marker\":{\"color\":\"rgb(35,205,205)\"},\"mode\":\"lines\",\"x\":[-32.471045710372664,-109.43645716060163,-109.43645716060163,-37.07340108354283],\"xaxis\":\"x\",\"y\":[2300.0,2300.0,2322.5,2322.5],\"yaxis\":\"y\",\"type\":\"scatter\"},{\"hoverinfo\":\"text\",\"marker\":{\"color\":\"rgb(35,205,205)\"},\"mode\":\"lines\",\"x\":[-63.00548519120089,-191.57140701917885,-191.57140701917885,-109.43645716060163],\"xaxis\":\"x\",\"y\":[2272.5,2272.5,2311.25,2311.25],\"yaxis\":\"y\",\"type\":\"scatter\"},{\"hoverinfo\":\"text\",\"marker\":{\"color\":\"rgb(35,205,205)\"},\"mode\":\"lines\",\"x\":[-0.0,-1.7320508075688772,-1.7320508075688772,-0.0],\"xaxis\":\"x\",\"y\":[2345.0,2345.0,2355.0,2355.0],\"yaxis\":\"y\",\"type\":\"scatter\"},{\"hoverinfo\":\"text\",\"marker\":{\"color\":\"rgb(35,205,205)\"},\"mode\":\"lines\",\"x\":[-0.0,-1.7320508075688772,-1.7320508075688772,-0.0],\"xaxis\":\"x\",\"y\":[2365.0,2365.0,2375.0,2375.0],\"yaxis\":\"y\",\"type\":\"scatter\"},{\"hoverinfo\":\"text\",\"marker\":{\"color\":\"rgb(35,205,205)\"},\"mode\":\"lines\",\"x\":[-1.7320508075688772,-5.196152422706632,-5.196152422706632,-1.7320508075688772],\"xaxis\":\"x\",\"y\":[2350.0,2350.0,2370.0,2370.0],\"yaxis\":\"y\",\"type\":\"scatter\"},{\"hoverinfo\":\"text\",\"marker\":{\"color\":\"rgb(35,205,205)\"},\"mode\":\"lines\",\"x\":[-0.0,-1.7320508075688772,-1.7320508075688772,-0.0],\"xaxis\":\"x\",\"y\":[2385.0,2385.0,2395.0,2395.0],\"yaxis\":\"y\",\"type\":\"scatter\"},{\"hoverinfo\":\"text\",\"marker\":{\"color\":\"rgb(35,205,205)\"},\"mode\":\"lines\",\"x\":[-0.0,-1.7320508075688772,-1.7320508075688772,-0.0],\"xaxis\":\"x\",\"y\":[2405.0,2405.0,2415.0,2415.0],\"yaxis\":\"y\",\"type\":\"scatter\"},{\"hoverinfo\":\"text\",\"marker\":{\"color\":\"rgb(35,205,205)\"},\"mode\":\"lines\",\"x\":[-1.7320508075688772,-5.196152422706632,-5.196152422706632,-1.7320508075688772],\"xaxis\":\"x\",\"y\":[2390.0,2390.0,2410.0,2410.0],\"yaxis\":\"y\",\"type\":\"scatter\"},{\"hoverinfo\":\"text\",\"marker\":{\"color\":\"rgb(35,205,205)\"},\"mode\":\"lines\",\"x\":[-5.196152422706632,-12.12435565298214,-12.12435565298214,-5.196152422706632],\"xaxis\":\"x\",\"y\":[2360.0,2360.0,2400.0,2400.0],\"yaxis\":\"y\",\"type\":\"scatter\"},{\"hoverinfo\":\"text\",\"marker\":{\"color\":\"rgb(35,205,205)\"},\"mode\":\"lines\",\"x\":[-0.0,-1.7320508075688772,-1.7320508075688772,-0.0],\"xaxis\":\"x\",\"y\":[2425.0,2425.0,2435.0,2435.0],\"yaxis\":\"y\",\"type\":\"scatter\"},{\"hoverinfo\":\"text\",\"marker\":{\"color\":\"rgb(35,205,205)\"},\"mode\":\"lines\",\"x\":[-0.0,-1.7320508075688772,-1.7320508075688772,-0.0],\"xaxis\":\"x\",\"y\":[2445.0,2445.0,2455.0,2455.0],\"yaxis\":\"y\",\"type\":\"scatter\"},{\"hoverinfo\":\"text\",\"marker\":{\"color\":\"rgb(35,205,205)\"},\"mode\":\"lines\",\"x\":[-1.7320508075688772,-5.196152422706632,-5.196152422706632,-1.7320508075688772],\"xaxis\":\"x\",\"y\":[2430.0,2430.0,2450.0,2450.0],\"yaxis\":\"y\",\"type\":\"scatter\"},{\"hoverinfo\":\"text\",\"marker\":{\"color\":\"rgb(35,205,205)\"},\"mode\":\"lines\",\"x\":[-0.0,-1.7320508075688772,-1.7320508075688772,-0.0],\"xaxis\":\"x\",\"y\":[2465.0,2465.0,2475.0,2475.0],\"yaxis\":\"y\",\"type\":\"scatter\"},{\"hoverinfo\":\"text\",\"marker\":{\"color\":\"rgb(35,205,205)\"},\"mode\":\"lines\",\"x\":[-0.0,-1.7320508075688772,-1.7320508075688772,-0.0],\"xaxis\":\"x\",\"y\":[2485.0,2485.0,2495.0,2495.0],\"yaxis\":\"y\",\"type\":\"scatter\"},{\"hoverinfo\":\"text\",\"marker\":{\"color\":\"rgb(35,205,205)\"},\"mode\":\"lines\",\"x\":[-1.7320508075688772,-5.196152422706632,-5.196152422706632,-1.7320508075688772],\"xaxis\":\"x\",\"y\":[2470.0,2470.0,2490.0,2490.0],\"yaxis\":\"y\",\"type\":\"scatter\"},{\"hoverinfo\":\"text\",\"marker\":{\"color\":\"rgb(35,205,205)\"},\"mode\":\"lines\",\"x\":[-5.196152422706632,-12.727922061357855,-12.727922061357855,-5.196152422706632],\"xaxis\":\"x\",\"y\":[2440.0,2440.0,2480.0,2480.0],\"yaxis\":\"y\",\"type\":\"scatter\"},{\"hoverinfo\":\"text\",\"marker\":{\"color\":\"rgb(35,205,205)\"},\"mode\":\"lines\",\"x\":[-12.12435565298214,-26.570660511172846,-26.570660511172846,-12.727922061357855],\"xaxis\":\"x\",\"y\":[2380.0,2380.0,2460.0,2460.0],\"yaxis\":\"y\",\"type\":\"scatter\"},{\"hoverinfo\":\"text\",\"marker\":{\"color\":\"rgb(35,205,205)\"},\"mode\":\"lines\",\"x\":[-0.0,-1.7320508075688772,-1.7320508075688772,-0.0],\"xaxis\":\"x\",\"y\":[2515.0,2515.0,2525.0,2525.0],\"yaxis\":\"y\",\"type\":\"scatter\"},{\"hoverinfo\":\"text\",\"marker\":{\"color\":\"rgb(35,205,205)\"},\"mode\":\"lines\",\"x\":[-0.0,-3.4641016151377544,-3.4641016151377544,-1.7320508075688772],\"xaxis\":\"x\",\"y\":[2505.0,2505.0,2520.0,2520.0],\"yaxis\":\"y\",\"type\":\"scatter\"},{\"hoverinfo\":\"text\",\"marker\":{\"color\":\"rgb(35,205,205)\"},\"mode\":\"lines\",\"x\":[-0.0,-1.7320508075688772,-1.7320508075688772,-0.0],\"xaxis\":\"x\",\"y\":[2535.0,2535.0,2545.0,2545.0],\"yaxis\":\"y\",\"type\":\"scatter\"},{\"hoverinfo\":\"text\",\"marker\":{\"color\":\"rgb(35,205,205)\"},\"mode\":\"lines\",\"x\":[-0.0,-1.7320508075688772,-1.7320508075688772,-0.0],\"xaxis\":\"x\",\"y\":[2555.0,2555.0,2565.0,2565.0],\"yaxis\":\"y\",\"type\":\"scatter\"},{\"hoverinfo\":\"text\",\"marker\":{\"color\":\"rgb(35,205,205)\"},\"mode\":\"lines\",\"x\":[-1.7320508075688772,-5.196152422706632,-5.196152422706632,-1.7320508075688772],\"xaxis\":\"x\",\"y\":[2540.0,2540.0,2560.0,2560.0],\"yaxis\":\"y\",\"type\":\"scatter\"},{\"hoverinfo\":\"text\",\"marker\":{\"color\":\"rgb(35,205,205)\"},\"mode\":\"lines\",\"x\":[-3.4641016151377544,-10.392304845413264,-10.392304845413264,-5.196152422706632],\"xaxis\":\"x\",\"y\":[2512.5,2512.5,2550.0,2550.0],\"yaxis\":\"y\",\"type\":\"scatter\"},{\"hoverinfo\":\"text\",\"marker\":{\"color\":\"rgb(35,205,205)\"},\"mode\":\"lines\",\"x\":[-0.0,-1.7320508075688772,-1.7320508075688772,-0.0],\"xaxis\":\"x\",\"y\":[2575.0,2575.0,2585.0,2585.0],\"yaxis\":\"y\",\"type\":\"scatter\"},{\"hoverinfo\":\"text\",\"marker\":{\"color\":\"rgb(35,205,205)\"},\"mode\":\"lines\",\"x\":[-0.0,-1.7320508075688772,-1.7320508075688772,-0.0],\"xaxis\":\"x\",\"y\":[2595.0,2595.0,2605.0,2605.0],\"yaxis\":\"y\",\"type\":\"scatter\"},{\"hoverinfo\":\"text\",\"marker\":{\"color\":\"rgb(35,205,205)\"},\"mode\":\"lines\",\"x\":[-0.0,-1.7320508075688772,-1.7320508075688772,-0.0],\"xaxis\":\"x\",\"y\":[2615.0,2615.0,2625.0,2625.0],\"yaxis\":\"y\",\"type\":\"scatter\"},{\"hoverinfo\":\"text\",\"marker\":{\"color\":\"rgb(35,205,205)\"},\"mode\":\"lines\",\"x\":[-1.7320508075688772,-5.196152422706632,-5.196152422706632,-1.7320508075688772],\"xaxis\":\"x\",\"y\":[2600.0,2600.0,2620.0,2620.0],\"yaxis\":\"y\",\"type\":\"scatter\"},{\"hoverinfo\":\"text\",\"marker\":{\"color\":\"rgb(35,205,205)\"},\"mode\":\"lines\",\"x\":[-1.7320508075688772,-8.660254037844387,-8.660254037844387,-5.196152422706632],\"xaxis\":\"x\",\"y\":[2580.0,2580.0,2610.0,2610.0],\"yaxis\":\"y\",\"type\":\"scatter\"},{\"hoverinfo\":\"text\",\"marker\":{\"color\":\"rgb(35,205,205)\"},\"mode\":\"lines\",\"x\":[-0.0,-4.242640687119285,-4.242640687119285,-0.0],\"xaxis\":\"x\",\"y\":[2635.0,2635.0,2645.0,2645.0],\"yaxis\":\"y\",\"type\":\"scatter\"},{\"hoverinfo\":\"text\",\"marker\":{\"color\":\"rgb(35,205,205)\"},\"mode\":\"lines\",\"x\":[-0.0,-1.7320508075688772,-1.7320508075688772,-0.0],\"xaxis\":\"x\",\"y\":[2655.0,2655.0,2665.0,2665.0],\"yaxis\":\"y\",\"type\":\"scatter\"},{\"hoverinfo\":\"text\",\"marker\":{\"color\":\"rgb(35,205,205)\"},\"mode\":\"lines\",\"x\":[-0.0,-1.7320508075688772,-1.7320508075688772,-0.0],\"xaxis\":\"x\",\"y\":[2675.0,2675.0,2685.0,2685.0],\"yaxis\":\"y\",\"type\":\"scatter\"},{\"hoverinfo\":\"text\",\"marker\":{\"color\":\"rgb(35,205,205)\"},\"mode\":\"lines\",\"x\":[-1.7320508075688772,-5.196152422706632,-5.196152422706632,-1.7320508075688772],\"xaxis\":\"x\",\"y\":[2660.0,2660.0,2680.0,2680.0],\"yaxis\":\"y\",\"type\":\"scatter\"},{\"hoverinfo\":\"text\",\"marker\":{\"color\":\"rgb(35,205,205)\"},\"mode\":\"lines\",\"x\":[-4.242640687119285,-12.24744871391589,-12.24744871391589,-5.196152422706632],\"xaxis\":\"x\",\"y\":[2640.0,2640.0,2670.0,2670.0],\"yaxis\":\"y\",\"type\":\"scatter\"},{\"hoverinfo\":\"text\",\"marker\":{\"color\":\"rgb(35,205,205)\"},\"mode\":\"lines\",\"x\":[-8.660254037844387,-22.315913604421397,-22.315913604421397,-12.24744871391589],\"xaxis\":\"x\",\"y\":[2595.0,2595.0,2655.0,2655.0],\"yaxis\":\"y\",\"type\":\"scatter\"},{\"hoverinfo\":\"text\",\"marker\":{\"color\":\"rgb(35,205,205)\"},\"mode\":\"lines\",\"x\":[-10.392304845413264,-37.107950630558946,-37.107950630558946,-22.315913604421397],\"xaxis\":\"x\",\"y\":[2531.25,2531.25,2625.0,2625.0],\"yaxis\":\"y\",\"type\":\"scatter\"},{\"hoverinfo\":\"text\",\"marker\":{\"color\":\"rgb(35,205,205)\"},\"mode\":\"lines\",\"x\":[-26.570660511172846,-65.85590330410783,-65.85590330410783,-37.107950630558946],\"xaxis\":\"x\",\"y\":[2420.0,2420.0,2578.125,2578.125],\"yaxis\":\"y\",\"type\":\"scatter\"},{\"hoverinfo\":\"text\",\"marker\":{\"color\":\"rgb(35,205,205)\"},\"mode\":\"lines\",\"x\":[-0.0,-1.7320508075688772,-1.7320508075688772,-0.0],\"xaxis\":\"x\",\"y\":[2695.0,2695.0,2705.0,2705.0],\"yaxis\":\"y\",\"type\":\"scatter\"},{\"hoverinfo\":\"text\",\"marker\":{\"color\":\"rgb(35,205,205)\"},\"mode\":\"lines\",\"x\":[-0.0,-1.7320508075688772,-1.7320508075688772,-0.0],\"xaxis\":\"x\",\"y\":[2725.0,2725.0,2735.0,2735.0],\"yaxis\":\"y\",\"type\":\"scatter\"},{\"hoverinfo\":\"text\",\"marker\":{\"color\":\"rgb(35,205,205)\"},\"mode\":\"lines\",\"x\":[-0.0,-3.4641016151377544,-3.4641016151377544,-1.7320508075688772],\"xaxis\":\"x\",\"y\":[2715.0,2715.0,2730.0,2730.0],\"yaxis\":\"y\",\"type\":\"scatter\"},{\"hoverinfo\":\"text\",\"marker\":{\"color\":\"rgb(35,205,205)\"},\"mode\":\"lines\",\"x\":[-1.7320508075688772,-6.928203230275509,-6.928203230275509,-3.4641016151377544],\"xaxis\":\"x\",\"y\":[2700.0,2700.0,2722.5,2722.5],\"yaxis\":\"y\",\"type\":\"scatter\"},{\"hoverinfo\":\"text\",\"marker\":{\"color\":\"rgb(35,205,205)\"},\"mode\":\"lines\",\"x\":[-0.0,-1.7320508075688772,-1.7320508075688772,-0.0],\"xaxis\":\"x\",\"y\":[2755.0,2755.0,2765.0,2765.0],\"yaxis\":\"y\",\"type\":\"scatter\"},{\"hoverinfo\":\"text\",\"marker\":{\"color\":\"rgb(35,205,205)\"},\"mode\":\"lines\",\"x\":[-0.0,-4.898979485566356,-4.898979485566356,-1.7320508075688772],\"xaxis\":\"x\",\"y\":[2745.0,2745.0,2760.0,2760.0],\"yaxis\":\"y\",\"type\":\"scatter\"},{\"hoverinfo\":\"text\",\"marker\":{\"color\":\"rgb(35,205,205)\"},\"mode\":\"lines\",\"x\":[-0.0,-1.7320508075688772,-1.7320508075688772,-0.0],\"xaxis\":\"x\",\"y\":[2775.0,2775.0,2785.0,2785.0],\"yaxis\":\"y\",\"type\":\"scatter\"},{\"hoverinfo\":\"text\",\"marker\":{\"color\":\"rgb(35,205,205)\"},\"mode\":\"lines\",\"x\":[-0.0,-1.7320508075688772,-1.7320508075688772,-0.0],\"xaxis\":\"x\",\"y\":[2795.0,2795.0,2805.0,2805.0],\"yaxis\":\"y\",\"type\":\"scatter\"},{\"hoverinfo\":\"text\",\"marker\":{\"color\":\"rgb(35,205,205)\"},\"mode\":\"lines\",\"x\":[-1.7320508075688772,-5.196152422706632,-5.196152422706632,-1.7320508075688772],\"xaxis\":\"x\",\"y\":[2780.0,2780.0,2800.0,2800.0],\"yaxis\":\"y\",\"type\":\"scatter\"},{\"hoverinfo\":\"text\",\"marker\":{\"color\":\"rgb(35,205,205)\"},\"mode\":\"lines\",\"x\":[-4.898979485566356,-11.661903789690601,-11.661903789690601,-5.196152422706632],\"xaxis\":\"x\",\"y\":[2752.5,2752.5,2790.0,2790.0],\"yaxis\":\"y\",\"type\":\"scatter\"},{\"hoverinfo\":\"text\",\"marker\":{\"color\":\"rgb(35,205,205)\"},\"mode\":\"lines\",\"x\":[-6.928203230275509,-20.273134932713294,-20.273134932713294,-11.661903789690601],\"xaxis\":\"x\",\"y\":[2711.25,2711.25,2771.25,2771.25],\"yaxis\":\"y\",\"type\":\"scatter\"},{\"hoverinfo\":\"text\",\"marker\":{\"color\":\"rgb(35,205,205)\"},\"mode\":\"lines\",\"x\":[-0.0,-1.7320508075688772,-1.7320508075688772,-0.0],\"xaxis\":\"x\",\"y\":[2825.0,2825.0,2835.0,2835.0],\"yaxis\":\"y\",\"type\":\"scatter\"},{\"hoverinfo\":\"text\",\"marker\":{\"color\":\"rgb(35,205,205)\"},\"mode\":\"lines\",\"x\":[-0.0,-1.7320508075688772,-1.7320508075688772,-0.0],\"xaxis\":\"x\",\"y\":[2845.0,2845.0,2855.0,2855.0],\"yaxis\":\"y\",\"type\":\"scatter\"},{\"hoverinfo\":\"text\",\"marker\":{\"color\":\"rgb(35,205,205)\"},\"mode\":\"lines\",\"x\":[-1.7320508075688772,-5.196152422706632,-5.196152422706632,-1.7320508075688772],\"xaxis\":\"x\",\"y\":[2830.0,2830.0,2850.0,2850.0],\"yaxis\":\"y\",\"type\":\"scatter\"},{\"hoverinfo\":\"text\",\"marker\":{\"color\":\"rgb(35,205,205)\"},\"mode\":\"lines\",\"x\":[-0.0,-10.63014581273465,-10.63014581273465,-5.196152422706632],\"xaxis\":\"x\",\"y\":[2815.0,2815.0,2840.0,2840.0],\"yaxis\":\"y\",\"type\":\"scatter\"},{\"hoverinfo\":\"text\",\"marker\":{\"color\":\"rgb(35,205,205)\"},\"mode\":\"lines\",\"x\":[-0.0,-1.7320508075688772,-1.7320508075688772,-0.0],\"xaxis\":\"x\",\"y\":[2865.0,2865.0,2875.0,2875.0],\"yaxis\":\"y\",\"type\":\"scatter\"},{\"hoverinfo\":\"text\",\"marker\":{\"color\":\"rgb(35,205,205)\"},\"mode\":\"lines\",\"x\":[-0.0,-1.7320508075688772,-1.7320508075688772,-0.0],\"xaxis\":\"x\",\"y\":[2885.0,2885.0,2895.0,2895.0],\"yaxis\":\"y\",\"type\":\"scatter\"},{\"hoverinfo\":\"text\",\"marker\":{\"color\":\"rgb(35,205,205)\"},\"mode\":\"lines\",\"x\":[-1.7320508075688772,-5.196152422706632,-5.196152422706632,-1.7320508075688772],\"xaxis\":\"x\",\"y\":[2870.0,2870.0,2890.0,2890.0],\"yaxis\":\"y\",\"type\":\"scatter\"},{\"hoverinfo\":\"text\",\"marker\":{\"color\":\"rgb(35,205,205)\"},\"mode\":\"lines\",\"x\":[-0.0,-1.7320508075688772,-1.7320508075688772,-0.0],\"xaxis\":\"x\",\"y\":[2905.0,2905.0,2915.0,2915.0],\"yaxis\":\"y\",\"type\":\"scatter\"},{\"hoverinfo\":\"text\",\"marker\":{\"color\":\"rgb(35,205,205)\"},\"mode\":\"lines\",\"x\":[-0.0,-2.449489742783178,-2.449489742783178,-0.0],\"xaxis\":\"x\",\"y\":[2925.0,2925.0,2935.0,2935.0],\"yaxis\":\"y\",\"type\":\"scatter\"},{\"hoverinfo\":\"text\",\"marker\":{\"color\":\"rgb(35,205,205)\"},\"mode\":\"lines\",\"x\":[-1.7320508075688772,-6.557438524302,-6.557438524302,-2.449489742783178],\"xaxis\":\"x\",\"y\":[2910.0,2910.0,2930.0,2930.0],\"yaxis\":\"y\",\"type\":\"scatter\"},{\"hoverinfo\":\"text\",\"marker\":{\"color\":\"rgb(35,205,205)\"},\"mode\":\"lines\",\"x\":[-5.196152422706632,-15.0996688705415,-15.0996688705415,-6.557438524302],\"xaxis\":\"x\",\"y\":[2880.0,2880.0,2920.0,2920.0],\"yaxis\":\"y\",\"type\":\"scatter\"},{\"hoverinfo\":\"text\",\"marker\":{\"color\":\"rgb(35,205,205)\"},\"mode\":\"lines\",\"x\":[-10.63014581273465,-27.16615541441225,-27.16615541441225,-15.0996688705415],\"xaxis\":\"x\",\"y\":[2827.5,2827.5,2900.0,2900.0],\"yaxis\":\"y\",\"type\":\"scatter\"},{\"hoverinfo\":\"text\",\"marker\":{\"color\":\"rgb(35,205,205)\"},\"mode\":\"lines\",\"x\":[-20.273134932713294,-51.176166327695945,-51.176166327695945,-27.16615541441225],\"xaxis\":\"x\",\"y\":[2741.25,2741.25,2863.75,2863.75],\"yaxis\":\"y\",\"type\":\"scatter\"},{\"hoverinfo\":\"text\",\"marker\":{\"color\":\"rgb(35,205,205)\"},\"mode\":\"lines\",\"x\":[-0.0,-1.7320508075688772,-1.7320508075688772,-0.0],\"xaxis\":\"x\",\"y\":[2955.0,2955.0,2965.0,2965.0],\"yaxis\":\"y\",\"type\":\"scatter\"},{\"hoverinfo\":\"text\",\"marker\":{\"color\":\"rgb(35,205,205)\"},\"mode\":\"lines\",\"x\":[-0.0,-1.7320508075688772,-1.7320508075688772,-0.0],\"xaxis\":\"x\",\"y\":[2975.0,2975.0,2985.0,2985.0],\"yaxis\":\"y\",\"type\":\"scatter\"},{\"hoverinfo\":\"text\",\"marker\":{\"color\":\"rgb(35,205,205)\"},\"mode\":\"lines\",\"x\":[-1.7320508075688772,-5.196152422706632,-5.196152422706632,-1.7320508075688772],\"xaxis\":\"x\",\"y\":[2960.0,2960.0,2980.0,2980.0],\"yaxis\":\"y\",\"type\":\"scatter\"},{\"hoverinfo\":\"text\",\"marker\":{\"color\":\"rgb(35,205,205)\"},\"mode\":\"lines\",\"x\":[-0.0,-1.7320508075688772,-1.7320508075688772,-0.0],\"xaxis\":\"x\",\"y\":[2995.0,2995.0,3005.0,3005.0],\"yaxis\":\"y\",\"type\":\"scatter\"},{\"hoverinfo\":\"text\",\"marker\":{\"color\":\"rgb(35,205,205)\"},\"mode\":\"lines\",\"x\":[-0.0,-1.7320508075688772,-1.7320508075688772,-0.0],\"xaxis\":\"x\",\"y\":[3025.0,3025.0,3035.0,3035.0],\"yaxis\":\"y\",\"type\":\"scatter\"},{\"hoverinfo\":\"text\",\"marker\":{\"color\":\"rgb(35,205,205)\"},\"mode\":\"lines\",\"x\":[-0.0,-3.4641016151377544,-3.4641016151377544,-1.7320508075688772],\"xaxis\":\"x\",\"y\":[3015.0,3015.0,3030.0,3030.0],\"yaxis\":\"y\",\"type\":\"scatter\"},{\"hoverinfo\":\"text\",\"marker\":{\"color\":\"rgb(35,205,205)\"},\"mode\":\"lines\",\"x\":[-1.7320508075688772,-6.928203230275509,-6.928203230275509,-3.4641016151377544],\"xaxis\":\"x\",\"y\":[3000.0,3000.0,3022.5,3022.5],\"yaxis\":\"y\",\"type\":\"scatter\"},{\"hoverinfo\":\"text\",\"marker\":{\"color\":\"rgb(35,205,205)\"},\"mode\":\"lines\",\"x\":[-5.196152422706632,-13.856406460551018,-13.856406460551018,-6.928203230275509],\"xaxis\":\"x\",\"y\":[2970.0,2970.0,3011.25,3011.25],\"yaxis\":\"y\",\"type\":\"scatter\"},{\"hoverinfo\":\"text\",\"marker\":{\"color\":\"rgb(35,205,205)\"},\"mode\":\"lines\",\"x\":[-0.0,-1.7320508075688772,-1.7320508075688772,-0.0],\"xaxis\":\"x\",\"y\":[3045.0,3045.0,3055.0,3055.0],\"yaxis\":\"y\",\"type\":\"scatter\"},{\"hoverinfo\":\"text\",\"marker\":{\"color\":\"rgb(35,205,205)\"},\"mode\":\"lines\",\"x\":[-0.0,-1.7320508075688772,-1.7320508075688772,-0.0],\"xaxis\":\"x\",\"y\":[3065.0,3065.0,3075.0,3075.0],\"yaxis\":\"y\",\"type\":\"scatter\"},{\"hoverinfo\":\"text\",\"marker\":{\"color\":\"rgb(35,205,205)\"},\"mode\":\"lines\",\"x\":[-0.0,-1.7320508075688772,-1.7320508075688772,-0.0],\"xaxis\":\"x\",\"y\":[3085.0,3085.0,3095.0,3095.0],\"yaxis\":\"y\",\"type\":\"scatter\"},{\"hoverinfo\":\"text\",\"marker\":{\"color\":\"rgb(35,205,205)\"},\"mode\":\"lines\",\"x\":[-1.7320508075688772,-5.196152422706632,-5.196152422706632,-1.7320508075688772],\"xaxis\":\"x\",\"y\":[3070.0,3070.0,3090.0,3090.0],\"yaxis\":\"y\",\"type\":\"scatter\"},{\"hoverinfo\":\"text\",\"marker\":{\"color\":\"rgb(35,205,205)\"},\"mode\":\"lines\",\"x\":[-1.7320508075688772,-9.9498743710662,-9.9498743710662,-5.196152422706632],\"xaxis\":\"x\",\"y\":[3050.0,3050.0,3080.0,3080.0],\"yaxis\":\"y\",\"type\":\"scatter\"},{\"hoverinfo\":\"text\",\"marker\":{\"color\":\"rgb(35,205,205)\"},\"mode\":\"lines\",\"x\":[-0.0,-1.7320508075688772,-1.7320508075688772,-0.0],\"xaxis\":\"x\",\"y\":[3115.0,3115.0,3125.0,3125.0],\"yaxis\":\"y\",\"type\":\"scatter\"},{\"hoverinfo\":\"text\",\"marker\":{\"color\":\"rgb(35,205,205)\"},\"mode\":\"lines\",\"x\":[-0.0,-3.4641016151377544,-3.4641016151377544,-1.7320508075688772],\"xaxis\":\"x\",\"y\":[3105.0,3105.0,3120.0,3120.0],\"yaxis\":\"y\",\"type\":\"scatter\"},{\"hoverinfo\":\"text\",\"marker\":{\"color\":\"rgb(35,205,205)\"},\"mode\":\"lines\",\"x\":[-0.0,-1.7320508075688772,-1.7320508075688772,-0.0],\"xaxis\":\"x\",\"y\":[3135.0,3135.0,3145.0,3145.0],\"yaxis\":\"y\",\"type\":\"scatter\"},{\"hoverinfo\":\"text\",\"marker\":{\"color\":\"rgb(35,205,205)\"},\"mode\":\"lines\",\"x\":[-0.0,-1.7320508075688772,-1.7320508075688772,-0.0],\"xaxis\":\"x\",\"y\":[3155.0,3155.0,3165.0,3165.0],\"yaxis\":\"y\",\"type\":\"scatter\"},{\"hoverinfo\":\"text\",\"marker\":{\"color\":\"rgb(35,205,205)\"},\"mode\":\"lines\",\"x\":[-1.7320508075688772,-5.196152422706632,-5.196152422706632,-1.7320508075688772],\"xaxis\":\"x\",\"y\":[3140.0,3140.0,3160.0,3160.0],\"yaxis\":\"y\",\"type\":\"scatter\"},{\"hoverinfo\":\"text\",\"marker\":{\"color\":\"rgb(35,205,205)\"},\"mode\":\"lines\",\"x\":[-3.4641016151377544,-10.392304845413264,-10.392304845413264,-5.196152422706632],\"xaxis\":\"x\",\"y\":[3112.5,3112.5,3150.0,3150.0],\"yaxis\":\"y\",\"type\":\"scatter\"},{\"hoverinfo\":\"text\",\"marker\":{\"color\":\"rgb(35,205,205)\"},\"mode\":\"lines\",\"x\":[-9.9498743710662,-22.0,-22.0,-10.392304845413264],\"xaxis\":\"x\",\"y\":[3065.0,3065.0,3131.25,3131.25],\"yaxis\":\"y\",\"type\":\"scatter\"},{\"hoverinfo\":\"text\",\"marker\":{\"color\":\"rgb(35,205,205)\"},\"mode\":\"lines\",\"x\":[-13.856406460551018,-38.18376618407357,-38.18376618407357,-22.0],\"xaxis\":\"x\",\"y\":[2990.625,2990.625,3098.125,3098.125],\"yaxis\":\"y\",\"type\":\"scatter\"},{\"hoverinfo\":\"text\",\"marker\":{\"color\":\"rgb(35,205,205)\"},\"mode\":\"lines\",\"x\":[-0.0,-67.80855403265875,-67.80855403265875,-38.18376618407357],\"xaxis\":\"x\",\"y\":[2945.0,2945.0,3044.375,3044.375],\"yaxis\":\"y\",\"type\":\"scatter\"},{\"hoverinfo\":\"text\",\"marker\":{\"color\":\"rgb(35,205,205)\"},\"mode\":\"lines\",\"x\":[-51.176166327695945,-95.16827202382105,-95.16827202382105,-67.80855403265875],\"xaxis\":\"x\",\"y\":[2802.5,2802.5,2994.6875,2994.6875],\"yaxis\":\"y\",\"type\":\"scatter\"},{\"hoverinfo\":\"text\",\"marker\":{\"color\":\"rgb(35,205,205)\"},\"mode\":\"lines\",\"x\":[-65.85590330410783,-161.22034611053283,-161.22034611053283,-95.16827202382105],\"xaxis\":\"x\",\"y\":[2499.0625,2499.0625,2898.59375,2898.59375],\"yaxis\":\"y\",\"type\":\"scatter\"},{\"hoverinfo\":\"text\",\"marker\":{\"color\":\"rgb(35,205,205)\"},\"mode\":\"lines\",\"x\":[-0.0,-90.89041058390654,-90.89041058390654,-0.0],\"xaxis\":\"x\",\"y\":[3175.0,3175.0,3185.0,3185.0],\"yaxis\":\"y\",\"type\":\"scatter\"},{\"hoverinfo\":\"text\",\"marker\":{\"color\":\"rgb(35,205,205)\"},\"mode\":\"lines\",\"x\":[-0.0,-1.7320508075688772,-1.7320508075688772,-0.0],\"xaxis\":\"x\",\"y\":[3195.0,3195.0,3205.0,3205.0],\"yaxis\":\"y\",\"type\":\"scatter\"},{\"hoverinfo\":\"text\",\"marker\":{\"color\":\"rgb(35,205,205)\"},\"mode\":\"lines\",\"x\":[-0.0,-1.7320508075688772,-1.7320508075688772,-0.0],\"xaxis\":\"x\",\"y\":[3215.0,3215.0,3225.0,3225.0],\"yaxis\":\"y\",\"type\":\"scatter\"},{\"hoverinfo\":\"text\",\"marker\":{\"color\":\"rgb(35,205,205)\"},\"mode\":\"lines\",\"x\":[-1.7320508075688772,-5.196152422706632,-5.196152422706632,-1.7320508075688772],\"xaxis\":\"x\",\"y\":[3200.0,3200.0,3220.0,3220.0],\"yaxis\":\"y\",\"type\":\"scatter\"},{\"hoverinfo\":\"text\",\"marker\":{\"color\":\"rgb(35,205,205)\"},\"mode\":\"lines\",\"x\":[-0.0,-1.7320508075688772,-1.7320508075688772,-0.0],\"xaxis\":\"x\",\"y\":[3235.0,3235.0,3245.0,3245.0],\"yaxis\":\"y\",\"type\":\"scatter\"},{\"hoverinfo\":\"text\",\"marker\":{\"color\":\"rgb(35,205,205)\"},\"mode\":\"lines\",\"x\":[-0.0,-1.7320508075688772,-1.7320508075688772,-0.0],\"xaxis\":\"x\",\"y\":[3265.0,3265.0,3275.0,3275.0],\"yaxis\":\"y\",\"type\":\"scatter\"},{\"hoverinfo\":\"text\",\"marker\":{\"color\":\"rgb(35,205,205)\"},\"mode\":\"lines\",\"x\":[-0.0,-3.4641016151377544,-3.4641016151377544,-1.7320508075688772],\"xaxis\":\"x\",\"y\":[3255.0,3255.0,3270.0,3270.0],\"yaxis\":\"y\",\"type\":\"scatter\"},{\"hoverinfo\":\"text\",\"marker\":{\"color\":\"rgb(35,205,205)\"},\"mode\":\"lines\",\"x\":[-1.7320508075688772,-6.928203230275509,-6.928203230275509,-3.4641016151377544],\"xaxis\":\"x\",\"y\":[3240.0,3240.0,3262.5,3262.5],\"yaxis\":\"y\",\"type\":\"scatter\"},{\"hoverinfo\":\"text\",\"marker\":{\"color\":\"rgb(35,205,205)\"},\"mode\":\"lines\",\"x\":[-5.196152422706632,-13.856406460551018,-13.856406460551018,-6.928203230275509],\"xaxis\":\"x\",\"y\":[3210.0,3210.0,3251.25,3251.25],\"yaxis\":\"y\",\"type\":\"scatter\"},{\"hoverinfo\":\"text\",\"marker\":{\"color\":\"rgb(35,205,205)\"},\"mode\":\"lines\",\"x\":[-0.0,-3.3166247903554,-3.3166247903554,-0.0],\"xaxis\":\"x\",\"y\":[3285.0,3285.0,3295.0,3295.0],\"yaxis\":\"y\",\"type\":\"scatter\"},{\"hoverinfo\":\"text\",\"marker\":{\"color\":\"rgb(35,205,205)\"},\"mode\":\"lines\",\"x\":[-0.0,-1.7320508075688772,-1.7320508075688772,-0.0],\"xaxis\":\"x\",\"y\":[3305.0,3305.0,3315.0,3315.0],\"yaxis\":\"y\",\"type\":\"scatter\"},{\"hoverinfo\":\"text\",\"marker\":{\"color\":\"rgb(35,205,205)\"},\"mode\":\"lines\",\"x\":[-0.0,-1.7320508075688772,-1.7320508075688772,-0.0],\"xaxis\":\"x\",\"y\":[3325.0,3325.0,3335.0,3335.0],\"yaxis\":\"y\",\"type\":\"scatter\"},{\"hoverinfo\":\"text\",\"marker\":{\"color\":\"rgb(35,205,205)\"},\"mode\":\"lines\",\"x\":[-1.7320508075688772,-5.196152422706632,-5.196152422706632,-1.7320508075688772],\"xaxis\":\"x\",\"y\":[3310.0,3310.0,3330.0,3330.0],\"yaxis\":\"y\",\"type\":\"scatter\"},{\"hoverinfo\":\"text\",\"marker\":{\"color\":\"rgb(35,205,205)\"},\"mode\":\"lines\",\"x\":[-3.3166247903554,-10.677078252031311,-10.677078252031311,-5.196152422706632],\"xaxis\":\"x\",\"y\":[3290.0,3290.0,3320.0,3320.0],\"yaxis\":\"y\",\"type\":\"scatter\"},{\"hoverinfo\":\"text\",\"marker\":{\"color\":\"rgb(35,205,205)\"},\"mode\":\"lines\",\"x\":[-0.0,-1.7320508075688772,-1.7320508075688772,-0.0],\"xaxis\":\"x\",\"y\":[3345.0,3345.0,3355.0,3355.0],\"yaxis\":\"y\",\"type\":\"scatter\"},{\"hoverinfo\":\"text\",\"marker\":{\"color\":\"rgb(35,205,205)\"},\"mode\":\"lines\",\"x\":[-0.0,-1.7320508075688772,-1.7320508075688772,-0.0],\"xaxis\":\"x\",\"y\":[3365.0,3365.0,3375.0,3375.0],\"yaxis\":\"y\",\"type\":\"scatter\"},{\"hoverinfo\":\"text\",\"marker\":{\"color\":\"rgb(35,205,205)\"},\"mode\":\"lines\",\"x\":[-1.7320508075688772,-5.196152422706632,-5.196152422706632,-1.7320508075688772],\"xaxis\":\"x\",\"y\":[3350.0,3350.0,3370.0,3370.0],\"yaxis\":\"y\",\"type\":\"scatter\"},{\"hoverinfo\":\"text\",\"marker\":{\"color\":\"rgb(35,205,205)\"},\"mode\":\"lines\",\"x\":[-0.0,-1.7320508075688772,-1.7320508075688772,-0.0],\"xaxis\":\"x\",\"y\":[3385.0,3385.0,3395.0,3395.0],\"yaxis\":\"y\",\"type\":\"scatter\"},{\"hoverinfo\":\"text\",\"marker\":{\"color\":\"rgb(35,205,205)\"},\"mode\":\"lines\",\"x\":[-0.0,-1.7320508075688772,-1.7320508075688772,-0.0],\"xaxis\":\"x\",\"y\":[3405.0,3405.0,3415.0,3415.0],\"yaxis\":\"y\",\"type\":\"scatter\"},{\"hoverinfo\":\"text\",\"marker\":{\"color\":\"rgb(35,205,205)\"},\"mode\":\"lines\",\"x\":[-1.7320508075688772,-5.196152422706632,-5.196152422706632,-1.7320508075688772],\"xaxis\":\"x\",\"y\":[3390.0,3390.0,3410.0,3410.0],\"yaxis\":\"y\",\"type\":\"scatter\"},{\"hoverinfo\":\"text\",\"marker\":{\"color\":\"rgb(35,205,205)\"},\"mode\":\"lines\",\"x\":[-5.196152422706632,-12.12435565298214,-12.12435565298214,-5.196152422706632],\"xaxis\":\"x\",\"y\":[3360.0,3360.0,3400.0,3400.0],\"yaxis\":\"y\",\"type\":\"scatter\"},{\"hoverinfo\":\"text\",\"marker\":{\"color\":\"rgb(35,205,205)\"},\"mode\":\"lines\",\"x\":[-10.677078252031311,-24.372115213907882,-24.372115213907882,-12.12435565298214],\"xaxis\":\"x\",\"y\":[3305.0,3305.0,3380.0,3380.0],\"yaxis\":\"y\",\"type\":\"scatter\"},{\"hoverinfo\":\"text\",\"marker\":{\"color\":\"rgb(35,205,205)\"},\"mode\":\"lines\",\"x\":[-13.856406460551018,-39.91240408695021,-39.91240408695021,-24.372115213907882],\"xaxis\":\"x\",\"y\":[3230.625,3230.625,3342.5,3342.5],\"yaxis\":\"y\",\"type\":\"scatter\"},{\"hoverinfo\":\"text\",\"marker\":{\"color\":\"rgb(35,205,205)\"},\"mode\":\"lines\",\"x\":[-0.0,-1.7320508075688772,-1.7320508075688772,-0.0],\"xaxis\":\"x\",\"y\":[3425.0,3425.0,3435.0,3435.0],\"yaxis\":\"y\",\"type\":\"scatter\"},{\"hoverinfo\":\"text\",\"marker\":{\"color\":\"rgb(35,205,205)\"},\"mode\":\"lines\",\"x\":[-0.0,-1.7320508075688772,-1.7320508075688772,-0.0],\"xaxis\":\"x\",\"y\":[3445.0,3445.0,3455.0,3455.0],\"yaxis\":\"y\",\"type\":\"scatter\"},{\"hoverinfo\":\"text\",\"marker\":{\"color\":\"rgb(35,205,205)\"},\"mode\":\"lines\",\"x\":[-1.7320508075688772,-5.196152422706632,-5.196152422706632,-1.7320508075688772],\"xaxis\":\"x\",\"y\":[3430.0,3430.0,3450.0,3450.0],\"yaxis\":\"y\",\"type\":\"scatter\"},{\"hoverinfo\":\"text\",\"marker\":{\"color\":\"rgb(35,205,205)\"},\"mode\":\"lines\",\"x\":[-0.0,-1.7320508075688772,-1.7320508075688772,-0.0],\"xaxis\":\"x\",\"y\":[3465.0,3465.0,3475.0,3475.0],\"yaxis\":\"y\",\"type\":\"scatter\"},{\"hoverinfo\":\"text\",\"marker\":{\"color\":\"rgb(35,205,205)\"},\"mode\":\"lines\",\"x\":[-0.0,-1.7320508075688772,-1.7320508075688772,-0.0],\"xaxis\":\"x\",\"y\":[3485.0,3485.0,3495.0,3495.0],\"yaxis\":\"y\",\"type\":\"scatter\"},{\"hoverinfo\":\"text\",\"marker\":{\"color\":\"rgb(35,205,205)\"},\"mode\":\"lines\",\"x\":[-1.7320508075688772,-5.830951894845301,-5.830951894845301,-1.7320508075688772],\"xaxis\":\"x\",\"y\":[3470.0,3470.0,3490.0,3490.0],\"yaxis\":\"y\",\"type\":\"scatter\"},{\"hoverinfo\":\"text\",\"marker\":{\"color\":\"rgb(35,205,205)\"},\"mode\":\"lines\",\"x\":[-5.196152422706632,-12.727922061357855,-12.727922061357855,-5.830951894845301],\"xaxis\":\"x\",\"y\":[3440.0,3440.0,3480.0,3480.0],\"yaxis\":\"y\",\"type\":\"scatter\"},{\"hoverinfo\":\"text\",\"marker\":{\"color\":\"rgb(35,205,205)\"},\"mode\":\"lines\",\"x\":[-0.0,-1.7320508075688772,-1.7320508075688772,-0.0],\"xaxis\":\"x\",\"y\":[3505.0,3505.0,3515.0,3515.0],\"yaxis\":\"y\",\"type\":\"scatter\"},{\"hoverinfo\":\"text\",\"marker\":{\"color\":\"rgb(35,205,205)\"},\"mode\":\"lines\",\"x\":[-0.0,-1.7320508075688772,-1.7320508075688772,-0.0],\"xaxis\":\"x\",\"y\":[3525.0,3525.0,3535.0,3535.0],\"yaxis\":\"y\",\"type\":\"scatter\"},{\"hoverinfo\":\"text\",\"marker\":{\"color\":\"rgb(35,205,205)\"},\"mode\":\"lines\",\"x\":[-1.7320508075688772,-5.196152422706632,-5.196152422706632,-1.7320508075688772],\"xaxis\":\"x\",\"y\":[3510.0,3510.0,3530.0,3530.0],\"yaxis\":\"y\",\"type\":\"scatter\"},{\"hoverinfo\":\"text\",\"marker\":{\"color\":\"rgb(35,205,205)\"},\"mode\":\"lines\",\"x\":[-0.0,-1.7320508075688772,-1.7320508075688772,-0.0],\"xaxis\":\"x\",\"y\":[3545.0,3545.0,3555.0,3555.0],\"yaxis\":\"y\",\"type\":\"scatter\"},{\"hoverinfo\":\"text\",\"marker\":{\"color\":\"rgb(35,205,205)\"},\"mode\":\"lines\",\"x\":[-0.0,-1.7320508075688772,-1.7320508075688772,-0.0],\"xaxis\":\"x\",\"y\":[3565.0,3565.0,3575.0,3575.0],\"yaxis\":\"y\",\"type\":\"scatter\"},{\"hoverinfo\":\"text\",\"marker\":{\"color\":\"rgb(35,205,205)\"},\"mode\":\"lines\",\"x\":[-1.7320508075688772,-5.196152422706632,-5.196152422706632,-1.7320508075688772],\"xaxis\":\"x\",\"y\":[3550.0,3550.0,3570.0,3570.0],\"yaxis\":\"y\",\"type\":\"scatter\"},{\"hoverinfo\":\"text\",\"marker\":{\"color\":\"rgb(35,205,205)\"},\"mode\":\"lines\",\"x\":[-5.196152422706632,-12.12435565298214,-12.12435565298214,-5.196152422706632],\"xaxis\":\"x\",\"y\":[3520.0,3520.0,3560.0,3560.0],\"yaxis\":\"y\",\"type\":\"scatter\"},{\"hoverinfo\":\"text\",\"marker\":{\"color\":\"rgb(35,205,205)\"},\"mode\":\"lines\",\"x\":[-0.0,-1.7320508075688772,-1.7320508075688772,-0.0],\"xaxis\":\"x\",\"y\":[3585.0,3585.0,3595.0,3595.0],\"yaxis\":\"y\",\"type\":\"scatter\"},{\"hoverinfo\":\"text\",\"marker\":{\"color\":\"rgb(35,205,205)\"},\"mode\":\"lines\",\"x\":[-0.0,-1.7320508075688772,-1.7320508075688772,-0.0],\"xaxis\":\"x\",\"y\":[3605.0,3605.0,3615.0,3615.0],\"yaxis\":\"y\",\"type\":\"scatter\"},{\"hoverinfo\":\"text\",\"marker\":{\"color\":\"rgb(35,205,205)\"},\"mode\":\"lines\",\"x\":[-1.7320508075688772,-5.196152422706632,-5.196152422706632,-1.7320508075688772],\"xaxis\":\"x\",\"y\":[3590.0,3590.0,3610.0,3610.0],\"yaxis\":\"y\",\"type\":\"scatter\"},{\"hoverinfo\":\"text\",\"marker\":{\"color\":\"rgb(35,205,205)\"},\"mode\":\"lines\",\"x\":[-0.0,-1.7320508075688772,-1.7320508075688772,-0.0],\"xaxis\":\"x\",\"y\":[3625.0,3625.0,3635.0,3635.0],\"yaxis\":\"y\",\"type\":\"scatter\"},{\"hoverinfo\":\"text\",\"marker\":{\"color\":\"rgb(35,205,205)\"},\"mode\":\"lines\",\"x\":[-0.0,-1.7320508075688772,-1.7320508075688772,-0.0],\"xaxis\":\"x\",\"y\":[3645.0,3645.0,3655.0,3655.0],\"yaxis\":\"y\",\"type\":\"scatter\"},{\"hoverinfo\":\"text\",\"marker\":{\"color\":\"rgb(35,205,205)\"},\"mode\":\"lines\",\"x\":[-1.7320508075688772,-5.196152422706632,-5.196152422706632,-1.7320508075688772],\"xaxis\":\"x\",\"y\":[3630.0,3630.0,3650.0,3650.0],\"yaxis\":\"y\",\"type\":\"scatter\"},{\"hoverinfo\":\"text\",\"marker\":{\"color\":\"rgb(35,205,205)\"},\"mode\":\"lines\",\"x\":[-5.196152422706632,-12.12435565298214,-12.12435565298214,-5.196152422706632],\"xaxis\":\"x\",\"y\":[3600.0,3600.0,3640.0,3640.0],\"yaxis\":\"y\",\"type\":\"scatter\"},{\"hoverinfo\":\"text\",\"marker\":{\"color\":\"rgb(35,205,205)\"},\"mode\":\"lines\",\"x\":[-12.12435565298214,-25.98076211353316,-25.98076211353316,-12.12435565298214],\"xaxis\":\"x\",\"y\":[3540.0,3540.0,3620.0,3620.0],\"yaxis\":\"y\",\"type\":\"scatter\"},{\"hoverinfo\":\"text\",\"marker\":{\"color\":\"rgb(35,205,205)\"},\"mode\":\"lines\",\"x\":[-12.727922061357855,-40.422765862815474,-40.422765862815474,-25.98076211353316],\"xaxis\":\"x\",\"y\":[3460.0,3460.0,3580.0,3580.0],\"yaxis\":\"y\",\"type\":\"scatter\"},{\"hoverinfo\":\"text\",\"marker\":{\"color\":\"rgb(35,205,205)\"},\"mode\":\"lines\",\"x\":[-39.91240408695021,-83.91066678319271,-83.91066678319271,-40.422765862815474],\"xaxis\":\"x\",\"y\":[3286.5625,3286.5625,3520.0,3520.0],\"yaxis\":\"y\",\"type\":\"scatter\"},{\"hoverinfo\":\"text\",\"marker\":{\"color\":\"rgb(35,205,205)\"},\"mode\":\"lines\",\"x\":[-0.0,-1.7320508075688772,-1.7320508075688772,-0.0],\"xaxis\":\"x\",\"y\":[3665.0,3665.0,3675.0,3675.0],\"yaxis\":\"y\",\"type\":\"scatter\"},{\"hoverinfo\":\"text\",\"marker\":{\"color\":\"rgb(35,205,205)\"},\"mode\":\"lines\",\"x\":[-0.0,-1.7320508075688772,-1.7320508075688772,-0.0],\"xaxis\":\"x\",\"y\":[3685.0,3685.0,3695.0,3695.0],\"yaxis\":\"y\",\"type\":\"scatter\"},{\"hoverinfo\":\"text\",\"marker\":{\"color\":\"rgb(35,205,205)\"},\"mode\":\"lines\",\"x\":[-0.0,-1.7320508075688772,-1.7320508075688772,-0.0],\"xaxis\":\"x\",\"y\":[3705.0,3705.0,3715.0,3715.0],\"yaxis\":\"y\",\"type\":\"scatter\"},{\"hoverinfo\":\"text\",\"marker\":{\"color\":\"rgb(35,205,205)\"},\"mode\":\"lines\",\"x\":[-1.7320508075688772,-5.196152422706632,-5.196152422706632,-1.7320508075688772],\"xaxis\":\"x\",\"y\":[3690.0,3690.0,3710.0,3710.0],\"yaxis\":\"y\",\"type\":\"scatter\"},{\"hoverinfo\":\"text\",\"marker\":{\"color\":\"rgb(35,205,205)\"},\"mode\":\"lines\",\"x\":[-1.7320508075688772,-8.660254037844387,-8.660254037844387,-5.196152422706632],\"xaxis\":\"x\",\"y\":[3670.0,3670.0,3700.0,3700.0],\"yaxis\":\"y\",\"type\":\"scatter\"},{\"hoverinfo\":\"text\",\"marker\":{\"color\":\"rgb(35,205,205)\"},\"mode\":\"lines\",\"x\":[-0.0,-1.7320508075688772,-1.7320508075688772,-0.0],\"xaxis\":\"x\",\"y\":[3725.0,3725.0,3735.0,3735.0],\"yaxis\":\"y\",\"type\":\"scatter\"},{\"hoverinfo\":\"text\",\"marker\":{\"color\":\"rgb(35,205,205)\"},\"mode\":\"lines\",\"x\":[-0.0,-1.7320508075688772,-1.7320508075688772,-0.0],\"xaxis\":\"x\",\"y\":[3745.0,3745.0,3755.0,3755.0],\"yaxis\":\"y\",\"type\":\"scatter\"},{\"hoverinfo\":\"text\",\"marker\":{\"color\":\"rgb(35,205,205)\"},\"mode\":\"lines\",\"x\":[-1.7320508075688772,-5.196152422706632,-5.196152422706632,-1.7320508075688772],\"xaxis\":\"x\",\"y\":[3730.0,3730.0,3750.0,3750.0],\"yaxis\":\"y\",\"type\":\"scatter\"},{\"hoverinfo\":\"text\",\"marker\":{\"color\":\"rgb(35,205,205)\"},\"mode\":\"lines\",\"x\":[-0.0,-1.7320508075688772,-1.7320508075688772,-0.0],\"xaxis\":\"x\",\"y\":[3765.0,3765.0,3775.0,3775.0],\"yaxis\":\"y\",\"type\":\"scatter\"},{\"hoverinfo\":\"text\",\"marker\":{\"color\":\"rgb(35,205,205)\"},\"mode\":\"lines\",\"x\":[-0.0,-1.7320508075688772,-1.7320508075688772,-0.0],\"xaxis\":\"x\",\"y\":[3795.0,3795.0,3805.0,3805.0],\"yaxis\":\"y\",\"type\":\"scatter\"},{\"hoverinfo\":\"text\",\"marker\":{\"color\":\"rgb(35,205,205)\"},\"mode\":\"lines\",\"x\":[-0.0,-3.4641016151377544,-3.4641016151377544,-1.7320508075688772],\"xaxis\":\"x\",\"y\":[3785.0,3785.0,3800.0,3800.0],\"yaxis\":\"y\",\"type\":\"scatter\"},{\"hoverinfo\":\"text\",\"marker\":{\"color\":\"rgb(35,205,205)\"},\"mode\":\"lines\",\"x\":[-1.7320508075688772,-7.54983443527075,-7.54983443527075,-3.4641016151377544],\"xaxis\":\"x\",\"y\":[3770.0,3770.0,3792.5,3792.5],\"yaxis\":\"y\",\"type\":\"scatter\"},{\"hoverinfo\":\"text\",\"marker\":{\"color\":\"rgb(35,205,205)\"},\"mode\":\"lines\",\"x\":[-5.196152422706632,-14.45683229480096,-14.45683229480096,-7.54983443527075],\"xaxis\":\"x\",\"y\":[3740.0,3740.0,3781.25,3781.25],\"yaxis\":\"y\",\"type\":\"scatter\"},{\"hoverinfo\":\"text\",\"marker\":{\"color\":\"rgb(35,205,205)\"},\"mode\":\"lines\",\"x\":[-8.660254037844387,-25.45584412271571,-25.45584412271571,-14.45683229480096],\"xaxis\":\"x\",\"y\":[3685.0,3685.0,3760.625,3760.625],\"yaxis\":\"y\",\"type\":\"scatter\"},{\"hoverinfo\":\"text\",\"marker\":{\"color\":\"rgb(35,205,205)\"},\"mode\":\"lines\",\"x\":[-0.0,-1.7320508075688772,-1.7320508075688772,-0.0],\"xaxis\":\"x\",\"y\":[3825.0,3825.0,3835.0,3835.0],\"yaxis\":\"y\",\"type\":\"scatter\"},{\"hoverinfo\":\"text\",\"marker\":{\"color\":\"rgb(35,205,205)\"},\"mode\":\"lines\",\"x\":[-0.0,-3.4641016151377544,-3.4641016151377544,-1.7320508075688772],\"xaxis\":\"x\",\"y\":[3815.0,3815.0,3830.0,3830.0],\"yaxis\":\"y\",\"type\":\"scatter\"},{\"hoverinfo\":\"text\",\"marker\":{\"color\":\"rgb(35,205,205)\"},\"mode\":\"lines\",\"x\":[-0.0,-1.7320508075688772,-1.7320508075688772,-0.0],\"xaxis\":\"x\",\"y\":[3845.0,3845.0,3855.0,3855.0],\"yaxis\":\"y\",\"type\":\"scatter\"},{\"hoverinfo\":\"text\",\"marker\":{\"color\":\"rgb(35,205,205)\"},\"mode\":\"lines\",\"x\":[-0.0,-2.449489742783178,-2.449489742783178,-0.0],\"xaxis\":\"x\",\"y\":[3865.0,3865.0,3875.0,3875.0],\"yaxis\":\"y\",\"type\":\"scatter\"},{\"hoverinfo\":\"text\",\"marker\":{\"color\":\"rgb(35,205,205)\"},\"mode\":\"lines\",\"x\":[-1.7320508075688772,-5.830951894845301,-5.830951894845301,-2.449489742783178],\"xaxis\":\"x\",\"y\":[3850.0,3850.0,3870.0,3870.0],\"yaxis\":\"y\",\"type\":\"scatter\"},{\"hoverinfo\":\"text\",\"marker\":{\"color\":\"rgb(35,205,205)\"},\"mode\":\"lines\",\"x\":[-3.4641016151377544,-11.661903789690601,-11.661903789690601,-5.830951894845301],\"xaxis\":\"x\",\"y\":[3822.5,3822.5,3860.0,3860.0],\"yaxis\":\"y\",\"type\":\"scatter\"},{\"hoverinfo\":\"text\",\"marker\":{\"color\":\"rgb(35,205,205)\"},\"mode\":\"lines\",\"x\":[-0.0,-1.7320508075688772,-1.7320508075688772,-0.0],\"xaxis\":\"x\",\"y\":[3885.0,3885.0,3895.0,3895.0],\"yaxis\":\"y\",\"type\":\"scatter\"},{\"hoverinfo\":\"text\",\"marker\":{\"color\":\"rgb(35,205,205)\"},\"mode\":\"lines\",\"x\":[-0.0,-1.7320508075688772,-1.7320508075688772,-0.0],\"xaxis\":\"x\",\"y\":[3905.0,3905.0,3915.0,3915.0],\"yaxis\":\"y\",\"type\":\"scatter\"},{\"hoverinfo\":\"text\",\"marker\":{\"color\":\"rgb(35,205,205)\"},\"mode\":\"lines\",\"x\":[-1.7320508075688772,-5.196152422706632,-5.196152422706632,-1.7320508075688772],\"xaxis\":\"x\",\"y\":[3890.0,3890.0,3910.0,3910.0],\"yaxis\":\"y\",\"type\":\"scatter\"},{\"hoverinfo\":\"text\",\"marker\":{\"color\":\"rgb(35,205,205)\"},\"mode\":\"lines\",\"x\":[-0.0,-1.7320508075688772,-1.7320508075688772,-0.0],\"xaxis\":\"x\",\"y\":[3925.0,3925.0,3935.0,3935.0],\"yaxis\":\"y\",\"type\":\"scatter\"},{\"hoverinfo\":\"text\",\"marker\":{\"color\":\"rgb(35,205,205)\"},\"mode\":\"lines\",\"x\":[-0.0,-1.7320508075688772,-1.7320508075688772,-0.0],\"xaxis\":\"x\",\"y\":[3955.0,3955.0,3965.0,3965.0],\"yaxis\":\"y\",\"type\":\"scatter\"},{\"hoverinfo\":\"text\",\"marker\":{\"color\":\"rgb(35,205,205)\"},\"mode\":\"lines\",\"x\":[-0.0,-3.4641016151377544,-3.4641016151377544,-1.7320508075688772],\"xaxis\":\"x\",\"y\":[3945.0,3945.0,3960.0,3960.0],\"yaxis\":\"y\",\"type\":\"scatter\"},{\"hoverinfo\":\"text\",\"marker\":{\"color\":\"rgb(35,205,205)\"},\"mode\":\"lines\",\"x\":[-1.7320508075688772,-6.928203230275509,-6.928203230275509,-3.4641016151377544],\"xaxis\":\"x\",\"y\":[3930.0,3930.0,3952.5,3952.5],\"yaxis\":\"y\",\"type\":\"scatter\"},{\"hoverinfo\":\"text\",\"marker\":{\"color\":\"rgb(35,205,205)\"},\"mode\":\"lines\",\"x\":[-5.196152422706632,-14.45683229480096,-14.45683229480096,-6.928203230275509],\"xaxis\":\"x\",\"y\":[3900.0,3900.0,3941.25,3941.25],\"yaxis\":\"y\",\"type\":\"scatter\"},{\"hoverinfo\":\"text\",\"marker\":{\"color\":\"rgb(35,205,205)\"},\"mode\":\"lines\",\"x\":[-11.661903789690601,-29.154759474226502,-29.154759474226502,-14.45683229480096],\"xaxis\":\"x\",\"y\":[3841.25,3841.25,3920.625,3920.625],\"yaxis\":\"y\",\"type\":\"scatter\"},{\"hoverinfo\":\"text\",\"marker\":{\"color\":\"rgb(35,205,205)\"},\"mode\":\"lines\",\"x\":[-25.45584412271571,-59.0,-59.0,-29.154759474226502],\"xaxis\":\"x\",\"y\":[3722.8125,3722.8125,3880.9375,3880.9375],\"yaxis\":\"y\",\"type\":\"scatter\"},{\"hoverinfo\":\"text\",\"marker\":{\"color\":\"rgb(35,205,205)\"},\"mode\":\"lines\",\"x\":[-0.0,-1.7320508075688772,-1.7320508075688772,-0.0],\"xaxis\":\"x\",\"y\":[3975.0,3975.0,3985.0,3985.0],\"yaxis\":\"y\",\"type\":\"scatter\"},{\"hoverinfo\":\"text\",\"marker\":{\"color\":\"rgb(35,205,205)\"},\"mode\":\"lines\",\"x\":[-0.0,-1.7320508075688772,-1.7320508075688772,-0.0],\"xaxis\":\"x\",\"y\":[3995.0,3995.0,4005.0,4005.0],\"yaxis\":\"y\",\"type\":\"scatter\"},{\"hoverinfo\":\"text\",\"marker\":{\"color\":\"rgb(35,205,205)\"},\"mode\":\"lines\",\"x\":[-1.7320508075688772,-5.196152422706632,-5.196152422706632,-1.7320508075688772],\"xaxis\":\"x\",\"y\":[3980.0,3980.0,4000.0,4000.0],\"yaxis\":\"y\",\"type\":\"scatter\"},{\"hoverinfo\":\"text\",\"marker\":{\"color\":\"rgb(35,205,205)\"},\"mode\":\"lines\",\"x\":[-0.0,-1.7320508075688772,-1.7320508075688772,-0.0],\"xaxis\":\"x\",\"y\":[4015.0,4015.0,4025.0,4025.0],\"yaxis\":\"y\",\"type\":\"scatter\"},{\"hoverinfo\":\"text\",\"marker\":{\"color\":\"rgb(35,205,205)\"},\"mode\":\"lines\",\"x\":[-0.0,-1.7320508075688772,-1.7320508075688772,-0.0],\"xaxis\":\"x\",\"y\":[4035.0,4035.0,4045.0,4045.0],\"yaxis\":\"y\",\"type\":\"scatter\"},{\"hoverinfo\":\"text\",\"marker\":{\"color\":\"rgb(35,205,205)\"},\"mode\":\"lines\",\"x\":[-1.7320508075688772,-5.196152422706632,-5.196152422706632,-1.7320508075688772],\"xaxis\":\"x\",\"y\":[4020.0,4020.0,4040.0,4040.0],\"yaxis\":\"y\",\"type\":\"scatter\"},{\"hoverinfo\":\"text\",\"marker\":{\"color\":\"rgb(35,205,205)\"},\"mode\":\"lines\",\"x\":[-5.196152422706632,-12.12435565298214,-12.12435565298214,-5.196152422706632],\"xaxis\":\"x\",\"y\":[3990.0,3990.0,4030.0,4030.0],\"yaxis\":\"y\",\"type\":\"scatter\"},{\"hoverinfo\":\"text\",\"marker\":{\"color\":\"rgb(35,205,205)\"},\"mode\":\"lines\",\"x\":[-0.0,-1.7320508075688772,-1.7320508075688772,-0.0],\"xaxis\":\"x\",\"y\":[4055.0,4055.0,4065.0,4065.0],\"yaxis\":\"y\",\"type\":\"scatter\"},{\"hoverinfo\":\"text\",\"marker\":{\"color\":\"rgb(35,205,205)\"},\"mode\":\"lines\",\"x\":[-0.0,-1.7320508075688772,-1.7320508075688772,-0.0],\"xaxis\":\"x\",\"y\":[4075.0,4075.0,4085.0,4085.0],\"yaxis\":\"y\",\"type\":\"scatter\"},{\"hoverinfo\":\"text\",\"marker\":{\"color\":\"rgb(35,205,205)\"},\"mode\":\"lines\",\"x\":[-1.7320508075688772,-5.196152422706632,-5.196152422706632,-1.7320508075688772],\"xaxis\":\"x\",\"y\":[4060.0,4060.0,4080.0,4080.0],\"yaxis\":\"y\",\"type\":\"scatter\"},{\"hoverinfo\":\"text\",\"marker\":{\"color\":\"rgb(35,205,205)\"},\"mode\":\"lines\",\"x\":[-0.0,-1.7320508075688772,-1.7320508075688772,-0.0],\"xaxis\":\"x\",\"y\":[4095.0,4095.0,4105.0,4105.0],\"yaxis\":\"y\",\"type\":\"scatter\"},{\"hoverinfo\":\"text\",\"marker\":{\"color\":\"rgb(35,205,205)\"},\"mode\":\"lines\",\"x\":[-0.0,-1.7320508075688772,-1.7320508075688772,-0.0],\"xaxis\":\"x\",\"y\":[4115.0,4115.0,4125.0,4125.0],\"yaxis\":\"y\",\"type\":\"scatter\"},{\"hoverinfo\":\"text\",\"marker\":{\"color\":\"rgb(35,205,205)\"},\"mode\":\"lines\",\"x\":[-1.7320508075688772,-5.196152422706632,-5.196152422706632,-1.7320508075688772],\"xaxis\":\"x\",\"y\":[4100.0,4100.0,4120.0,4120.0],\"yaxis\":\"y\",\"type\":\"scatter\"},{\"hoverinfo\":\"text\",\"marker\":{\"color\":\"rgb(35,205,205)\"},\"mode\":\"lines\",\"x\":[-5.196152422706632,-12.12435565298214,-12.12435565298214,-5.196152422706632],\"xaxis\":\"x\",\"y\":[4070.0,4070.0,4110.0,4110.0],\"yaxis\":\"y\",\"type\":\"scatter\"},{\"hoverinfo\":\"text\",\"marker\":{\"color\":\"rgb(35,205,205)\"},\"mode\":\"lines\",\"x\":[-12.12435565298214,-25.98076211353316,-25.98076211353316,-12.12435565298214],\"xaxis\":\"x\",\"y\":[4010.0,4010.0,4090.0,4090.0],\"yaxis\":\"y\",\"type\":\"scatter\"},{\"hoverinfo\":\"text\",\"marker\":{\"color\":\"rgb(35,205,205)\"},\"mode\":\"lines\",\"x\":[-0.0,-1.7320508075688772,-1.7320508075688772,-0.0],\"xaxis\":\"x\",\"y\":[4135.0,4135.0,4145.0,4145.0],\"yaxis\":\"y\",\"type\":\"scatter\"},{\"hoverinfo\":\"text\",\"marker\":{\"color\":\"rgb(35,205,205)\"},\"mode\":\"lines\",\"x\":[-0.0,-1.7320508075688772,-1.7320508075688772,-0.0],\"xaxis\":\"x\",\"y\":[4155.0,4155.0,4165.0,4165.0],\"yaxis\":\"y\",\"type\":\"scatter\"},{\"hoverinfo\":\"text\",\"marker\":{\"color\":\"rgb(35,205,205)\"},\"mode\":\"lines\",\"x\":[-1.7320508075688772,-5.196152422706632,-5.196152422706632,-1.7320508075688772],\"xaxis\":\"x\",\"y\":[4140.0,4140.0,4160.0,4160.0],\"yaxis\":\"y\",\"type\":\"scatter\"},{\"hoverinfo\":\"text\",\"marker\":{\"color\":\"rgb(35,205,205)\"},\"mode\":\"lines\",\"x\":[-0.0,-1.7320508075688772,-1.7320508075688772,-0.0],\"xaxis\":\"x\",\"y\":[4175.0,4175.0,4185.0,4185.0],\"yaxis\":\"y\",\"type\":\"scatter\"},{\"hoverinfo\":\"text\",\"marker\":{\"color\":\"rgb(35,205,205)\"},\"mode\":\"lines\",\"x\":[-0.0,-1.7320508075688772,-1.7320508075688772,-0.0],\"xaxis\":\"x\",\"y\":[4205.0,4205.0,4215.0,4215.0],\"yaxis\":\"y\",\"type\":\"scatter\"},{\"hoverinfo\":\"text\",\"marker\":{\"color\":\"rgb(35,205,205)\"},\"mode\":\"lines\",\"x\":[-0.0,-3.4641016151377544,-3.4641016151377544,-1.7320508075688772],\"xaxis\":\"x\",\"y\":[4195.0,4195.0,4210.0,4210.0],\"yaxis\":\"y\",\"type\":\"scatter\"},{\"hoverinfo\":\"text\",\"marker\":{\"color\":\"rgb(35,205,205)\"},\"mode\":\"lines\",\"x\":[-1.7320508075688772,-6.928203230275509,-6.928203230275509,-3.4641016151377544],\"xaxis\":\"x\",\"y\":[4180.0,4180.0,4202.5,4202.5],\"yaxis\":\"y\",\"type\":\"scatter\"},{\"hoverinfo\":\"text\",\"marker\":{\"color\":\"rgb(35,205,205)\"},\"mode\":\"lines\",\"x\":[-5.196152422706632,-13.856406460551018,-13.856406460551018,-6.928203230275509],\"xaxis\":\"x\",\"y\":[4150.0,4150.0,4191.25,4191.25],\"yaxis\":\"y\",\"type\":\"scatter\"},{\"hoverinfo\":\"text\",\"marker\":{\"color\":\"rgb(35,205,205)\"},\"mode\":\"lines\",\"x\":[-0.0,-1.7320508075688772,-1.7320508075688772,-0.0],\"xaxis\":\"x\",\"y\":[4235.0,4235.0,4245.0,4245.0],\"yaxis\":\"y\",\"type\":\"scatter\"},{\"hoverinfo\":\"text\",\"marker\":{\"color\":\"rgb(35,205,205)\"},\"mode\":\"lines\",\"x\":[-0.0,-3.4641016151377544,-3.4641016151377544,-1.7320508075688772],\"xaxis\":\"x\",\"y\":[4225.0,4225.0,4240.0,4240.0],\"yaxis\":\"y\",\"type\":\"scatter\"},{\"hoverinfo\":\"text\",\"marker\":{\"color\":\"rgb(35,205,205)\"},\"mode\":\"lines\",\"x\":[-0.0,-1.7320508075688772,-1.7320508075688772,-0.0],\"xaxis\":\"x\",\"y\":[4255.0,4255.0,4265.0,4265.0],\"yaxis\":\"y\",\"type\":\"scatter\"},{\"hoverinfo\":\"text\",\"marker\":{\"color\":\"rgb(35,205,205)\"},\"mode\":\"lines\",\"x\":[-0.0,-1.7320508075688772,-1.7320508075688772,-0.0],\"xaxis\":\"x\",\"y\":[4275.0,4275.0,4285.0,4285.0],\"yaxis\":\"y\",\"type\":\"scatter\"},{\"hoverinfo\":\"text\",\"marker\":{\"color\":\"rgb(35,205,205)\"},\"mode\":\"lines\",\"x\":[-1.7320508075688772,-5.196152422706632,-5.196152422706632,-1.7320508075688772],\"xaxis\":\"x\",\"y\":[4260.0,4260.0,4280.0,4280.0],\"yaxis\":\"y\",\"type\":\"scatter\"},{\"hoverinfo\":\"text\",\"marker\":{\"color\":\"rgb(35,205,205)\"},\"mode\":\"lines\",\"x\":[-3.4641016151377544,-10.392304845413264,-10.392304845413264,-5.196152422706632],\"xaxis\":\"x\",\"y\":[4232.5,4232.5,4270.0,4270.0],\"yaxis\":\"y\",\"type\":\"scatter\"},{\"hoverinfo\":\"text\",\"marker\":{\"color\":\"rgb(35,205,205)\"},\"mode\":\"lines\",\"x\":[-0.0,-1.7320508075688772,-1.7320508075688772,-0.0],\"xaxis\":\"x\",\"y\":[4305.0,4305.0,4315.0,4315.0],\"yaxis\":\"y\",\"type\":\"scatter\"},{\"hoverinfo\":\"text\",\"marker\":{\"color\":\"rgb(35,205,205)\"},\"mode\":\"lines\",\"x\":[-0.0,-3.4641016151377544,-3.4641016151377544,-1.7320508075688772],\"xaxis\":\"x\",\"y\":[4295.0,4295.0,4310.0,4310.0],\"yaxis\":\"y\",\"type\":\"scatter\"},{\"hoverinfo\":\"text\",\"marker\":{\"color\":\"rgb(35,205,205)\"},\"mode\":\"lines\",\"x\":[-0.0,-1.7320508075688772,-1.7320508075688772,-0.0],\"xaxis\":\"x\",\"y\":[4325.0,4325.0,4335.0,4335.0],\"yaxis\":\"y\",\"type\":\"scatter\"},{\"hoverinfo\":\"text\",\"marker\":{\"color\":\"rgb(35,205,205)\"},\"mode\":\"lines\",\"x\":[-0.0,-1.7320508075688772,-1.7320508075688772,-0.0],\"xaxis\":\"x\",\"y\":[4345.0,4345.0,4355.0,4355.0],\"yaxis\":\"y\",\"type\":\"scatter\"},{\"hoverinfo\":\"text\",\"marker\":{\"color\":\"rgb(35,205,205)\"},\"mode\":\"lines\",\"x\":[-1.7320508075688772,-5.196152422706632,-5.196152422706632,-1.7320508075688772],\"xaxis\":\"x\",\"y\":[4330.0,4330.0,4350.0,4350.0],\"yaxis\":\"y\",\"type\":\"scatter\"},{\"hoverinfo\":\"text\",\"marker\":{\"color\":\"rgb(35,205,205)\"},\"mode\":\"lines\",\"x\":[-3.4641016151377544,-10.392304845413264,-10.392304845413264,-5.196152422706632],\"xaxis\":\"x\",\"y\":[4302.5,4302.5,4340.0,4340.0],\"yaxis\":\"y\",\"type\":\"scatter\"},{\"hoverinfo\":\"text\",\"marker\":{\"color\":\"rgb(35,205,205)\"},\"mode\":\"lines\",\"x\":[-10.392304845413264,-23.727621035409346,-23.727621035409346,-10.392304845413264],\"xaxis\":\"x\",\"y\":[4251.25,4251.25,4321.25,4321.25],\"yaxis\":\"y\",\"type\":\"scatter\"},{\"hoverinfo\":\"text\",\"marker\":{\"color\":\"rgb(35,205,205)\"},\"mode\":\"lines\",\"x\":[-13.856406460551018,-39.91240408695021,-39.91240408695021,-23.727621035409346],\"xaxis\":\"x\",\"y\":[4170.625,4170.625,4286.25,4286.25],\"yaxis\":\"y\",\"type\":\"scatter\"},{\"hoverinfo\":\"text\",\"marker\":{\"color\":\"rgb(35,205,205)\"},\"mode\":\"lines\",\"x\":[-25.98076211353316,-67.59437846448475,-67.59437846448475,-39.91240408695021],\"xaxis\":\"x\",\"y\":[4050.0,4050.0,4228.4375,4228.4375],\"yaxis\":\"y\",\"type\":\"scatter\"},{\"hoverinfo\":\"text\",\"marker\":{\"color\":\"rgb(35,205,205)\"},\"mode\":\"lines\",\"x\":[-59.0,-128.7555824032496,-128.7555824032496,-67.59437846448475],\"xaxis\":\"x\",\"y\":[3801.875,3801.875,4139.21875,4139.21875],\"yaxis\":\"y\",\"type\":\"scatter\"},{\"hoverinfo\":\"text\",\"marker\":{\"color\":\"rgb(35,205,205)\"},\"mode\":\"lines\",\"x\":[-83.91066678319271,-215.01860384627187,-215.01860384627187,-128.7555824032496],\"xaxis\":\"x\",\"y\":[3403.28125,3403.28125,3970.546875,3970.546875],\"yaxis\":\"y\",\"type\":\"scatter\"},{\"hoverinfo\":\"text\",\"marker\":{\"color\":\"rgb(35,205,205)\"},\"mode\":\"lines\",\"x\":[-90.89041058390654,-365.3573140699998,-365.3573140699998,-215.01860384627187],\"xaxis\":\"x\",\"y\":[3180.0,3180.0,3686.9140625,3686.9140625],\"yaxis\":\"y\",\"type\":\"scatter\"},{\"hoverinfo\":\"text\",\"marker\":{\"color\":\"rgb(35,205,205)\"},\"mode\":\"lines\",\"x\":[-161.22034611053283,-400.9869595586758,-400.9869595586758,-365.3573140699998],\"xaxis\":\"x\",\"y\":[2698.828125,2698.828125,3433.45703125,3433.45703125],\"yaxis\":\"y\",\"type\":\"scatter\"},{\"hoverinfo\":\"text\",\"marker\":{\"color\":\"rgb(35,205,205)\"},\"mode\":\"lines\",\"x\":[-191.57140701917885,-567.078728274546,-567.078728274546,-400.9869595586758],\"xaxis\":\"x\",\"y\":[2291.875,2291.875,3066.142578125,3066.142578125],\"yaxis\":\"y\",\"type\":\"scatter\"},{\"hoverinfo\":\"text\",\"marker\":{\"color\":\"rgb(35,205,205)\"},\"mode\":\"lines\",\"x\":[-455.6336494377912,-699.6629047461197,-699.6629047461197,-567.078728274546],\"xaxis\":\"x\",\"y\":[1139.5703125,1139.5703125,2679.0087890625,2679.0087890625],\"yaxis\":\"y\",\"type\":\"scatter\"},{\"hoverinfo\":\"text\",\"marker\":{\"color\":\"rgb(0,116,217)\"},\"mode\":\"lines\",\"x\":[-608.939658924541,-1019.1561118286922,-1019.1561118286922,-699.6629047461197],\"xaxis\":\"x\",\"y\":[350.546875,350.546875,1909.28955078125,1909.28955078125],\"yaxis\":\"y\",\"type\":\"scatter\"},{\"hoverinfo\":\"text\",\"marker\":{\"color\":\"rgb(0,116,217)\"},\"mode\":\"lines\",\"x\":[-447.2030204719937,-1282.9135311878226,-1282.9135311878226,-1019.1561118286922],\"xaxis\":\"x\",\"y\":[67.0703125,67.0703125,1129.918212890625,1129.918212890625],\"yaxis\":\"y\",\"type\":\"scatter\"}],                        {\"autosize\":false,\"height\":4500,\"hovermode\":\"closest\",\"showlegend\":false,\"width\":800,\"xaxis\":{\"mirror\":\"allticks\",\"rangemode\":\"tozero\",\"showgrid\":false,\"showline\":true,\"showticklabels\":true,\"ticks\":\"outside\",\"type\":\"linear\",\"zeroline\":false},\"yaxis\":{\"mirror\":\"allticks\",\"rangemode\":\"tozero\",\"showgrid\":false,\"showline\":true,\"showticklabels\":true,\"tickmode\":\"array\",\"ticks\":\"outside\",\"ticktext\":[\"G66_Wanji\",\"G11_Gogo\",\"G32_Doe\",\"G65_Kinga\",\"G37_Kutu\",\"G41_Bajuni\",\"E622A_Kimochi\",\"G22_Asu\",\"P13_Matumbi\",\"N21_Tumbuka_Malawi\",\"N42_Kunda\",\"M64_Tonga\",\"N14_Mpoto\",\"S11_Shona\",\"S16_Kalanga\",\"S42_Zulu\",\"S61_Chopi\",\"P12_Rufiji\",\"P21_Yao\",\"M13_Fipa\",\"M402_Aushi\",\"M23_Nyiha\",\"G64_Pangwa\",\"G44a_Ngazija\",\"G44b_Ndzwani\",\"Mungaka_Grassfields\",\"G42d_Unguja\",\"P22_Mwera\",\"E621B_Machame\",\"E623D_Keni\",\"F12_Bende\",\"M21_Ndali\",\"G34_Nguungulu\",\"F21_Sukuma\",\"G52_Ndamba\",\"G61_Sangu\",\"G42a_Amu\",\"M41_Taabwa\",\"E72a_Giryama\",\"E74a_Dawida\",\"E56_Daiso\",\"E65_Gweno\",\"G24_Bondei\",\"E623A_Kiseri\",\"F31_Nyiramba\",\"F32_Nyaturuwil\",\"N12_Ngoni\",\"P15_Mbunga\",\"E622C_Lema\",\"E623_Mkuu\",\"G32_Kwere\",\"S21_Venda\",\"S311_Shekgalagari\",\"S44_Ndebele\",\"N31_Chewa\",\"P23_Simakonde\",\"S41_Xhosa\",\"S31_Tswana\",\"S54_Ronga\",\"F25_Bungu\",\"F32_Nyaturucha\",\"G12_Kagulu\",\"F21_Ntuzu\",\"E701_Elwana\",\"E73_Digo\",\"G401_Mwani\",\"G43_Kae\",\"G51_Pogoro\",\"M28_Lambya\",\"M15_Mambwe\",\"E621C_Siha\",\"E622C_Mamba\",\"E74a_Tuveta\",\"B86_Dinga\",\"B84_Mbunda\",\"B85_Yanzi\",\"H12_Civili_Congo\",\"H11_Beembe\",\"H111_Hangala\",\"B85e_Mput\",\"B862_Lwel\",\"B864_Ngong\",\"B863_Pindi\",\"H31_Yaka\",\"H321_Soonde\",\"H16_Kikongo\",\"H16c_Yombe\",\"H16f_Laadi\",\"H16g_Ntandu\",\"H32_Suku\",\"H41_Mbala\",\"H42_Hunganna\",\"H16a_Kisikongo_2013\",\"H16a_Kisolongo_DRC_2012\",\"H16b_Kindibu_2013\",\"H16g_Kimpangu_2012\",\"H16h_Kinkanu_2012\",\"L32_Kanyok\",\"L23_Songe\",\"L31a_Luba-Kasai\",\"H16_Cimbala\",\"H16_Cilinji\",\"L11_Pende\",\"L13_Kwese\",\"H16d_Ciwoyo_DRC_2012\",\"H16c_Kiyombe_DRC_1982\",\"H13_Kikunyi_1989\",\"H131_Kisundi_Congo_Kimongo_1988\",\"H21a_Kimbundu\",\"H16_Cizobe\",\"H16_Kimbata_Ngidinga\",\"H16_Kimbeko\",\"K33_Kwangali\",\"K18_Ganguela\",\"K21_Lozi\",\"K31_Luyana\",\"K11_Ciokwe\",\"K14_Lwena\",\"K15_Mbunda\",\"L34_Hemba\",\"L35_Sanga\",\"L52_Lunda\",\"L41_Kaonde\",\"L51_Salampasu\",\"JE15_Luganda\",\"JE16_Lusoga\",\"JE17_Gwere\",\"JE21_Runyambo\",\"JD64_Shubi\",\"JD65_Hangaza\",\"JD66_Kiha\",\"JD67_Kivinza\",\"JE11_Runyoro\",\"JE12_Rutooro\",\"JE13_Runyankore\",\"JE14_Rukiga\",\"K332_Rumanyo\",\"K402_Fwe\",\"R11_Umbundu\",\"R13_Nyaneka\",\"R21_Kwanyama\",\"R22_Ndonga\",\"R31_Herero\",\"R41_Yeyi\",\"L12b_Holu\",\"L53_Runda\",\"L221_Lwalwa\",\"L33_Luba-Shaba\",\"L62_Nkoya\",\"JD53_Shi\",\"JD62_Rundi\",\"G42_Swahili\",\"G22A_North_Pare\",\"G23_Sambaa\",\"G36_Kami\",\"E71A_Upper_Pokomo\",\"E622C_Vunjo\",\"F23_Sumbwa\",\"JE401_Ngoreme\",\"JE403_Suba\",\"JE34_Samialugwe\",\"JE31c_Bukusu\",\"JE32_Luyia\",\"JE22_Haya\",\"JE23_Zinza\",\"JE24_Kerebe\",\"JE25_Jita\",\"JE25_Kilegi\",\"JE25_Mkwaya\",\"JE31_Lumasaaba\",\"E541_Chuka\",\"E55_Kamba\",\"E55_Kamba_Mach\",\"E55_Kamba_Kitu\",\"E53_Meruimenti\",\"E53_Merutig\",\"E54_Tharaka\",\"E531_Muthambi\",\"E531_Mwimbi\",\"E46_Sonjo\",\"E51_Kikuyu\",\"E52_Embu\",\"E52_Mbeere\",\"E53_Meru\",\"E53_Igoji\",\"E53_Tigania\",\"E53_Miutini\",\"E53_Imenti\",\"JE41_Maragoli\",\"JE42_Gusii\",\"JE43_Kuria\",\"JE43_Kuria_Mago\",\"JE402_Ikizu\",\"JE45_Nata\",\"JE404_Shasi\",\"JE43_Kuria_Tari\",\"JE44_Zanaki\",\"M12_Lungwa\",\"M31_Nyakyusa\",\"M52_Lala\",\"N44_Sena\",\"M54_Lamba\",\"M61_Lenje\",\"P25_Mabia\",\"P31_Emakhua\",\"M24_Malila\",\"M62_Soli\",\"G44D_Maore\",\"M21_Wanda\",\"N11_Manda\",\"N13_Matengo\",\"P11_Ndengeleko\",\"M14_Rungu\",\"G39_Saghala\",\"G62_Hehe\",\"G63_Bena\",\"E621D_Kibosho\",\"E64_Kahe\",\"F22_Nyamwezi\",\"G33_Zaramo\",\"P14_Ngindo\",\"P34_Cuwabo\",\"P31G_Ikorovere\",\"S15_Ndau\",\"S51_Tshwa\",\"S53_Tsonga\",\"M11_Pimbwe\",\"F33_Langi\",\"G22B_South_Pare\",\"G412_Mwiini\",\"M25_Safwa\",\"G35_Luguru\",\"F24_Kimbu\",\"G31_Zigua\",\"A24_Duala\",\"A26_Pongo\",\"A27_Malimba\",\"A31_Bubi\",\"A32C_Batanga\",\"A33a_Yasa\",\"A34_Benga\",\"A41_Barombi-Kang\",\"A42_Abo\",\"A43a_Basaa\",\"A44_Tunen\",\"A45_Nyokon\",\"A46_Nomaande\",\"A462_Yambeta\",\"A51_Bafia_maja\",\"A53_Bafia_rikpa\",\"Tiv_Tivoid\",\"Njen_Grassfields\",\"Moghamo_Grassfields\",\"Bamun_Grassfields\",\"Kom_Grassfields\",\"Oku_Grassfields\",\"Aghem_Grassfields\",\"A151_Nkongho\",\"A22_Bakweri\",\"A15B_Mienge_NW_Manenguba\",\"A15C_Elung_Central_Manenguba\",\"A15C_Akossi\",\"A15C_Mkaa\",\"A11_Londo\",\"A121_Mbonge\",\"A122_Bakundu\",\"A141_Lefo\",\"A15_Manenguba\",\"A15A_Mbuu\",\"A84_Njem\",\"A841_Badwe\",\"A86c_Mpiemo\",\"A85b_Bekwil_Makokou\",\"A85b_Bekwil_Mv\",\"A75a_Fang_Minvoul\",\"A75a_Fang_Medouneu\",\"A801_Gyeli\",\"A803_Shiwa\",\"A81_Kwasio\",\"A83_Mekaa\",\"A832_Bekol\",\"A87_Bomwali\",\"A91_Kwakum\",\"A93_Kako\",\"B11a_Mpongwe\",\"B11b_Orungu\",\"B11c_Galwa\",\"B11d_Dyumba\",\"B11F_Enenga\",\"B31_Tsogo\",\"B301_Viya\",\"B302_Himba\",\"B304_Pinzi\",\"B305_Vove\",\"B32_Kande\",\"A54_Tibea\",\"A601_Tuki\",\"A61_Ngoro-Asom\",\"A61_Ngoro-Bisoo\",\"A61_Ngoro-lunda\",\"A62A_Nuasue\",\"A62C_Libie\",\"A62A_Nukalonge\",\"A62B_Mmala\",\"A621_Nubaca\",\"A622_Nugunu\",\"A63_Mangisa\",\"Zaambo_Jarawan\",\"Bwazza_Jarawan\",\"Mbula_Jarawan\",\"A75a_Fang_Bitam\",\"A72a_Ewondo\",\"A74a_Bulu\",\"Bile_Jarawan\",\"Kulung_Jarawan\",\"Duguri_Jarawan\",\"A71_Eton\",\"M22_Namwanga\",\"M42_Bemba\",\"C44_Bwa\",\"C51_Mbesa\",\"C52_Soko\",\"C55_Lokele\",\"C54_Turumba_1919\",\"C52_Soko_1919\",\"C71_Tetela\",\"C61_Mongo\",\"C61E_Konda\",\"C22_Akwa\",\"C24_Koyo\",\"C25_Mboshi\",\"C25A_Bunji\",\"C25B_Olee\",\"C25C_Ondinga\",\"C25E_Eboyi\",\"C322_Zamba\",\"C323_Mpama\",\"C32_Bobangi\",\"C34_Sakata\",\"C36d_Lingala\",\"C41_Ngombe\",\"C43A_Baati\",\"C101_Babole_Ep\",\"C101_Babole_Ma\",\"C101_Babole_Dz\",\"C104_Aka\",\"C105_Mbenga\",\"C141_Bonyala\",\"C15_Bongili\",\"C21_Ngare\",\"B21_Seki\",\"B22a_Kele\",\"B22b_Ngom\",\"B22b_Koya\",\"B22E_Mwesa\",\"B23_Mbangwe\",\"B24_Wumbvu\",\"B25_Kota\",\"B251_Shake\",\"B252_Mahongwe\",\"B201_Ndasa\",\"B202_Sigu\",\"B203_Samaye\",\"B204_Ndambomo_Li\",\"B204_Ndambomo_Mbadi\",\"B204_Ndambomo_Massoukou\",\"B861_Ngul\",\"B82_Buma\",\"B81_Tiene\",\"B85d_Nsongo\",\"B86_Dzing\",\"B865_Nzadi\",\"B602_Kaningi_Nord\",\"B602_Kaningi_Sud\",\"B71a_Teke_Os\",\"B71a_Teke_Dj\",\"B77b_Fumu\",\"B78_Wuumu\",\"B701_Atsitsege\",\"B71aIb_Teke_Ibali_Congo\",\"B71aLe_Teke_Leconi\",\"B501_Wanzi_Mo\",\"B53_Tsaangi_Poungi\",\"B501_Wanzi_E\",\"B503_Vili\",\"B62_Mbaama\",\"B63_Ndumu\",\"B601_Lempini\",\"B41_Shira\",\"B42_Sangu_Mi\",\"B42_Sangu_Mb\",\"B43_Punu\",\"B44_Lumbu\",\"B404_Ngubi\",\"B52_Nzebi\",\"B51_Duma\",\"B51_Duma_La\",\"C76_Ombo\",\"C81_Dengese\",\"C85_Wongo\",\"C83_Bushong\",\"C302_Bolondo\",\"C37_Ebudza\",\"C42_Ebwela\",\"C412_Libobi\",\"C142_Mondongo\",\"C36g_Monyongo\",\"C36g_Mosange\",\"C401_Pakabete\",\"C401_Babati_1919\",\"D11_Mbole\",\"D12_Lengola\",\"D13_Metoko\",\"D14_Enya\",\"*D20B_Vamba_1919\",\"D201_Liko\",\"D21_Baali\",\"D211_Kango\",\"D23_Kibira-Kumu_1919\",\"D28_Holoholo\",\"D24_Songola\",\"D25_Lega\",\"*D308_Bodo2\",\"D313_Mbuttu_1919\",\"*D308_Ebodo\",\"*D304_Homa_1919\",\"*D305_Nyanga-li\",\"D311_Bila\",\"D331_Bvanuma\",\"D55_Buyu\",\"D334_Mbo\",\"D43_Nyanga\",\"D32_Bira\",\"D32_Bira_Bunia\",\"D33_Nyali\",\"D333_Ndaaka\"],\"tickvals\":[5.0,15.0,25.0,35.0,45.0,55.0,65.0,75.0,85.0,95.0,105.0,115.0,125.0,135.0,145.0,155.0,165.0,175.0,185.0,195.0,205.0,215.0,225.0,235.0,245.0,255.0,265.0,275.0,285.0,295.0,305.0,315.0,325.0,335.0,345.0,355.0,365.0,375.0,385.0,395.0,405.0,415.0,425.0,435.0,445.0,455.0,465.0,475.0,485.0,495.0,505.0,515.0,525.0,535.0,545.0,555.0,565.0,575.0,585.0,595.0,605.0,615.0,625.0,635.0,645.0,655.0,665.0,675.0,685.0,695.0,705.0,715.0,725.0,735.0,745.0,755.0,765.0,775.0,785.0,795.0,805.0,815.0,825.0,835.0,845.0,855.0,865.0,875.0,885.0,895.0,905.0,915.0,925.0,935.0,945.0,955.0,965.0,975.0,985.0,995.0,1005.0,1015.0,1025.0,1035.0,1045.0,1055.0,1065.0,1075.0,1085.0,1095.0,1105.0,1115.0,1125.0,1135.0,1145.0,1155.0,1165.0,1175.0,1185.0,1195.0,1205.0,1215.0,1225.0,1235.0,1245.0,1255.0,1265.0,1275.0,1285.0,1295.0,1305.0,1315.0,1325.0,1335.0,1345.0,1355.0,1365.0,1375.0,1385.0,1395.0,1405.0,1415.0,1425.0,1435.0,1445.0,1455.0,1465.0,1475.0,1485.0,1495.0,1505.0,1515.0,1525.0,1535.0,1545.0,1555.0,1565.0,1575.0,1585.0,1595.0,1605.0,1615.0,1625.0,1635.0,1645.0,1655.0,1665.0,1675.0,1685.0,1695.0,1705.0,1715.0,1725.0,1735.0,1745.0,1755.0,1765.0,1775.0,1785.0,1795.0,1805.0,1815.0,1825.0,1835.0,1845.0,1855.0,1865.0,1875.0,1885.0,1895.0,1905.0,1915.0,1925.0,1935.0,1945.0,1955.0,1965.0,1975.0,1985.0,1995.0,2005.0,2015.0,2025.0,2035.0,2045.0,2055.0,2065.0,2075.0,2085.0,2095.0,2105.0,2115.0,2125.0,2135.0,2145.0,2155.0,2165.0,2175.0,2185.0,2195.0,2205.0,2215.0,2225.0,2235.0,2245.0,2255.0,2265.0,2275.0,2285.0,2295.0,2305.0,2315.0,2325.0,2335.0,2345.0,2355.0,2365.0,2375.0,2385.0,2395.0,2405.0,2415.0,2425.0,2435.0,2445.0,2455.0,2465.0,2475.0,2485.0,2495.0,2505.0,2515.0,2525.0,2535.0,2545.0,2555.0,2565.0,2575.0,2585.0,2595.0,2605.0,2615.0,2625.0,2635.0,2645.0,2655.0,2665.0,2675.0,2685.0,2695.0,2705.0,2715.0,2725.0,2735.0,2745.0,2755.0,2765.0,2775.0,2785.0,2795.0,2805.0,2815.0,2825.0,2835.0,2845.0,2855.0,2865.0,2875.0,2885.0,2895.0,2905.0,2915.0,2925.0,2935.0,2945.0,2955.0,2965.0,2975.0,2985.0,2995.0,3005.0,3015.0,3025.0,3035.0,3045.0,3055.0,3065.0,3075.0,3085.0,3095.0,3105.0,3115.0,3125.0,3135.0,3145.0,3155.0,3165.0,3175.0,3185.0,3195.0,3205.0,3215.0,3225.0,3235.0,3245.0,3255.0,3265.0,3275.0,3285.0,3295.0,3305.0,3315.0,3325.0,3335.0,3345.0,3355.0,3365.0,3375.0,3385.0,3395.0,3405.0,3415.0,3425.0,3435.0,3445.0,3455.0,3465.0,3475.0,3485.0,3495.0,3505.0,3515.0,3525.0,3535.0,3545.0,3555.0,3565.0,3575.0,3585.0,3595.0,3605.0,3615.0,3625.0,3635.0,3645.0,3655.0,3665.0,3675.0,3685.0,3695.0,3705.0,3715.0,3725.0,3735.0,3745.0,3755.0,3765.0,3775.0,3785.0,3795.0,3805.0,3815.0,3825.0,3835.0,3845.0,3855.0,3865.0,3875.0,3885.0,3895.0,3905.0,3915.0,3925.0,3935.0,3945.0,3955.0,3965.0,3975.0,3985.0,3995.0,4005.0,4015.0,4025.0,4035.0,4045.0,4055.0,4065.0,4075.0,4085.0,4095.0,4105.0,4115.0,4125.0,4135.0,4145.0,4155.0,4165.0,4175.0,4185.0,4195.0,4205.0,4215.0,4225.0,4235.0,4245.0,4255.0,4265.0,4275.0,4285.0,4295.0,4305.0,4315.0,4325.0,4335.0,4345.0,4355.0],\"type\":\"linear\",\"zeroline\":false},\"template\":{\"data\":{\"histogram2dcontour\":[{\"type\":\"histogram2dcontour\",\"colorbar\":{\"outlinewidth\":0,\"ticks\":\"\"},\"colorscale\":[[0.0,\"#0d0887\"],[0.1111111111111111,\"#46039f\"],[0.2222222222222222,\"#7201a8\"],[0.3333333333333333,\"#9c179e\"],[0.4444444444444444,\"#bd3786\"],[0.5555555555555556,\"#d8576b\"],[0.6666666666666666,\"#ed7953\"],[0.7777777777777778,\"#fb9f3a\"],[0.8888888888888888,\"#fdca26\"],[1.0,\"#f0f921\"]]}],\"choropleth\":[{\"type\":\"choropleth\",\"colorbar\":{\"outlinewidth\":0,\"ticks\":\"\"}}],\"histogram2d\":[{\"type\":\"histogram2d\",\"colorbar\":{\"outlinewidth\":0,\"ticks\":\"\"},\"colorscale\":[[0.0,\"#0d0887\"],[0.1111111111111111,\"#46039f\"],[0.2222222222222222,\"#7201a8\"],[0.3333333333333333,\"#9c179e\"],[0.4444444444444444,\"#bd3786\"],[0.5555555555555556,\"#d8576b\"],[0.6666666666666666,\"#ed7953\"],[0.7777777777777778,\"#fb9f3a\"],[0.8888888888888888,\"#fdca26\"],[1.0,\"#f0f921\"]]}],\"heatmap\":[{\"type\":\"heatmap\",\"colorbar\":{\"outlinewidth\":0,\"ticks\":\"\"},\"colorscale\":[[0.0,\"#0d0887\"],[0.1111111111111111,\"#46039f\"],[0.2222222222222222,\"#7201a8\"],[0.3333333333333333,\"#9c179e\"],[0.4444444444444444,\"#bd3786\"],[0.5555555555555556,\"#d8576b\"],[0.6666666666666666,\"#ed7953\"],[0.7777777777777778,\"#fb9f3a\"],[0.8888888888888888,\"#fdca26\"],[1.0,\"#f0f921\"]]}],\"heatmapgl\":[{\"type\":\"heatmapgl\",\"colorbar\":{\"outlinewidth\":0,\"ticks\":\"\"},\"colorscale\":[[0.0,\"#0d0887\"],[0.1111111111111111,\"#46039f\"],[0.2222222222222222,\"#7201a8\"],[0.3333333333333333,\"#9c179e\"],[0.4444444444444444,\"#bd3786\"],[0.5555555555555556,\"#d8576b\"],[0.6666666666666666,\"#ed7953\"],[0.7777777777777778,\"#fb9f3a\"],[0.8888888888888888,\"#fdca26\"],[1.0,\"#f0f921\"]]}],\"contourcarpet\":[{\"type\":\"contourcarpet\",\"colorbar\":{\"outlinewidth\":0,\"ticks\":\"\"}}],\"contour\":[{\"type\":\"contour\",\"colorbar\":{\"outlinewidth\":0,\"ticks\":\"\"},\"colorscale\":[[0.0,\"#0d0887\"],[0.1111111111111111,\"#46039f\"],[0.2222222222222222,\"#7201a8\"],[0.3333333333333333,\"#9c179e\"],[0.4444444444444444,\"#bd3786\"],[0.5555555555555556,\"#d8576b\"],[0.6666666666666666,\"#ed7953\"],[0.7777777777777778,\"#fb9f3a\"],[0.8888888888888888,\"#fdca26\"],[1.0,\"#f0f921\"]]}],\"surface\":[{\"type\":\"surface\",\"colorbar\":{\"outlinewidth\":0,\"ticks\":\"\"},\"colorscale\":[[0.0,\"#0d0887\"],[0.1111111111111111,\"#46039f\"],[0.2222222222222222,\"#7201a8\"],[0.3333333333333333,\"#9c179e\"],[0.4444444444444444,\"#bd3786\"],[0.5555555555555556,\"#d8576b\"],[0.6666666666666666,\"#ed7953\"],[0.7777777777777778,\"#fb9f3a\"],[0.8888888888888888,\"#fdca26\"],[1.0,\"#f0f921\"]]}],\"mesh3d\":[{\"type\":\"mesh3d\",\"colorbar\":{\"outlinewidth\":0,\"ticks\":\"\"}}],\"scatter\":[{\"fillpattern\":{\"fillmode\":\"overlay\",\"size\":10,\"solidity\":0.2},\"type\":\"scatter\"}],\"parcoords\":[{\"type\":\"parcoords\",\"line\":{\"colorbar\":{\"outlinewidth\":0,\"ticks\":\"\"}}}],\"scatterpolargl\":[{\"type\":\"scatterpolargl\",\"marker\":{\"colorbar\":{\"outlinewidth\":0,\"ticks\":\"\"}}}],\"bar\":[{\"error_x\":{\"color\":\"#2a3f5f\"},\"error_y\":{\"color\":\"#2a3f5f\"},\"marker\":{\"line\":{\"color\":\"#E5ECF6\",\"width\":0.5},\"pattern\":{\"fillmode\":\"overlay\",\"size\":10,\"solidity\":0.2}},\"type\":\"bar\"}],\"scattergeo\":[{\"type\":\"scattergeo\",\"marker\":{\"colorbar\":{\"outlinewidth\":0,\"ticks\":\"\"}}}],\"scatterpolar\":[{\"type\":\"scatterpolar\",\"marker\":{\"colorbar\":{\"outlinewidth\":0,\"ticks\":\"\"}}}],\"histogram\":[{\"marker\":{\"pattern\":{\"fillmode\":\"overlay\",\"size\":10,\"solidity\":0.2}},\"type\":\"histogram\"}],\"scattergl\":[{\"type\":\"scattergl\",\"marker\":{\"colorbar\":{\"outlinewidth\":0,\"ticks\":\"\"}}}],\"scatter3d\":[{\"type\":\"scatter3d\",\"line\":{\"colorbar\":{\"outlinewidth\":0,\"ticks\":\"\"}},\"marker\":{\"colorbar\":{\"outlinewidth\":0,\"ticks\":\"\"}}}],\"scattermapbox\":[{\"type\":\"scattermapbox\",\"marker\":{\"colorbar\":{\"outlinewidth\":0,\"ticks\":\"\"}}}],\"scatterternary\":[{\"type\":\"scatterternary\",\"marker\":{\"colorbar\":{\"outlinewidth\":0,\"ticks\":\"\"}}}],\"scattercarpet\":[{\"type\":\"scattercarpet\",\"marker\":{\"colorbar\":{\"outlinewidth\":0,\"ticks\":\"\"}}}],\"carpet\":[{\"aaxis\":{\"endlinecolor\":\"#2a3f5f\",\"gridcolor\":\"white\",\"linecolor\":\"white\",\"minorgridcolor\":\"white\",\"startlinecolor\":\"#2a3f5f\"},\"baxis\":{\"endlinecolor\":\"#2a3f5f\",\"gridcolor\":\"white\",\"linecolor\":\"white\",\"minorgridcolor\":\"white\",\"startlinecolor\":\"#2a3f5f\"},\"type\":\"carpet\"}],\"table\":[{\"cells\":{\"fill\":{\"color\":\"#EBF0F8\"},\"line\":{\"color\":\"white\"}},\"header\":{\"fill\":{\"color\":\"#C8D4E3\"},\"line\":{\"color\":\"white\"}},\"type\":\"table\"}],\"barpolar\":[{\"marker\":{\"line\":{\"color\":\"#E5ECF6\",\"width\":0.5},\"pattern\":{\"fillmode\":\"overlay\",\"size\":10,\"solidity\":0.2}},\"type\":\"barpolar\"}],\"pie\":[{\"automargin\":true,\"type\":\"pie\"}]},\"layout\":{\"autotypenumbers\":\"strict\",\"colorway\":[\"#636efa\",\"#EF553B\",\"#00cc96\",\"#ab63fa\",\"#FFA15A\",\"#19d3f3\",\"#FF6692\",\"#B6E880\",\"#FF97FF\",\"#FECB52\"],\"font\":{\"color\":\"#2a3f5f\"},\"hovermode\":\"closest\",\"hoverlabel\":{\"align\":\"left\"},\"paper_bgcolor\":\"white\",\"plot_bgcolor\":\"#E5ECF6\",\"polar\":{\"bgcolor\":\"#E5ECF6\",\"angularaxis\":{\"gridcolor\":\"white\",\"linecolor\":\"white\",\"ticks\":\"\"},\"radialaxis\":{\"gridcolor\":\"white\",\"linecolor\":\"white\",\"ticks\":\"\"}},\"ternary\":{\"bgcolor\":\"#E5ECF6\",\"aaxis\":{\"gridcolor\":\"white\",\"linecolor\":\"white\",\"ticks\":\"\"},\"baxis\":{\"gridcolor\":\"white\",\"linecolor\":\"white\",\"ticks\":\"\"},\"caxis\":{\"gridcolor\":\"white\",\"linecolor\":\"white\",\"ticks\":\"\"}},\"coloraxis\":{\"colorbar\":{\"outlinewidth\":0,\"ticks\":\"\"}},\"colorscale\":{\"sequential\":[[0.0,\"#0d0887\"],[0.1111111111111111,\"#46039f\"],[0.2222222222222222,\"#7201a8\"],[0.3333333333333333,\"#9c179e\"],[0.4444444444444444,\"#bd3786\"],[0.5555555555555556,\"#d8576b\"],[0.6666666666666666,\"#ed7953\"],[0.7777777777777778,\"#fb9f3a\"],[0.8888888888888888,\"#fdca26\"],[1.0,\"#f0f921\"]],\"sequentialminus\":[[0.0,\"#0d0887\"],[0.1111111111111111,\"#46039f\"],[0.2222222222222222,\"#7201a8\"],[0.3333333333333333,\"#9c179e\"],[0.4444444444444444,\"#bd3786\"],[0.5555555555555556,\"#d8576b\"],[0.6666666666666666,\"#ed7953\"],[0.7777777777777778,\"#fb9f3a\"],[0.8888888888888888,\"#fdca26\"],[1.0,\"#f0f921\"]],\"diverging\":[[0,\"#8e0152\"],[0.1,\"#c51b7d\"],[0.2,\"#de77ae\"],[0.3,\"#f1b6da\"],[0.4,\"#fde0ef\"],[0.5,\"#f7f7f7\"],[0.6,\"#e6f5d0\"],[0.7,\"#b8e186\"],[0.8,\"#7fbc41\"],[0.9,\"#4d9221\"],[1,\"#276419\"]]},\"xaxis\":{\"gridcolor\":\"white\",\"linecolor\":\"white\",\"ticks\":\"\",\"title\":{\"standoff\":15},\"zerolinecolor\":\"white\",\"automargin\":true,\"zerolinewidth\":2},\"yaxis\":{\"gridcolor\":\"white\",\"linecolor\":\"white\",\"ticks\":\"\",\"title\":{\"standoff\":15},\"zerolinecolor\":\"white\",\"automargin\":true,\"zerolinewidth\":2},\"scene\":{\"xaxis\":{\"backgroundcolor\":\"#E5ECF6\",\"gridcolor\":\"white\",\"linecolor\":\"white\",\"showbackground\":true,\"ticks\":\"\",\"zerolinecolor\":\"white\",\"gridwidth\":2},\"yaxis\":{\"backgroundcolor\":\"#E5ECF6\",\"gridcolor\":\"white\",\"linecolor\":\"white\",\"showbackground\":true,\"ticks\":\"\",\"zerolinecolor\":\"white\",\"gridwidth\":2},\"zaxis\":{\"backgroundcolor\":\"#E5ECF6\",\"gridcolor\":\"white\",\"linecolor\":\"white\",\"showbackground\":true,\"ticks\":\"\",\"zerolinecolor\":\"white\",\"gridwidth\":2}},\"shapedefaults\":{\"line\":{\"color\":\"#2a3f5f\"}},\"annotationdefaults\":{\"arrowcolor\":\"#2a3f5f\",\"arrowhead\":0,\"arrowwidth\":1},\"geo\":{\"bgcolor\":\"white\",\"landcolor\":\"#E5ECF6\",\"subunitcolor\":\"white\",\"showland\":true,\"showlakes\":true,\"lakecolor\":\"white\"},\"title\":{\"x\":0.05},\"mapbox\":{\"style\":\"light\"}}}},                        {\"responsive\": true}                    ).then(function(){\n",
       "                            \n",
       "var gd = document.getElementById('6629a9ab-b1fe-436c-9800-5699ecbd4129');\n",
       "var x = new MutationObserver(function (mutations, observer) {{\n",
       "        var display = window.getComputedStyle(gd).display;\n",
       "        if (!display || display === 'none') {{\n",
       "            console.log([gd, 'removed!']);\n",
       "            Plotly.purge(gd);\n",
       "            observer.disconnect();\n",
       "        }}\n",
       "}});\n",
       "\n",
       "// Listen for the removal of the full notebook cells\n",
       "var notebookContainer = gd.closest('#notebook-container');\n",
       "if (notebookContainer) {{\n",
       "    x.observe(notebookContainer, {childList: true});\n",
       "}}\n",
       "\n",
       "// Listen for the clearing of the current output cell\n",
       "var outputEl = gd.closest('.output');\n",
       "if (outputEl) {{\n",
       "    x.observe(outputEl, {childList: true});\n",
       "}}\n",
       "\n",
       "                        })                };                });            </script>        </div>"
      ]
     },
     "metadata": {},
     "output_type": "display_data"
    }
   ],
   "source": [
    "import numpy as np\n",
    "#import matplotlib.pyplot as plt\n",
    "import plotly.figure_factory as ff\n",
    "from scipy.cluster.hierarchy import linkage\n",
    "\n",
    "clust = linkage(np.nan_to_num(test), metric='canberra')\n",
    "\n",
    "fig = ff.create_dendrogram(clust, orientation='right', labels=[i for i in cognate.index][1:])\n",
    "fig.update_layout(width=800, height=4500)\n",
    "fig.show()"
   ]
  },
  {
   "cell_type": "code",
   "execution_count": 366,
   "id": "aquatic-proxy",
   "metadata": {},
   "outputs": [],
   "source": [
    "'''\n",
    "class DO:\n",
    "    \n",
    "    def __init__(self, a, b, sub):\n",
    "        self.a = a\n",
    "        self.b = b\n",
    "        self.sub = sub\n",
    "        self.X = []\n",
    "        self.Y = []\n",
    "        \n",
    "        A = []\n",
    "        B = [] \n",
    "         \n",
    "    def subst(self, X: Set, Y: Set):\n",
    "        if(X.intersection(Y)):\n",
    "            return 0\n",
    "        else:\n",
    "            return self.sub\n",
    "\n",
    "    def diag(self, X: Set, Y: Set) -> float:\n",
    "        if(indel in X and indel in Y):\n",
    "            return 0\n",
    "        else:\n",
    "            return np.inf\n",
    "\n",
    "    def go(self, A: List, i: int) -> float:\n",
    "        if((i == 0 or (i > 0 and indel not in A[i - 1])) and indel in A[i]):\n",
    "            return 0\n",
    "        else:\n",
    "            return self.a\n",
    "\n",
    "    def goPrime(self, X: Set, Y: Set) -> float:\n",
    "        if(indel not in X):\n",
    "            return self.subst(X, Y)\n",
    "        else:\n",
    "            return self.subst(X, Y) + self.a\n",
    "\n",
    "    def ge(self, X: Set) -> float:\n",
    "        if(indel in X):\n",
    "            return 0\n",
    "        else:\n",
    "            return self.b\n",
    "\n",
    "    def g(self, i, j):\n",
    "        if(i < 0 and j < 0):\n",
    "            return 0\n",
    "        elif(i < 0 or j < 0):\n",
    "            return np.inf\n",
    "        else:\n",
    "            return min(self.g(i - 1, j - 1) + self.subst(self.A[i], self.B[j]),\n",
    "                       self.d(i - 1, j - 1) + self.subst(self.A[i], self.B[j]) + self.go(self.A, i) + self.go(self.B, j),\n",
    "                       self.v(i - 1, j - 1) + self.goPrime(self.B[j], self.A[i]),\n",
    "                       self.h(i - 1, j - 1) + self.goPrime(self.A[i], self.B[j]))\n",
    "\n",
    "    def h(self, i, j):\n",
    "        if(i < 0 and j < 0):\n",
    "            return self.go(self.B, 0)\n",
    "        elif(i < 0):\n",
    "            return self.h(-1, j - 1) + self.ge(self.B[j])\n",
    "        elif(j < 0):\n",
    "            return np.inf\n",
    "        else:\n",
    "            return min(self.h(i, j - 1) + self.ge(self.B[j]), self.d(i, j - 1) + self.ge(self.B[j]) + self.go(self.B, j))\n",
    "\n",
    "    def v(self, i, j):\n",
    "        if(i < 0 and j < 0):\n",
    "            return self.go(self.A, 0)\n",
    "        elif(i < 0):\n",
    "            return np.inf\n",
    "        elif(j < 0):\n",
    "            return self.v(i - 1, -1) + self.ge(self.A[i])\n",
    "        else:\n",
    "            return min(self.v(i - 1, j) + self.ge(self.A[i]), self.d(i - 1, j) + self.ge(self.A[i]) + self.go(self.A, i))\n",
    "\n",
    "    def d(self, i, j):\n",
    "        if(i < 0 or j < 0):\n",
    "            return np.inf\n",
    "        else:\n",
    "            return diag(self.A[i], self.B[j]) + min(self.d(i - 1, j - 1), self.g(i - 1, j - 1) + \n",
    "                                                    self.go(self.A, i) + self.go(self.B, j))\n",
    "\n",
    "    def eaffp(self, nA: List, nB: List) -> float:\n",
    "        self.A = nA\n",
    "        self.B = nB\n",
    "        self.X = [set() for i in range(0, len(nA))]\n",
    "        self.Y = [set() for i in range(0, len(nB))]\n",
    "        i = len(nA) - 1\n",
    "        j = len(nB) - 1\n",
    "        return min(self.g(i, j), self.h(i, j), self.v(i, j), self.d(i, j))\n",
    "\n",
    "    def maffp(self, nA: List, nB: List) -> List:\n",
    "        M = []\n",
    "       # for k in range(0, max(len(A), len(B))):\n",
    "            #if(X[k] == indel and Y[k])\n",
    "    \n",
    "\n",
    "def reverseLevelOrder(root):\n",
    "    levels = [[] for i in range(0, root.height + 1)]\n",
    "    queue = deque()\n",
    "    queue.append((root, 0))\n",
    "\n",
    "    while queue:\n",
    "        n = queue.popleft()\n",
    " \n",
    "        if(not levels[root.height - n[1]]):\n",
    "            levels[root.height - n[1]] = [n[0]]\n",
    "        else:\n",
    "            levels[root.height - n[1]].append(n[0])\n",
    "        \n",
    "        if n[0].right or n[0].left:\n",
    "            queue.append((n[0].right, n[1] + 1))\n",
    "            queue.append((n[0].left, n[1] + 1))\n",
    "    \n",
    "    return levels\n",
    "\n",
    "def string_to_RAG(s: str) -> List[Set]:\n",
    "    return [set(c) for c in s]\n",
    "\n",
    "def affine_DO(T: Node):\n",
    "    for level in reverseLevelOrder(T):\n",
    "        for node in level:\n",
    "            if(node.right and node.left):\n",
    "                print()\n",
    "\n",
    "def wagner(languages: List[str]):\n",
    "    T = Node(\"\")\n",
    "    L = [Node(l) for l in languages]\n",
    "    for i in range(len(L)):\n",
    "        c = np.inf\n",
    "        print(i)\n",
    "'''"
   ]
  }
 ],
 "metadata": {
  "kernelspec": {
   "display_name": "Python 3 (ipykernel)",
   "language": "python",
   "name": "python3"
  },
  "language_info": {
   "codemirror_mode": {
    "name": "ipython",
    "version": 3
   },
   "file_extension": ".py",
   "mimetype": "text/x-python",
   "name": "python",
   "nbconvert_exporter": "python",
   "pygments_lexer": "ipython3",
   "version": "3.11.0"
  }
 },
 "nbformat": 4,
 "nbformat_minor": 5
}
